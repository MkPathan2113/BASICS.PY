{
 "cells": [
  {
   "cell_type": "code",
   "execution_count": 1,
   "id": "36adf6a9",
   "metadata": {},
   "outputs": [],
   "source": [
    "# Task\n",
    "# Given an integer, , perform the following conditional actions:\n",
    "\n",
    "# If  is odd, print Weird\n",
    "# If  is even and in the inclusive range of  to , print Not Weird\n",
    "# If  is even and in the inclusive range of  to , print Weird\n",
    "# If  is even and greater than , print Not Weird"
   ]
  },
  {
   "cell_type": "code",
   "execution_count": 2,
   "id": "e3d87652",
   "metadata": {},
   "outputs": [
    {
     "name": "stdout",
     "output_type": "stream",
     "text": [
      "7\n",
      "Weird\n"
     ]
    }
   ],
   "source": [
    "n = int(input())\n",
    "if n%2!=0 :\n",
    "    print(\"Weird\")\n",
    "elif n%2 == 0 and n in range (2,6):\n",
    "    print(\"Not Weird\")\n",
    "elif n%2 == 0 and n  in range (6,21):\n",
    "    print(\"Weird\")\n",
    "elif n%2 == 0 and n>20 :\n",
    "    print(\"Not Weird\")"
   ]
  },
  {
   "cell_type": "code",
   "execution_count": 3,
   "id": "3f6129e9",
   "metadata": {},
   "outputs": [
    {
     "name": "stdout",
     "output_type": "stream",
     "text": [
      "6\n"
     ]
    },
    {
     "ename": "SyntaxError",
     "evalue": "'return' outside function (2773940578.py, line 5)",
     "output_type": "error",
     "traceback": [
      "\u001b[1;36m  File \u001b[1;32m\"C:\\Users\\Khan Mokhit\\AppData\\Local\\Temp\\ipykernel_16264\\2773940578.py\"\u001b[1;36m, line \u001b[1;32m5\u001b[0m\n\u001b[1;33m    return True\u001b[0m\n\u001b[1;37m    ^\u001b[0m\n\u001b[1;31mSyntaxError\u001b[0m\u001b[1;31m:\u001b[0m 'return' outside function\n"
     ]
    }
   ],
   "source": [
    "a = eval(input())\n",
    "\n",
    "for i in a :\n",
    "    if i > 1 :\n",
    "        return True"
   ]
  },
  {
   "cell_type": "code",
   "execution_count": null,
   "id": "09099355",
   "metadata": {},
   "outputs": [],
   "source": [
    "a = int (input())\n",
    "b = int (input())\n",
    "c = int (input())\n",
    "\n",
    "if a == b == c :\n",
    "  print(\"equilatrel triangle\")\n",
    "\n",
    "elif a == b != c or a != b == c :\n",
    "  print (\"isosceles triangle\")\n",
    "\n",
    "elif a != b != c :\n",
    "  print (\"Scalene triangle\")"
   ]
  },
  {
   "cell_type": "code",
   "execution_count": null,
   "id": "0f5103b3",
   "metadata": {},
   "outputs": [],
   "source": [
    "# Write your code here\n",
    "\n",
    "a = input ()\n",
    "\n",
    "if a == \"February\" :\n",
    "  print(\"28/29 days\")\n",
    "\n",
    "elif a  in (\"January\" , \"March\" , \"May\" , \"July\" , \"August\" , \"Octobar\" , \"December\") :\n",
    "  print(\"31 days\")\n",
    "\n",
    "elif a  in (\"April\" , \"June\" , \"September\" , \"November\"):\n",
    "  print(\"30 days\")\n",
    "\n",
    "else :\n",
    "    print(\"'Wrong month name'\")"
   ]
  },
  {
   "cell_type": "code",
   "execution_count": null,
   "id": "1a0b545e",
   "metadata": {},
   "outputs": [],
   "source": [
    "sibling = [\"komal\", \"priya\", \"raushan\"]\n",
    "for x in sibling:\n",
    "    print(x)\n",
    "    for i in x:\n",
    "        print(i)\n",
    "        \n",
    "        if i == \"a\":\n",
    "            \n",
    "            break\n",
    "print(\"ended\")"
   ]
  },
  {
   "cell_type": "code",
   "execution_count": null,
   "id": "1147f963",
   "metadata": {},
   "outputs": [],
   "source": [
    "string='google.com'\n",
    "count={}\n",
    "for char in string:\n",
    "    if char in count:\n",
    "        count[char] +=1\n",
    "    else:\n",
    "        count[char]=1\n",
    "print(count)"
   ]
  },
  {
   "cell_type": "code",
   "execution_count": null,
   "id": "c09fd42e",
   "metadata": {},
   "outputs": [],
   "source": [
    "# Update the code below this line to solve the problem\n",
    "\n",
    "length = 45\n",
    "width = 76\n",
    "\n",
    "area = length * width\n",
    "\n",
    "print(\"The Area of the given rectangle is \",area)"
   ]
  },
  {
   "cell_type": "code",
   "execution_count": null,
   "id": "7ffc230b",
   "metadata": {},
   "outputs": [],
   "source": [
    "r = 8.9\n",
    "pi = 3.14\n",
    "\n",
    "area = pi*(r**2)\n",
    "\n",
    "print(area)"
   ]
  },
  {
   "cell_type": "code",
   "execution_count": null,
   "id": "1d68a684",
   "metadata": {},
   "outputs": [],
   "source": [
    "animals           = ['python','gopher']\n",
    "more_animals      = animals\n",
    "print(animals == more_animals) #=> True\n",
    "print(animals is more_animals) #=> True\n",
    "even_more_animals = ['python','gopher']\n",
    "print(animals == even_more_animals) #=> True\n",
    "print(animals is even_more_animals) #=> False"
   ]
  },
  {
   "cell_type": "code",
   "execution_count": null,
   "id": "93192ab3",
   "metadata": {},
   "outputs": [],
   "source": [
    "#import Libraries\n",
    "import random\n",
    "import string\n",
    "#Create a randomly encrypted pasword\n",
    "total = string.ascii_letters + string.digits + string.punctuation\n",
    "\n",
    "length = 16\n",
    "\n",
    "password = \"\".join(random.sample(total, length))\n",
    "\n",
    "print(password)"
   ]
  },
  {
   "cell_type": "code",
   "execution_count": null,
   "id": "c254384a",
   "metadata": {},
   "outputs": [],
   "source": [
    "#4. Encrypt A Secret Message\n",
    "\n",
    "\n",
    "# Assign the alphabet to a variable\n",
    "# Assign the key to a variable\n",
    "# Create an emply string\n",
    "alphabet = 'abcdefghijklmnopqrstuvwxyz'\n",
    "key = 3\n",
    "newMessage = ' '\n",
    "\n",
    "message = input('Please enter a message: ')\n",
    "\n",
    "# Create a function that takes our message and swaps each charter based on the key\n",
    "for character in message:\n",
    "    position = alphabet.find(character)\n",
    "    newPosition = (position + key) % 26\n",
    "    newCharacter = alphabet[newPosition]\n",
    "    newMessage += newCharacter\n",
    "    \n",
    "\n",
    "print(newMessage)"
   ]
  },
  {
   "cell_type": "code",
   "execution_count": null,
   "id": "5b592765",
   "metadata": {},
   "outputs": [],
   "source": [
    "txt = \"Hello World\"\n",
    "txt = txt.replace(\"H\", \"J\")\n",
    "txt"
   ]
  },
  {
   "cell_type": "code",
   "execution_count": null,
   "id": "97398f4c",
   "metadata": {},
   "outputs": [],
   "source": [
    "strs = input()\n",
    "\n",
    "def test(strs):\n",
    "    return \" \".join(strs for strs in strs.split() if is_prime(len(strs))) \n",
    "def is_prime(n):\n",
    "    return n > 1 and all(n % j for j in range(2, int(n ** 0.5) + 1))\n",
    "strs = input()\n",
    "print(test(strs))"
   ]
  },
  {
   "cell_type": "code",
   "execution_count": null,
   "id": "bab5bd55",
   "metadata": {},
   "outputs": [],
   "source": [
    "print([if i%2==0: i; else: i+1; for i in range(4)])"
   ]
  },
  {
   "cell_type": "code",
   "execution_count": null,
   "id": "0a0848e5",
   "metadata": {},
   "outputs": [],
   "source": [
    "k = [i for i in my_string if i not in \"aeiou\"]"
   ]
  },
  {
   "cell_type": "code",
   "execution_count": null,
   "id": "382d4a0d",
   "metadata": {},
   "outputs": [],
   "source": [
    "my_string = \"hello world\"\n",
    "k = [(i.upper(), len(i)) for i in my_string]\n",
    "print(k)"
   ]
  },
  {
   "cell_type": "code",
   "execution_count": null,
   "id": "aa02d29d",
   "metadata": {},
   "outputs": [],
   "source": [
    "x = [i**+1 for i in range(3)]\n",
    "print(x)"
   ]
  },
  {
   "cell_type": "code",
   "execution_count": null,
   "id": "4296a415",
   "metadata": {},
   "outputs": [],
   "source": [
    "print([i.lower() for i in \"HELLO\"])"
   ]
  },
  {
   "cell_type": "code",
   "execution_count": null,
   "id": "b9b71709",
   "metadata": {},
   "outputs": [],
   "source": [
    "class test:\n",
    "     def __init__(self,a):\n",
    "         self.a=a\n",
    " \n",
    "     def display(self):\n",
    "         print(self.a)\n",
    "obj=test()\n",
    "obj.display()"
   ]
  },
  {
   "cell_type": "code",
   "execution_count": null,
   "id": "87693792",
   "metadata": {},
   "outputs": [],
   "source": [
    "class Student:\n",
    "        def __init__(self,name,id):\n",
    "                self.name=name\n",
    "                self.id=id\n",
    "                print(self.id)\n",
    "std=Student(\"Simon\",1)\n",
    "std.id=2\n",
    "print(std.id)"
   ]
  },
  {
   "cell_type": "code",
   "execution_count": null,
   "id": "2358175e",
   "metadata": {},
   "outputs": [],
   "source": [
    "class human:\n",
    "    \n",
    "    \n",
    "    \n",
    "    def __init__(self,x,y):\n",
    "        #man = \"Ramesh\"\n",
    "        #women = \"suresh\"\n",
    "        \n",
    "        self.x = x\n",
    "        self.y = y\n",
    "        \n",
    "        #return x+y"
   ]
  },
  {
   "cell_type": "code",
   "execution_count": null,
   "id": "c0465145",
   "metadata": {},
   "outputs": [],
   "source": [
    "x = human()"
   ]
  },
  {
   "cell_type": "code",
   "execution_count": null,
   "id": "f93de1f0",
   "metadata": {},
   "outputs": [],
   "source": [
    "x.ma"
   ]
  },
  {
   "cell_type": "code",
   "execution_count": null,
   "id": "a52c56b1",
   "metadata": {},
   "outputs": [],
   "source": [
    "numbers = [1, 2, 3, 4, 5]\n",
    "for i in range(6):\n",
    "    print(numbers[i])"
   ]
  },
  {
   "cell_type": "code",
   "execution_count": null,
   "id": "87d121d4",
   "metadata": {},
   "outputs": [],
   "source": [
    "a = 10\n",
    "b = 0\n",
    "c = a/b\n",
    "print(c)"
   ]
  },
  {
   "cell_type": "code",
   "execution_count": null,
   "id": "856afe0b",
   "metadata": {},
   "outputs": [],
   "source": [
    " '1' == 1"
   ]
  },
  {
   "cell_type": "code",
   "execution_count": null,
   "id": "01fe75ff",
   "metadata": {},
   "outputs": [],
   "source": [
    "def divide(x, y):\n",
    "    return x / y\n",
    "\n",
    "print(divide(10, 0))"
   ]
  },
  {
   "cell_type": "code",
   "execution_count": null,
   "id": "43966581",
   "metadata": {},
   "outputs": [],
   "source": [
    "try:\n",
    "    print(x)\n",
    "except NameError:\n",
    "    print(\"Variable x is not defined\")"
   ]
  },
  {
   "cell_type": "code",
   "execution_count": null,
   "id": "55f7eebf",
   "metadata": {},
   "outputs": [],
   "source": [
    "\n",
    "import random\n",
    "\n",
    "def word_guess_game():\n",
    "    words = [\"python\", \"programming\", \"challenge\", \"debugging\", \"coding\"]\n",
    "    attempts = 3\n",
    "    selected_word = random.choice(words)\n",
    "    guessed_word = \"_\" * len(selected_word)\n",
    "\n",
    "    print(\"Welcome to Word Guess!\")\n",
    "    print(f\"Guess the word: {guessed_word}\")\n",
    "\n",
    "    while attempts > 0:\n",
    "        guess = input(\"Enter a letter: \")\n",
    "\n",
    "        if len(guess) != 1:\n",
    "            print(\"Please enter a single letter.\")\n",
    "            continue\n",
    "\n",
    "        if guess in guessed_word:\n",
    "            print(\"You've already guessed that letter!\")\n",
    "            continue\n",
    "\n",
    "        if guess in selected_word:\n",
    "            for index, letter in enumerate(selected_word):\n",
    "                if letter == guess:\n",
    "                    guessed_word[index] = guess\n",
    "        else:\n",
    "            attempts -= 1\n",
    "            print(f\"Incorrect! You have {attempts} attempts left.\")\n",
    "\n",
    "        if guessed_word == selected_word:\n",
    "            print(f\"Congratulations! You guessed the word: {selected_word}\")\n",
    "            break\n",
    "\n",
    "    else:\n",
    "        print(f\"Game over! The word was: {selected_word}\")\n",
    "\n",
    "word_guess_game()\n"
   ]
  },
  {
   "cell_type": "code",
   "execution_count": null,
   "id": "f55def2f",
   "metadata": {},
   "outputs": [],
   "source": [
    "class test:\n",
    "     def __init__(self,a=\"Hello World\"):\n",
    "         self.a=a\n",
    " \n",
    "     def display(self):\n",
    "         print(self.a)\n",
    "obj=test()\n",
    "obj.display()"
   ]
  },
  {
   "cell_type": "code",
   "execution_count": null,
   "id": "c3643b52",
   "metadata": {},
   "outputs": [],
   "source": [
    "class Student:\n",
    "        def __init__(self,name,id):\n",
    "                self.name=name\n",
    "                self.id=id\n",
    "                print(self.id)\n",
    "std=Student(\"Simon\",1)\n",
    "std.id=2\n",
    "print(std.id)"
   ]
  },
  {
   "cell_type": "code",
   "execution_count": null,
   "id": "8f51836f",
   "metadata": {},
   "outputs": [],
   "source": [
    "sentence=(\"Data Science\")\n",
    "sentence.count('Data')"
   ]
  },
  {
   "cell_type": "code",
   "execution_count": null,
   "id": "2faf156f",
   "metadata": {},
   "outputs": [],
   "source": [
    "nums = [1, 2, 3, 4, 5]\n",
    "d = {n: 'even' if n % 2 == 0 else 'odd' for n in nums}\n",
    "print(d)"
   ]
  },
  {
   "cell_type": "code",
   "execution_count": null,
   "id": "e52c780a",
   "metadata": {},
   "outputs": [],
   "source": [
    "x = 10\n",
    "if x < 5:\n",
    "    print(\"x is less than 5\")\n",
    "elif x > 15:\n",
    "    print(\"x is greater than 15\")\n",
    "else:\n",
    "    print(\"x is between 5 and 15\")"
   ]
  },
  {
   "cell_type": "code",
   "execution_count": null,
   "id": "4a86fb71",
   "metadata": {},
   "outputs": [],
   "source": [
    "my_list = ['cat', 'dog', 'bear', \"Dog\"]\n",
    "print(max(my_list))"
   ]
  },
  {
   "cell_type": "code",
   "execution_count": null,
   "id": "2e446599",
   "metadata": {},
   "outputs": [],
   "source": [
    "dict1 = {x: x**2 for x in range(1, 6)}\n",
    "print(dict1)"
   ]
  },
  {
   "cell_type": "code",
   "execution_count": null,
   "id": "134b02c1",
   "metadata": {},
   "outputs": [],
   "source": [
    "list1 = [9,8,7]\n",
    "list2 = [6,5,4]\n",
    "result = list1 + list2\n",
    "print(result)"
   ]
  },
  {
   "cell_type": "code",
   "execution_count": null,
   "id": "2f660ca6",
   "metadata": {},
   "outputs": [],
   "source": [
    "try:\n",
    "    print(\"Try block\")\n",
    "    raise Exception(\"Exception in try block\")\n",
    "except:\n",
    "    print(\"Except block\")\n",
    "finally:\n",
    "    print(\"Finally block\")\n",
    "\n",
    "Review Later\n"
   ]
  },
  {
   "cell_type": "code",
   "execution_count": null,
   "id": "092dc432",
   "metadata": {},
   "outputs": [],
   "source": [
    "5+ 10* (10+6)"
   ]
  },
  {
   "cell_type": "code",
   "execution_count": null,
   "id": "f714d7da",
   "metadata": {},
   "outputs": [],
   "source": [
    "my_dict = {\"red\": 2, \"blue\": 3, \"green\": 4}\n",
    "del my_dict[\"red\"]\n",
    "print(my_dict)"
   ]
  },
  {
   "cell_type": "code",
   "execution_count": null,
   "id": "9ffae70b",
   "metadata": {},
   "outputs": [],
   "source": [
    "numbers = [1, 2, 3, 4, 5]\n",
    "for number in numbers:\n",
    "    if number % 2 == 0:\n",
    "        print(number)"
   ]
  },
  {
   "cell_type": "code",
   "execution_count": null,
   "id": "6c89e4e2",
   "metadata": {},
   "outputs": [],
   "source": [
    "class Shape:\n",
    "    def __init__(self, color):\n",
    "        self.color = color\n",
    "\n",
    "class Square(Shape):\n",
    "    def __init__(self, color, side):\n",
    "        super().__init__(color)\n",
    "        self.side = side\n",
    "\n",
    "square1 = Square(\"red\", 5)\n",
    "\n",
    "print(square1.color)\n",
    "print(square1.side)"
   ]
  },
  {
   "cell_type": "code",
   "execution_count": null,
   "id": "81199f18",
   "metadata": {},
   "outputs": [],
   "source": [
    "my_tuple = (1, 2, 3, 4)\n",
    "for i in my_tuple:\n",
    "    if i == 3:\n",
    "        break\n",
    "    print(i)"
   ]
  },
  {
   "cell_type": "code",
   "execution_count": null,
   "id": "0b064afd",
   "metadata": {},
   "outputs": [],
   "source": [
    "numbers = [1, 2, 3, 4, 5]\n",
    "for i in range(6):\n",
    "  print(numbers[i])"
   ]
  },
  {
   "cell_type": "code",
   "execution_count": null,
   "id": "acddf5a3",
   "metadata": {},
   "outputs": [],
   "source": [
    "i = 0\n",
    "while i < 5:\n",
    "    if i % 2 == 0:\n",
    "        print(i)\n",
    "    i += 1"
   ]
  },
  {
   "cell_type": "code",
   "execution_count": null,
   "id": "a40f47a6",
   "metadata": {},
   "outputs": [],
   "source": [
    "x = 10\n",
    "if x < 5:\n",
    "    print(\"x is less than 5\")\n",
    "elif x < 15:\n",
    "    print(\"x is between 5 and 15\")\n",
    "elif x < 20:\n",
    "    print(\"x is between 15 and 20\")\n",
    "else:\n",
    "    print(\"x is greater than or equal to 20\")"
   ]
  },
  {
   "cell_type": "code",
   "execution_count": null,
   "id": "b52804bf",
   "metadata": {},
   "outputs": [],
   "source": [
    "def sub(x, y):\n",
    "  return x - y\n",
    "\n",
    "result = sub(4,2)\n",
    "print(result)"
   ]
  },
  {
   "cell_type": "code",
   "execution_count": null,
   "id": "4735884f",
   "metadata": {},
   "outputs": [],
   "source": [
    "my_dict = {\"a\": 1, \"b\": 2, \"c\": 3}\n",
    "print(my_dict.keys())"
   ]
  },
  {
   "cell_type": "code",
   "execution_count": null,
   "id": "440fc80f",
   "metadata": {},
   "outputs": [],
   "source": [
    "def multiply(x, y):\n",
    "  return x * y\n",
    "\n",
    "result = multiply(4,2)\n",
    "print(result)\n",
    "\n"
   ]
  },
  {
   "cell_type": "code",
   "execution_count": null,
   "id": "899451b2",
   "metadata": {},
   "outputs": [],
   "source": [
    "[x**2 for x in range(5) if x % 2 == 0]"
   ]
  },
  {
   "cell_type": "code",
   "execution_count": null,
   "id": "6df41c56",
   "metadata": {},
   "outputs": [],
   "source": [
    "a=10\n",
    "b=3\n",
    "print(a-b*b)"
   ]
  },
  {
   "cell_type": "code",
   "execution_count": 5,
   "id": "9c7535c4",
   "metadata": {},
   "outputs": [
    {
     "name": "stdout",
     "output_type": "stream",
     "text": [
      "[1, 2, 3, 5, 7]\n"
     ]
    }
   ],
   "source": [
    "my_list = [3, 7, 1, 5, 2]\n",
    "print(sorted(my_list))\n"
   ]
  },
  {
   "cell_type": "code",
   "execution_count": 6,
   "id": "f4fbb93c",
   "metadata": {},
   "outputs": [
    {
     "name": "stdout",
     "output_type": "stream",
     "text": [
      "x is less than or equal to 10\n"
     ]
    }
   ],
   "source": [
    "x = 5 \n",
    "if x > 10: \n",
    "   print(\"x is greater than 10\") \n",
    "else: \n",
    "   print(\"x is less than or equal to 10\")"
   ]
  },
  {
   "cell_type": "code",
   "execution_count": 7,
   "id": "f8e1474a",
   "metadata": {},
   "outputs": [
    {
     "name": "stdout",
     "output_type": "stream",
     "text": [
      "{'red': 2, 'blue': 3, 'green': 4, 'yellow': 1}\n"
     ]
    }
   ],
   "source": [
    "my_dict = {\"red\": 2, \"blue\": 3, \"green\": 4}\n",
    "my_dict[\"yellow\"] = 1\n",
    "print(my_dict)"
   ]
  },
  {
   "cell_type": "code",
   "execution_count": 8,
   "id": "3fcf6be8",
   "metadata": {},
   "outputs": [
    {
     "name": "stdout",
     "output_type": "stream",
     "text": [
      "(4, 5)\n"
     ]
    }
   ],
   "source": [
    "tuple1 = (1, 2, 3, 4, 5)\n",
    "print(tuple1[3:6])"
   ]
  },
  {
   "cell_type": "code",
   "execution_count": 9,
   "id": "0718bd98",
   "metadata": {},
   "outputs": [
    {
     "name": "stdout",
     "output_type": "stream",
     "text": [
      "3\n",
      "7\n"
     ]
    }
   ],
   "source": [
    "class A:\n",
    "        def __init__(self,num):\n",
    "                num=3\n",
    "                self.num=num\n",
    "        def change(self):\n",
    "                self.num=7\n",
    "a=A(5)\n",
    "print(a.num)\n",
    "a.change()\n",
    "print(a.num)"
   ]
  },
  {
   "cell_type": "code",
   "execution_count": 10,
   "id": "61a4e25b",
   "metadata": {},
   "outputs": [
    {
     "name": "stdout",
     "output_type": "stream",
     "text": [
      "True\n"
     ]
    }
   ],
   "source": [
    "x = 5\n",
    "y = 10\n",
    "z = 5\n",
    "\n",
    "print((x < y) and (x == z))"
   ]
  },
  {
   "cell_type": "code",
   "execution_count": 11,
   "id": "66f1d4c0",
   "metadata": {},
   "outputs": [
    {
     "name": "stdout",
     "output_type": "stream",
     "text": [
      "1\n",
      "3\n",
      "5\n",
      "7\n",
      "9\n"
     ]
    }
   ],
   "source": [
    "for i in range(10):\n",
    "    if i % 2 == 0:\n",
    "        continue\n",
    "    print(i)"
   ]
  },
  {
   "cell_type": "code",
   "execution_count": 12,
   "id": "38948dd4",
   "metadata": {},
   "outputs": [
    {
     "ename": "IndentationError",
     "evalue": "expected an indented block (3906509974.py, line 5)",
     "output_type": "error",
     "traceback": [
      "\u001b[1;36m  File \u001b[1;32m\"C:\\Users\\Khan Mokhit\\AppData\\Local\\Temp\\ipykernel_16264\\3906509974.py\"\u001b[1;36m, line \u001b[1;32m5\u001b[0m\n\u001b[1;33m    print(value)\u001b[0m\n\u001b[1;37m    ^\u001b[0m\n\u001b[1;31mIndentationError\u001b[0m\u001b[1;31m:\u001b[0m expected an indented block\n"
     ]
    }
   ],
   "source": [
    "value = 230\n",
    "\n",
    "if value>112:\n",
    "\n",
    "print(value)\n",
    "\n",
    "value +=1"
   ]
  },
  {
   "cell_type": "code",
   "execution_count": 14,
   "id": "c79cea89",
   "metadata": {},
   "outputs": [
    {
     "name": "stdout",
     "output_type": "stream",
     "text": [
      "{'apple', 'cherry', 'banana'}\n"
     ]
    }
   ],
   "source": [
    "s = {x.lower() for x in {'Apple', 'Banana', 'Cherry'}}\n",
    "print(s)\n",
    "\n",
    "\n"
   ]
  },
  {
   "cell_type": "code",
   "execution_count": 15,
   "id": "4a76a739",
   "metadata": {},
   "outputs": [
    {
     "name": "stdout",
     "output_type": "stream",
     "text": [
      "67\n"
     ]
    }
   ],
   "source": [
    "a=3\n",
    "b=8\n",
    "print(a+b*b)"
   ]
  },
  {
   "cell_type": "code",
   "execution_count": 17,
   "id": "31906bf6",
   "metadata": {},
   "outputs": [],
   "source": [
    "class A:\n",
    "    def __init__(self,name):\n",
    "        self.name=name\n",
    "a1=A(\"john\")\n",
    "a2=A(\"john\")"
   ]
  },
  {
   "cell_type": "code",
   "execution_count": null,
   "id": "a9460127",
   "metadata": {},
   "outputs": [],
   "source": []
  }
 ],
 "metadata": {
  "kernelspec": {
   "display_name": "Python 3 (ipykernel)",
   "language": "python",
   "name": "python3"
  },
  "language_info": {
   "codemirror_mode": {
    "name": "ipython",
    "version": 3
   },
   "file_extension": ".py",
   "mimetype": "text/x-python",
   "name": "python",
   "nbconvert_exporter": "python",
   "pygments_lexer": "ipython3",
   "version": "3.9.13"
  }
 },
 "nbformat": 4,
 "nbformat_minor": 5
}
