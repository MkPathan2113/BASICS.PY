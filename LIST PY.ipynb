{
 "cells": [
  {
   "cell_type": "markdown",
   "id": "66403e86",
   "metadata": {},
   "source": [
    "# LIST OPERATIONS\n"
   ]
  },
  {
   "cell_type": "code",
   "execution_count": 5,
   "id": "6c3d8a2b",
   "metadata": {},
   "outputs": [
    {
     "name": "stdout",
     "output_type": "stream",
     "text": [
      "[1, 2, 4, 5, 6]\n"
     ]
    }
   ],
   "source": [
    "li=[1,1,2,2,4,5,6]\n",
    "a=set(li)\n",
    "b=list(a)\n",
    "print(b)"
   ]
  },
  {
   "cell_type": "code",
   "execution_count": 5,
   "id": "a5e0248f",
   "metadata": {},
   "outputs": [
    {
     "name": "stdout",
     "output_type": "stream",
     "text": [
      "{2, 3, 5, 7, 8, 9}\n"
     ]
    }
   ],
   "source": [
    "list1= [8,8,3,5,2,2,7,9]\n",
    "a=set(list1)\n",
    "b=list(a)\n",
    "print(a)"
   ]
  },
  {
   "cell_type": "code",
   "execution_count": 3,
   "id": "54c2aab8",
   "metadata": {},
   "outputs": [
    {
     "name": "stdout",
     "output_type": "stream",
     "text": [
      "<built-in method add of set object at 0x0000020ADD598F20>\n"
     ]
    }
   ],
   "source": [
    "a1={1,2,3}\n",
    "b1={4,5,6}\n",
    "print (a1.add)"
   ]
  },
  {
   "cell_type": "code",
   "execution_count": 1,
   "id": "64fe5f84",
   "metadata": {},
   "outputs": [
    {
     "name": "stdout",
     "output_type": "stream",
     "text": [
      "['hellodear', 'hellobye', 'gooddear', 'goodbye']\n"
     ]
    }
   ],
   "source": [
    "list1=[x+y for x in [\"hello\",\"good\"] for y in [\"dear\",\"bye\"]]\n",
    "print(list1)"
   ]
  },
  {
   "cell_type": "code",
   "execution_count": 2,
   "id": "db505aa5",
   "metadata": {},
   "outputs": [
    {
     "name": "stdout",
     "output_type": "stream",
     "text": [
      "enter the first value :34\n",
      "enter the second value :45\n",
      "0.7555555555555555\n"
     ]
    }
   ],
   "source": [
    "a=float(input(\"enter the first value :\"))\n",
    "b=float(input(\"enter the second value :\"))\n",
    "c=a/b\n",
    "print(c)"
   ]
  },
  {
   "cell_type": "markdown",
   "id": "c9366447",
   "metadata": {},
   "source": [
    "# GREATER THAN\n"
   ]
  },
  {
   "cell_type": "code",
   "execution_count": 3,
   "id": "acce9a0b",
   "metadata": {},
   "outputs": [
    {
     "name": "stdout",
     "output_type": "stream",
     "text": [
      "25 is greater\n"
     ]
    }
   ],
   "source": [
    "x=24\n",
    "y=25\n",
    "if x>y :\n",
    "    print(x,\"is greater\")\n",
    "else:\n",
    "        print(y,\"is greater\")"
   ]
  },
  {
   "cell_type": "code",
   "execution_count": null,
   "id": "43496cd5",
   "metadata": {},
   "outputs": [],
   "source": []
  },
  {
   "cell_type": "code",
   "execution_count": 4,
   "id": "ac24d1d4",
   "metadata": {},
   "outputs": [
    {
     "name": "stdout",
     "output_type": "stream",
     "text": [
      "2\n",
      "4\n",
      "6\n",
      "8\n",
      "10\n",
      "12\n",
      "14\n",
      "16\n",
      "18\n",
      "20\n"
     ]
    }
   ],
   "source": [
    "for i in range(1,21,1):\n",
    "    if i%2==0:\n",
    "        print(i)\n"
   ]
  },
  {
   "cell_type": "code",
   "execution_count": null,
   "id": "0beb67f0",
   "metadata": {},
   "outputs": [],
   "source": []
  }
 ],
 "metadata": {
  "kernelspec": {
   "display_name": "Python 3 (ipykernel)",
   "language": "python",
   "name": "python3"
  },
  "language_info": {
   "codemirror_mode": {
    "name": "ipython",
    "version": 3
   },
   "file_extension": ".py",
   "mimetype": "text/x-python",
   "name": "python",
   "nbconvert_exporter": "python",
   "pygments_lexer": "ipython3",
   "version": "3.9.13"
  }
 },
 "nbformat": 4,
 "nbformat_minor": 5
}
