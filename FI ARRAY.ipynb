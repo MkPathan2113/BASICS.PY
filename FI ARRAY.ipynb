{
 "cells": [
  {
   "cell_type": "markdown",
   "id": "11ad73c3",
   "metadata": {},
   "source": [
    "# PYTHON ARRAY"
   ]
  },
  {
   "cell_type": "code",
   "execution_count": 1,
   "id": "48685f88",
   "metadata": {},
   "outputs": [
    {
     "name": "stdout",
     "output_type": "stream",
     "text": [
      "FIRST ELEMENT  1\n",
      "SECOND ELEMENT  2\n",
      "THIRD ELEMENT  3\n"
     ]
    }
   ],
   "source": [
    "import array as arr\n",
    "x = arr.array(\"i\", [1,2,3])\n",
    "print(\"FIRST ELEMENT \" , x[0])\n",
    "print(\"SECOND ELEMENT \" , x[1])\n",
    "print(\"THIRD ELEMENT \" , x[2])\n"
   ]
  },
  {
   "cell_type": "code",
   "execution_count": 14,
   "id": "b43377f2",
   "metadata": {},
   "outputs": [
    {
     "name": "stdout",
     "output_type": "stream",
     "text": [
      "1\n",
      "2\n",
      "3\n"
     ]
    }
   ],
   "source": [
    "for i in range(0,3) :\n",
    "    print(x[i])"
   ]
  },
  {
   "cell_type": "code",
   "execution_count": 9,
   "id": "811301a4",
   "metadata": {},
   "outputs": [
    {
     "name": "stdout",
     "output_type": "stream",
     "text": [
      "FIRST ELEMENT  1.0\n",
      "SECOND ELEMENT  2.0\n",
      "THIRD ELEMENT  3.0\n"
     ]
    }
   ],
   "source": [
    "import array as arr\n",
    "x = arr.array(\"d\", [1,2,3])\n",
    "print(\"FIRST ELEMENT \" , x[0])\n",
    "print(\"SECOND ELEMENT \" , x[1])\n",
    "print(\"THIRD ELEMENT \" , x[2])\n"
   ]
  },
  {
   "cell_type": "markdown",
   "id": "17670294",
   "metadata": {},
   "source": [
    "#DATA TYPES\n",
    "\n",
    "        ( i = integer )\n",
    "        ( b = boolean )\n",
    "        ( u = unsigned integer ) \n",
    "        ( f = float )\n",
    "        (d = double )\n",
    "        ( c = complex float )\n",
    "        ( m = time delta )\n",
    "        ( M = date time ) \n",
    "        ( O = object )\n",
    "        ( S = string ) \n",
    "        ( U = unicode string )\n",
    "        ( V = fixed chung of for other type)"
   ]
  },
  {
   "cell_type": "markdown",
   "id": "5b73d227",
   "metadata": {},
   "source": [
    "# SLICING"
   ]
  },
  {
   "cell_type": "code",
   "execution_count": 19,
   "id": "1662fe2f",
   "metadata": {},
   "outputs": [
    {
     "name": "stdout",
     "output_type": "stream",
     "text": [
      "array('i', [1, 2, 3, 4, 5])\n",
      "array('i', [1, 2, 4, 5, 6, 7, 8, 9])\n",
      "array('i', [1, 2, 4, 5, 10, 7, 8, 9])\n",
      "array('i', [9, 8, 7, 10, 5, 4, 2, 1])\n"
     ]
    }
   ],
   "source": [
    "import array as arr\n",
    "\n",
    "y = arr.array(\"i\",[1,2,3,4,5,6,7,8,9])\n",
    "\n",
    "print(y[0:5])\n",
    "\n",
    "y.pop(2)\n",
    "print(y)\n",
    "\n",
    "y[4] = 10\n",
    "print(y)\n",
    "\n",
    "y.reverse()\n",
    "print(y)\n"
   ]
  },
  {
   "cell_type": "code",
   "execution_count": 22,
   "id": "a8d2db8f",
   "metadata": {},
   "outputs": [
    {
     "name": "stdout",
     "output_type": "stream",
     "text": [
      "9\n",
      "8\n",
      "7\n",
      "6\n",
      "5\n",
      "4\n",
      "3\n",
      "2\n",
      "1\n"
     ]
    }
   ],
   "source": [
    "y = arr.array(\"i\",[1,2,3,4,5,6,7,8,9])\n",
    "for i in range ( 8,-1,-1) :\n",
    "    print( y[i] )"
   ]
  },
  {
   "cell_type": "code",
   "execution_count": 24,
   "id": "4fea942f",
   "metadata": {},
   "outputs": [
    {
     "name": "stdout",
     "output_type": "stream",
     "text": [
      "elements array('i', [1, 3, 5, 7]) 1\n",
      "3\n",
      "5\n",
      "7\n"
     ]
    }
   ],
   "source": [
    "\"\"\"1. Write a Python program to create an array of 5 integers and display the array items. Access individual elements through indexes. Go to the editor\n",
    "Sample Output:\n",
    "1\n",
    "3\n",
    "5\n",
    "7\n",
    "9\n",
    "Access first three items individually\n",
    "1\n",
    "3\n",
    "5\n",
    "Click me to see the sample solution\n",
    "\"\"\"\n",
    "\n",
    "import array as arr\n",
    "a=arr.array(\"i\",[1,3,5,7,9])\n",
    "print(\"elements\",a[0:4],end=\" \")\n",
    "for i in range(0,4,1):\n",
    "    print(a[i])"
   ]
  },
  {
   "cell_type": "code",
   "execution_count": 2,
   "id": "939c9a99",
   "metadata": {},
   "outputs": [
    {
     "name": "stdout",
     "output_type": "stream",
     "text": [
      "new array array('i', [1, 3, 5, 7, 9, 11])\n"
     ]
    }
   ],
   "source": [
    "# 2. Write a Python program to append a new item to the end of the array. Go to the editor\n",
    "# Sample Output:\n",
    "# Original array: array('i', [1, 3, 5, 7, 9])\n",
    "# Append 11 at the end of the array:\n",
    "# New array: array('i', [1, 3, 5, 7, 9, 11])\n",
    "\n",
    "a=arr.array('i', [1, 3, 5, 7, 9])\n",
    "a.append(11)\n",
    "print(\"new array\",a)"
   ]
  },
  {
   "cell_type": "code",
   "execution_count": 3,
   "id": "730f61b4",
   "metadata": {},
   "outputs": [
    {
     "name": "stdout",
     "output_type": "stream",
     "text": [
      "array('i', [3, 9, 1, 7, 3, 5, 3, 1])\n"
     ]
    }
   ],
   "source": [
    "# 3. Write a Python program to reverse the order of the items in the array. Go to the editor\n",
    "# Sample Output\n",
    "# Original array: array('i', [1, 3, 5, 3, 7, 1, 9, 3])\n",
    "# Reverse the order of the items:\n",
    "# array('i', [3, 9, 1, 7, 3, 5, 3, 1])\n",
    "\n",
    "a=arr.array('i', [1, 3, 5, 3, 7, 1, 9, 3])\n",
    "a.reverse()\n",
    "print(a)"
   ]
  },
  {
   "cell_type": "code",
   "execution_count": 4,
   "id": "f15ee325",
   "metadata": {},
   "outputs": [
    {
     "name": "stdout",
     "output_type": "stream",
     "text": [
      "5\n"
     ]
    }
   ],
   "source": [
    "# 4. Write a Python program to get the length in bytes of one array item in the internal representation. Go to the editor\n",
    "# Sample Output:\n",
    "# Original array: array('i', [1, 3, 5, 7, 9])\n",
    "# Length in bytes of one array item: 4\n",
    "a=arr.array('i', [1, 3, 5, 7, 9])\n",
    "\n",
    "print(len(a))"
   ]
  },
  {
   "cell_type": "code",
   "execution_count": null,
   "id": "78fd37d5",
   "metadata": {},
   "outputs": [],
   "source": [
    "# 5. Write a Python program to get the current memory address and the length in elements of the buffer used to hold an array's contents. Also, find the size of the memory buffer in bytes. Go to the editor\n",
    "# Sample Output:\n",
    "# Original array: array('i', [1, 3, 5, 7, 9])\n",
    "# Current memory address and the length in elements of the buffer: (139741883429512, 5)"
   ]
  },
  {
   "cell_type": "code",
   "execution_count": 5,
   "id": "c5df1e91",
   "metadata": {},
   "outputs": [
    {
     "ename": "SyntaxError",
     "evalue": "invalid non-printable character U+00A0 (1357349204.py, line 5)",
     "output_type": "error",
     "traceback": [
      "\u001b[1;36m  File \u001b[1;32m\"C:\\Users\\Khan Mokhit\\AppData\\Local\\Temp\\ipykernel_44612\\1357349204.py\"\u001b[1;36m, line \u001b[1;32m5\u001b[0m\n\u001b[1;33m    a=arr.array('i', [1, 3, 5, 3, 7, 9, 3])\u001b[0m\n\u001b[1;37m                                       ^\u001b[0m\n\u001b[1;31mSyntaxError\u001b[0m\u001b[1;31m:\u001b[0m invalid non-printable character U+00A0\n"
     ]
    }
   ],
   "source": [
    "# 6. Write a Python program to get the number of occurrences of a specified element in an array. Go to the editor\n",
    "# Sample Output:\n",
    "# Original array: array('i', [1, 3, 5, 3, 7, 9, 3])\n",
    "# Number of occurrences of the number 3 in the said array: 3\n",
    "a=arr.array('i', [1, 3, 5, 3, 7, 9, 3])\n",
    "a.count(5)"
   ]
  },
  {
   "cell_type": "code",
   "execution_count": null,
   "id": "fcb03c58",
   "metadata": {},
   "outputs": [],
   "source": [
    "# Write a Python program to get the current memory address and the length in elements of the buffer used to hold an array's contents. Also, find the size of the memory buffer in bytes. Go to the editor\n",
    "# Sample Output:\n",
    "# Original array: array('i', [1, 3, 5, 7, 9])\n",
    "# Current memory address and the length in elements of the buffer: (139741883429512, 5)\n",
    "# The size of the memory buffer in bytes: 20"
   ]
  },
  {
   "cell_type": "code",
   "execution_count": null,
   "id": "b68f9fb4",
   "metadata": {},
   "outputs": [],
   "source": [
    "# 7. Write a Python program to append items from inerrable to the end of the array. Go to the editor\n",
    "# Sample Output:\n",
    "# Original array: array('i', [1, 3, 5, 7, 9])\n",
    "# Extended array: array('i', [1, 3, 5, 7, 9, 1, 3, 5, 7, 9])\n",
    "import array as arr\n",
    "a=arr.array('i', [1, 3, 5, 7, 9])\n",
    "for i in range(5):"
   ]
  },
  {
   "cell_type": "code",
   "execution_count": 7,
   "id": "259041b7",
   "metadata": {},
   "outputs": [
    {
     "name": "stdout",
     "output_type": "stream",
     "text": [
      "array('i', [1, 3, 7, 9])\n"
     ]
    }
   ],
   "source": [
    "# 11. Write a Python program to remove a specified item using the index of an array. Go to the editor\n",
    "# Sample Output:\n",
    "# Original array: array('i', [1, 3, 5, 7, 9])\n",
    "# Remove the third item form the array:\n",
    "# New array: array('i', [1, 3, 7, 9])\n",
    "\n",
    "a=arr.array(\"i\",[1,3,5,7,9])\n",
    "a.pop(2)\n",
    "print(a)"
   ]
  },
  {
   "cell_type": "markdown",
   "id": "46d538df",
   "metadata": {},
   "source": [
    "# LAMBDA"
   ]
  },
  {
   "cell_type": "code",
   "execution_count": 2,
   "id": "7aa53e11",
   "metadata": {},
   "outputs": [
    {
     "name": "stdout",
     "output_type": "stream",
     "text": [
      "Enter the number7\n",
      "343\n"
     ]
    }
   ],
   "source": [
    "max = lambda x : x*x*x\n",
    "x = int(input(\"Enter the number\"))\n",
    "print (max(x))"
   ]
  },
  {
   "cell_type": "markdown",
   "id": "26a1fb21",
   "metadata": {},
   "source": [
    "# MODULE "
   ]
  },
  {
   "cell_type": "code",
   "execution_count": 1,
   "id": "b403e9e8",
   "metadata": {},
   "outputs": [
    {
     "name": "stdout",
     "output_type": "stream",
     "text": [
      " ENTER FIRST NUMBER :9\n",
      "\n",
      " ENTER SECOND NUMBER :7\n",
      "\n",
      "=================================\n",
      "\n",
      "==> ADDITION OFF  9  &  7 = 16\n",
      "\n",
      "=================================\n",
      "\n",
      " ENTER FIRST NUMBER :9\n",
      "\n",
      " ENTER SECOND NUMBER :6\n",
      "\n",
      "=================================\n",
      "\n",
      "==> POWER OFF  9  &  6 = 531441\n",
      "\n",
      "=================================\n",
      "\n"
     ]
    }
   ],
   "source": [
    "import calculator as c\n",
    "c.add()\n",
    "c.power()"
   ]
  },
  {
   "cell_type": "markdown",
   "id": "31a6f6f6",
   "metadata": {},
   "source": [
    "# TUPLE"
   ]
  },
  {
   "cell_type": "code",
   "execution_count": 10,
   "id": "1df2f622",
   "metadata": {},
   "outputs": [
    {
     "data": {
      "text/plain": [
       "tuple"
      ]
     },
     "execution_count": 10,
     "metadata": {},
     "output_type": "execute_result"
    }
   ],
   "source": [
    "tup = (1,2,3,4,5,6)\n",
    "type(tup)\n"
   ]
  },
  {
   "cell_type": "code",
   "execution_count": 12,
   "id": "524e3678",
   "metadata": {},
   "outputs": [
    {
     "data": {
      "text/plain": [
       "0"
      ]
     },
     "execution_count": 12,
     "metadata": {},
     "output_type": "execute_result"
    }
   ],
   "source": [
    "tup.index(1)"
   ]
  },
  {
   "cell_type": "code",
   "execution_count": 13,
   "id": "9cd7bf3a",
   "metadata": {},
   "outputs": [
    {
     "data": {
      "text/plain": [
       "6"
      ]
     },
     "execution_count": 13,
     "metadata": {},
     "output_type": "execute_result"
    }
   ],
   "source": [
    "len(tup)"
   ]
  },
  {
   "cell_type": "code",
   "execution_count": 14,
   "id": "ead7b3c3",
   "metadata": {},
   "outputs": [
    {
     "data": {
      "text/plain": [
       "1"
      ]
     },
     "execution_count": 14,
     "metadata": {},
     "output_type": "execute_result"
    }
   ],
   "source": [
    "tup.count(3)"
   ]
  },
  {
   "cell_type": "code",
   "execution_count": 15,
   "id": "636e23a9",
   "metadata": {},
   "outputs": [
    {
     "name": "stdout",
     "output_type": "stream",
     "text": [
      "((1, 2, 3, 4, 5, 6), 7, 8, 9)\n"
     ]
    }
   ],
   "source": [
    "tup1 = (tup,7,8,9)\n",
    "print(tup1)"
   ]
  },
  {
   "cell_type": "code",
   "execution_count": 16,
   "id": "17c9c486",
   "metadata": {},
   "outputs": [],
   "source": [
    "list = [1,2,3,4,5,6,7]"
   ]
  },
  {
   "cell_type": "code",
   "execution_count": 17,
   "id": "c07c4a56",
   "metadata": {},
   "outputs": [],
   "source": [
    "tup2 = (tup,tup1,list)"
   ]
  },
  {
   "cell_type": "code",
   "execution_count": 18,
   "id": "3191b1b2",
   "metadata": {},
   "outputs": [
    {
     "name": "stdout",
     "output_type": "stream",
     "text": [
      "((1, 2, 3, 4, 5, 6), ((1, 2, 3, 4, 5, 6), 7, 8, 9), [1, 2, 3, 4, 5, 6, 7])\n"
     ]
    }
   ],
   "source": [
    "print(tup2)"
   ]
  },
  {
   "cell_type": "code",
   "execution_count": 20,
   "id": "30904130",
   "metadata": {},
   "outputs": [
    {
     "data": {
      "text/plain": [
       "(1, 2, 3, 4, 5, 6)"
      ]
     },
     "execution_count": 20,
     "metadata": {},
     "output_type": "execute_result"
    }
   ],
   "source": [
    "tup2[0]"
   ]
  },
  {
   "cell_type": "code",
   "execution_count": 23,
   "id": "99bc8ded",
   "metadata": {},
   "outputs": [
    {
     "data": {
      "text/plain": [
       "((1, 2, 3, 4, 5, 6), ((1, 2, 3, 4, 5, 6), 7, 8, 9))"
      ]
     },
     "execution_count": 23,
     "metadata": {},
     "output_type": "execute_result"
    }
   ],
   "source": [
    "tup2[0:2]"
   ]
  },
  {
   "cell_type": "markdown",
   "id": "8a53bf02",
   "metadata": {},
   "source": [
    "# QUESTIONS"
   ]
  },
  {
   "cell_type": "code",
   "execution_count": 5,
   "id": "4df45fe4",
   "metadata": {},
   "outputs": [
    {
     "name": "stdout",
     "output_type": "stream",
     "text": [
      "ENTER THE LENGTH OF THE TUPLE : 9\n",
      " \n",
      "THE TUPLE IS :\n"
     ]
    },
    {
     "data": {
      "text/plain": [
       "(1, 9, 2, 18, 3, 27, 4, 36, 5, 45, 6, 54, 7, 63, 8, 72)"
      ]
     },
     "execution_count": 5,
     "metadata": {},
     "output_type": "execute_result"
    }
   ],
   "source": [
    "#1. Write a Python program to create a tuple.\n",
    "\n",
    "n = int(input(\"ENTER THE LENGTH OF THE TUPLE : \"))\n",
    "\n",
    "list = []\n",
    "\n",
    "for i in range(1,n):\n",
    "    \n",
    "    list.append(i)\n",
    "    list.append(n*i)\n",
    "\n",
    "print(\" \\nTHE TUPLE IS :\")\n",
    "tuple(list)"
   ]
  },
  {
   "cell_type": "code",
   "execution_count": 18,
   "id": "65c43864",
   "metadata": {},
   "outputs": [
    {
     "name": "stdout",
     "output_type": "stream",
     "text": [
      "ENTER THE STRING : PATHAN\n",
      "\n",
      "ENTER THE NUMBER : 325\n",
      "\n",
      "ENTER THE X : 307\n",
      "\n",
      "ENTER THE Y : 302\n",
      "\n",
      "===============================================\n",
      "\n",
      "THE FINAL TUPLE IS =  ('PATHAN', 325, [307, 302])\n"
     ]
    }
   ],
   "source": [
    "#2 Write a Python program to create a tuple with different data types.\n",
    "\n",
    "list1 = []\n",
    "n = input(\"ENTER THE STRING : \")\n",
    "list1.append(n)\n",
    "\n",
    "m = int(input(\"\\nENTER THE NUMBER : \"))\n",
    "list1.append(m)\n",
    "\n",
    "list2 = []\n",
    "\n",
    "x = int(input(\"\\nENTER THE X : \"))\n",
    "list2.append(x)\n",
    "\n",
    "y = int(input(\"\\nENTER THE Y : \"))\n",
    "\n",
    "list2.append(y)\n",
    "\n",
    "list1.append(list2)\n",
    "\n",
    "tuple1 = tuple(list1)\n",
    "\n",
    "print(\"\\n===============================================\")\n",
    "\n",
    "print(\"\\nTHE FINAL TUPLE IS = \",tuple1)"
   ]
  },
  {
   "cell_type": "code",
   "execution_count": 5,
   "id": "f57eb3f1",
   "metadata": {},
   "outputs": [
    {
     "name": "stdout",
     "output_type": "stream",
     "text": [
      "('tuple', 3.4, 1, False)\n"
     ]
    }
   ],
   "source": [
    "#2 Write a Python program to create a tuple with different data types.\n",
    "\n",
    "TUPLE = (\"tuple\", 3.4, 1, False)\n",
    "\n",
    "print(TUPLE)"
   ]
  },
  {
   "cell_type": "code",
   "execution_count": 19,
   "id": "db9487d2",
   "metadata": {},
   "outputs": [
    {
     "name": "stdout",
     "output_type": "stream",
     "text": [
      "(1, 2, 3, 4, 5, 6, 7, 8, 9, 10)\n",
      "\n",
      "ENTER THE INDEX : 99\n",
      "\n",
      "THE INDEX YOU ENTERD IS OUT OF RANGE...\n"
     ]
    }
   ],
   "source": [
    "#3 Write a Python program to create a tuple of numbers and print one itemt \n",
    "\n",
    "t = ( 1, 2, 3, 4, 5, 6, 7, 8, 9, 10)\n",
    "\n",
    "print(t)\n",
    "\n",
    "a = int(input(\"\\nENTER THE INDEX : \"))\n",
    "\n",
    "if a in range (1,10):\n",
    "    \n",
    "    print(\"\\nAT THE INDEX\" , a ,\", THE ELEMENT\", t[a] , \"IS PRESENT .\")\n",
    "\n",
    "else:\n",
    "    \n",
    "    print (\"\\nTHE INDEX YOU ENTERD IS OUT OF RANGE...\")\n",
    "    "
   ]
  },
  {
   "cell_type": "code",
   "execution_count": 24,
   "id": "67ab1173",
   "metadata": {},
   "outputs": [
    {
     "name": "stdout",
     "output_type": "stream",
     "text": [
      "t =  (1, 2, 3, 4, 5, 6, 7, 8, 9)\n",
      "\n",
      "\n",
      "THE VARIABLES ARE :\n",
      "====================\n",
      "a =  1\n",
      "b =  2\n",
      "c =  3\n",
      "d =  4\n",
      "e =  5\n",
      "f =  6\n",
      "g =  7\n",
      "h =  8\n",
      "i =  9\n"
     ]
    }
   ],
   "source": [
    "#4 Write a Python program to unpack a tuple into several variables\n",
    "\n",
    "t = ( 1, 2, 3, 4, 5, 6, 7, 8, 9)\n",
    "\n",
    "print(\"t = \",t)\n",
    "\n",
    "print(\"\\n\")\n",
    "\n",
    "print(\"THE VARIABLES ARE :\")\n",
    "\n",
    "print(\"====================\")\n",
    "\n",
    "#print(\"\\n\")\n",
    "\n",
    "a =  t[0]\n",
    "print(\"a = \",a)\n",
    "\n",
    "b = t[1]\n",
    "print(\"b = \",b)\n",
    "\n",
    "c = t[2]\n",
    "print(\"c = \",c)\n",
    "\n",
    "d = t[3]\n",
    "print(\"d = \",d)\n",
    "\n",
    "e = t[4]\n",
    "print(\"e = \",e)\n",
    "\n",
    "f = t[5]\n",
    "print(\"f = \",f)\n",
    "\n",
    "g = t[6]\n",
    "print(\"g = \",g)\n",
    "\n",
    "h = t[7]\n",
    "print(\"h = \",h)\n",
    "\n",
    "i = t[8]\n",
    "print(\"i = \",i)"
   ]
  },
  {
   "cell_type": "code",
   "execution_count": 31,
   "id": "aec6d22e",
   "metadata": {},
   "outputs": [
    {
     "name": "stdout",
     "output_type": "stream",
     "text": [
      "\n",
      "ENTER THE ELEMENT WHICH YOU WANT TO ADD : 98\n",
      "\n",
      "\n",
      "THE UPDATED TUPLE IS :  (1, 2, 3, 4, 5, 6, 7, 8, 9, 98)\n"
     ]
    }
   ],
   "source": [
    "#5. Write a Python program to add an item to a tuple\n",
    "\n",
    "t = ( 1, 2, 3, 4, 5, 6, 7, 8, 9)\n",
    "\n",
    "l = list(t)\n",
    "\n",
    "n = int(input(\"\\nENTER THE ELEMENT WHICH YOU WANT TO ADD : \"))\n",
    "\n",
    "l.append(n)\n",
    "\n",
    "x = tuple(l)\n",
    "\n",
    "print(\"\\n\")\n",
    "\n",
    "print(\"THE UPDATED TUPLE IS : \",x)"
   ]
  },
  {
   "cell_type": "code",
   "execution_count": 41,
   "id": "5baec668",
   "metadata": {},
   "outputs": [
    {
     "name": "stdout",
     "output_type": "stream",
     "text": [
      "CONVERTED TUPLE IS =  (1, 2, 3, 4, 5, 6, 7, 8, 9)\n"
     ]
    }
   ],
   "source": [
    "#6. Write a Python program to convert a tuple to a string.\n",
    "\n",
    "t = ( 1, 2, 3, 4, 5, 6, 7, 8, 9)\n",
    "\n",
    "for i in t :\n",
    "    \n",
    "    str(i)\n",
    "    \n",
    "print(\"CONVERTED TUPLE IS = \", t)\n"
   ]
  },
  {
   "cell_type": "code",
   "execution_count": 42,
   "id": "a051ca28",
   "metadata": {},
   "outputs": [
    {
     "name": "stdout",
     "output_type": "stream",
     "text": [
      "(1, 2, 3, 4, 5, 6, 7, 8, 9)\n",
      "\n",
      "THE FOURTH ELEMENT FROM THE LAST IS :  6\n"
     ]
    }
   ],
   "source": [
    "#7. Write a Python program to get the 4th element from the last element of a tuple\n",
    "\n",
    "t = ( 1, 2, 3, 4, 5, 6, 7, 8, 9)\n",
    "\n",
    "print(t)\n",
    "\n",
    "n = len(t)\n",
    "\n",
    "print(\"\\nTHE FOURTH ELEMENT FROM THE LAST IS : \",t[n-4])\n",
    "\n"
   ]
  },
  {
   "cell_type": "code",
   "execution_count": 37,
   "id": "2d2bc2c4",
   "metadata": {},
   "outputs": [],
   "source": [
    "#8. Write a Python program to create the colon of a tuple.\n",
    "\n",
    "# from copy import deepcopy\n",
    "# #create a tuple\n",
    "# tuplex = (\"HELLO\", 5, [], True) \n",
    "# print(tuplex)\n",
    "# #make a copy of a tuple using deepcopy() function\n",
    "# tuplex_colon = deepcopy(tuplex)\n",
    "# tuplex_colon[2].append(50)\n",
    "# print(tuplex_colon)\n",
    "# print(tuplex)"
   ]
  },
  {
   "cell_type": "code",
   "execution_count": 6,
   "id": "11c0dbc9",
   "metadata": {},
   "outputs": [
    {
     "name": "stdout",
     "output_type": "stream",
     "text": [
      "THE REPEATED ITEMS ARE :  (2, 2, 3, 3, 5, 5)\n"
     ]
    }
   ],
   "source": [
    "#9. Write a Python program to find repeated items in a tuple\n",
    "\n",
    "t = ( 1, 2, 2, 3, 3, 4, 5, 5, 6, 7, 8, 9)\n",
    "\n",
    "list = []\n",
    "\n",
    "for i in t :\n",
    "    if t.count(i) > 1:\n",
    "    \n",
    "        list.append(i)\n",
    "    \n",
    "t2 = tuple(list)\n",
    "\n",
    "print(\"THE REPEATED ITEMS ARE : \",t2)\n",
    "    \n"
   ]
  },
  {
   "cell_type": "code",
   "execution_count": 10,
   "id": "ae3dbcca",
   "metadata": {},
   "outputs": [
    {
     "name": "stdout",
     "output_type": "stream",
     "text": [
      "ENTER THE ELEMENT : 88\n",
      "\n",
      "THE ELEMENT 88 IS NOT PRESENT IN THE TUPLE .\n"
     ]
    }
   ],
   "source": [
    "#10. Write a Python program to check whether an element exists within a tuple .\n",
    "\n",
    "t = ( 1, 2, 3, 4, 5, 6, 7, 8, 9)\n",
    "\n",
    "a = int(input(\"ENTER THE ELEMENT : \"))\n",
    "if a in t:\n",
    "    print(\"\\nTHE ELEMENT\",a,\"IS PRESENT IN THE TUPLE .\")\n",
    "    \n",
    "else:\n",
    "    print(\"\\nTHE ELEMENT\",a, \"IS NOT PRESENT IN THE TUPLE .\")"
   ]
  },
  {
   "cell_type": "code",
   "execution_count": 25,
   "id": "02261d9e",
   "metadata": {},
   "outputs": [
    {
     "name": "stdout",
     "output_type": "stream",
     "text": [
      "CONVERTED TUPLE IS = (1, 2, 3, 4, 5, 6, 7, 8)\n"
     ]
    }
   ],
   "source": [
    "#11. Write a Python program to convert a list to a tuple .\n",
    "\n",
    "list = [ 1, 2, 3, 4, 5, 6, 7, 8]\n",
    "\n",
    "tup = tuple(list)\n",
    "\n",
    "print(\"CONVERTED TUPLE IS =\",tup)"
   ]
  },
  {
   "cell_type": "code",
   "execution_count": 11,
   "id": "9a54e9b9",
   "metadata": {},
   "outputs": [
    {
     "name": "stdout",
     "output_type": "stream",
     "text": [
      "\n",
      "ENTER THE INDEX OF ELEMENT WHICH YOU WANT TO REMOVE : 77\n",
      "\n",
      "THE INDEX IS OUT OF RANGE....!  SO ANY ELEMENT IS NOT REMOVED ...!\n",
      "\n",
      "THE FINAL TUPLE IS =  (1, 2, 3, 4, 5, 6, 7, 8, 9)\n"
     ]
    }
   ],
   "source": [
    "#12. Write a Python program to remove an item from a tuple.\n",
    "\n",
    "t = ( 1, 2, 3, 4, 5, 6, 7, 8, 9)\n",
    "\n",
    "l = list(t)\n",
    "\n",
    "a = int(input(\"\\nENTER THE INDEX OF ELEMENT WHICH YOU WANT TO REMOVE : \"))\n",
    "\n",
    "b = len(l)\n",
    "\n",
    "if a > b:\n",
    "    print(\"\\nTHE INDEX IS OUT OF RANGE....!  SO ANY ELEMENT IS NOT REMOVED ...!\")\n",
    "    \n",
    "else:\n",
    "    l.pop(a)\n",
    "    \n",
    "tup = tuple(l)\n",
    "\n",
    "print(\"\\nTHE FINAL TUPLE IS = \",tup)"
   ]
  },
  {
   "cell_type": "code",
   "execution_count": 23,
   "id": "3c7acfe6",
   "metadata": {},
   "outputs": [
    {
     "name": "stdout",
     "output_type": "stream",
     "text": [
      "THE ORIGINAL TUPLE IS =  (1, 2, 3, 4, 5, 6, 7, 8, 9)\n",
      "\n",
      "ENTER THE STARTING INDEX OF SLICING : 1\n",
      "\n",
      "ENTER THE LAST INDEX OF SLICING : 9\n",
      "\n",
      "THE INDEX YOU ENTERED IS OUT OF RANGE...! THAT'S WHY THE SLICING IS NOT DONE...! \n"
     ]
    }
   ],
   "source": [
    "#13. Write a Python program to slice a tuple.\n",
    "\n",
    "t = ( 1, 2, 3, 4, 5, 6, 7, 8, 9)\n",
    "\n",
    "print(\"THE ORIGINAL TUPLE IS = \",t)\n",
    "\n",
    "a = int(input(\"\\nENTER THE STARTING INDEX OF SLICING : \"))\n",
    "\n",
    "b = int(input(\"\\nENTER THE LAST INDEX OF SLICING : \"))\n",
    "\n",
    "c = len(t)\n",
    "\n",
    "if a > 0 and b < c :\n",
    "    print(\"\\nTHE SLICECD TUPLE = \",t[a:b])\n",
    "    \n",
    "else:\n",
    "    print(\"\\nTHE INDEX YOU ENTERED IS OUT OF RANGE...! THAT'S WHY THE SLICING IS NOT DONE...! \")"
   ]
  },
  {
   "cell_type": "code",
   "execution_count": 32,
   "id": "bf3e8f8e",
   "metadata": {},
   "outputs": [
    {
     "name": "stdout",
     "output_type": "stream",
     "text": [
      "ENTER THE ITEM = 4\n",
      "\n",
      "THE INDEX OF 4 IS 3 ....!\n"
     ]
    }
   ],
   "source": [
    "#14. Write a Python program to find the index of an item in a tuple.\n",
    "\n",
    "t = ( 1, 2, 3, 4, 5, 6, 7, 8, 9)\n",
    "\n",
    "a = int(input(\"ENTER THE ITEM = \"))\n",
    "\n",
    "if a not in t :\n",
    "    print(\"\\nTHE ITEM IS NOT PRESENT IN THE TUPLE...!\")\n",
    "    \n",
    "else :\n",
    "    index = t.index(a)\n",
    "    \n",
    "    print(\"\\nTHE INDEX OF\", a ,\"IS\",index, \"....!\")"
   ]
  },
  {
   "cell_type": "code",
   "execution_count": 33,
   "id": "c8aad3be",
   "metadata": {},
   "outputs": [
    {
     "name": "stdout",
     "output_type": "stream",
     "text": [
      "THE LENGTH OF THE TUPLE IS  9 ....!\n"
     ]
    }
   ],
   "source": [
    "#15. Write a Python program to find the length of a tuple. \n",
    "\n",
    "t = ( 1, 2, 3, 4, 5, 6, 7, 8, 9)\n",
    "\n",
    "a = len(t)\n",
    "\n",
    "print(\"THE LENGTH OF THE TUPLE IS \", a ,\"....!\")"
   ]
  },
  {
   "cell_type": "markdown",
   "id": "603ba102",
   "metadata": {},
   "source": [
    "# LISTS"
   ]
  },
  {
   "cell_type": "code",
   "execution_count": 1,
   "id": "9545200b",
   "metadata": {},
   "outputs": [
    {
     "name": "stdout",
     "output_type": "stream",
     "text": [
      "\n",
      "ENTER THE LENGTH OF THE LIST : 8\n",
      "\n",
      "=============================\n",
      "\n",
      "ENTER THE ELEMENT : 7\n",
      "\n",
      "ENTER THE ELEMENT : 9\n",
      "\n",
      "ENTER THE ELEMENT : 8\n",
      "\n",
      "ENTER THE ELEMENT : 0\n",
      "\n",
      "ENTER THE ELEMENT : 7\n",
      "\n",
      "ENTER THE ELEMENT : 6\n",
      "\n",
      "ENTER THE ELEMENT : 5\n",
      "\n",
      "ENTER THE ELEMENT : 9\n",
      "\n",
      "=============================\n",
      "\n",
      "THE LIST OF ELEMENTS YOU ENTERED :  [7, 9, 8, 0, 7, 6, 5, 9]\n",
      "\n",
      "THE TOTAL EVEN ELEMENTS IN LIST ARE :  3\n",
      "\n",
      "THE TOTAL ODD ELEMENTS IN LIST ARE :  5\n"
     ]
    }
   ],
   "source": [
    "# TAKE A LIST AND DIFFERCIATE THE ELEMENTS INTO EVEN AND ODD ...\n",
    "\n",
    "\n",
    "\n",
    "a = int(input(\"\\nENTER THE LENGTH OF THE LIST : \"))\n",
    "\n",
    "print(\"\\n=============================\")\n",
    "\n",
    "l = []\n",
    "\n",
    "counteve = 0\n",
    "\n",
    "countodd = 0\n",
    "\n",
    "\n",
    "for i in range (1 , (a + 1)) :\n",
    "    \n",
    "    b = int(input(\"\\nENTER THE ELEMENT : \"))\n",
    "\n",
    "    l.append(b)\n",
    "    \n",
    "print(\"\\n=============================\\n\")   \n",
    "\n",
    "print(\"THE LIST OF ELEMENTS YOU ENTERED : \" , l )\n",
    "\n",
    "for i in l :\n",
    "    \n",
    "    if i % 2 == 0 :\n",
    "        \n",
    "        counteve = counteve + 1\n",
    "    \n",
    "    else :\n",
    "        \n",
    "        countodd = countodd + 1\n",
    "        \n",
    "        \n",
    "print(\"\\nTHE TOTAL EVEN ELEMENTS IN LIST ARE : \" , counteve )\n",
    "\n",
    "print(\"\\nTHE TOTAL ODD ELEMENTS IN LIST ARE : \" , countodd )\n",
    "        \n",
    "    \n",
    "\n"
   ]
  },
  {
   "cell_type": "markdown",
   "id": "2944bd0e",
   "metadata": {},
   "source": []
  },
  {
   "cell_type": "code",
   "execution_count": null,
   "id": "2f6306b8",
   "metadata": {},
   "outputs": [],
   "source": []
  }
 ],
 "metadata": {
  "kernelspec": {
   "display_name": "Python 3 (ipykernel)",
   "language": "python",
   "name": "python3"
  },
  "language_info": {
   "codemirror_mode": {
    "name": "ipython",
    "version": 3
   },
   "file_extension": ".py",
   "mimetype": "text/x-python",
   "name": "python",
   "nbconvert_exporter": "python",
   "pygments_lexer": "ipython3",
   "version": "3.9.13"
  }
 },
 "nbformat": 4,
 "nbformat_minor": 5
}
