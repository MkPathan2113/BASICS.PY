{
 "cells": [
  {
   "cell_type": "code",
   "execution_count": 1,
   "id": "2c64c90d",
   "metadata": {},
   "outputs": [],
   "source": [
    "import pandas as pd\n",
    "import numpy as np\n",
    "import  matplotlib.pyplot as plt\n",
    "import seaborn as sns"
   ]
  },
  {
   "cell_type": "code",
   "execution_count": 2,
   "id": "9b7ac9fb",
   "metadata": {},
   "outputs": [],
   "source": [
    "def importfile(path):\n",
    "    df=pd.read_csv(path)\n",
    "    print(df)"
   ]
  },
  {
   "cell_type": "code",
   "execution_count": 3,
   "id": "9c849df4",
   "metadata": {},
   "outputs": [
    {
     "name": "stdout",
     "output_type": "stream",
     "text": [
      "                  area_type   availability                  location  \\\n",
      "0      Super built-up  Area         19-Dec  Electronic City Phase II   \n",
      "1                Plot  Area  Ready To Move          Chikka Tirupathi   \n",
      "2            Built-up  Area  Ready To Move               Uttarahalli   \n",
      "3      Super built-up  Area  Ready To Move        Lingadheeranahalli   \n",
      "4      Super built-up  Area  Ready To Move                  Kothanur   \n",
      "...                     ...            ...                       ...   \n",
      "13315        Built-up  Area  Ready To Move                Whitefield   \n",
      "13316  Super built-up  Area  Ready To Move             Richards Town   \n",
      "13317        Built-up  Area  Ready To Move     Raja Rajeshwari Nagar   \n",
      "13318  Super built-up  Area         18-Jun           Padmanabhanagar   \n",
      "13319  Super built-up  Area  Ready To Move              Doddathoguru   \n",
      "\n",
      "            size  society total_sqft  bath  balcony   price  \n",
      "0          2 BHK  Coomee        1056   2.0      1.0   39.07  \n",
      "1      4 Bedroom  Theanmp       2600   5.0      3.0  120.00  \n",
      "2          3 BHK      NaN       1440   2.0      3.0   62.00  \n",
      "3          3 BHK  Soiewre       1521   3.0      1.0   95.00  \n",
      "4          2 BHK      NaN       1200   2.0      1.0   51.00  \n",
      "...          ...      ...        ...   ...      ...     ...  \n",
      "13315  5 Bedroom  ArsiaEx       3453   4.0      0.0  231.00  \n",
      "13316      4 BHK      NaN       3600   5.0      NaN  400.00  \n",
      "13317      2 BHK  Mahla T       1141   2.0      1.0   60.00  \n",
      "13318      4 BHK  SollyCl       4689   4.0      1.0  488.00  \n",
      "13319      1 BHK      NaN        550   1.0      1.0   17.00  \n",
      "\n",
      "[13320 rows x 9 columns]\n"
     ]
    }
   ],
   "source": [
    "importfile(\"D:\\\\Bengaluru_House_Data.csv\")"
   ]
  },
  {
   "cell_type": "code",
   "execution_count": 7,
   "id": "eb9e5dfa",
   "metadata": {},
   "outputs": [
    {
     "ename": "SyntaxError",
     "evalue": "invalid syntax (1097040807.py, line 2)",
     "output_type": "error",
     "traceback": [
      "\u001b[1;36m  File \u001b[1;32m\"C:\\Users\\Khan Mokhit\\AppData\\Local\\Temp\\ipykernel_41040\\1097040807.py\"\u001b[1;36m, line \u001b[1;32m2\u001b[0m\n\u001b[1;33m    if\u001b[0m\n\u001b[1;37m       ^\u001b[0m\n\u001b[1;31mSyntaxError\u001b[0m\u001b[1;31m:\u001b[0m invalid syntax\n"
     ]
    }
   ],
   "source": [
    "importfile\n",
    "if \n",
    "    a == df.head()\n",
    "else:\n",
    "    b = df.tail()"
   ]
  },
  {
   "cell_type": "code",
   "execution_count": null,
   "id": "ca8fa64b",
   "metadata": {},
   "outputs": [],
   "source": []
  }
 ],
 "metadata": {
  "kernelspec": {
   "display_name": "Python 3 (ipykernel)",
   "language": "python",
   "name": "python3"
  },
  "language_info": {
   "codemirror_mode": {
    "name": "ipython",
    "version": 3
   },
   "file_extension": ".py",
   "mimetype": "text/x-python",
   "name": "python",
   "nbconvert_exporter": "python",
   "pygments_lexer": "ipython3",
   "version": "3.9.13"
  }
 },
 "nbformat": 4,
 "nbformat_minor": 5
}
