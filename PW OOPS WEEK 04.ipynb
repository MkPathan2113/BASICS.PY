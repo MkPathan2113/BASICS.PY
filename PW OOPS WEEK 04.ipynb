{
 "cells": [
  {
   "cell_type": "markdown",
   "id": "1af3bf68",
   "metadata": {},
   "source": [
    "# OOPS"
   ]
  },
  {
   "cell_type": "code",
   "execution_count": 1,
   "id": "deb3f0c4",
   "metadata": {},
   "outputs": [],
   "source": [
    "a = 1 "
   ]
  },
  {
   "cell_type": "code",
   "execution_count": 2,
   "id": "b69441dd",
   "metadata": {},
   "outputs": [
    {
     "name": "stdout",
     "output_type": "stream",
     "text": [
      "<class 'int'>\n"
     ]
    }
   ],
   "source": [
    "print(type(a))"
   ]
  },
  {
   "cell_type": "code",
   "execution_count": 3,
   "id": "cb7fc64b",
   "metadata": {},
   "outputs": [
    {
     "name": "stdout",
     "output_type": "stream",
     "text": [
      "<class 'str'>\n"
     ]
    }
   ],
   "source": [
    "print(type(\"Pwskills\"))"
   ]
  },
  {
   "cell_type": "code",
   "execution_count": 4,
   "id": "749182ef",
   "metadata": {},
   "outputs": [],
   "source": [
    "class test :\n",
    "    pass"
   ]
  },
  {
   "cell_type": "code",
   "execution_count": 5,
   "id": "a89bd86d",
   "metadata": {},
   "outputs": [],
   "source": [
    "a = test()"
   ]
  },
  {
   "cell_type": "code",
   "execution_count": 6,
   "id": "5131fe67",
   "metadata": {},
   "outputs": [
    {
     "data": {
      "text/plain": [
       "__main__.test"
      ]
     },
     "execution_count": 6,
     "metadata": {},
     "output_type": "execute_result"
    }
   ],
   "source": [
    "type(a)"
   ]
  },
  {
   "cell_type": "code",
   "execution_count": 7,
   "id": "00e47b69",
   "metadata": {},
   "outputs": [
    {
     "name": "stdout",
     "output_type": "stream",
     "text": [
      "<class '__main__.test'>\n"
     ]
    }
   ],
   "source": [
    "print(type(a))"
   ]
  },
  {
   "cell_type": "code",
   "execution_count": 22,
   "id": "34b6fc4e",
   "metadata": {},
   "outputs": [],
   "source": [
    "class start :\n",
    "    \n",
    "    def welcomemsg(self):\n",
    "        print(\"Welcome to the class.\")"
   ]
  },
  {
   "cell_type": "code",
   "execution_count": 23,
   "id": "a2a4eff4",
   "metadata": {},
   "outputs": [],
   "source": [
    "rohan = start()"
   ]
  },
  {
   "cell_type": "code",
   "execution_count": 24,
   "id": "6e6df05f",
   "metadata": {},
   "outputs": [
    {
     "name": "stdout",
     "output_type": "stream",
     "text": [
      "<class '__main__.start'>\n"
     ]
    }
   ],
   "source": [
    "print(type(rohan))"
   ]
  },
  {
   "cell_type": "code",
   "execution_count": 25,
   "id": "b383d159",
   "metadata": {},
   "outputs": [
    {
     "name": "stdout",
     "output_type": "stream",
     "text": [
      "Welcome to the class.\n"
     ]
    }
   ],
   "source": [
    "rohan.welcomemsg()"
   ]
  },
  {
   "cell_type": "code",
   "execution_count": 26,
   "id": "783d7525",
   "metadata": {},
   "outputs": [],
   "source": [
    "roh = start()"
   ]
  },
  {
   "cell_type": "code",
   "execution_count": 27,
   "id": "73b613c6",
   "metadata": {},
   "outputs": [
    {
     "name": "stdout",
     "output_type": "stream",
     "text": [
      "Welcome to the class.\n"
     ]
    }
   ],
   "source": [
    "roh.welcomemsg()"
   ]
  },
  {
   "cell_type": "code",
   "execution_count": 36,
   "id": "f4166983",
   "metadata": {},
   "outputs": [],
   "source": [
    "# THIS IS MY CLASS IT IS LIKE SKELETON \n",
    "# WE CAN CREATE UNLIMITED OBJECTS FOR THIS \n",
    "# WE JUST HAVE TO PASS DATA FOR THAT OBJECT AND WILL GET RESULT\n",
    "\n",
    "class sttart :\n",
    "    \n",
    "    def __init__(self , phone , email , student ):\n",
    "        self.phone = phone\n",
    "        self.email = email\n",
    "        self.student = student\n",
    "        \n",
    "    def returnstudentdetails(self) :\n",
    "        return self.student , self.phone , self.email"
   ]
  },
  {
   "cell_type": "code",
   "execution_count": 37,
   "id": "e5a6be43",
   "metadata": {},
   "outputs": [],
   "source": [
    "datta = sttart(532523453, \"hfs@gmail.com\" , 111)"
   ]
  },
  {
   "cell_type": "code",
   "execution_count": 38,
   "id": "7a7a6ec9",
   "metadata": {},
   "outputs": [
    {
     "data": {
      "text/plain": [
       "(111, 532523453, 'hfs@gmail.com')"
      ]
     },
     "execution_count": 38,
     "metadata": {},
     "output_type": "execute_result"
    }
   ],
   "source": [
    "datta.returnstudentdetails()"
   ]
  },
  {
   "cell_type": "code",
   "execution_count": 41,
   "id": "26d151a6",
   "metadata": {},
   "outputs": [
    {
     "data": {
      "text/plain": [
       "532523453"
      ]
     },
     "execution_count": 41,
     "metadata": {},
     "output_type": "execute_result"
    }
   ],
   "source": [
    "datta.phone"
   ]
  },
  {
   "cell_type": "code",
   "execution_count": 42,
   "id": "e954ef7d",
   "metadata": {},
   "outputs": [
    {
     "data": {
      "text/plain": [
       "'hfs@gmail.com'"
      ]
     },
     "execution_count": 42,
     "metadata": {},
     "output_type": "execute_result"
    }
   ],
   "source": [
    "datta.email"
   ]
  },
  {
   "cell_type": "code",
   "execution_count": 39,
   "id": "f30869ce",
   "metadata": {},
   "outputs": [],
   "source": [
    "avin = sttart(52345534245,\"theretireddon@gmail.com\",444)"
   ]
  },
  {
   "cell_type": "code",
   "execution_count": 40,
   "id": "7644dac3",
   "metadata": {},
   "outputs": [
    {
     "data": {
      "text/plain": [
       "(444, 52345534245, 'theretireddon@gmail.com')"
      ]
     },
     "execution_count": 40,
     "metadata": {},
     "output_type": "execute_result"
    }
   ],
   "source": [
    "avin.returnstudentdetails()"
   ]
  },
  {
   "cell_type": "code",
   "execution_count": 43,
   "id": "02a56e45",
   "metadata": {},
   "outputs": [
    {
     "data": {
      "text/plain": [
       "52345534245"
      ]
     },
     "execution_count": 43,
     "metadata": {},
     "output_type": "execute_result"
    }
   ],
   "source": [
    "avin.phone"
   ]
  },
  {
   "cell_type": "code",
   "execution_count": 44,
   "id": "916655f8",
   "metadata": {},
   "outputs": [
    {
     "data": {
      "text/plain": [
       "444"
      ]
     },
     "execution_count": 44,
     "metadata": {},
     "output_type": "execute_result"
    }
   ],
   "source": [
    "avin.student"
   ]
  },
  {
   "cell_type": "code",
   "execution_count": null,
   "id": "a8a44eab",
   "metadata": {},
   "outputs": [],
   "source": []
  },
  {
   "cell_type": "code",
   "execution_count": 54,
   "id": "be8697d4",
   "metadata": {},
   "outputs": [],
   "source": [
    "class sttart2 :\n",
    "    \n",
    "    def __init__(self , phone , email , student ):\n",
    "        self.phone1 = phone\n",
    "        self.email1 = email\n",
    "        self.student1 = student\n",
    "        \n",
    "    def returnstudentdetails1(self) :\n",
    "        return self.student1 , self.phone1 , self.email1"
   ]
  },
  {
   "cell_type": "code",
   "execution_count": null,
   "id": "ca0a8f6a",
   "metadata": {},
   "outputs": [],
   "source": []
  },
  {
   "cell_type": "code",
   "execution_count": 55,
   "id": "3f1cb424",
   "metadata": {},
   "outputs": [],
   "source": [
    "avin = sttart2(52345534245,\"theretireddon@gmail.com\",444)"
   ]
  },
  {
   "cell_type": "code",
   "execution_count": 56,
   "id": "ac38964a",
   "metadata": {},
   "outputs": [
    {
     "data": {
      "text/plain": [
       "52345534245"
      ]
     },
     "execution_count": 56,
     "metadata": {},
     "output_type": "execute_result"
    }
   ],
   "source": [
    "avin.phone1"
   ]
  },
  {
   "cell_type": "code",
   "execution_count": 52,
   "id": "07b11f18",
   "metadata": {},
   "outputs": [
    {
     "data": {
      "text/plain": [
       "444"
      ]
     },
     "execution_count": 52,
     "metadata": {},
     "output_type": "execute_result"
    }
   ],
   "source": [
    "avin.student1"
   ]
  },
  {
   "cell_type": "code",
   "execution_count": 57,
   "id": "e6b47089",
   "metadata": {},
   "outputs": [
    {
     "data": {
      "text/plain": [
       "(444, 52345534245, 'theretireddon@gmail.com')"
      ]
     },
     "execution_count": 57,
     "metadata": {},
     "output_type": "execute_result"
    }
   ],
   "source": [
    "avin.returnstudentdetails1()"
   ]
  },
  {
   "cell_type": "markdown",
   "id": "8e3e4bd9",
   "metadata": {},
   "source": [
    "# POLYMORPHISM"
   ]
  },
  {
   "cell_type": "code",
   "execution_count": 74,
   "id": "03029f73",
   "metadata": {},
   "outputs": [],
   "source": [
    "def test(a,b):\n",
    "    return a+b"
   ]
  },
  {
   "cell_type": "code",
   "execution_count": 75,
   "id": "f8913129",
   "metadata": {},
   "outputs": [
    {
     "data": {
      "text/plain": [
       "10"
      ]
     },
     "execution_count": 75,
     "metadata": {},
     "output_type": "execute_result"
    }
   ],
   "source": [
    "test(4,6)"
   ]
  },
  {
   "cell_type": "code",
   "execution_count": 76,
   "id": "d6c19912",
   "metadata": {},
   "outputs": [
    {
     "data": {
      "text/plain": [
       "'Avin Shaikh'"
      ]
     },
     "execution_count": 76,
     "metadata": {},
     "output_type": "execute_result"
    }
   ],
   "source": [
    "test(\"Avin \",\"Shaikh\")"
   ]
  },
  {
   "cell_type": "code",
   "execution_count": 77,
   "id": "ac084fc1",
   "metadata": {},
   "outputs": [
    {
     "data": {
      "text/plain": [
       "[3, 4, 5, 4, 5, 6]"
      ]
     },
     "execution_count": 77,
     "metadata": {},
     "output_type": "execute_result"
    }
   ],
   "source": [
    "test([3,4,5],[4,5,6])"
   ]
  },
  {
   "cell_type": "code",
   "execution_count": 78,
   "id": "b21b3071",
   "metadata": {},
   "outputs": [],
   "source": [
    "class data_science:\n",
    "    \n",
    "    def syllabus(self):\n",
    "        print(\"This is my data science class\")\n",
    "        "
   ]
  },
  {
   "cell_type": "code",
   "execution_count": 79,
   "id": "45aed41e",
   "metadata": {},
   "outputs": [],
   "source": [
    "class web_dev:\n",
    "    \n",
    "    def syllabus(self):\n",
    "        print(\"This is my web dev class\")"
   ]
  },
  {
   "cell_type": "code",
   "execution_count": 80,
   "id": "1a8b2c66",
   "metadata": {},
   "outputs": [],
   "source": [
    "data_science = data_science()"
   ]
  },
  {
   "cell_type": "code",
   "execution_count": 81,
   "id": "3cb47c9d",
   "metadata": {},
   "outputs": [],
   "source": [
    "wev_dev = web_dev()"
   ]
  },
  {
   "cell_type": "code",
   "execution_count": 82,
   "id": "e2e8c5dd",
   "metadata": {},
   "outputs": [],
   "source": [
    "def class_parcer(class_obj):\n",
    "    for i in class_obj :\n",
    "        i.syllabus()"
   ]
  },
  {
   "cell_type": "code",
   "execution_count": 83,
   "id": "0f010608",
   "metadata": {},
   "outputs": [],
   "source": [
    "class_obj = [data_science,wev_dev]"
   ]
  },
  {
   "cell_type": "code",
   "execution_count": 84,
   "id": "bd2c75bf",
   "metadata": {},
   "outputs": [
    {
     "name": "stdout",
     "output_type": "stream",
     "text": [
      "This is my data science class\n",
      "This is my web dev class\n"
     ]
    }
   ],
   "source": [
    "class_parcer(class_obj)"
   ]
  },
  {
   "cell_type": "markdown",
   "id": "d0452080",
   "metadata": {},
   "source": [
    "# ENCAPSULATION"
   ]
  },
  {
   "cell_type": "markdown",
   "id": "b662f5bd",
   "metadata": {},
   "source": [
    "ENCAPSULATION IS THE CONCEPT OF PROGRAMMING IN WHICH  WE BIND THE DATA IN THE PROGRAM LIKE THE CAPSUL CONCEPT\n",
    "    #AFTER THIS USER CANNOT ACCESS THE DATA IN THE CLASS \n",
    "    #THIS ONE TYPE OF PROTECTION ALSO"
   ]
  },
  {
   "cell_type": "code",
   "execution_count": 85,
   "id": "050d0b2e",
   "metadata": {},
   "outputs": [],
   "source": [
    "class test : \n",
    "    \n",
    "# WHEN WE ARE PASSING INIT IN THIS FUNCTION WE CAN PASS THE DATA IN THIS \n",
    "    \n",
    "    def __init__(self , a, b ):\n",
    "        self.a = a \n",
    "        self.b = b"
   ]
  },
  {
   "cell_type": "code",
   "execution_count": 86,
   "id": "7055f6c8",
   "metadata": {},
   "outputs": [],
   "source": [
    "t = test(23,34)"
   ]
  },
  {
   "cell_type": "code",
   "execution_count": 87,
   "id": "3a5740d9",
   "metadata": {},
   "outputs": [],
   "source": [
    "t.a = 2345345"
   ]
  },
  {
   "cell_type": "code",
   "execution_count": 88,
   "id": "79d149c5",
   "metadata": {},
   "outputs": [
    {
     "data": {
      "text/plain": [
       "2345345"
      ]
     },
     "execution_count": 88,
     "metadata": {},
     "output_type": "execute_result"
    }
   ],
   "source": [
    "# WHEN WE ARE PRESSING THE TAP BUTTON AFTER THE DOT \n",
    "# WE CAN SEE ALL THE VARIABLES IN THIS CLASS AND THATS WHY WE NEED ENCAPSULATION\n",
    "\n",
    "t.a\n",
    "# HERE THE VALUE OF A WILL BE OVERWRITED \n"
   ]
  },
  {
   "cell_type": "code",
   "execution_count": null,
   "id": "9a006775",
   "metadata": {},
   "outputs": [],
   "source": []
  },
  {
   "cell_type": "code",
   "execution_count": 89,
   "id": "32d972bc",
   "metadata": {},
   "outputs": [],
   "source": [
    "class car :\n",
    "    def __init__(self , year , make , model, speed ) : \n",
    "        \n",
    "# IN THIS CLASS WE USED ENCAPSULATION CONCEPT\n",
    "# THE DOUBLE UNDERSCORE BEFORE THE VARIABLE THAT IS THE DECLARATION THAT THIS VARIABLE IS PROTECTED\n",
    "# AFTER THIS USER CANNOT ACCESS THE VARIABLES WITH TAP\n",
    "        \n",
    "        self.__year = year \n",
    "        self.__make = make\n",
    "        self.__model = model\n",
    "        self.__speed = 0\n",
    "        \n",
    "# THIS TWO FUNCTIONS ARE PUBLIC AS WE CAN SEE \n",
    "# IF ANYONE WANT TO ACCESS OR CHANGE THE SPEED THEN IT WILL BE POSSIBLE WITH THESE TWO FUNCTIONS \n",
    "# USER WILL NOT ABLE TO ACCESS THE UPPER FUNCTION\n",
    "    def set_speed(self,speed) : \n",
    "        self.__speed = 0 if speed < 0 else speed\n",
    "        \n",
    "    def get_speed(self)  : \n",
    "        return self.__speed"
   ]
  },
  {
   "cell_type": "code",
   "execution_count": 90,
   "id": "f589be37",
   "metadata": {},
   "outputs": [],
   "source": [
    "c = car(2021 , \"toyata\" , \"innova\" , 12)"
   ]
  },
  {
   "cell_type": "code",
   "execution_count": 91,
   "id": "c7adb974",
   "metadata": {},
   "outputs": [
    {
     "data": {
      "text/plain": [
       "2021"
      ]
     },
     "execution_count": 91,
     "metadata": {},
     "output_type": "execute_result"
    }
   ],
   "source": [
    "c._car__year"
   ]
  },
  {
   "cell_type": "code",
   "execution_count": 92,
   "id": "36f0da35",
   "metadata": {},
   "outputs": [],
   "source": [
    "c.set_speed(-3245)"
   ]
  },
  {
   "cell_type": "code",
   "execution_count": 93,
   "id": "8e48367c",
   "metadata": {},
   "outputs": [
    {
     "data": {
      "text/plain": [
       "0"
      ]
     },
     "execution_count": 93,
     "metadata": {},
     "output_type": "execute_result"
    }
   ],
   "source": [
    "c.get_speed()"
   ]
  },
  {
   "cell_type": "code",
   "execution_count": 94,
   "id": "5847d725",
   "metadata": {},
   "outputs": [],
   "source": [
    "c.set_speed(234)"
   ]
  },
  {
   "cell_type": "code",
   "execution_count": 95,
   "id": "1986103c",
   "metadata": {},
   "outputs": [
    {
     "data": {
      "text/plain": [
       "234"
      ]
     },
     "execution_count": 95,
     "metadata": {},
     "output_type": "execute_result"
    }
   ],
   "source": [
    "c.get_speed()"
   ]
  },
  {
   "cell_type": "code",
   "execution_count": null,
   "id": "47be4536",
   "metadata": {},
   "outputs": [],
   "source": []
  },
  {
   "cell_type": "code",
   "execution_count": 96,
   "id": "02943ad7",
   "metadata": {},
   "outputs": [],
   "source": [
    "class bank_account : \n",
    "    def __init__(self , balance) : \n",
    "        self.__balanace = balance \n",
    "        \n",
    "    def deposit(self , amount) : \n",
    "        self.__balanace = self.__balanace + amount\n",
    "        \n",
    "    def withdaw(self ,amount) : \n",
    "        if self.__balanace >= amount :\n",
    "            self.__balanace = self.__balanace - amount\n",
    "            return True\n",
    "        else : \n",
    "            return False\n",
    "    \n",
    "    def get_banalnce(self):\n",
    "        return self.__balanace\n",
    "                  "
   ]
  },
  {
   "cell_type": "code",
   "execution_count": 97,
   "id": "44cf1864",
   "metadata": {},
   "outputs": [],
   "source": [
    "sudh = bank_account(1000)"
   ]
  },
  {
   "cell_type": "code",
   "execution_count": 98,
   "id": "abcaee95",
   "metadata": {},
   "outputs": [
    {
     "data": {
      "text/plain": [
       "1000"
      ]
     },
     "execution_count": 98,
     "metadata": {},
     "output_type": "execute_result"
    }
   ],
   "source": [
    "sudh.get_banalnce()"
   ]
  },
  {
   "cell_type": "code",
   "execution_count": 99,
   "id": "9f122821",
   "metadata": {},
   "outputs": [],
   "source": [
    "sudh.deposit(5000)"
   ]
  },
  {
   "cell_type": "code",
   "execution_count": 100,
   "id": "2fb59dc9",
   "metadata": {},
   "outputs": [
    {
     "data": {
      "text/plain": [
       "6000"
      ]
     },
     "execution_count": 100,
     "metadata": {},
     "output_type": "execute_result"
    }
   ],
   "source": [
    "sudh.get_banalnce()"
   ]
  },
  {
   "cell_type": "code",
   "execution_count": 101,
   "id": "b3c29bb0",
   "metadata": {},
   "outputs": [],
   "source": [
    "sudh.deposit(1000)"
   ]
  },
  {
   "cell_type": "code",
   "execution_count": 102,
   "id": "14c5a0fc",
   "metadata": {},
   "outputs": [
    {
     "data": {
      "text/plain": [
       "7000"
      ]
     },
     "execution_count": 102,
     "metadata": {},
     "output_type": "execute_result"
    }
   ],
   "source": [
    "sudh.get_banalnce()"
   ]
  },
  {
   "cell_type": "code",
   "execution_count": 103,
   "id": "8255e679",
   "metadata": {},
   "outputs": [
    {
     "data": {
      "text/plain": [
       "False"
      ]
     },
     "execution_count": 103,
     "metadata": {},
     "output_type": "execute_result"
    }
   ],
   "source": [
    "sudh.withdaw(9000)"
   ]
  },
  {
   "cell_type": "code",
   "execution_count": 104,
   "id": "231e1b5b",
   "metadata": {},
   "outputs": [
    {
     "data": {
      "text/plain": [
       "True"
      ]
     },
     "execution_count": 104,
     "metadata": {},
     "output_type": "execute_result"
    }
   ],
   "source": [
    "sudh.withdaw(2000)"
   ]
  },
  {
   "cell_type": "code",
   "execution_count": 105,
   "id": "f495f62d",
   "metadata": {},
   "outputs": [
    {
     "data": {
      "text/plain": [
       "5000"
      ]
     },
     "execution_count": 105,
     "metadata": {},
     "output_type": "execute_result"
    }
   ],
   "source": [
    "sudh.get_banalnce()"
   ]
  },
  {
   "cell_type": "code",
   "execution_count": null,
   "id": "4de312ec",
   "metadata": {},
   "outputs": [],
   "source": []
  },
  {
   "cell_type": "markdown",
   "id": "e271d176",
   "metadata": {},
   "source": [
    "# INHERITANCE"
   ]
  },
  {
   "cell_type": "markdown",
   "id": "f1adceed",
   "metadata": {},
   "source": [
    "THIS IS THE CONCEPT OF INHERITING THE PROPERTIES OF ONE CLASS TO ANOTHER CLASS"
   ]
  },
  {
   "cell_type": "markdown",
   "id": "64856868",
   "metadata": {},
   "source": [
    "IN THIS THE PROPERTIES CONTAINED CLASS IN KNOWN AS PARENT CLASS AND \n",
    "THE INHERITING CLASS IS KNOWN AS THE CHILD CLASS\n"
   ]
  },
  {
   "cell_type": "code",
   "execution_count": 106,
   "id": "60088b58",
   "metadata": {},
   "outputs": [],
   "source": [
    "class test :\n",
    "    \n",
    "    def test_meth(self):\n",
    "        print(\"This is parent class method\")\n",
    "    "
   ]
  },
  {
   "cell_type": "code",
   "execution_count": 108,
   "id": "cc4eb04f",
   "metadata": {},
   "outputs": [],
   "source": [
    "class child (test):\n",
    "    pass"
   ]
  },
  {
   "cell_type": "code",
   "execution_count": 109,
   "id": "d81f3189",
   "metadata": {},
   "outputs": [],
   "source": [
    "test = child()"
   ]
  },
  {
   "cell_type": "code",
   "execution_count": 111,
   "id": "d2321b1c",
   "metadata": {},
   "outputs": [
    {
     "name": "stdout",
     "output_type": "stream",
     "text": [
      "This is parent class method\n"
     ]
    }
   ],
   "source": [
    "# IN THIS WE CAN EASILY ACCESS THE METHOD OF PARENT CLASS\n",
    "# THIS IS CALLED AS INHERITANCE\n",
    "\n",
    "test.test_meth()"
   ]
  },
  {
   "cell_type": "code",
   "execution_count": null,
   "id": "9a518edf",
   "metadata": {},
   "outputs": [],
   "source": []
  },
  {
   "cell_type": "markdown",
   "id": "dd316a6a",
   "metadata": {},
   "source": [
    "MULTILEVEL  INHERITANCE"
   ]
  },
  {
   "cell_type": "code",
   "execution_count": 114,
   "id": "1b1d64c6",
   "metadata": {},
   "outputs": [],
   "source": [
    "class class1:\n",
    "    \n",
    "    def class_1(self):\n",
    "        print(\"This is class1 \")"
   ]
  },
  {
   "cell_type": "code",
   "execution_count": 116,
   "id": "b64595f1",
   "metadata": {},
   "outputs": [],
   "source": [
    "class class2 (class1):\n",
    "    \n",
    "    def class_2(self):\n",
    "        print(\"This is class 2\")"
   ]
  },
  {
   "cell_type": "code",
   "execution_count": 117,
   "id": "5877e3f4",
   "metadata": {},
   "outputs": [],
   "source": [
    "class class3(class2):\n",
    "    pass"
   ]
  },
  {
   "cell_type": "code",
   "execution_count": 118,
   "id": "8faba075",
   "metadata": {},
   "outputs": [],
   "source": [
    "mult = class3()"
   ]
  },
  {
   "cell_type": "markdown",
   "id": "9f6a57ce",
   "metadata": {},
   "source": [
    "HERE WE WILL MAKE AN OBJECT FOR CLASS 3"
   ]
  },
  {
   "cell_type": "code",
   "execution_count": 120,
   "id": "8c9426f2",
   "metadata": {},
   "outputs": [
    {
     "name": "stdout",
     "output_type": "stream",
     "text": [
      "This is class1 \n"
     ]
    }
   ],
   "source": [
    "mult.class_1()"
   ]
  },
  {
   "cell_type": "markdown",
   "id": "08f9c350",
   "metadata": {},
   "source": [
    "AFTER PRESSING THE TAP AFTER (.) WE CAN ACCESS BOTH METH FROM CLASS1 AND CLASS2"
   ]
  },
  {
   "cell_type": "code",
   "execution_count": 121,
   "id": "0b237da1",
   "metadata": {},
   "outputs": [
    {
     "name": "stdout",
     "output_type": "stream",
     "text": [
      "This is class 2\n"
     ]
    }
   ],
   "source": [
    "mult.class_2()"
   ]
  },
  {
   "cell_type": "markdown",
   "id": "3ba405a3",
   "metadata": {},
   "source": [
    "THIS IS CALLED AS MULTILEVEL INHERITANCE"
   ]
  },
  {
   "cell_type": "code",
   "execution_count": null,
   "id": "bdbd9a7d",
   "metadata": {},
   "outputs": [],
   "source": []
  },
  {
   "cell_type": "markdown",
   "id": "873096dd",
   "metadata": {},
   "source": [
    "MULTIPLE INHERITANCE"
   ]
  },
  {
   "cell_type": "code",
   "execution_count": 122,
   "id": "53b397b4",
   "metadata": {},
   "outputs": [],
   "source": [
    "class papa :\n",
    "    \n",
    "    def papa_1(self):\n",
    "        return \" BAAP TO BAAP RAHEGA\""
   ]
  },
  {
   "cell_type": "code",
   "execution_count": 123,
   "id": "dbb9227c",
   "metadata": {},
   "outputs": [],
   "source": [
    "class mom :\n",
    "    \n",
    "    def mom_1(self):\n",
    "        return \" MOM TO MAA RAHEGI\""
   ]
  },
  {
   "cell_type": "markdown",
   "id": "66758f4f",
   "metadata": {},
   "source": [
    "IN THIS CLASS PAPA AND MOM ARE NOT INHERITED\n"
   ]
  },
  {
   "cell_type": "markdown",
   "id": "08741677",
   "metadata": {},
   "source": [
    "THEY ARE TWO SAPERATE CLASSESS"
   ]
  },
  {
   "cell_type": "code",
   "execution_count": 124,
   "id": "37dc1dd3",
   "metadata": {},
   "outputs": [],
   "source": [
    "class baapkabaap(papa,mom):\n",
    "    pass"
   ]
  },
  {
   "cell_type": "code",
   "execution_count": 125,
   "id": "cb8a32c7",
   "metadata": {},
   "outputs": [],
   "source": [
    "dada = baapkabaap()"
   ]
  },
  {
   "cell_type": "code",
   "execution_count": 126,
   "id": "0ec4b462",
   "metadata": {},
   "outputs": [
    {
     "data": {
      "text/plain": [
       "' MOM TO MAA RAHEGI'"
      ]
     },
     "execution_count": 126,
     "metadata": {},
     "output_type": "execute_result"
    }
   ],
   "source": [
    "dada.mom_1()"
   ]
  },
  {
   "cell_type": "markdown",
   "id": "35cb2b13",
   "metadata": {},
   "source": [
    "AS WE SAW WITH THE HELP OF CLASS 3 OBJECT WE CAN ACCESS BOTH OF THE CLASSESS METHODS"
   ]
  },
  {
   "cell_type": "code",
   "execution_count": 127,
   "id": "16c1d10e",
   "metadata": {},
   "outputs": [
    {
     "data": {
      "text/plain": [
       "' BAAP TO BAAP RAHEGA'"
      ]
     },
     "execution_count": 127,
     "metadata": {},
     "output_type": "execute_result"
    }
   ],
   "source": [
    "dada.papa_1()"
   ]
  },
  {
   "cell_type": "code",
   "execution_count": null,
   "id": "3de554bc",
   "metadata": {},
   "outputs": [],
   "source": []
  },
  {
   "cell_type": "markdown",
   "id": "ed96a7b2",
   "metadata": {},
   "source": [
    "# ABSTRACTION"
   ]
  },
  {
   "cell_type": "markdown",
   "id": "a443e2e7",
   "metadata": {},
   "source": [
    "ABSTRACT CLASS IS USED TO CREATE A BLUEPRINT "
   ]
  },
  {
   "cell_type": "code",
   "execution_count": 128,
   "id": "26cc3823",
   "metadata": {},
   "outputs": [],
   "source": [
    "import abc\n",
    "class pwskills:\n",
    "    \n",
    "    @abc.abstractmethod\n",
    "    def students_detials(self):\n",
    "        pass\n",
    "    \n",
    "    @abc.abstractmethod\n",
    "    def student_assignemnt(self):\n",
    "        pass\n",
    "    \n",
    "    @abc.abstractmethod\n",
    "    def student_marks(self):\n",
    "        pass"
   ]
  },
  {
   "cell_type": "code",
   "execution_count": 129,
   "id": "044f97e9",
   "metadata": {},
   "outputs": [],
   "source": [
    "class student_detils(pwskills):\n",
    "    \n",
    "    def students_detials(self):\n",
    "        return \"this is a meth for taking students details\"\n",
    "    \n",
    "    def student_assignemnt(self):\n",
    "        return \"this is a meth for assing details for a perticualt student\""
   ]
  },
  {
   "cell_type": "code",
   "execution_count": 130,
   "id": "0e700a67",
   "metadata": {},
   "outputs": [],
   "source": [
    "class data_science_maters(pwskills):\n",
    "    \n",
    "    def students_detials(self):\n",
    "        return \"this will return a student details for data science masters \"\n",
    "    \n",
    "    def student_assignemnt(self):\n",
    "        return \"this will give you a studnt assignment detaild for data science masters \""
   ]
  },
  {
   "cell_type": "code",
   "execution_count": 131,
   "id": "a49469d5",
   "metadata": {},
   "outputs": [
    {
     "data": {
      "text/plain": [
       "'this will return a student details for data science masters '"
      ]
     },
     "execution_count": 131,
     "metadata": {},
     "output_type": "execute_result"
    }
   ],
   "source": [
    "dsm = data_science_maters()\n",
    "dsm.students_detials()"
   ]
  },
  {
   "cell_type": "code",
   "execution_count": 132,
   "id": "ab51ebfc",
   "metadata": {},
   "outputs": [
    {
     "data": {
      "text/plain": [
       "'this is a meth for taking students details'"
      ]
     },
     "execution_count": 132,
     "metadata": {},
     "output_type": "execute_result"
    }
   ],
   "source": [
    "sd= student_detils()\n",
    "sd.students_detials()"
   ]
  },
  {
   "cell_type": "code",
   "execution_count": null,
   "id": "ec091bf9",
   "metadata": {},
   "outputs": [],
   "source": []
  },
  {
   "cell_type": "markdown",
   "id": "fca230c5",
   "metadata": {},
   "source": [
    "# DECORETORS"
   ]
  },
  {
   "cell_type": "code",
   "execution_count": 134,
   "id": "2aeb7f9e",
   "metadata": {},
   "outputs": [],
   "source": [
    "def test():\n",
    "    print(\"This is my test function \")"
   ]
  },
  {
   "cell_type": "code",
   "execution_count": 135,
   "id": "99eb77d8",
   "metadata": {},
   "outputs": [
    {
     "name": "stdout",
     "output_type": "stream",
     "text": [
      "This is my test function \n"
     ]
    }
   ],
   "source": [
    "test()"
   ]
  },
  {
   "cell_type": "code",
   "execution_count": 136,
   "id": "fdab67a1",
   "metadata": {},
   "outputs": [],
   "source": [
    "def test():\n",
    "    \n",
    "    print(\"This is the start of the fun\")\n",
    "    print(\"This is my fun test\")\n",
    "    print(3+7)\n",
    "    print(\"This is the end of the fun\")"
   ]
  },
  {
   "cell_type": "code",
   "execution_count": 137,
   "id": "631573ef",
   "metadata": {},
   "outputs": [
    {
     "name": "stdout",
     "output_type": "stream",
     "text": [
      "This is the start of the fun\n",
      "This is my fun test\n",
      "10\n",
      "This is the end of the fun\n"
     ]
    }
   ],
   "source": [
    "test()"
   ]
  },
  {
   "cell_type": "code",
   "execution_count": 138,
   "id": "9af40463",
   "metadata": {},
   "outputs": [],
   "source": [
    "def deco(func):\n",
    "    def inner_deco():\n",
    "        print(\"This is the start of my fun\")\n",
    "        func()\n",
    "        print(\"This is the end of my fun\")\n",
    "    return inner_deco"
   ]
  },
  {
   "cell_type": "code",
   "execution_count": 140,
   "id": "f3762d00",
   "metadata": {},
   "outputs": [],
   "source": [
    "@deco\n",
    "\n",
    "def test():\n",
    "    print(8+9)"
   ]
  },
  {
   "cell_type": "code",
   "execution_count": 142,
   "id": "b6c89ab2",
   "metadata": {},
   "outputs": [
    {
     "name": "stdout",
     "output_type": "stream",
     "text": [
      "This is the start of my fun\n",
      "17\n",
      "This is the end of my fun\n"
     ]
    }
   ],
   "source": [
    "test()"
   ]
  },
  {
   "cell_type": "code",
   "execution_count": 143,
   "id": "c90e13cf",
   "metadata": {},
   "outputs": [],
   "source": [
    "import time\n",
    "\n",
    "def timertest(func):\n",
    "    def timer_test():\n",
    "        start = time.time()\n",
    "        func()\n",
    "        end = time.time()\n",
    "        print(end - start)\n",
    "        \n",
    "    return timer_test"
   ]
  },
  {
   "cell_type": "code",
   "execution_count": 144,
   "id": "8ebca80d",
   "metadata": {},
   "outputs": [],
   "source": [
    "def test3():\n",
    "    print(38*5)"
   ]
  },
  {
   "cell_type": "code",
   "execution_count": 145,
   "id": "931fe790",
   "metadata": {},
   "outputs": [
    {
     "name": "stdout",
     "output_type": "stream",
     "text": [
      "190\n"
     ]
    }
   ],
   "source": [
    "test3()"
   ]
  },
  {
   "cell_type": "code",
   "execution_count": 149,
   "id": "7dd4cf04",
   "metadata": {},
   "outputs": [],
   "source": [
    "@timertest\n",
    "\n",
    "def test3():\n",
    "    print(38+87)"
   ]
  },
  {
   "cell_type": "code",
   "execution_count": 150,
   "id": "b4179bcf",
   "metadata": {},
   "outputs": [
    {
     "name": "stdout",
     "output_type": "stream",
     "text": [
      "125\n",
      "0.0\n"
     ]
    }
   ],
   "source": [
    "test3()"
   ]
  },
  {
   "cell_type": "code",
   "execution_count": 2,
   "id": "13bf042d",
   "metadata": {},
   "outputs": [],
   "source": [
    "class car : \n",
    "    \n",
    "    def __init__ (self , name , model , price ):\n",
    "        \n",
    "        self.name = name \n",
    "        self.model = model\n",
    "        self.price = price\n",
    "    \n",
    "    def returndetails(self):\n",
    "        return self.name , self.model , self.price"
   ]
  },
  {
   "cell_type": "code",
   "execution_count": 3,
   "id": "c1cad9c0",
   "metadata": {},
   "outputs": [],
   "source": [
    "mycar = car(\"avin\" , 2018 , 90000)"
   ]
  },
  {
   "cell_type": "raw",
   "id": "92fbba32",
   "metadata": {},
   "source": [
    "mycar.name"
   ]
  },
  {
   "cell_type": "code",
   "execution_count": null,
   "id": "3fb320db",
   "metadata": {},
   "outputs": [],
   "source": [
    "# THIS IS MY CLASS IT IS LIKE SKELETON \n",
    "# WE CAN CREATE UNLIMITED OBJECTS FOR THIS \n",
    "# WE JUST HAVE TO PASS DATA FOR THAT OBJECT AND WILL GET RESULT\n",
    "\n",
    "class sttart :\n",
    "    \n",
    "    def __init__(self , phone , email , student ):\n",
    "        self.phone = phone\n",
    "        self.email = email\n",
    "        self.student = student\n",
    "        \n",
    "    def returnstudentdetails(self) :\n",
    "        return self.student , self.phone , self.email"
   ]
  }
 ],
 "metadata": {
  "kernelspec": {
   "display_name": "Python 3 (ipykernel)",
   "language": "python",
   "name": "python3"
  },
  "language_info": {
   "codemirror_mode": {
    "name": "ipython",
    "version": 3
   },
   "file_extension": ".py",
   "mimetype": "text/x-python",
   "name": "python",
   "nbconvert_exporter": "python",
   "pygments_lexer": "ipython3",
   "version": "3.9.13"
  }
 },
 "nbformat": 4,
 "nbformat_minor": 5
}
