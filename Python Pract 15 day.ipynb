{
 "cells": [
  {
   "cell_type": "markdown",
   "id": "024723ff",
   "metadata": {},
   "source": [
    "1.\tWhat is the output of print(3 + 5 * 2)?\n"
   ]
  },
  {
   "cell_type": "code",
   "execution_count": 4,
   "id": "03836e1b",
   "metadata": {
    "scrolled": true
   },
   "outputs": [
    {
     "name": "stdout",
     "output_type": "stream",
     "text": [
      "13\n"
     ]
    }
   ],
   "source": [
    " print(3 + 5 * 2)"
   ]
  },
  {
   "cell_type": "markdown",
   "id": "baf3471f",
   "metadata": {},
   "source": [
    "2.\tWhat are the three boolean operators in Python?\n"
   ]
  },
  {
   "cell_type": "markdown",
   "id": "a828ad37",
   "metadata": {},
   "source": [
    "The three boolean operators in Python are:\n",
    "\n",
    "and: This operator returns True if both operands are True, otherwise it returns False.\n",
    "or: This operator returns True if at least one of the operands is True, otherwise it returns False.\n",
    "not: This operator returns the opposite of the operand's value. If the operand is True, not returns False; if the operand is False, not returns True.\n",
    "\n",
    "\n",
    "\n",
    "\n",
    "\n"
   ]
  },
  {
   "cell_type": "markdown",
   "id": "bcc0a012",
   "metadata": {},
   "source": [
    "3.\tWrite a program to swap two variables without using a temporary variable.\n"
   ]
  },
  {
   "cell_type": "code",
   "execution_count": 6,
   "id": "24d89618",
   "metadata": {},
   "outputs": [
    {
     "name": "stdout",
     "output_type": "stream",
     "text": [
      "7\n",
      "6\n"
     ]
    }
   ],
   "source": [
    "a = 6 \n",
    "b = 7\n",
    "\n",
    "c = a \n",
    "\n",
    "a = b \n",
    "\n",
    "b = c\n",
    "\n",
    "print(a)\n",
    "print(b)"
   ]
  },
  {
   "cell_type": "markdown",
   "id": "c009a7a3",
   "metadata": {},
   "source": [
    "4.\tWrite a Python program to find the largest of three numbers.\n"
   ]
  },
  {
   "cell_type": "code",
   "execution_count": 10,
   "id": "e295c87a",
   "metadata": {},
   "outputs": [
    {
     "name": "stdout",
     "output_type": "stream",
     "text": [
      "9\n"
     ]
    }
   ],
   "source": [
    "def largest(x,y,z):\n",
    "    \n",
    "    if x > y and x > z :\n",
    "        largest = x\n",
    "    \n",
    "    elif y > x and y > z :\n",
    "        largest = y\n",
    "        \n",
    "    else :\n",
    "        largest = z\n",
    "    \n",
    "    print(largest)\n",
    "\n",
    "largest(7,8,9)"
   ]
  },
  {
   "cell_type": "markdown",
   "id": "cf468a28",
   "metadata": {},
   "source": [
    "5.\tWhat is the difference between == and is operators in Python?\n"
   ]
  },
  {
   "cell_type": "markdown",
   "id": "59c5f04e",
   "metadata": {},
   "source": [
    "In python language == is the comparison operator and the is is the membership operator"
   ]
  },
  {
   "cell_type": "markdown",
   "id": "6c9cd8fc",
   "metadata": {},
   "source": [
    "6.\tWrite a function to calculate the factorial of a number.\n"
   ]
  },
  {
   "cell_type": "code",
   "execution_count": 1,
   "id": "f57593c2",
   "metadata": {},
   "outputs": [
    {
     "data": {
      "text/plain": [
       "120"
      ]
     },
     "execution_count": 1,
     "metadata": {},
     "output_type": "execute_result"
    }
   ],
   "source": [
    "def fact(n):\n",
    "    \n",
    "    if n== 0 or n==1:\n",
    "        return 1\n",
    "    else :\n",
    "        return n * fact(n-1)\n",
    "    \n",
    "fact(5)"
   ]
  },
  {
   "cell_type": "markdown",
   "id": "2b0ed770",
   "metadata": {},
   "source": [
    "7.\tWrite a Python program to check if a number is prime.\n"
   ]
  },
  {
   "cell_type": "code",
   "execution_count": null,
   "id": "ca421e80",
   "metadata": {},
   "outputs": [],
   "source": [
    "def is_prime(num):\n",
    "    if num <= 1:\n",
    "        return False\n",
    "    elif num <= 3:\n",
    "        return True\n",
    "    elif num % 2 == 0 or num % 3 == 0:\n",
    "        return False\n",
    "    i = 5\n",
    "    while i * i <= num:\n",
    "        if num % i == 0 or num % (i + 2) == 0:\n",
    "            return False\n",
    "        i += 6\n",
    "    return True\n",
    "\n",
    "# Example usage:\n",
    "number = 17\n",
    "if is_prime(number):\n",
    "    print(number, \"is a prime number\")\n",
    "else:\n",
    "    print(number, \"is not a prime number\")\n"
   ]
  },
  {
   "cell_type": "code",
   "execution_count": 5,
   "id": "31a7fbfe",
   "metadata": {},
   "outputs": [
    {
     "data": {
      "text/plain": [
       "False"
      ]
     },
     "execution_count": 5,
     "metadata": {},
     "output_type": "execute_result"
    }
   ],
   "source": [
    "def isprime(n):\n",
    "    \n",
    "    if n <=1 :\n",
    "        return False\n",
    "    \n",
    "    for i in range (2 , int(n ** 0.5)+1):\n",
    "        if n % i == 0 :\n",
    "            return False\n",
    "        \n",
    "    return True \n",
    "\n",
    "isprime(17)\n",
    "isprime(10)"
   ]
  },
  {
   "cell_type": "code",
   "execution_count": 7,
   "id": "3a8d0e91",
   "metadata": {},
   "outputs": [
    {
     "name": "stdout",
     "output_type": "stream",
     "text": [
      "False\n",
      "True\n"
     ]
    }
   ],
   "source": [
    "def isprime (n):\n",
    "    if n <= 1:\n",
    "        return False \n",
    "    \n",
    "    for i in range(2,int(n ** 0.5)+1):\n",
    "        if n %i == 0 :\n",
    "            return False\n",
    "    return True\n",
    "\n",
    "print(isprime(9))\n",
    "print(isprime(17))"
   ]
  },
  {
   "cell_type": "markdown",
   "id": "46828193",
   "metadata": {},
   "source": [
    "8.\tExplain the difference between while and for loops in Python.\n"
   ]
  },
  {
   "cell_type": "markdown",
   "id": "9e6c40f7",
   "metadata": {},
   "source": [
    "while loop: Repeats a block of code as long as a condition is true, ideal for indefinite iteration until a condition is met.\n",
    "\n",
    "\n",
    "for loop: Iterates over a sequence or range, executing a block of code for each element, suitable for known iterations over collections.\n",
    "\n",
    "\n",
    "\n",
    "\n",
    "\n"
   ]
  },
  {
   "cell_type": "markdown",
   "id": "145ff9ad",
   "metadata": {},
   "source": [
    "9.\tWhat is the purpose of the range() function in Python?\n"
   ]
  },
  {
   "cell_type": "markdown",
   "id": "20e3b3f7",
   "metadata": {},
   "source": [
    "The range() function in Python generates a sequence of numbers. It is primarily used to create a sequence of numbers that can be iterated over, typically in for loops. It can also be used to specify the number of iterations in a loop or to create lists of numbers.\n",
    "\n",
    "\n",
    "\n",
    "\n",
    "\n",
    "\n"
   ]
  },
  {
   "cell_type": "markdown",
   "id": "ab254ed9",
   "metadata": {},
   "source": [
    "10.\tWrite a Python function to check if a string is a palindrome.\n"
   ]
  },
  {
   "cell_type": "code",
   "execution_count": 14,
   "id": "dfa5e88c",
   "metadata": {},
   "outputs": [
    {
     "name": "stdout",
     "output_type": "stream",
     "text": [
      "The string is palindrome\n",
      "The string is not palindrome\n"
     ]
    }
   ],
   "source": [
    "def palindrome(x):\n",
    "    \n",
    "    if type(x) != str :\n",
    "        x = str(x)\n",
    "        \n",
    "    if x == x[::-1]:\n",
    "        return \"The string is palindrome\"\n",
    "        \n",
    "    else :\n",
    "        return \"The string is not palindrome\"\n",
    "        \n",
    "print(palindrome(\"radar\"))\n",
    "print(palindrome(\"mk\"))"
   ]
  },
  {
   "cell_type": "markdown",
   "id": "da6c327b",
   "metadata": {},
   "source": [
    "11.\tExplain the concept of function arguments in Python.\n"
   ]
  },
  {
   "cell_type": "markdown",
   "id": "8fbe46ef",
   "metadata": {},
   "source": [
    "Function arguments in Python are inputs provided to a function when it's called. They can be positional, specified by parameter name (keyword), have default values, or accept an arbitrary number of arguments using *args and **kwargs. They enable flexible and modular code by allowing functions to process different inputs.\n",
    "\n",
    "\n",
    "\n",
    "\n",
    "\n",
    "\n"
   ]
  },
  {
   "cell_type": "markdown",
   "id": "e656c8f7",
   "metadata": {},
   "source": [
    "12.\tWrite a Python program to print Fibonacci series up to n terms.\n"
   ]
  },
  {
   "cell_type": "code",
   "execution_count": 20,
   "id": "80b83c8c",
   "metadata": {},
   "outputs": [
    {
     "name": "stdout",
     "output_type": "stream",
     "text": [
      "0\n",
      "1\n",
      "2\n",
      "4\n",
      "8\n",
      "16\n",
      "32\n",
      "64\n",
      "128\n",
      "256\n"
     ]
    }
   ],
   "source": [
    "def fib (n):\n",
    "    a , b = 0, 1\n",
    "    \n",
    "    for i in range (n):\n",
    "        yield a\n",
    "        a = b \n",
    "        b = a+b\n",
    "\n",
    "fib(8)\n",
    "\n",
    "for i in fib(10):\n",
    "    print(i)"
   ]
  },
  {
   "cell_type": "markdown",
   "id": "37dd924b",
   "metadata": {},
   "source": [
    "13.\tWhat is the purpose of the break and continue statements in Python?\n"
   ]
  },
  {
   "cell_type": "markdown",
   "id": "ae1037ff",
   "metadata": {},
   "source": [
    "Break : The purpose of the break statement in python is to break the loop and exit if the given condition satisfies \n",
    "\n",
    "Continue : The continue statement in python is used to skip the loop for that given perticuler condiotion"
   ]
  },
  {
   "cell_type": "markdown",
   "id": "dc0f8e90",
   "metadata": {},
   "source": [
    "14.\tExplain the difference between return and print statements in Python functions.\n"
   ]
  },
  {
   "cell_type": "markdown",
   "id": "9e3a8f1d",
   "metadata": {},
   "source": [
    "In Python functions:\n",
    "\n",
    "return statement: It terminates the function execution and sends a value back to the caller. The returned value can be stored in a variable or used in further computations.\n",
    "\n",
    "print statement: It simply displays the specified content on the console. It does not affect the flow of the function or return any value to the caller.\n",
    "\n",
    "In essence, return is used to provide a value as the output of a function, while print is used to display information for debugging or user interaction."
   ]
  },
  {
   "cell_type": "markdown",
   "id": "ab401a28",
   "metadata": {},
   "source": [
    "15.\tWrite a Python program to check if a number is even or odd.\n"
   ]
  },
  {
   "cell_type": "code",
   "execution_count": 25,
   "id": "13c4bf44",
   "metadata": {},
   "outputs": [
    {
     "name": "stdout",
     "output_type": "stream",
     "text": [
      "The given number is even \n",
      "The given number is odd\n",
      "The number is negative\n"
     ]
    }
   ],
   "source": [
    "def evenodd(n):\n",
    "    \n",
    "    if n <0 :\n",
    "        return \"The number is negative\"\n",
    "    \n",
    "    if n%2 == 0 : \n",
    "        return \"The given number is even \"\n",
    "        \n",
    "    else :\n",
    "        return \"The given number is odd\"\n",
    "        \n",
    "print(evenodd(8))\n",
    "print(evenodd(9))\n",
    "print(evenodd(-2))"
   ]
  },
  {
   "cell_type": "markdown",
   "id": "3d802b3e",
   "metadata": {},
   "source": [
    "16.\tWhat is the use of the else statement in Python loops?\n"
   ]
  },
  {
   "cell_type": "markdown",
   "id": "3fe260b8",
   "metadata": {},
   "source": [
    "In Python loops, the else statement is used to execute a block of code when the loop completes normally, without encountering a break statement.\n",
    "\n",
    "For for loops:\n",
    "\n",
    "The else block executes when the loop completes iterating over all elements in the sequence.\n",
    "For while loops:\n",
    "\n",
    "The else block executes when the loop condition becomes false and the loop terminates.\n",
    "The else statement in loops is commonly used for control flow and to execute additional code after the loop completes successfully."
   ]
  },
  {
   "cell_type": "markdown",
   "id": "aea59118",
   "metadata": {},
   "source": [
    "17.\tExplain the concept of variable scope in Python.\n"
   ]
  },
  {
   "cell_type": "markdown",
   "id": "5ce97c27",
   "metadata": {},
   "source": [
    "Variable scope in Python refers to the visibility and accessibility of variables within different parts of a program. Variables can have local scope, confined to a specific function or block, or global scope, accessible throughout the entire program. Understanding variable scope helps prevent naming conflicts and ensures proper variable usage within Python programs."
   ]
  },
  {
   "cell_type": "markdown",
   "id": "944382dd",
   "metadata": {},
   "source": [
    "18.\tWrite a Python program to find the sum of all numbers stored in a list.\n"
   ]
  },
  {
   "cell_type": "code",
   "execution_count": 26,
   "id": "4547dff8",
   "metadata": {},
   "outputs": [
    {
     "data": {
      "text/plain": [
       "45"
      ]
     },
     "execution_count": 26,
     "metadata": {},
     "output_type": "execute_result"
    }
   ],
   "source": [
    "l = [1,2,3,4,5,6,7,8,9]\n",
    "\n",
    "def sumlist(x):\n",
    "    sum = 0 \n",
    "    \n",
    "    for i in x :\n",
    "        sum = sum +i \n",
    "        \n",
    "    return sum\n",
    "\n",
    "sumlist(l)"
   ]
  },
  {
   "cell_type": "markdown",
   "id": "6e4f3ba2",
   "metadata": {},
   "source": [
    "19.\tWhat is the purpose of the pass statement in Python?\n"
   ]
  },
  {
   "cell_type": "markdown",
   "id": "54e68ba2",
   "metadata": {},
   "source": [
    "In Python, the pass statement is a null operation. It is used when a statement is syntactically required but no action is needed or desired. Essentially, pass serves as a placeholder to maintain syntactic correctness, particularly in situations where no action needs to be taken.\n",
    "\n",
    "\n",
    "\n",
    "\n",
    "\n",
    "\n"
   ]
  },
  {
   "cell_type": "markdown",
   "id": "889a0391",
   "metadata": {},
   "source": [
    "20.\tExplain the difference between global and local variables in Python.\n"
   ]
  },
  {
   "cell_type": "markdown",
   "id": "b0e1376a",
   "metadata": {},
   "source": [
    "Global variables are defined outside of any function or block and can be accessed from anywhere within the program.\n",
    "Local variables are defined within a function or block and can only be accessed within that specific function or block. They have local scope and are not visible outside of their defined scope."
   ]
  },
  {
   "cell_type": "markdown",
   "id": "ed30fef1",
   "metadata": {},
   "source": [
    "1.\tHow do you access elements in a list in Python?\n"
   ]
  },
  {
   "cell_type": "markdown",
   "id": "b13c2455",
   "metadata": {},
   "source": [
    "In Python, you can access elements in a list by using indexing. Indexing starts at 0 for the first element and increases by 1 for each subsequent element. You can access elements using positive indices, which count from the beginning of the list, or negative indices, which count from the end "
   ]
  },
  {
   "cell_type": "markdown",
   "id": "096829d3",
   "metadata": {},
   "source": [
    "2.\tWrite a Python program to remove duplicates from a list.\n"
   ]
  },
  {
   "cell_type": "code",
   "execution_count": 27,
   "id": "f6d1b451",
   "metadata": {},
   "outputs": [
    {
     "data": {
      "text/plain": [
       "[1, 2, 3, 4, 5, 6]"
      ]
     },
     "execution_count": 27,
     "metadata": {},
     "output_type": "execute_result"
    }
   ],
   "source": [
    "l = [1,1,2,3,2,3,4,5,6]\n",
    "\n",
    "def remove(x):\n",
    "    \n",
    "    y = set(x)\n",
    "    \n",
    "    return list(y)\n",
    "\n",
    "remove(l)\n"
   ]
  },
  {
   "cell_type": "code",
   "execution_count": 28,
   "id": "d1f3129a",
   "metadata": {},
   "outputs": [
    {
     "data": {
      "text/plain": [
       "[1, 2, 3, 4, 5, 6]"
      ]
     },
     "execution_count": 28,
     "metadata": {},
     "output_type": "execute_result"
    }
   ],
   "source": [
    "def uni(x):\n",
    "    \n",
    "    unique_list = []\n",
    "    \n",
    "    for i in x :\n",
    "        if i not in unique_list :\n",
    "            unique_list.append(i)\n",
    "            \n",
    "    return unique_list\n",
    "\n",
    "uni(l)"
   ]
  },
  {
   "cell_type": "markdown",
   "id": "a5c409c1",
   "metadata": {},
   "source": [
    "3.\tExplain the difference between a list and a tuple in Python.\n"
   ]
  },
  {
   "cell_type": "markdown",
   "id": "fd70bbe6",
   "metadata": {},
   "source": [
    "A list is a mutable sequence data type, represented by square brackets [ ]. It allows for modification of its elements, such as adding, removing, or changing items after creation.\n",
    "\n",
    "\n",
    "A tuple is an immutable sequence data type, represented by parentheses ( ). Once created, its elements cannot be modified, added, or removed. Tuple elements are typically accessed for reading purposes."
   ]
  },
  {
   "cell_type": "markdown",
   "id": "a98bf7c8",
   "metadata": {},
   "source": [
    "4.\tWrite a Python program to reverse a tuple.\n"
   ]
  },
  {
   "cell_type": "code",
   "execution_count": 30,
   "id": "9f2e8286",
   "metadata": {},
   "outputs": [
    {
     "data": {
      "text/plain": [
       "(3, 2, 1)"
      ]
     },
     "execution_count": 30,
     "metadata": {},
     "output_type": "execute_result"
    }
   ],
   "source": [
    "t = (1,2,3)\n",
    "\n",
    "def revt(x):\n",
    "    \n",
    "    return t[::-1]\n",
    "\n",
    "revt(t)"
   ]
  },
  {
   "cell_type": "markdown",
   "id": "7d632076",
   "metadata": {},
   "source": [
    "5.\tWhat is the purpose of a dictionary in Python?\n"
   ]
  },
  {
   "cell_type": "markdown",
   "id": "802b03bc",
   "metadata": {},
   "source": [
    "The purpose of dictonary in python is to store key value type of data in which a key contains single or multiple values in it "
   ]
  },
  {
   "cell_type": "markdown",
   "id": "bce9437d",
   "metadata": {},
   "source": [
    "6.\tWrite a Python program to merge two dictionaries.\n"
   ]
  },
  {
   "cell_type": "code",
   "execution_count": 33,
   "id": "df190f94",
   "metadata": {},
   "outputs": [
    {
     "data": {
      "text/plain": [
       "{'a': [1, 2], 'b': [3, 4], 'c': 'kamal', 'd': 'dhaval'}"
      ]
     },
     "execution_count": 33,
     "metadata": {},
     "output_type": "execute_result"
    }
   ],
   "source": [
    "dict1 = {'a':[1,2] , 'b':[3,4]}\n",
    "dict2 = {'c':\"kamal\" , 'd':\"dhaval\"}\n",
    "\n",
    "dict3 = dict1.copy()  \n",
    "dict3.update(dict2)  \n",
    "\n",
    "dict3"
   ]
  },
  {
   "cell_type": "markdown",
   "id": "6a2a3180",
   "metadata": {},
   "source": [
    "7.\tHow do you access elements in a dictionary in Python?\n"
   ]
  },
  {
   "cell_type": "code",
   "execution_count": 37,
   "id": "f377c29d",
   "metadata": {},
   "outputs": [
    {
     "name": "stdout",
     "output_type": "stream",
     "text": [
      "John\n",
      "30\n",
      "dict_keys(['name', 'age', 'city'])\n",
      "dict_values(['John', 30, 'New York'])\n"
     ]
    }
   ],
   "source": [
    "my_dict = {'name': 'John', 'age': 30, 'city': 'New York'}\n",
    "\n",
    "print(my_dict['name'])\n",
    "\n",
    "print(my_dict['age'])\n",
    "\n",
    "print(my_dict.keys())\n",
    "\n",
    "print(my_dict.values())"
   ]
  },
  {
   "cell_type": "markdown",
   "id": "7f2230de",
   "metadata": {},
   "source": [
    "8.\tWrite a Python program to sort a dictionary by value.\n"
   ]
  },
  {
   "cell_type": "code",
   "execution_count": 39,
   "id": "689caea3",
   "metadata": {},
   "outputs": [
    {
     "name": "stdout",
     "output_type": "stream",
     "text": [
      "Original dictionary: {'b': 3, 'a': 2, 'c': 1}\n",
      "Dictionary sorted by value: {'c': 1, 'a': 2, 'b': 3}\n"
     ]
    }
   ],
   "source": [
    "def sort_dict_by_value(input_dict):\n",
    "    \n",
    "    sorted_items = sorted(input_dict.items(), key=lambda x: x[1])\n",
    "    \n",
    "    sorted_dict = dict(sorted_items)\n",
    "    return sorted_dict\n",
    "\n",
    "\n",
    "my_dict = {'b': 3, 'a': 2, 'c': 1}\n",
    "print(\"Original dictionary:\", my_dict)\n",
    "\n",
    "sorted_dict = sort_dict_by_value(my_dict)\n",
    "print(\"Dictionary sorted by value:\", sorted_dict)\n"
   ]
  },
  {
   "cell_type": "markdown",
   "id": "c185b0dd",
   "metadata": {},
   "source": [
    "9.\tExplain the concept of a set in Python.\n"
   ]
  },
  {
   "cell_type": "markdown",
   "id": "4c9c8a32",
   "metadata": {},
   "source": [
    "In Python, a set is an unordered collection of unique elements. Sets are mutable, meaning you can add or remove elements from them, but they do not support indexing or slicing like lists or tuples. Sets are defined using curly braces { } and can contain elements of different data types. Here's a brief summary of key characteristics of sets:\n",
    "\n",
    "Uniqueness: Sets cannot contain duplicate elements. If you attempt to add a duplicate element to a set, it will be ignored.\n",
    "Unordered: Elements in a set are not stored in any particular order, and there is no guarantee of the order in which elements will be retrieved.\n",
    "Mutable: You can modify the contents of a set after it has been created, such as adding or removing elements.\n",
    "Operations: Sets support various set operations like union, intersection, difference, and symmetric difference.\n",
    "Here's an example of defining and using a set in Python:\n",
    "\n",
    "python\n",
    "\n",
    "Sets are commonly used in Python for tasks that involve checking membership, removing duplicates from a collection, or performing set operations.\n",
    "\n",
    "\n",
    "\n",
    "\n",
    "\n",
    "\n"
   ]
  },
  {
   "cell_type": "code",
   "execution_count": 41,
   "id": "41f148c7",
   "metadata": {},
   "outputs": [
    {
     "name": "stdout",
     "output_type": "stream",
     "text": [
      "{1, 2, 3, 4, 5}\n",
      "{1, 2, 3, 4, 5, 6}\n",
      "{1, 2, 4, 5, 6}\n"
     ]
    }
   ],
   "source": [
    "\n",
    "my_set = {1, 2, 3, 4, 5} \n",
    "print(my_set)  \n",
    "\n",
    "\n",
    "my_set.add(6)\n",
    "print(my_set) \n",
    "\n",
    "my_set.remove(3)\n",
    "print(my_set) "
   ]
  },
  {
   "cell_type": "markdown",
   "id": "c3e11f9c",
   "metadata": {},
   "source": [
    "10.\tWrite a Python program to perform set operations (union, intersection, difference).\n"
   ]
  },
  {
   "cell_type": "code",
   "execution_count": 42,
   "id": "794d406a",
   "metadata": {},
   "outputs": [
    {
     "name": "stdout",
     "output_type": "stream",
     "text": [
      "{4, 5}\n",
      "{1, 2, 3, 4, 5, 6, 7, 8}\n",
      "{1, 2, 3}\n"
     ]
    }
   ],
   "source": [
    "s1 = {1, 2, 3, 4, 5}\n",
    "s2 = {4,5,6,7,8}\n",
    "\n",
    "print(s1.intersection(s2))\n",
    "\n",
    "print(s1.union(s2))\n",
    "\n",
    "print(s1.difference(s2))"
   ]
  },
  {
   "cell_type": "markdown",
   "id": "db5426e7",
   "metadata": {},
   "source": [
    "11.\tHow do you add elements to a set in Python?\n"
   ]
  },
  {
   "cell_type": "code",
   "execution_count": 43,
   "id": "d50f0b9c",
   "metadata": {},
   "outputs": [
    {
     "data": {
      "text/plain": [
       "{1, 2, 3, 4, 5, 10}"
      ]
     },
     "execution_count": 43,
     "metadata": {},
     "output_type": "execute_result"
    }
   ],
   "source": [
    "s1.add(10)\n",
    "\n",
    "s1"
   ]
  },
  {
   "cell_type": "markdown",
   "id": "4eb82999",
   "metadata": {},
   "source": [
    "12.\tWrite a Python program to remove an element from a set.\n"
   ]
  },
  {
   "cell_type": "code",
   "execution_count": 47,
   "id": "4e4c8a7c",
   "metadata": {},
   "outputs": [
    {
     "data": {
      "text/plain": [
       "{1, 2, 3, 4}"
      ]
     },
     "execution_count": 47,
     "metadata": {},
     "output_type": "execute_result"
    }
   ],
   "source": [
    "s1.remove(5)\n",
    "\n",
    "s1"
   ]
  },
  {
   "cell_type": "markdown",
   "id": "3acd9b14",
   "metadata": {},
   "source": [
    "13.\tExplain the difference between a set and a frozenset in Python.\n"
   ]
  },
  {
   "cell_type": "markdown",
   "id": "012987b6",
   "metadata": {},
   "source": [
    "Sets (set) in Python are mutable collections of unique elements, allowing for modification after creation. \n",
    "\n",
    "\n",
    "Frozensets (frozenset), on the other hand, are immutable sets, making them suitable for use as keys in dictionaries or as elements in other sets due to their hashability and inability to be modified.\n",
    "\n",
    "\n",
    "\n",
    "\n",
    "\n",
    "\n"
   ]
  },
  {
   "cell_type": "markdown",
   "id": "64649421",
   "metadata": {},
   "source": [
    "14.\tWrite a Python program to check if two sets are disjoint.\n"
   ]
  },
  {
   "cell_type": "code",
   "execution_count": 49,
   "id": "01ddedad",
   "metadata": {},
   "outputs": [
    {
     "name": "stdout",
     "output_type": "stream",
     "text": [
      "The sets are not disjoint.\n"
     ]
    }
   ],
   "source": [
    "set1 = {1, 2, 3 ,4}\n",
    "set2 = {4, 5, 6}\n",
    "\n",
    "disjoint = set1.isdisjoint(set2)\n",
    "\n",
    "if disjoint:\n",
    "    print(\"The sets are disjoint.\")\n",
    "else:\n",
    "    print(\"The sets are not disjoint.\")"
   ]
  },
  {
   "cell_type": "markdown",
   "id": "2f94af29",
   "metadata": {},
   "source": [
    "15.\tHow do you iterate over elements in a set in Python?\n"
   ]
  },
  {
   "cell_type": "code",
   "execution_count": 50,
   "id": "bc729bd5",
   "metadata": {},
   "outputs": [
    {
     "name": "stdout",
     "output_type": "stream",
     "text": [
      "1\n",
      "2\n",
      "3\n",
      "4\n"
     ]
    }
   ],
   "source": [
    "set1 = {1, 2, 3 ,4}\n",
    "\n",
    "for i in set1 :\n",
    "    print(i)"
   ]
  },
  {
   "cell_type": "markdown",
   "id": "0ffa086d",
   "metadata": {},
   "source": [
    "16.\tWrite a Python program to find the intersection of multiple sets.\n"
   ]
  },
  {
   "cell_type": "code",
   "execution_count": 53,
   "id": "20ea755d",
   "metadata": {},
   "outputs": [
    {
     "name": "stdout",
     "output_type": "stream",
     "text": [
      "{6}\n"
     ]
    }
   ],
   "source": [
    "set1 = {1, 2, 3, 4 , 6}\n",
    "set2 = {3, 4, 5, 6}\n",
    "set3 = {6 ,7, 8, 9, 10}\n",
    "\n",
    "inter = set1.intersection(set2)\n",
    "\n",
    "inter2 = inter.intersection(set3)\n",
    "\n",
    "print(inter2)"
   ]
  },
  {
   "cell_type": "code",
   "execution_count": 54,
   "id": "6b8496da",
   "metadata": {},
   "outputs": [
    {
     "name": "stdout",
     "output_type": "stream",
     "text": [
      "{6}\n"
     ]
    }
   ],
   "source": [
    "result = set1.intersection(set2,set3)\n",
    "\n",
    "print(result)"
   ]
  },
  {
   "cell_type": "markdown",
   "id": "cfdd1752",
   "metadata": {},
   "source": [
    "17.\tExplain the concept of set comprehension in Python.\n"
   ]
  },
  {
   "cell_type": "markdown",
   "id": "d56b81e1",
   "metadata": {},
   "source": [
    "Set comprehension is a concise way to create sets in Python using a single line of code. It allows you to generate sets based on an expression, along with an optional condition. The general syntax for set comprehension is similar to list comprehension, but with curly braces {} instead of square brackets []."
   ]
  },
  {
   "cell_type": "code",
   "execution_count": 58,
   "id": "fb8c19c1",
   "metadata": {},
   "outputs": [
    {
     "name": "stdout",
     "output_type": "stream",
     "text": [
      "Set of squares: {1, 4, 9, 16, 25}\n"
     ]
    }
   ],
   "source": [
    "squares = {x ** 2 for x in range(1, 6)}\n",
    "\n",
    "print(\"Set of squares:\", squares)"
   ]
  },
  {
   "cell_type": "markdown",
   "id": "f319b7b7",
   "metadata": {},
   "source": [
    "18.\tWrite a Python program to find the maximum and minimum element in a set.\n"
   ]
  },
  {
   "cell_type": "code",
   "execution_count": 57,
   "id": "8e59be75",
   "metadata": {},
   "outputs": [
    {
     "name": "stdout",
     "output_type": "stream",
     "text": [
      "Maximum element: 9\n",
      "Minimum element: 1\n"
     ]
    }
   ],
   "source": [
    "my_set = {3, 7, 1, 5, 9, 2}\n",
    "\n",
    "maximum_element = max(my_set)\n",
    "\n",
    "minimum_element = min(my_set)\n",
    "\n",
    "print(\"Maximum element:\", maximum_element)\n",
    "print(\"Minimum element:\", minimum_element)"
   ]
  },
  {
   "cell_type": "markdown",
   "id": "e112ab94",
   "metadata": {},
   "source": [
    "19.\tHow do you convert a list to a set in Python?\n",
    "\n"
   ]
  },
  {
   "cell_type": "code",
   "execution_count": 59,
   "id": "9d7766ad",
   "metadata": {},
   "outputs": [
    {
     "data": {
      "text/plain": [
       "{1, 2, 3, 4}"
      ]
     },
     "execution_count": 59,
     "metadata": {},
     "output_type": "execute_result"
    }
   ],
   "source": [
    "l = [1,2,3,3,4]\n",
    "\n",
    "s = set(l)\n",
    "\n",
    "s"
   ]
  },
  {
   "cell_type": "markdown",
   "id": "16f79a49",
   "metadata": {},
   "source": [
    "Write a Python program to check if a set is a subset of another set."
   ]
  },
  {
   "cell_type": "code",
   "execution_count": 60,
   "id": "6b86aa9b",
   "metadata": {},
   "outputs": [
    {
     "name": "stdout",
     "output_type": "stream",
     "text": [
      "set1 is a subset of set2 using the issubset() method.\n",
      "set1 is a subset of set2 using the <= operator.\n"
     ]
    }
   ],
   "source": [
    "set1 = {1, 2, 3}\n",
    "set2 = {1, 2, 3, 4, 5}\n",
    "\n",
    "is_subset_method = set1.issubset(set2)\n",
    "\n",
    "is_subset_operator = set1 <= set2\n",
    "\n",
    "if is_subset_method:\n",
    "    print(\"set1 is a subset of set2 using the issubset() method.\")\n",
    "else:\n",
    "    print(\"set1 is not a subset of set2 using the issubset() method.\")\n",
    "\n",
    "if is_subset_operator:\n",
    "    print(\"set1 is a subset of set2 using the <= operator.\")\n",
    "else:\n",
    "    print(\"set1 is not a subset of set2 using the <= operator.\")"
   ]
  },
  {
   "cell_type": "markdown",
   "id": "7e78426a",
   "metadata": {},
   "source": [
    "Create an empty dictionary named my_dict.\n"
   ]
  },
  {
   "cell_type": "code",
   "execution_count": 3,
   "id": "2cd35a15",
   "metadata": {},
   "outputs": [
    {
     "name": "stdout",
     "output_type": "stream",
     "text": [
      "<class 'dict'>\n"
     ]
    }
   ],
   "source": [
    "my_dict = {}\n",
    "\n",
    "print(type(my_dict))"
   ]
  },
  {
   "cell_type": "markdown",
   "id": "a0199073",
   "metadata": {},
   "source": [
    "Add a key-value pair 'name' with value 'John' to the dictionary.\n"
   ]
  },
  {
   "cell_type": "code",
   "execution_count": 4,
   "id": "5c711a33",
   "metadata": {},
   "outputs": [],
   "source": [
    "my_dict = {'name' : 'john'}"
   ]
  },
  {
   "cell_type": "code",
   "execution_count": 6,
   "id": "cf973370",
   "metadata": {},
   "outputs": [
    {
     "data": {
      "text/plain": [
       "{'name': 'john'}"
      ]
     },
     "execution_count": 6,
     "metadata": {},
     "output_type": "execute_result"
    }
   ],
   "source": [
    "my_dict['name'] = 'john'\n",
    "\n",
    "my_dict"
   ]
  },
  {
   "cell_type": "markdown",
   "id": "cd6ef214",
   "metadata": {},
   "source": [
    "Create a dictionary student with keys 'name', 'age', and 'grade', and their respective values.\n"
   ]
  },
  {
   "cell_type": "code",
   "execution_count": 8,
   "id": "c247483c",
   "metadata": {},
   "outputs": [
    {
     "data": {
      "text/plain": [
       "{'name': 'Rohan', 'age': 19}"
      ]
     },
     "execution_count": 8,
     "metadata": {},
     "output_type": "execute_result"
    }
   ],
   "source": [
    "student = {'name' : 'Rohan' , 'age' : 19}\n",
    "\n",
    "student"
   ]
  },
  {
   "cell_type": "code",
   "execution_count": 9,
   "id": "b5a1f5c2",
   "metadata": {},
   "outputs": [
    {
     "data": {
      "text/plain": [
       "{'name': 'Rohan', 'age': 19, 'grade': 'A'}"
      ]
     },
     "execution_count": 9,
     "metadata": {},
     "output_type": "execute_result"
    }
   ],
   "source": [
    "student['grade'] = 'A'\n",
    "\n",
    "student"
   ]
  },
  {
   "cell_type": "markdown",
   "id": "e298ef69",
   "metadata": {},
   "source": [
    "Access the value associated with the key 'age' in the student dictionary.\n"
   ]
  },
  {
   "cell_type": "code",
   "execution_count": 10,
   "id": "732f19a6",
   "metadata": {},
   "outputs": [
    {
     "name": "stdout",
     "output_type": "stream",
     "text": [
      "19\n"
     ]
    }
   ],
   "source": [
    "print(student['age'])"
   ]
  },
  {
   "cell_type": "markdown",
   "id": "7b996ee9",
   "metadata": {},
   "source": [
    "Update the value of the 'grade' key in the student dictionary to 'A'.\n"
   ]
  },
  {
   "cell_type": "code",
   "execution_count": 11,
   "id": "92fb139f",
   "metadata": {},
   "outputs": [
    {
     "data": {
      "text/plain": [
       "{'name': 'Rohan', 'age': 19, 'grade': 'B'}"
      ]
     },
     "execution_count": 11,
     "metadata": {},
     "output_type": "execute_result"
    }
   ],
   "source": [
    "student['grade'] = \"B\"\n",
    "\n",
    "student"
   ]
  },
  {
   "cell_type": "markdown",
   "id": "1ebff0e3",
   "metadata": {},
   "source": [
    "Remove the key-value pair 'age': 20 from the student dictionary.\n"
   ]
  },
  {
   "cell_type": "code",
   "execution_count": 13,
   "id": "207b78a3",
   "metadata": {},
   "outputs": [
    {
     "data": {
      "text/plain": [
       "{'name': 'Rohan', 'grade': 'B'}"
      ]
     },
     "execution_count": 13,
     "metadata": {},
     "output_type": "execute_result"
    }
   ],
   "source": [
    "del student['age']\n",
    "\n",
    "student"
   ]
  },
  {
   "cell_type": "markdown",
   "id": "786441b3",
   "metadata": {},
   "source": [
    "Check if the key 'city' exists in the student dictionary.\n"
   ]
  },
  {
   "cell_type": "code",
   "execution_count": 15,
   "id": "ae4b1793",
   "metadata": {},
   "outputs": [],
   "source": [
    "# student['city'] This will throw error\n",
    "\n",
    "student.get('city')"
   ]
  },
  {
   "cell_type": "markdown",
   "id": "7d43dbe7",
   "metadata": {},
   "source": [
    "Print all the keys present in the student dictionary.\n"
   ]
  },
  {
   "cell_type": "code",
   "execution_count": 17,
   "id": "4c6e7085",
   "metadata": {},
   "outputs": [
    {
     "name": "stdout",
     "output_type": "stream",
     "text": [
      "dict_keys(['name', 'grade'])\n"
     ]
    }
   ],
   "source": [
    "print(student.keys())"
   ]
  },
  {
   "cell_type": "markdown",
   "id": "1263047a",
   "metadata": {},
   "source": [
    "Print all the values present in the student dictionary.\n"
   ]
  },
  {
   "cell_type": "code",
   "execution_count": 18,
   "id": "feca8e31",
   "metadata": {},
   "outputs": [
    {
     "name": "stdout",
     "output_type": "stream",
     "text": [
      "dict_values(['Rohan', 'B'])\n"
     ]
    }
   ],
   "source": [
    "print(student.values())"
   ]
  },
  {
   "cell_type": "code",
   "execution_count": 24,
   "id": "96a06356",
   "metadata": {},
   "outputs": [
    {
     "name": "stdout",
     "output_type": "stream",
     "text": [
      "name Rohan\n",
      "grade B\n"
     ]
    }
   ],
   "source": [
    "for key , values in student.items() :\n",
    "    print(key,values)"
   ]
  },
  {
   "cell_type": "markdown",
   "id": "9a3270ca",
   "metadata": {},
   "source": [
    "Print all key-value pairs present in the student dictionary.\n"
   ]
  },
  {
   "cell_type": "code",
   "execution_count": 25,
   "id": "50385124",
   "metadata": {},
   "outputs": [
    {
     "name": "stdout",
     "output_type": "stream",
     "text": [
      "name Rohan\n",
      "grade B\n"
     ]
    }
   ],
   "source": [
    "for key , values in student.items() :\n",
    "    print(key,values)"
   ]
  },
  {
   "cell_type": "markdown",
   "id": "20f5dc3f",
   "metadata": {},
   "source": [
    "Create a new dictionary grades with keys 'math', 'science', and 'history', and assign arbitrary values to them.\n"
   ]
  },
  {
   "cell_type": "code",
   "execution_count": 27,
   "id": "1273d636",
   "metadata": {},
   "outputs": [
    {
     "name": "stdout",
     "output_type": "stream",
     "text": [
      "{'math': 'A', 'science': 'B', 'history': 'C'}\n"
     ]
    }
   ],
   "source": [
    "grades = { 'math' : 'A' , 'science' : 'B' , 'history': 'C'}\n",
    "\n",
    "print(grades)"
   ]
  },
  {
   "cell_type": "markdown",
   "id": "7cec06a1",
   "metadata": {},
   "source": [
    "Merge the student dictionary with the grades dictionary.\n"
   ]
  },
  {
   "cell_type": "code",
   "execution_count": 31,
   "id": "3ad1f2c1",
   "metadata": {},
   "outputs": [
    {
     "data": {
      "text/plain": [
       "{'name': 'Rohan', 'grade': 'B', 'math': 'A', 'science': 'B', 'history': 'C'}"
      ]
     },
     "execution_count": 31,
     "metadata": {},
     "output_type": "execute_result"
    }
   ],
   "source": [
    "student.update(grades)\n",
    "\n",
    "student"
   ]
  },
  {
   "cell_type": "code",
   "execution_count": 32,
   "id": "2a61191d",
   "metadata": {},
   "outputs": [
    {
     "data": {
      "text/plain": [
       "{'name': 'Rohan', 'grade': 'B', 'math': 'A', 'science': 'B', 'history': 'C'}"
      ]
     },
     "execution_count": 32,
     "metadata": {},
     "output_type": "execute_result"
    }
   ],
   "source": [
    "st = student.copy()\n",
    "\n",
    "st.update(grades)\n",
    "\n",
    "st"
   ]
  },
  {
   "cell_type": "markdown",
   "id": "8a8ca515",
   "metadata": {},
   "source": [
    "Create a copy of the student dictionary named student_copy.\n"
   ]
  },
  {
   "cell_type": "code",
   "execution_count": 34,
   "id": "1421c7b2",
   "metadata": {},
   "outputs": [
    {
     "data": {
      "text/plain": [
       "{'name': 'Rohan', 'grade': 'B', 'math': 'A', 'science': 'B', 'history': 'C'}"
      ]
     },
     "execution_count": 34,
     "metadata": {},
     "output_type": "execute_result"
    }
   ],
   "source": [
    "student_copy = student.copy()\n",
    "\n",
    "student_copy"
   ]
  },
  {
   "cell_type": "markdown",
   "id": "d5e528f0",
   "metadata": {},
   "source": [
    "Sort the keys of the student dictionary in alphabetical order.\n"
   ]
  },
  {
   "cell_type": "code",
   "execution_count": 38,
   "id": "e118de41",
   "metadata": {},
   "outputs": [
    {
     "data": {
      "text/plain": [
       "['grade', 'history', 'math', 'name', 'science']"
      ]
     },
     "execution_count": 38,
     "metadata": {},
     "output_type": "execute_result"
    }
   ],
   "source": [
    "sorted_kyes = sorted(student.keys())\n",
    "\n",
    "sorted_kyes"
   ]
  },
  {
   "cell_type": "markdown",
   "id": "07023cdb",
   "metadata": {},
   "source": [
    "Clear all the items from the grades dictionary."
   ]
  },
  {
   "cell_type": "code",
   "execution_count": 40,
   "id": "88be3ebb",
   "metadata": {},
   "outputs": [],
   "source": [
    "grades.clear()"
   ]
  },
  {
   "cell_type": "code",
   "execution_count": 41,
   "id": "9f6b204a",
   "metadata": {},
   "outputs": [
    {
     "data": {
      "text/plain": [
       "{}"
      ]
     },
     "execution_count": 41,
     "metadata": {},
     "output_type": "execute_result"
    }
   ],
   "source": [
    "grades"
   ]
  },
  {
   "cell_type": "markdown",
   "id": "5faa5eb1",
   "metadata": {},
   "source": [
    "# Lambda Functions:\n"
   ]
  },
  {
   "cell_type": "markdown",
   "id": "04e48369",
   "metadata": {},
   "source": [
    "Write a lambda function to double a given number.\n"
   ]
  },
  {
   "cell_type": "code",
   "execution_count": 65,
   "id": "6c6b2538",
   "metadata": {},
   "outputs": [
    {
     "data": {
      "text/plain": [
       "[2, 4, 6]"
      ]
     },
     "execution_count": 65,
     "metadata": {},
     "output_type": "execute_result"
    }
   ],
   "source": [
    "def double(x):\n",
    "    \n",
    "    return [i * 2 for i in x] \n",
    "\n",
    "l=[1,2,3]\n",
    "\n",
    "double(l)"
   ]
  },
  {
   "cell_type": "markdown",
   "id": "150e5fa7",
   "metadata": {},
   "source": [
    "Create a lambda function to check if a number is even.\n"
   ]
  },
  {
   "cell_type": "code",
   "execution_count": 74,
   "id": "5ded0f68",
   "metadata": {},
   "outputs": [
    {
     "data": {
      "text/plain": [
       "['Odd', 'Even', 'Odd']"
      ]
     },
     "execution_count": 74,
     "metadata": {},
     "output_type": "execute_result"
    }
   ],
   "source": [
    "[\"Even\" if x % 2 == 0 else \"Odd\" for x in l]"
   ]
  },
  {
   "cell_type": "markdown",
   "id": "2ad05437",
   "metadata": {},
   "source": [
    "Define a lambda function to calculate the square of a number.\n"
   ]
  },
  {
   "cell_type": "code",
   "execution_count": 75,
   "id": "9659cddf",
   "metadata": {},
   "outputs": [
    {
     "data": {
      "text/plain": [
       "[1, 4, 9]"
      ]
     },
     "execution_count": 75,
     "metadata": {},
     "output_type": "execute_result"
    }
   ],
   "source": [
    "def fun (l):\n",
    "    \n",
    "    return [x**2 for x in l]\n",
    "    \n",
    "fun(l)"
   ]
  },
  {
   "cell_type": "markdown",
   "id": "956ada27",
   "metadata": {},
   "source": [
    "Implement a lambda function to concatenate two strings.\n"
   ]
  },
  {
   "cell_type": "code",
   "execution_count": 81,
   "id": "f790c8e0",
   "metadata": {},
   "outputs": [
    {
     "data": {
      "text/plain": [
       "'Avin Shaikh'"
      ]
     },
     "execution_count": 81,
     "metadata": {},
     "output_type": "execute_result"
    }
   ],
   "source": [
    "def strcon(s1,s2):\n",
    "    \n",
    "    if type(s1) != str or type(s2) != str :\n",
    "        \n",
    "        s1 = str(s1)\n",
    "        s2 = str(s2)\n",
    "        \n",
    "    return  s1+s2\n",
    "\n",
    "strcon('Avin ' , 'Shaikh')"
   ]
  },
  {
   "cell_type": "code",
   "execution_count": 82,
   "id": "d930f73c",
   "metadata": {},
   "outputs": [
    {
     "name": "stdout",
     "output_type": "stream",
     "text": [
      "Concatenated string: Hello, world!\n"
     ]
    }
   ],
   "source": [
    "concatenate_strings = lambda str1, str2: str1 + str2\n",
    "\n",
    "# Test the lambda function\n",
    "string1 = \"Hello, \"\n",
    "string2 = \"world!\"\n",
    "result = concatenate_strings(string1, string2)\n",
    "print(\"Concatenated string:\", result)\n"
   ]
  },
  {
   "cell_type": "markdown",
   "id": "f2664651",
   "metadata": {},
   "source": [
    "Write a lambda function to find the sum of two numbers."
   ]
  },
  {
   "cell_type": "code",
   "execution_count": 83,
   "id": "d5546a34",
   "metadata": {},
   "outputs": [
    {
     "data": {
      "text/plain": [
       "3"
      ]
     },
     "execution_count": 83,
     "metadata": {},
     "output_type": "execute_result"
    }
   ],
   "source": [
    "add = lambda x,y : x+y\n",
    "\n",
    "a = 1\n",
    "b = 2\n",
    "\n",
    "add(a,b)"
   ]
  },
  {
   "cell_type": "markdown",
   "id": "cc1bcb9d",
   "metadata": {},
   "source": [
    "# Map Function:\n"
   ]
  },
  {
   "cell_type": "markdown",
   "id": "53bb834e",
   "metadata": {},
   "source": [
    "Use the map function to double each element in a list of numbers.\n"
   ]
  },
  {
   "cell_type": "code",
   "execution_count": 87,
   "id": "a1bc069e",
   "metadata": {},
   "outputs": [
    {
     "name": "stdout",
     "output_type": "stream",
     "text": [
      "[2, 4, 6, 8]\n"
     ]
    }
   ],
   "source": [
    "l = [1,2,3,4]\n",
    "\n",
    "double = list(map(lambda x : x*2 , l))\n",
    "\n",
    "print(double)"
   ]
  },
  {
   "cell_type": "markdown",
   "id": "5dfdfe1f",
   "metadata": {},
   "source": [
    "Convert a list of strings to uppercase using the map function.\n"
   ]
  },
  {
   "cell_type": "code",
   "execution_count": 94,
   "id": "43980d52",
   "metadata": {},
   "outputs": [
    {
     "name": "stdout",
     "output_type": "stream",
     "text": [
      "['A', 'V', 'I', 'N']\n"
     ]
    }
   ],
   "source": [
    "s = \"avin\"\n",
    "\n",
    "upper = list(map(lambda x : x.upper() , s))\n",
    "\n",
    "print(upper)\n"
   ]
  },
  {
   "cell_type": "markdown",
   "id": "f7eed64a",
   "metadata": {},
   "source": [
    "Map a list of temperatures from Celsius to Fahrenheit.\n"
   ]
  },
  {
   "cell_type": "code",
   "execution_count": 95,
   "id": "7a2350e5",
   "metadata": {},
   "outputs": [
    {
     "data": {
      "text/plain": [
       "[35.6, 37.4, 39.2, 41.0]"
      ]
     },
     "execution_count": 95,
     "metadata": {},
     "output_type": "execute_result"
    }
   ],
   "source": [
    "t = [2,3,4,5]\n",
    "\n",
    "far = list(map(lambda x : 9/5 * x + 32 , t))\n",
    "\n",
    "far"
   ]
  },
  {
   "cell_type": "markdown",
   "id": "28d63b38",
   "metadata": {},
   "source": [
    "Apply the map function to square each element in a list.\n"
   ]
  },
  {
   "cell_type": "code",
   "execution_count": 96,
   "id": "dd34be6a",
   "metadata": {},
   "outputs": [
    {
     "data": {
      "text/plain": [
       "[4, 9, 16, 25]"
      ]
     },
     "execution_count": 96,
     "metadata": {},
     "output_type": "execute_result"
    }
   ],
   "source": [
    "l = [2,3,4,5]\n",
    "\n",
    "sq = list(map(lambda x : x**2,l))\n",
    "\n",
    "sq"
   ]
  },
  {
   "cell_type": "markdown",
   "id": "2c9e3fd2",
   "metadata": {},
   "source": [
    "Use map to convert a list of integers to their corresponding binary representations."
   ]
  },
  {
   "cell_type": "code",
   "execution_count": 97,
   "id": "0779a99b",
   "metadata": {},
   "outputs": [
    {
     "name": "stdout",
     "output_type": "stream",
     "text": [
      "['0b1010', '0b10100', '0b11110', '0b101000', '0b110010']\n"
     ]
    }
   ],
   "source": [
    "integers = [10, 20, 30, 40, 50]\n",
    "\n",
    "binary_representations = list(map(lambda x: bin(x), integers))\n",
    "\n",
    "print(binary_representations)"
   ]
  },
  {
   "cell_type": "markdown",
   "id": "042ab231",
   "metadata": {},
   "source": [
    "# Reduce Function:\n"
   ]
  },
  {
   "cell_type": "markdown",
   "id": "43e34d68",
   "metadata": {},
   "source": [
    "Use the reduce function to find the product of elements in a list.\n"
   ]
  },
  {
   "cell_type": "code",
   "execution_count": 101,
   "id": "c7d58536",
   "metadata": {},
   "outputs": [
    {
     "data": {
      "text/plain": [
       "120"
      ]
     },
     "execution_count": 101,
     "metadata": {},
     "output_type": "execute_result"
    }
   ],
   "source": [
    "from functools import reduce\n",
    "\n",
    "pr = reduce(lambda x,y : x*y ,l)\n",
    "\n",
    "pr"
   ]
  },
  {
   "cell_type": "markdown",
   "id": "d6346aa1",
   "metadata": {},
   "source": [
    "Find the maximum element in a list using the reduce function.\n"
   ]
  },
  {
   "cell_type": "code",
   "execution_count": 103,
   "id": "880590e9",
   "metadata": {},
   "outputs": [
    {
     "data": {
      "text/plain": [
       "5"
      ]
     },
     "execution_count": 103,
     "metadata": {},
     "output_type": "execute_result"
    }
   ],
   "source": [
    "reduce(lambda x , y : x if x>y else y , l)"
   ]
  },
  {
   "cell_type": "markdown",
   "id": "b795c8b3",
   "metadata": {},
   "source": [
    "Calculate the cumulative sum of elements in a list using reduce.\n"
   ]
  },
  {
   "cell_type": "code",
   "execution_count": 104,
   "id": "78832737",
   "metadata": {},
   "outputs": [
    {
     "data": {
      "text/plain": [
       "14"
      ]
     },
     "execution_count": 104,
     "metadata": {},
     "output_type": "execute_result"
    }
   ],
   "source": [
    "l = [2,3,4,5]\n",
    "\n",
    "cumsum = reduce(lambda x , y : x + y ,l)\n",
    "\n",
    "cumsum"
   ]
  },
  {
   "cell_type": "markdown",
   "id": "a485ecb2",
   "metadata": {},
   "source": [
    "Use reduce to concatenate a list of strings.\n"
   ]
  },
  {
   "cell_type": "code",
   "execution_count": 106,
   "id": "14f12d89",
   "metadata": {},
   "outputs": [
    {
     "data": {
      "text/plain": [
       "'samjohn'"
      ]
     },
     "execution_count": 106,
     "metadata": {},
     "output_type": "execute_result"
    }
   ],
   "source": [
    "s = [ \"sam\" , \"john\"]\n",
    "\n",
    "strsum = reduce(lambda x , y : x + y ,s)\n",
    "\n",
    "strsum"
   ]
  },
  {
   "cell_type": "markdown",
   "id": "455f29e8",
   "metadata": {},
   "source": [
    "Implement a custom function to find the factorial of a number using reduce."
   ]
  },
  {
   "cell_type": "code",
   "execution_count": 107,
   "id": "90e69136",
   "metadata": {},
   "outputs": [],
   "source": [
    "def fact(n):\n",
    "    \n",
    "    if n == 0 or n == 1 :\n",
    "        return 1\n",
    "    \n",
    "    else :\n",
    "        return n * (n-1)"
   ]
  },
  {
   "cell_type": "code",
   "execution_count": 108,
   "id": "f1413e77",
   "metadata": {},
   "outputs": [
    {
     "name": "stdout",
     "output_type": "stream",
     "text": [
      "Factorial of 5 is: 120\n"
     ]
    }
   ],
   "source": [
    "from functools import reduce\n",
    "\n",
    "def factorial(n):\n",
    "    if n < 0:\n",
    "        return \"Factorial is not defined for negative numbers\"\n",
    "    elif n == 0 or n == 1:\n",
    "        return 1\n",
    "    else:\n",
    "        return reduce(lambda x, y: x * y, range(1, n+1))\n",
    "\n",
    "number = 5\n",
    "result = factorial(number)\n",
    "print(\"Factorial of\", number, \"is:\", result)\n"
   ]
  },
  {
   "cell_type": "markdown",
   "id": "de261ce9",
   "metadata": {},
   "source": [
    "# Filter Function:\n"
   ]
  },
  {
   "cell_type": "markdown",
   "id": "3abe4145",
   "metadata": {},
   "source": [
    "Filter out even numbers from a list using the filter function.\n",
    "\n",
    "\n",
    "\n",
    "\n"
   ]
  },
  {
   "cell_type": "code",
   "execution_count": 110,
   "id": "9195a2d6",
   "metadata": {},
   "outputs": [
    {
     "name": "stdout",
     "output_type": "stream",
     "text": [
      "[2, 4, 6, 8, 10]\n"
     ]
    }
   ],
   "source": [
    "l = [1, 2, 3, 4, 5, 6, 7, 8, 9, 10]\n",
    "\n",
    "def even (x):\n",
    "    return x%2 == 0\n",
    "\n",
    "result = list(filter(even,l))\n",
    "\n",
    "print(result)"
   ]
  },
  {
   "cell_type": "markdown",
   "id": "23cac392",
   "metadata": {},
   "source": [
    "Use filter to remove duplicate elements from a list.\n",
    "\n"
   ]
  },
  {
   "cell_type": "code",
   "execution_count": 113,
   "id": "4de1ffdc",
   "metadata": {},
   "outputs": [],
   "source": [
    "# l = [1, 2,2, 3,3, 4, 5, 6, 7, 8, 9, 10]\n",
    "\n",
    "# def dup(x):\n",
    "#     l2 = []\n",
    "#     for i in x :\n",
    "#         if i not in l2 :\n",
    "#             l2.append(i)\n",
    "#     return l2\n",
    "\n",
    "# remove_duplicates = list(filter(dup,l))\n",
    "\n",
    "# remove_duplicates"
   ]
  },
  {
   "cell_type": "code",
   "execution_count": 114,
   "id": "98b5c261",
   "metadata": {},
   "outputs": [
    {
     "name": "stdout",
     "output_type": "stream",
     "text": [
      "List with duplicates removed: [1, 2, 3, 4, 5, 6, 7, 8, 9, 10]\n"
     ]
    }
   ],
   "source": [
    "l = [1, 2, 2, 3, 3, 4, 5, 6, 7, 8, 9, 10]\n",
    "\n",
    "def remove_duplicates(lst):\n",
    "    seen = set()\n",
    "    for item in lst:\n",
    "        if item not in seen:\n",
    "            seen.add(item)\n",
    "            yield item\n",
    "\n",
    "unique_elements = list(filter(lambda x: True if x else False, remove_duplicates(l)))\n",
    "\n",
    "print(\"List with duplicates removed:\", unique_elements)\n"
   ]
  },
  {
   "cell_type": "markdown",
   "id": "bad71291",
   "metadata": {},
   "source": [
    "Filter a list of strings to include only those starting with a vowel.\n"
   ]
  },
  {
   "cell_type": "code",
   "execution_count": 115,
   "id": "487817f5",
   "metadata": {},
   "outputs": [
    {
     "name": "stdout",
     "output_type": "stream",
     "text": [
      "Strings starting with a vowel: ['apple', 'orange']\n"
     ]
    }
   ],
   "source": [
    "strings = [\"apple\", \"banana\", \"orange\", \"pear\", \"kiwi\", \"grape\"]\n",
    "\n",
    "def starts_with_vowel(s):\n",
    "    vowels = {'a', 'e', 'i', 'o', 'u'}  \n",
    "    return s[0].lower() in vowels  \n",
    "\n",
    "filtered_strings = list(filter(starts_with_vowel, strings))\n",
    "\n",
    "print(\"Strings starting with a vowel:\", filtered_strings)\n"
   ]
  },
  {
   "cell_type": "markdown",
   "id": "a4251d2c",
   "metadata": {},
   "source": [
    "Remove negative numbers from a list using the filter function.\n"
   ]
  },
  {
   "cell_type": "code",
   "execution_count": 116,
   "id": "0a635c01",
   "metadata": {},
   "outputs": [
    {
     "name": "stdout",
     "output_type": "stream",
     "text": [
      "Numbers with negative numbers removed: [10, 20, 0, 15]\n"
     ]
    }
   ],
   "source": [
    "numbers = [10, -5, 20, -3, 0, -8, 15]\n",
    "\n",
    "def remove_negatives(num):\n",
    "    return num >= 0\n",
    "\n",
    "non_negative_numbers = list(filter(remove_negatives, numbers))\n",
    "\n",
    "print(\"Numbers with negative numbers removed:\", non_negative_numbers)"
   ]
  },
  {
   "cell_type": "markdown",
   "id": "155c5d96",
   "metadata": {},
   "source": [
    "Filter out strings longer than a certain length from a list of strings.\n"
   ]
  },
  {
   "cell_type": "code",
   "execution_count": 117,
   "id": "8cd38824",
   "metadata": {},
   "outputs": [
    {
     "name": "stdout",
     "output_type": "stream",
     "text": [
      "Numbers with negative numbers removed: [10, 20, 0, 15]\n"
     ]
    }
   ],
   "source": [
    "numbers = [10, -5, 20, -3, 0, -8, 15]\n",
    "\n",
    "def remove_negatives(num):\n",
    "    return num >= 0\n",
    "\n",
    "non_negative_numbers = list(filter(remove_negatives, numbers))\n",
    "print(\"Numbers with negative numbers removed:\", non_negative_numbers)\n"
   ]
  },
  {
   "cell_type": "markdown",
   "id": "d255099b",
   "metadata": {},
   "source": [
    "# List Comprehension"
   ]
  },
  {
   "cell_type": "markdown",
   "id": "19841eba",
   "metadata": {},
   "source": [
    "Create a list containing the squares of numbers from 1 to 10 using list comprehension.\n"
   ]
  },
  {
   "cell_type": "code",
   "execution_count": 118,
   "id": "d439c8d1",
   "metadata": {},
   "outputs": [
    {
     "data": {
      "text/plain": [
       "[1, 4, 9, 16, 25, 36, 49, 64, 81]"
      ]
     },
     "execution_count": 118,
     "metadata": {},
     "output_type": "execute_result"
    }
   ],
   "source": [
    "l = [1,2,3,4,5,6,7,8,9]\n",
    "\n",
    "sqr = [x**2 for x in l]\n",
    "\n",
    "sqr"
   ]
  },
  {
   "cell_type": "markdown",
   "id": "5dfe4554",
   "metadata": {},
   "source": [
    "Generate a list of even numbers from 1 to 20 using list comprehension.\n"
   ]
  },
  {
   "cell_type": "code",
   "execution_count": 121,
   "id": "cd103edf",
   "metadata": {},
   "outputs": [
    {
     "data": {
      "text/plain": [
       "[2, 4, 6, 8, 10, 12, 14, 16, 18, 20, 22, 24, 26, 28, 30, 32, 34, 36, 38, 40]"
      ]
     },
     "execution_count": 121,
     "metadata": {},
     "output_type": "execute_result"
    }
   ],
   "source": [
    "lst = [i for i in range (1,41) if i %2 ==0]\n",
    "\n",
    "lst"
   ]
  },
  {
   "cell_type": "markdown",
   "id": "10d5fd88",
   "metadata": {},
   "source": [
    "Convert a list of strings to uppercase using list comprehension.\n"
   ]
  },
  {
   "cell_type": "code",
   "execution_count": 123,
   "id": "e4a941af",
   "metadata": {},
   "outputs": [
    {
     "data": {
      "text/plain": [
       "['APPLE', 'BANANA', 'ORANGE', 'PEAR', 'KIWI', 'GRAPE']"
      ]
     },
     "execution_count": 123,
     "metadata": {},
     "output_type": "execute_result"
    }
   ],
   "source": [
    "strings = [\"apple\", \"banana\", \"orange\", \"pear\", \"kiwi\", \"grape\"]\n",
    "\n",
    "upper = [i.upper() for i in strings]\n",
    "\n",
    "upper"
   ]
  },
  {
   "cell_type": "markdown",
   "id": "beb8ec6c",
   "metadata": {},
   "source": [
    "Create a list of tuples where each tuple contains the number and its square, for numbers from 1 to 5.\n"
   ]
  },
  {
   "cell_type": "code",
   "execution_count": 125,
   "id": "5a213221",
   "metadata": {},
   "outputs": [
    {
     "data": {
      "text/plain": [
       "[(1, 1), (2, 4), (3, 9), (4, 16), (5, 25), (6, 36), (7, 49), (8, 64), (9, 81)]"
      ]
     },
     "execution_count": 125,
     "metadata": {},
     "output_type": "execute_result"
    }
   ],
   "source": [
    "l = [1,2,3,4,5,6,7,8,9]\n",
    "\n",
    "t = [(i,i**2) for i in l]\n",
    "\n",
    "t"
   ]
  },
  {
   "cell_type": "markdown",
   "id": "9cb8abbc",
   "metadata": {},
   "source": [
    "Extract the first letter of each word in a given sentence and store them in a list using list comprehension.\n"
   ]
  },
  {
   "cell_type": "code",
   "execution_count": 129,
   "id": "99bffe84",
   "metadata": {},
   "outputs": [
    {
     "data": {
      "text/plain": [
       "['M', 'n', 'i', 'A', 'S']"
      ]
     },
     "execution_count": 129,
     "metadata": {},
     "output_type": "execute_result"
    }
   ],
   "source": [
    "string = \"My name is Avin Shaikh\"\n",
    "\n",
    "first = [x[0] for x in string.split()]\n",
    "\n",
    "first"
   ]
  },
  {
   "cell_type": "markdown",
   "id": "2186d772",
   "metadata": {},
   "source": [
    "Generate a list of prime numbers from 1 to 50 using list comprehension.\n"
   ]
  },
  {
   "cell_type": "code",
   "execution_count": 130,
   "id": "3977d7ae",
   "metadata": {},
   "outputs": [
    {
     "name": "stdout",
     "output_type": "stream",
     "text": [
      "Prime numbers from 1 to 50: [2, 3, 5, 7, 11, 13, 17, 19, 23, 29, 31, 37, 41, 43, 47]\n"
     ]
    }
   ],
   "source": [
    "def is_prime(num):\n",
    "    if num < 2:\n",
    "        return False\n",
    "    for i in range(2, int(num**0.5) + 1):\n",
    "        if num % i == 0:\n",
    "            return False\n",
    "    return True\n",
    "\n",
    "prime_numbers = [num for num in range(2, 51) if is_prime(num)]\n",
    "\n",
    "print(\"Prime numbers from 1 to 50:\", prime_numbers)\n"
   ]
  },
  {
   "cell_type": "markdown",
   "id": "acda7fb2",
   "metadata": {},
   "source": [
    "Convert a list of Celsius temperatures to Fahrenheit using the formula (Celsius * 9/5) + 32.\n"
   ]
  },
  {
   "cell_type": "code",
   "execution_count": 132,
   "id": "1abd3d5a",
   "metadata": {},
   "outputs": [
    {
     "data": {
      "text/plain": [
       "[33.8, 39.2, 48.2, 60.8, 77.0, 96.8, 120.2, 147.2, 177.8]"
      ]
     },
     "execution_count": 132,
     "metadata": {},
     "output_type": "execute_result"
    }
   ],
   "source": [
    "c = [1, 4, 9, 16, 25, 36, 49, 64, 81]\n",
    "\n",
    "f = [9/5*i +32 for i in c]\n",
    "\n",
    "f"
   ]
  },
  {
   "cell_type": "markdown",
   "id": "c22f2e89",
   "metadata": {},
   "source": [
    "Create a list of all possible pairs (a, b) where 'a' is a letter from 'x', 'y', 'z' and 'b' is a number from 1 to 3.\n"
   ]
  },
  {
   "cell_type": "code",
   "execution_count": 133,
   "id": "48cf838d",
   "metadata": {},
   "outputs": [
    {
     "name": "stdout",
     "output_type": "stream",
     "text": [
      "All possible pairs (a, b): [('x', 1), ('x', 2), ('x', 3), ('y', 1), ('y', 2), ('y', 3), ('z', 1), ('z', 2), ('z', 3)]\n"
     ]
    }
   ],
   "source": [
    "letters = ['x', 'y', 'z']\n",
    "\n",
    "numbers = [1, 2, 3]\n",
    "\n",
    "pairs = [(letter, number) for letter in letters for number in numbers]\n",
    "\n",
    "print(\"All possible pairs (a, b):\", pairs)"
   ]
  },
  {
   "cell_type": "markdown",
   "id": "bef4edb8",
   "metadata": {},
   "source": [
    "Extract all the vowels from a given string and store them in a list using list comprehension.\n"
   ]
  },
  {
   "cell_type": "code",
   "execution_count": 134,
   "id": "7a7b9f45",
   "metadata": {},
   "outputs": [
    {
     "name": "stdout",
     "output_type": "stream",
     "text": [
      "Extracted vowels: ['e', 'o', 'o']\n"
     ]
    }
   ],
   "source": [
    "given_string = \"Hello, World!\"\n",
    "\n",
    "vowels = {'a', 'e', 'i', 'o', 'u', 'A', 'E', 'I', 'O', 'U'}\n",
    "\n",
    "extracted_vowels = [char for char in given_string if char in vowels]\n",
    "\n",
    "print(\"Extracted vowels:\", extracted_vowels)"
   ]
  },
  {
   "cell_type": "markdown",
   "id": "9b630aa2",
   "metadata": {},
   "source": [
    "Generate a list of lists representing a multiplication table up to 10x10 using nested list comprehension."
   ]
  },
  {
   "cell_type": "code",
   "execution_count": 135,
   "id": "4ca175ba",
   "metadata": {},
   "outputs": [
    {
     "name": "stdout",
     "output_type": "stream",
     "text": [
      "[1, 2, 3, 4, 5, 6, 7, 8, 9, 10]\n",
      "[2, 4, 6, 8, 10, 12, 14, 16, 18, 20]\n",
      "[3, 6, 9, 12, 15, 18, 21, 24, 27, 30]\n",
      "[4, 8, 12, 16, 20, 24, 28, 32, 36, 40]\n",
      "[5, 10, 15, 20, 25, 30, 35, 40, 45, 50]\n",
      "[6, 12, 18, 24, 30, 36, 42, 48, 54, 60]\n",
      "[7, 14, 21, 28, 35, 42, 49, 56, 63, 70]\n",
      "[8, 16, 24, 32, 40, 48, 56, 64, 72, 80]\n",
      "[9, 18, 27, 36, 45, 54, 63, 72, 81, 90]\n",
      "[10, 20, 30, 40, 50, 60, 70, 80, 90, 100]\n"
     ]
    }
   ],
   "source": [
    "multiplication_table = [[row * col for col in range(1, 11)] for row in range(1, 11)]\n",
    "\n",
    "for row in multiplication_table:\n",
    "    print(row)\n"
   ]
  },
  {
   "cell_type": "code",
   "execution_count": 138,
   "id": "3bbbdc91",
   "metadata": {},
   "outputs": [
    {
     "data": {
      "text/plain": [
       "[1, 2, 3, 4, 5, 6, 7, 8, 9]"
      ]
     },
     "execution_count": 138,
     "metadata": {},
     "output_type": "execute_result"
    }
   ],
   "source": [
    "list = [[1,2,3],[4,5,6],[7,8,9]]\n",
    "\n",
    "flattened_list = [item for sublist in list for item in sublist]\n",
    "\n",
    "flattened_list"
   ]
  },
  {
   "cell_type": "code",
   "execution_count": null,
   "id": "0f1ac052",
   "metadata": {},
   "outputs": [],
   "source": []
  }
 ],
 "metadata": {
  "kernelspec": {
   "display_name": "Python 3 (ipykernel)",
   "language": "python",
   "name": "python3"
  },
  "language_info": {
   "codemirror_mode": {
    "name": "ipython",
    "version": 3
   },
   "file_extension": ".py",
   "mimetype": "text/x-python",
   "name": "python",
   "nbconvert_exporter": "python",
   "pygments_lexer": "ipython3",
   "version": "3.9.13"
  }
 },
 "nbformat": 4,
 "nbformat_minor": 5
}
