{
 "cells": [
  {
   "cell_type": "markdown",
   "id": "bf532ce4",
   "metadata": {},
   "source": [
    "# Class "
   ]
  },
  {
   "cell_type": "code",
   "execution_count": 1,
   "id": "d27179dc",
   "metadata": {},
   "outputs": [],
   "source": [
    "class pwskills :\n",
    "    \n",
    "    def welcome_mssg(self):\n",
    "        print(\"Welcome to PWskills \")"
   ]
  },
  {
   "cell_type": "code",
   "execution_count": 2,
   "id": "92116e57",
   "metadata": {},
   "outputs": [],
   "source": [
    "rohan = pwskills()"
   ]
  },
  {
   "cell_type": "code",
   "execution_count": 3,
   "id": "03a2b4ee",
   "metadata": {},
   "outputs": [
    {
     "name": "stdout",
     "output_type": "stream",
     "text": [
      "Welcome to PWskills \n"
     ]
    }
   ],
   "source": [
    "rohan.welcome_mssg()"
   ]
  },
  {
   "cell_type": "code",
   "execution_count": 12,
   "id": "55e04aea",
   "metadata": {},
   "outputs": [],
   "source": [
    "class student :\n",
    "    \n",
    "    def __init__(self, student_id , contact_number , email_id):\n",
    "        \n",
    "        self.student_id = student_id\n",
    "        self.contact_number = contact_number\n",
    "        self.email_id = email_id \n",
    "        \n",
    "    def student_details(self) :\n",
    "        \n",
    "        return self.student_id , self.contact_number , self.email_id\n",
    "        "
   ]
  },
  {
   "cell_type": "code",
   "execution_count": 13,
   "id": "473e758a",
   "metadata": {},
   "outputs": [],
   "source": [
    "rohan = student( 101 ,9834852797 , \"mkp325@gmail.com\")"
   ]
  },
  {
   "cell_type": "code",
   "execution_count": 14,
   "id": "56040e06",
   "metadata": {},
   "outputs": [
    {
     "data": {
      "text/plain": [
       "(101, 9834852797, 'mkp325@gmail.com')"
      ]
     },
     "execution_count": 14,
     "metadata": {},
     "output_type": "execute_result"
    }
   ],
   "source": [
    "rohan.student_details()"
   ]
  },
  {
   "cell_type": "code",
   "execution_count": 18,
   "id": "553a74e5",
   "metadata": {},
   "outputs": [
    {
     "data": {
      "text/plain": [
       "9834852797"
      ]
     },
     "execution_count": 18,
     "metadata": {},
     "output_type": "execute_result"
    }
   ],
   "source": [
    "rohan.contact_number"
   ]
  },
  {
   "cell_type": "code",
   "execution_count": 19,
   "id": "4600c3ab",
   "metadata": {},
   "outputs": [
    {
     "data": {
      "text/plain": [
       "'mkp325@gmail.com'"
      ]
     },
     "execution_count": 19,
     "metadata": {},
     "output_type": "execute_result"
    }
   ],
   "source": [
    "rohan.email_id"
   ]
  },
  {
   "cell_type": "code",
   "execution_count": 16,
   "id": "dd2bf0b5",
   "metadata": {},
   "outputs": [],
   "source": [
    "gaurav = student(102,65868565826,\"gauravshinde@gmail.com\")"
   ]
  },
  {
   "cell_type": "code",
   "execution_count": 17,
   "id": "74f815d6",
   "metadata": {},
   "outputs": [
    {
     "data": {
      "text/plain": [
       "(102, 65868565826, 'gauravshinde@gmail.com')"
      ]
     },
     "execution_count": 17,
     "metadata": {},
     "output_type": "execute_result"
    }
   ],
   "source": [
    "gaurav.student_details()"
   ]
  },
  {
   "cell_type": "code",
   "execution_count": 20,
   "id": "0d5cedfc",
   "metadata": {},
   "outputs": [
    {
     "data": {
      "text/plain": [
       "102"
      ]
     },
     "execution_count": 20,
     "metadata": {},
     "output_type": "execute_result"
    }
   ],
   "source": [
    "gaurav.student_id"
   ]
  },
  {
   "cell_type": "code",
   "execution_count": 21,
   "id": "d9c50889",
   "metadata": {},
   "outputs": [
    {
     "data": {
      "text/plain": [
       "'gauravshinde@gmail.com'"
      ]
     },
     "execution_count": 21,
     "metadata": {},
     "output_type": "execute_result"
    }
   ],
   "source": [
    "gaurav.email_id"
   ]
  },
  {
   "cell_type": "code",
   "execution_count": null,
   "id": "275ce1fd",
   "metadata": {},
   "outputs": [],
   "source": []
  },
  {
   "cell_type": "code",
   "execution_count": 22,
   "id": "a79b60dd",
   "metadata": {},
   "outputs": [],
   "source": [
    "class student :\n",
    "    \n",
    "    def __init__(self, student_id , contact_number , email_id):\n",
    "        \n",
    "        self.student_id1 = student_id        \n",
    "        self.contact_number1 = contact_number \n",
    "        self.email_id1 = email_id \n",
    "        \n",
    "    def student_details(self) :\n",
    "        \n",
    "        return self.student_id1 , self.contact_number1 , self.email_id1\n",
    "        "
   ]
  },
  {
   "cell_type": "markdown",
   "id": "cbb4243e",
   "metadata": {},
   "source": [
    "self.student_id1 = student_id        \n",
    "self.contact_number1 = contact_number \n",
    "self.email_id1 = email_id \n",
    "\n",
    "In case of this variables the right side ones are only used to store the data which is assigned to that and if you want to access the data with the help of the object made you should use the name of the variable which is assigned with self keyword\n",
    "\n",
    "Because class only knows the data assigned with self and the self attatches the data with the class"
   ]
  },
  {
   "cell_type": "code",
   "execution_count": 28,
   "id": "09b6da07",
   "metadata": {},
   "outputs": [],
   "source": [
    "gauravs = student(102,65868565826,\"gauravshinde@gmail.com\")"
   ]
  },
  {
   "cell_type": "code",
   "execution_count": 29,
   "id": "e8d13fee",
   "metadata": {},
   "outputs": [
    {
     "ename": "AttributeError",
     "evalue": "'student' object has no attribute 'student_id'",
     "output_type": "error",
     "traceback": [
      "\u001b[1;31m---------------------------------------------------------------------------\u001b[0m",
      "\u001b[1;31mAttributeError\u001b[0m                            Traceback (most recent call last)",
      "\u001b[1;32m~\\AppData\\Local\\Temp\\ipykernel_30008\\792332047.py\u001b[0m in \u001b[0;36m<module>\u001b[1;34m\u001b[0m\n\u001b[1;32m----> 1\u001b[1;33m \u001b[0mgauravs\u001b[0m\u001b[1;33m.\u001b[0m\u001b[0mstudent_id\u001b[0m\u001b[1;33m\u001b[0m\u001b[1;33m\u001b[0m\u001b[0m\n\u001b[0m",
      "\u001b[1;31mAttributeError\u001b[0m: 'student' object has no attribute 'student_id'"
     ]
    }
   ],
   "source": [
    "gauravs.student_id"
   ]
  },
  {
   "cell_type": "code",
   "execution_count": 30,
   "id": "b7cffdae",
   "metadata": {},
   "outputs": [
    {
     "data": {
      "text/plain": [
       "102"
      ]
     },
     "execution_count": 30,
     "metadata": {},
     "output_type": "execute_result"
    }
   ],
   "source": [
    "gauravs.student_id1"
   ]
  },
  {
   "cell_type": "code",
   "execution_count": 31,
   "id": "87c22ff8",
   "metadata": {},
   "outputs": [
    {
     "data": {
      "text/plain": [
       "(102, 65868565826, 'gauravshinde@gmail.com')"
      ]
     },
     "execution_count": 31,
     "metadata": {},
     "output_type": "execute_result"
    }
   ],
   "source": [
    "gauravs.student_details()"
   ]
  },
  {
   "cell_type": "code",
   "execution_count": 32,
   "id": "6e8d3742",
   "metadata": {},
   "outputs": [],
   "source": [
    "class student1 :\n",
    "    \n",
    "    def __init__(mk, student_id , contact_number , email_id):\n",
    "        \n",
    "        mk.student_id1 = student_id        \n",
    "        mk.contact_number1 = contact_number \n",
    "        mk.email_id1 = email_id \n",
    "        \n",
    "    def student_details(self) :\n",
    "        \n",
    "        return mk.student_id1 , mk.contact_number1 , mk.email_id1\n",
    "        "
   ]
  },
  {
   "cell_type": "code",
   "execution_count": 33,
   "id": "7cbafeab",
   "metadata": {},
   "outputs": [],
   "source": [
    "mkp = student(102,65868565826,\"gauravshinde@gmail.com\")"
   ]
  },
  {
   "cell_type": "code",
   "execution_count": 35,
   "id": "d8e06470",
   "metadata": {},
   "outputs": [
    {
     "data": {
      "text/plain": [
       "102"
      ]
     },
     "execution_count": 35,
     "metadata": {},
     "output_type": "execute_result"
    }
   ],
   "source": [
    "mkp.student_id1"
   ]
  },
  {
   "cell_type": "markdown",
   "id": "37346858",
   "metadata": {},
   "source": [
    "In this example of class we can clearly see that we didn't used self and at the place of the self we used mkp \n",
    "So the thing is that self is not a reserved keyword that's why we can use any name in place of the self it's just the notation to the class that this data belongs to you "
   ]
  },
  {
   "cell_type": "code",
   "execution_count": 37,
   "id": "decca936",
   "metadata": {},
   "outputs": [
    {
     "data": {
      "text/plain": [
       "'gauravshinde@gmail.com'"
      ]
     },
     "execution_count": 37,
     "metadata": {},
     "output_type": "execute_result"
    }
   ],
   "source": [
    "mkp.email_id1"
   ]
  },
  {
   "cell_type": "markdown",
   "id": "50f501d6",
   "metadata": {},
   "source": [
    "# Polymorphism"
   ]
  },
  {
   "cell_type": "code",
   "execution_count": 12,
   "id": "bc73cc8d",
   "metadata": {},
   "outputs": [],
   "source": [
    "class data_science :\n",
    "    \n",
    "    def syllabus(self):\n",
    "        print(\"This is my syllabus for the data science batch\")"
   ]
  },
  {
   "cell_type": "code",
   "execution_count": 13,
   "id": "75686000",
   "metadata": {},
   "outputs": [],
   "source": [
    "class web_dev:\n",
    "    \n",
    "    def syllabus(self):\n",
    "        print(\"This is my syllabus for the web dev batch\")"
   ]
  },
  {
   "cell_type": "code",
   "execution_count": 14,
   "id": "4967e42b",
   "metadata": {},
   "outputs": [],
   "source": [
    "def class_parcer(class_obj):\n",
    "    \n",
    "    for i in class_obj:\n",
    "        i.syllabus()"
   ]
  },
  {
   "cell_type": "code",
   "execution_count": 15,
   "id": "b49155dd",
   "metadata": {},
   "outputs": [],
   "source": [
    "data_sc = data_science()"
   ]
  },
  {
   "cell_type": "code",
   "execution_count": 16,
   "id": "a6e3147d",
   "metadata": {},
   "outputs": [],
   "source": [
    "web_dev = web_dev()"
   ]
  },
  {
   "cell_type": "code",
   "execution_count": 17,
   "id": "e17d9710",
   "metadata": {},
   "outputs": [],
   "source": [
    "class_obj = [data_sc,web_dev]"
   ]
  },
  {
   "cell_type": "code",
   "execution_count": 18,
   "id": "1b25e8e7",
   "metadata": {},
   "outputs": [
    {
     "name": "stdout",
     "output_type": "stream",
     "text": [
      "This is my syllabus for the data science batch\n",
      "This is my syllabus for the web dev batch\n"
     ]
    }
   ],
   "source": [
    "class_parcer(class_obj)"
   ]
  },
  {
   "cell_type": "markdown",
   "id": "82202b24",
   "metadata": {},
   "source": [
    "# Encapsulation"
   ]
  },
  {
   "cell_type": "code",
   "execution_count": 28,
   "id": "2150c644",
   "metadata": {},
   "outputs": [],
   "source": [
    "class car :\n",
    "    \n",
    "    def __init__ (self, year , model , make , speed):\n",
    "        \n",
    "        self.__year = year\n",
    "        self.__model = model\n",
    "        self.__make = make \n",
    "        self.__speed = speed \n",
    "        \n",
    "    def set_speed (self, speed):\n",
    "        \n",
    "        self.__speed = 0 if speed < 0 else speed \n",
    "        \n",
    "    def get_speed (self):\n",
    "        \n",
    "        return self.__speed\n",
    "    \n",
    "    def get_model(self):\n",
    "        \n",
    "        return self.__model"
   ]
  },
  {
   "cell_type": "code",
   "execution_count": 29,
   "id": "1115e761",
   "metadata": {},
   "outputs": [],
   "source": [
    "c = car(2023,\"Scorpio\" , \"Gunda\" , 23)"
   ]
  },
  {
   "cell_type": "code",
   "execution_count": 30,
   "id": "40df7669",
   "metadata": {},
   "outputs": [
    {
     "data": {
      "text/plain": [
       "23"
      ]
     },
     "execution_count": 30,
     "metadata": {},
     "output_type": "execute_result"
    }
   ],
   "source": [
    "c.get_speed()"
   ]
  },
  {
   "cell_type": "code",
   "execution_count": 31,
   "id": "2a440d24",
   "metadata": {},
   "outputs": [],
   "source": [
    "c.set_speed(-23)"
   ]
  },
  {
   "cell_type": "code",
   "execution_count": 32,
   "id": "6a50ad0e",
   "metadata": {},
   "outputs": [
    {
     "data": {
      "text/plain": [
       "0"
      ]
     },
     "execution_count": 32,
     "metadata": {},
     "output_type": "execute_result"
    }
   ],
   "source": [
    "c.get_speed()"
   ]
  },
  {
   "cell_type": "code",
   "execution_count": 33,
   "id": "2a099c8d",
   "metadata": {},
   "outputs": [
    {
     "data": {
      "text/plain": [
       "'Scorpio'"
      ]
     },
     "execution_count": 33,
     "metadata": {},
     "output_type": "execute_result"
    }
   ],
   "source": [
    "c.get_model()"
   ]
  },
  {
   "cell_type": "markdown",
   "id": "cb6fe11d",
   "metadata": {},
   "source": [
    "BANK ACCOUNT"
   ]
  },
  {
   "cell_type": "code",
   "execution_count": 42,
   "id": "684afb0e",
   "metadata": {},
   "outputs": [],
   "source": [
    "class bank_account:\n",
    "    \n",
    "    def __init__(self , name , balance):\n",
    "        \n",
    "        self.name = name \n",
    "        self.__balance = balance \n",
    "        \n",
    "    def deposit(self , amount):\n",
    "        \n",
    "        self.__balance = self.__balance + amount\n",
    "        \n",
    "    def withdraw (self , amount):\n",
    "        \n",
    "        if self.__balance > amount :\n",
    "            self.__balance = self.__balance - amount\n",
    "            \n",
    "        else:\n",
    "            print(\"Pahle paise to daal BSDK\")\n",
    "            \n",
    "    def get_balance(self):\n",
    "        \n",
    "        return self.__balance"
   ]
  },
  {
   "cell_type": "code",
   "execution_count": 43,
   "id": "db67fbda",
   "metadata": {},
   "outputs": [],
   "source": [
    "rohan = bank_account(\"rohan\",2500)"
   ]
  },
  {
   "cell_type": "code",
   "execution_count": 44,
   "id": "4286ac37",
   "metadata": {},
   "outputs": [
    {
     "data": {
      "text/plain": [
       "'rohan'"
      ]
     },
     "execution_count": 44,
     "metadata": {},
     "output_type": "execute_result"
    }
   ],
   "source": [
    "rohan.name"
   ]
  },
  {
   "cell_type": "code",
   "execution_count": 47,
   "id": "24ed7e7b",
   "metadata": {},
   "outputs": [],
   "source": [
    "rohan.deposit(2000)"
   ]
  },
  {
   "cell_type": "code",
   "execution_count": 48,
   "id": "4e9bd050",
   "metadata": {},
   "outputs": [
    {
     "data": {
      "text/plain": [
       "4500"
      ]
     },
     "execution_count": 48,
     "metadata": {},
     "output_type": "execute_result"
    }
   ],
   "source": [
    "rohan.get_balance()"
   ]
  },
  {
   "cell_type": "code",
   "execution_count": 49,
   "id": "dd89e4c2",
   "metadata": {},
   "outputs": [
    {
     "name": "stdout",
     "output_type": "stream",
     "text": [
      "Pahle paise to daal BSDK\n"
     ]
    }
   ],
   "source": [
    "rohan.withdraw(5000)"
   ]
  },
  {
   "cell_type": "code",
   "execution_count": 50,
   "id": "31c863bf",
   "metadata": {},
   "outputs": [],
   "source": [
    "rohan.withdraw(1000)"
   ]
  },
  {
   "cell_type": "code",
   "execution_count": 51,
   "id": "0b698644",
   "metadata": {},
   "outputs": [
    {
     "data": {
      "text/plain": [
       "3500"
      ]
     },
     "execution_count": 51,
     "metadata": {},
     "output_type": "execute_result"
    }
   ],
   "source": [
    "rohan.get_balance()"
   ]
  },
  {
   "cell_type": "markdown",
   "id": "a2d8e8d1",
   "metadata": {},
   "source": [
    "The below method is used to access the encapsulated variables of any class in which we have first write the name of the object of the class and then the class name starts with the underscore and then the variable name starting with the double underscore which we want to access"
   ]
  },
  {
   "cell_type": "code",
   "execution_count": 53,
   "id": "2b324eaf",
   "metadata": {},
   "outputs": [
    {
     "data": {
      "text/plain": [
       "3500"
      ]
     },
     "execution_count": 53,
     "metadata": {},
     "output_type": "execute_result"
    }
   ],
   "source": [
    "rohan._bank_account__balance"
   ]
  },
  {
   "cell_type": "markdown",
   "id": "a3feeb1a",
   "metadata": {},
   "source": [
    "# Inheritance"
   ]
  },
  {
   "cell_type": "code",
   "execution_count": 54,
   "id": "e81d354c",
   "metadata": {},
   "outputs": [],
   "source": [
    "class parent :\n",
    "    \n",
    "    def printsomething (self):\n",
    "        \n",
    "        print(\"This is my parent class\")"
   ]
  },
  {
   "cell_type": "code",
   "execution_count": 55,
   "id": "36b0ec5f",
   "metadata": {},
   "outputs": [],
   "source": [
    "class child_class(parent):\n",
    "    pass"
   ]
  },
  {
   "cell_type": "code",
   "execution_count": 56,
   "id": "95ac36c1",
   "metadata": {},
   "outputs": [],
   "source": [
    "child = child_class()"
   ]
  },
  {
   "cell_type": "code",
   "execution_count": 57,
   "id": "b620f5b2",
   "metadata": {},
   "outputs": [
    {
     "name": "stdout",
     "output_type": "stream",
     "text": [
      "This is my parent class\n"
     ]
    }
   ],
   "source": [
    "child.printsomething()"
   ]
  },
  {
   "cell_type": "markdown",
   "id": "b8c68ec8",
   "metadata": {},
   "source": [
    "As we can see we can access the parent class function by calling the object of the child class we just have to pass the parent class in the child class when we are building the class . This is called as Inheritance ."
   ]
  },
  {
   "cell_type": "code",
   "execution_count": 59,
   "id": "424e117f",
   "metadata": {},
   "outputs": [],
   "source": [
    "class car :\n",
    "    \n",
    "    def carfun (self):\n",
    "        \n",
    "        print(\"This class is the parent class\")"
   ]
  },
  {
   "cell_type": "code",
   "execution_count": 60,
   "id": "8bc468ab",
   "metadata": {},
   "outputs": [],
   "source": [
    "class bike(car) :\n",
    "    \n",
    "    def bikefun(self):\n",
    "        \n",
    "        print(\"This is my child class\")"
   ]
  },
  {
   "cell_type": "code",
   "execution_count": 61,
   "id": "90dad50c",
   "metadata": {},
   "outputs": [],
   "source": [
    "bikeobj = bike()"
   ]
  },
  {
   "cell_type": "markdown",
   "id": "d47ccd37",
   "metadata": {},
   "source": [
    "Now we are able to access both the class functions with the help of just child class's object "
   ]
  },
  {
   "cell_type": "code",
   "execution_count": 62,
   "id": "3f2c0660",
   "metadata": {},
   "outputs": [
    {
     "name": "stdout",
     "output_type": "stream",
     "text": [
      "This class is the parent class\n"
     ]
    }
   ],
   "source": [
    "bikeobj.carfun()"
   ]
  },
  {
   "cell_type": "code",
   "execution_count": 63,
   "id": "5a7e3ab2",
   "metadata": {},
   "outputs": [
    {
     "name": "stdout",
     "output_type": "stream",
     "text": [
      "This is my child class\n"
     ]
    }
   ],
   "source": [
    "bikeobj.bikefun()"
   ]
  },
  {
   "cell_type": "markdown",
   "id": "7529da82",
   "metadata": {},
   "source": [
    "Multilevel Inheritance"
   ]
  },
  {
   "cell_type": "code",
   "execution_count": 65,
   "id": "a2616fec",
   "metadata": {},
   "outputs": [],
   "source": [
    "class class1 :\n",
    "    \n",
    "    def class1fun(self):\n",
    "        \n",
    "        print(\"This is first class\")"
   ]
  },
  {
   "cell_type": "code",
   "execution_count": 66,
   "id": "ce50078f",
   "metadata": {},
   "outputs": [],
   "source": [
    "class class2(class1) :\n",
    "    \n",
    "    def class2fun(self):\n",
    "        \n",
    "        print(\"This is second class\")"
   ]
  },
  {
   "cell_type": "code",
   "execution_count": 67,
   "id": "40c12149",
   "metadata": {},
   "outputs": [],
   "source": [
    "class class3(class2) :\n",
    "    \n",
    "    def class3fun(self):\n",
    "        \n",
    "        print(\"This is third class\")"
   ]
  },
  {
   "cell_type": "code",
   "execution_count": 69,
   "id": "b89a8580",
   "metadata": {},
   "outputs": [],
   "source": [
    "class class4(class3):\n",
    "    pass"
   ]
  },
  {
   "cell_type": "code",
   "execution_count": 70,
   "id": "bbc02547",
   "metadata": {},
   "outputs": [],
   "source": [
    "class_obj = class4()"
   ]
  },
  {
   "cell_type": "code",
   "execution_count": 71,
   "id": "9474c705",
   "metadata": {},
   "outputs": [
    {
     "name": "stdout",
     "output_type": "stream",
     "text": [
      "This is first class\n"
     ]
    }
   ],
   "source": [
    "class_obj.class1fun()"
   ]
  },
  {
   "cell_type": "code",
   "execution_count": 72,
   "id": "dee1cccb",
   "metadata": {},
   "outputs": [
    {
     "name": "stdout",
     "output_type": "stream",
     "text": [
      "This is second class\n"
     ]
    }
   ],
   "source": [
    "class_obj.class2fun()"
   ]
  },
  {
   "cell_type": "code",
   "execution_count": 73,
   "id": "3d66d0ca",
   "metadata": {},
   "outputs": [
    {
     "name": "stdout",
     "output_type": "stream",
     "text": [
      "This is third class\n"
     ]
    }
   ],
   "source": [
    "class_obj.class3fun()"
   ]
  },
  {
   "cell_type": "markdown",
   "id": "0a998383",
   "metadata": {},
   "source": [
    "Multiple Inheritance"
   ]
  },
  {
   "cell_type": "code",
   "execution_count": 74,
   "id": "d74bb14b",
   "metadata": {},
   "outputs": [],
   "source": [
    "class mummy:\n",
    "    \n",
    "    def classm (self):\n",
    "        \n",
    "        print(\"Mom is more danger than dad\")"
   ]
  },
  {
   "cell_type": "code",
   "execution_count": 80,
   "id": "18e51099",
   "metadata": {},
   "outputs": [],
   "source": [
    "class dad:\n",
    "    \n",
    "    def classd(self):\n",
    "        \n",
    "        print(\"Dad is chill\")"
   ]
  },
  {
   "cell_type": "code",
   "execution_count": 81,
   "id": "93f33949",
   "metadata": {},
   "outputs": [],
   "source": [
    "class classchild (mummy , dad):\n",
    "    \n",
    "    pass"
   ]
  },
  {
   "cell_type": "code",
   "execution_count": 82,
   "id": "0ec7f5f3",
   "metadata": {},
   "outputs": [],
   "source": [
    "potta = classchild()"
   ]
  },
  {
   "cell_type": "code",
   "execution_count": 83,
   "id": "83ef6b41",
   "metadata": {},
   "outputs": [
    {
     "name": "stdout",
     "output_type": "stream",
     "text": [
      "Dad is chill\n"
     ]
    }
   ],
   "source": [
    "potta.classd()"
   ]
  },
  {
   "cell_type": "code",
   "execution_count": 84,
   "id": "b5a58e29",
   "metadata": {},
   "outputs": [
    {
     "name": "stdout",
     "output_type": "stream",
     "text": [
      "Mom is more danger than dad\n"
     ]
    }
   ],
   "source": [
    "potta.classm()"
   ]
  },
  {
   "cell_type": "markdown",
   "id": "0be0f3f8",
   "metadata": {},
   "source": [
    "# Decorators"
   ]
  },
  {
   "cell_type": "code",
   "execution_count": 86,
   "id": "bac03cfe",
   "metadata": {},
   "outputs": [],
   "source": [
    "def deco(func):\n",
    "    \n",
    "    def inner_dec():\n",
    "        \n",
    "        print(\"This is start of my func\")\n",
    "        func()\n",
    "        print(\"This is end of my func\")\n",
    "        \n",
    "    return inner_dec"
   ]
  },
  {
   "cell_type": "code",
   "execution_count": 89,
   "id": "ea7752bf",
   "metadata": {},
   "outputs": [],
   "source": [
    "@deco \n",
    "\n",
    "def test():\n",
    "    print(6+7)"
   ]
  },
  {
   "cell_type": "code",
   "execution_count": 90,
   "id": "a929b758",
   "metadata": {},
   "outputs": [
    {
     "name": "stdout",
     "output_type": "stream",
     "text": [
      "This is start of my func\n",
      "13\n",
      "This is end of my func\n"
     ]
    }
   ],
   "source": [
    "test()"
   ]
  },
  {
   "cell_type": "code",
   "execution_count": 24,
   "id": "645373c1",
   "metadata": {},
   "outputs": [],
   "source": [
    "import time \n",
    "\n",
    "def timer_test(func):\n",
    "    \n",
    "    def timer_inner():\n",
    "        \n",
    "        start = time.time()\n",
    "        func()\n",
    "        end = time.time()\n",
    "        \n",
    "        print(end-start)\n",
    "        \n",
    "    return timer_inner"
   ]
  },
  {
   "cell_type": "code",
   "execution_count": 25,
   "id": "637623be",
   "metadata": {},
   "outputs": [],
   "source": [
    "@timer_test\n",
    "\n",
    "def test():\n",
    "    print(\"This is test for time\")"
   ]
  },
  {
   "cell_type": "code",
   "execution_count": 26,
   "id": "3a9cf12c",
   "metadata": {},
   "outputs": [
    {
     "name": "stdout",
     "output_type": "stream",
     "text": [
      "This is test for time\n",
      "0.0\n"
     ]
    }
   ],
   "source": [
    "test()"
   ]
  },
  {
   "cell_type": "code",
   "execution_count": 27,
   "id": "a775cd39",
   "metadata": {},
   "outputs": [],
   "source": [
    "@timer_test\n",
    "\n",
    "def forloop():\n",
    "    \n",
    "    for i in range(1,100):\n",
    "        pass"
   ]
  },
  {
   "cell_type": "code",
   "execution_count": 28,
   "id": "70bf3b5d",
   "metadata": {},
   "outputs": [
    {
     "name": "stdout",
     "output_type": "stream",
     "text": [
      "0.0\n"
     ]
    }
   ],
   "source": [
    "forloop()"
   ]
  },
  {
   "cell_type": "markdown",
   "id": "2f16b100",
   "metadata": {},
   "source": [
    "# CLASS METHODS"
   ]
  },
  {
   "cell_type": "code",
   "execution_count": 32,
   "id": "97b8ee93",
   "metadata": {},
   "outputs": [],
   "source": [
    "class pwskills :\n",
    "    \n",
    "    def __init__(self,name,email):\n",
    "        \n",
    "        self.name = name\n",
    "        self.email = email\n",
    "        \n",
    "    def student_details(self):\n",
    "        \n",
    "        return self.name,self.email"
   ]
  },
  {
   "cell_type": "code",
   "execution_count": 34,
   "id": "e2e66beb",
   "metadata": {},
   "outputs": [],
   "source": [
    "pw = pwskills(\"Mohan\" , \"Raga@gamail.com\")"
   ]
  },
  {
   "cell_type": "code",
   "execution_count": 35,
   "id": "e092d47c",
   "metadata": {},
   "outputs": [
    {
     "data": {
      "text/plain": [
       "('Mohan', 'Raga@gamail.com')"
      ]
     },
     "execution_count": 35,
     "metadata": {},
     "output_type": "execute_result"
    }
   ],
   "source": [
    "pw.student_details()"
   ]
  },
  {
   "cell_type": "markdown",
   "id": "97805fd9",
   "metadata": {},
   "source": [
    "Now lets see variations"
   ]
  },
  {
   "cell_type": "code",
   "execution_count": 47,
   "id": "a2accb0a",
   "metadata": {},
   "outputs": [],
   "source": [
    "class pwskills1 :\n",
    "    \n",
    "    def __init__(self,name,email):\n",
    "        \n",
    "        self.name = name\n",
    "        self.email = email\n",
    "    \n",
    "    @classmethod\n",
    "    \n",
    "    def details(cls,name,email):\n",
    "        \n",
    "        return cls(name , email)\n",
    "    \n",
    "    def student_details(self):\n",
    "        \n",
    "        return self.name,self.email"
   ]
  },
  {
   "cell_type": "code",
   "execution_count": 48,
   "id": "4f3b2747",
   "metadata": {},
   "outputs": [],
   "source": [
    "pw1 = pwskills1.details(\"Rohan\", \"rohan@gmail.com\")"
   ]
  },
  {
   "cell_type": "code",
   "execution_count": 49,
   "id": "1f3edc76",
   "metadata": {},
   "outputs": [
    {
     "data": {
      "text/plain": [
       "'Rohan'"
      ]
     },
     "execution_count": 49,
     "metadata": {},
     "output_type": "execute_result"
    }
   ],
   "source": [
    "pw1.name"
   ]
  },
  {
   "cell_type": "code",
   "execution_count": 50,
   "id": "7ea12ad0",
   "metadata": {},
   "outputs": [
    {
     "data": {
      "text/plain": [
       "('Rohan', 'rohan@gmail.com')"
      ]
     },
     "execution_count": 50,
     "metadata": {},
     "output_type": "execute_result"
    }
   ],
   "source": [
    "pw1.student_details()"
   ]
  },
  {
   "cell_type": "markdown",
   "id": "86c7b8b0",
   "metadata": {},
   "source": [
    "In this example we can clearly see that we didm't made an object of the class but we can access the elements and the methods of the class"
   ]
  },
  {
   "cell_type": "code",
   "execution_count": null,
   "id": "0cc0cc9c",
   "metadata": {},
   "outputs": [],
   "source": []
  },
  {
   "cell_type": "code",
   "execution_count": 51,
   "id": "959edf33",
   "metadata": {},
   "outputs": [],
   "source": [
    "class pwskills2 :\n",
    "    \n",
    "    mobile_number = 98348527\n",
    "    \n",
    "    def __init__(self,name,email):\n",
    "        \n",
    "        self.name = name\n",
    "        self.email = email\n",
    "    \n",
    "    @classmethod\n",
    "    \n",
    "    def details(cls,name,email):\n",
    "        \n",
    "        return cls(name , email)\n",
    "    \n",
    "    def student_details(self):\n",
    "        \n",
    "        return self.name,self.email"
   ]
  },
  {
   "cell_type": "markdown",
   "id": "45002b2f",
   "metadata": {},
   "source": [
    "The variable we made named mabile number is a class variable which we can access through the name of the class\n",
    "\n",
    "We can access that variable even inside a class method"
   ]
  },
  {
   "cell_type": "code",
   "execution_count": 52,
   "id": "194d1303",
   "metadata": {},
   "outputs": [
    {
     "data": {
      "text/plain": [
       "98348527"
      ]
     },
     "execution_count": 52,
     "metadata": {},
     "output_type": "execute_result"
    }
   ],
   "source": [
    "pwskills2.mobile_number"
   ]
  },
  {
   "cell_type": "code",
   "execution_count": 53,
   "id": "ffb05b43",
   "metadata": {},
   "outputs": [],
   "source": [
    "class pwskills3 :\n",
    "    \n",
    "    mobile_number = 98348527\n",
    "    \n",
    "    def __init__(self,name,email):\n",
    "        \n",
    "        self.name = name\n",
    "        self.email = email\n",
    "    \n",
    "    @classmethod\n",
    "    \n",
    "    def change_number(cls , mobile):\n",
    "        \n",
    "        pwskills3.mobile_number = mobile\n",
    "    \n",
    "    @classmethod\n",
    "    \n",
    "    def details(cls,name,email):\n",
    "        \n",
    "        return cls(name , email)\n",
    "    \n",
    "    def student_details(self):\n",
    "        \n",
    "        return self.name,self.email"
   ]
  },
  {
   "cell_type": "code",
   "execution_count": 55,
   "id": "4efcc03d",
   "metadata": {},
   "outputs": [
    {
     "data": {
      "text/plain": [
       "98348527"
      ]
     },
     "execution_count": 55,
     "metadata": {},
     "output_type": "execute_result"
    }
   ],
   "source": [
    "pwskills3.mobile_number"
   ]
  },
  {
   "cell_type": "code",
   "execution_count": 56,
   "id": "e514e1e4",
   "metadata": {},
   "outputs": [],
   "source": [
    "pwskills3.change_number(8698468448)"
   ]
  },
  {
   "cell_type": "code",
   "execution_count": 57,
   "id": "c040126b",
   "metadata": {},
   "outputs": [
    {
     "data": {
      "text/plain": [
       "8698468448"
      ]
     },
     "execution_count": 57,
     "metadata": {},
     "output_type": "execute_result"
    }
   ],
   "source": [
    "pwskills3.mobile_number"
   ]
  },
  {
   "cell_type": "markdown",
   "id": "3e27185c",
   "metadata": {},
   "source": [
    "We can access the mobile number in any of the method of the class \n",
    "we can access it with the help of classmethod and also by making an object of this"
   ]
  },
  {
   "cell_type": "code",
   "execution_count": 76,
   "id": "eb8aa041",
   "metadata": {},
   "outputs": [],
   "source": [
    "class pwskills4 :\n",
    "    \n",
    "    mobile_number = 98348527\n",
    "    \n",
    "    def __init__(self,name,email):\n",
    "        \n",
    "        self.name = name\n",
    "        self.email = email\n",
    "    \n",
    "    @classmethod\n",
    "\n",
    "    def change_number(cls , mobile):\n",
    "        pwskills4.mobile_number = mobile\n",
    "    \n",
    "    @classmethod\n",
    "    \n",
    "    def details(cls,name,email):\n",
    "        return cls(name , email)\n",
    "    \n",
    "    def student_details(self):\n",
    "        \n",
    "        return self.name,self.email , pwskills4.mobile_number"
   ]
  },
  {
   "cell_type": "markdown",
   "id": "4911c203",
   "metadata": {},
   "source": [
    "First we see the object method"
   ]
  },
  {
   "cell_type": "code",
   "execution_count": 77,
   "id": "021ddfb6",
   "metadata": {},
   "outputs": [],
   "source": [
    "pw4 = pwskills4(\"Rohit\" , \"Rohit@gamil.com\")"
   ]
  },
  {
   "cell_type": "code",
   "execution_count": 78,
   "id": "e2d4374e",
   "metadata": {},
   "outputs": [
    {
     "data": {
      "text/plain": [
       "('Rohit', 'Rohit@gamil.com', 98348527)"
      ]
     },
     "execution_count": 78,
     "metadata": {},
     "output_type": "execute_result"
    }
   ],
   "source": [
    "pw4.student_details()"
   ]
  },
  {
   "cell_type": "markdown",
   "id": "dd452a9c",
   "metadata": {},
   "source": [
    "Now we can see accessing with the class method"
   ]
  },
  {
   "cell_type": "code",
   "execution_count": 79,
   "id": "6ce2fb9e",
   "metadata": {},
   "outputs": [],
   "source": [
    "p = pwskills4.details(\"Rohan\" , \"Rohit@gamil.com\")"
   ]
  },
  {
   "cell_type": "code",
   "execution_count": 80,
   "id": "668588a5",
   "metadata": {},
   "outputs": [
    {
     "data": {
      "text/plain": [
       "('Rohan', 'Rohit@gamil.com', 98348527)"
      ]
     },
     "execution_count": 80,
     "metadata": {},
     "output_type": "execute_result"
    }
   ],
   "source": [
    "p.student_details()"
   ]
  },
  {
   "cell_type": "code",
   "execution_count": 81,
   "id": "bc2a137a",
   "metadata": {},
   "outputs": [],
   "source": [
    "pw4.change_number(587236587785)"
   ]
  },
  {
   "cell_type": "code",
   "execution_count": null,
   "id": "e021a3cb",
   "metadata": {},
   "outputs": [],
   "source": []
  },
  {
   "cell_type": "code",
   "execution_count": 82,
   "id": "19496220",
   "metadata": {},
   "outputs": [
    {
     "data": {
      "text/plain": [
       "('Rohit', 'Rohit@gamil.com', 587236587785)"
      ]
     },
     "execution_count": 82,
     "metadata": {},
     "output_type": "execute_result"
    }
   ],
   "source": [
    "pw4.student_details()"
   ]
  },
  {
   "cell_type": "code",
   "execution_count": 83,
   "id": "3f34d708",
   "metadata": {},
   "outputs": [
    {
     "data": {
      "text/plain": [
       "('Rohit', 'Rohit@gamil.com', 587236587785)"
      ]
     },
     "execution_count": 83,
     "metadata": {},
     "output_type": "execute_result"
    }
   ],
   "source": [
    "pw4.student_details()"
   ]
  },
  {
   "cell_type": "markdown",
   "id": "4410861c",
   "metadata": {},
   "source": [
    "Adding external function using class method"
   ]
  },
  {
   "cell_type": "code",
   "execution_count": 94,
   "id": "d11a6285",
   "metadata": {},
   "outputs": [],
   "source": [
    "def course_details(self,course_name):\n",
    "    self.course_name = course_name\n",
    "    print(\"The course u selected is :\" , self.course_name)"
   ]
  },
  {
   "cell_type": "code",
   "execution_count": 95,
   "id": "a4260d2e",
   "metadata": {},
   "outputs": [],
   "source": [
    "pwskills4.course_details = classmethod(course_details)"
   ]
  },
  {
   "cell_type": "code",
   "execution_count": 96,
   "id": "3d40dcac",
   "metadata": {},
   "outputs": [
    {
     "name": "stdout",
     "output_type": "stream",
     "text": [
      "The course u selected is : DSA\n"
     ]
    }
   ],
   "source": [
    "pwskills4.course_details(\"DSA\")"
   ]
  },
  {
   "cell_type": "code",
   "execution_count": 98,
   "id": "41a1d93b",
   "metadata": {},
   "outputs": [
    {
     "data": {
      "text/plain": [
       "'DSA'"
      ]
     },
     "execution_count": 98,
     "metadata": {},
     "output_type": "execute_result"
    }
   ],
   "source": [
    "pwskills4.course_name"
   ]
  },
  {
   "cell_type": "markdown",
   "id": "093bb0c9",
   "metadata": {},
   "source": [
    "Adding one more function with the help of the class method"
   ]
  },
  {
   "cell_type": "code",
   "execution_count": 100,
   "id": "454cfe2c",
   "metadata": {},
   "outputs": [],
   "source": [
    "def mentor(self, mentor_list):\n",
    "    \n",
    "    self.mentor_list = mentor_list\n",
    "    \n",
    "    print(\"The available mentors are :\" , self.mentor_list)"
   ]
  },
  {
   "cell_type": "code",
   "execution_count": 101,
   "id": "efe78da6",
   "metadata": {},
   "outputs": [],
   "source": [
    "pwskills4.mentor = classmethod(mentor)"
   ]
  },
  {
   "cell_type": "code",
   "execution_count": 102,
   "id": "6a608219",
   "metadata": {},
   "outputs": [
    {
     "name": "stdout",
     "output_type": "stream",
     "text": [
      "The available mentors are : ['krish', 'sudh', 'ash']\n"
     ]
    }
   ],
   "source": [
    "pwskills4.mentor([\"krish\",\"sudh\",\"ash\"])"
   ]
  },
  {
   "cell_type": "code",
   "execution_count": 103,
   "id": "3d1f07e5",
   "metadata": {},
   "outputs": [
    {
     "data": {
      "text/plain": [
       "['krish', 'sudh', 'ash']"
      ]
     },
     "execution_count": 103,
     "metadata": {},
     "output_type": "execute_result"
    }
   ],
   "source": [
    "pwskills4.mentor_list"
   ]
  },
  {
   "cell_type": "markdown",
   "id": "be9fda60",
   "metadata": {},
   "source": [
    "Now we see how to delete the function from a class"
   ]
  },
  {
   "cell_type": "code",
   "execution_count": 104,
   "id": "3e2d645c",
   "metadata": {},
   "outputs": [],
   "source": [
    "del pwskills4.change_number"
   ]
  },
  {
   "cell_type": "code",
   "execution_count": 106,
   "id": "c9cb264a",
   "metadata": {},
   "outputs": [
    {
     "ename": "AttributeError",
     "evalue": "type object 'pwskills4' has no attribute 'change_number'",
     "output_type": "error",
     "traceback": [
      "\u001b[1;31m---------------------------------------------------------------------------\u001b[0m",
      "\u001b[1;31mAttributeError\u001b[0m                            Traceback (most recent call last)",
      "\u001b[1;32m~\\AppData\\Local\\Temp\\ipykernel_32848\\1602668041.py\u001b[0m in \u001b[0;36m<module>\u001b[1;34m\u001b[0m\n\u001b[1;32m----> 1\u001b[1;33m \u001b[0mpwskills4\u001b[0m\u001b[1;33m.\u001b[0m\u001b[0mchange_number\u001b[0m\u001b[1;33m(\u001b[0m\u001b[1;36m76345287366\u001b[0m\u001b[1;33m)\u001b[0m\u001b[1;33m\u001b[0m\u001b[1;33m\u001b[0m\u001b[0m\n\u001b[0m",
      "\u001b[1;31mAttributeError\u001b[0m: type object 'pwskills4' has no attribute 'change_number'"
     ]
    }
   ],
   "source": [
    "pwskills4.change_number(76345287366)"
   ]
  },
  {
   "cell_type": "markdown",
   "id": "74bc3704",
   "metadata": {},
   "source": [
    "As we can see the functions named change_number is now deleted"
   ]
  },
  {
   "cell_type": "markdown",
   "id": "a01520dd",
   "metadata": {},
   "source": [
    "We have one more function to perform this operation named delattr"
   ]
  },
  {
   "cell_type": "code",
   "execution_count": 107,
   "id": "96a5da5a",
   "metadata": {},
   "outputs": [],
   "source": [
    "# delattr(pwskills4 , \"details\") This is the syntax for that "
   ]
  },
  {
   "cell_type": "markdown",
   "id": "bacbb903",
   "metadata": {},
   "source": [
    "# Static Method"
   ]
  },
  {
   "cell_type": "code",
   "execution_count": 115,
   "id": "31ebfefd",
   "metadata": {},
   "outputs": [],
   "source": [
    "class pwskills5:\n",
    "    \n",
    "    def student_details(self , name , email , mobile):\n",
    "        print(name,email,mobile)\n",
    "        \n",
    "    @staticmethod\n",
    "    \n",
    "    def menotr_mail_id(mentor_mail):\n",
    "        print(mentor_mail)\n",
    "        \n",
    "    @staticmethod\n",
    "    \n",
    "    def mentor_class(mentor_list):\n",
    "        pwskills5.menotr_mail_id([\"sudh@gmail.com\" , \"skrish@gmail.com\" ])\n",
    "        print(mentor_list)\n",
    "        \n",
    "    @classmethod\n",
    "    \n",
    "    def class_name(cls):\n",
    "          cls.mentor_class([\"sudh\" , \"krish\"])\n",
    "            \n",
    "    def mentor(self,mentor_list):\n",
    "        print(mentor_list)                # This function is an instance of class so this cannot be accessed without object"
   ]
  },
  {
   "cell_type": "code",
   "execution_count": 116,
   "id": "b5542d16",
   "metadata": {},
   "outputs": [
    {
     "name": "stdout",
     "output_type": "stream",
     "text": [
      "['sudh@gmail.com', 'skrish@gmail.com']\n",
      "['sudh', 'krish']\n"
     ]
    }
   ],
   "source": [
    "pwskills5.mentor_class([\"sudh\" , \"krish\"])"
   ]
  },
  {
   "cell_type": "code",
   "execution_count": 117,
   "id": "d47313be",
   "metadata": {},
   "outputs": [],
   "source": [
    "pw5 = pwskills5()"
   ]
  },
  {
   "cell_type": "code",
   "execution_count": 118,
   "id": "05110636",
   "metadata": {},
   "outputs": [
    {
     "name": "stdout",
     "output_type": "stream",
     "text": [
      "['sudh', 'krish']\n"
     ]
    }
   ],
   "source": [
    "pw5.mentor([\"sudh\" , \"krish\"])"
   ]
  },
  {
   "cell_type": "markdown",
   "id": "6460b069",
   "metadata": {},
   "source": [
    "# Magic Functions"
   ]
  },
  {
   "cell_type": "code",
   "execution_count": 120,
   "id": "3613d57c",
   "metadata": {},
   "outputs": [
    {
     "data": {
      "text/plain": [
       "['__abs__',\n",
       " '__add__',\n",
       " '__and__',\n",
       " '__bool__',\n",
       " '__ceil__',\n",
       " '__class__',\n",
       " '__delattr__',\n",
       " '__dir__',\n",
       " '__divmod__',\n",
       " '__doc__',\n",
       " '__eq__',\n",
       " '__float__',\n",
       " '__floor__',\n",
       " '__floordiv__',\n",
       " '__format__',\n",
       " '__ge__',\n",
       " '__getattribute__',\n",
       " '__getnewargs__',\n",
       " '__gt__',\n",
       " '__hash__',\n",
       " '__index__',\n",
       " '__init__',\n",
       " '__init_subclass__',\n",
       " '__int__',\n",
       " '__invert__',\n",
       " '__le__',\n",
       " '__lshift__',\n",
       " '__lt__',\n",
       " '__mod__',\n",
       " '__mul__',\n",
       " '__ne__',\n",
       " '__neg__',\n",
       " '__new__',\n",
       " '__or__',\n",
       " '__pos__',\n",
       " '__pow__',\n",
       " '__radd__',\n",
       " '__rand__',\n",
       " '__rdivmod__',\n",
       " '__reduce__',\n",
       " '__reduce_ex__',\n",
       " '__repr__',\n",
       " '__rfloordiv__',\n",
       " '__rlshift__',\n",
       " '__rmod__',\n",
       " '__rmul__',\n",
       " '__ror__',\n",
       " '__round__',\n",
       " '__rpow__',\n",
       " '__rrshift__',\n",
       " '__rshift__',\n",
       " '__rsub__',\n",
       " '__rtruediv__',\n",
       " '__rxor__',\n",
       " '__setattr__',\n",
       " '__sizeof__',\n",
       " '__str__',\n",
       " '__sub__',\n",
       " '__subclasshook__',\n",
       " '__truediv__',\n",
       " '__trunc__',\n",
       " '__xor__',\n",
       " 'as_integer_ratio',\n",
       " 'bit_length',\n",
       " 'conjugate',\n",
       " 'denominator',\n",
       " 'from_bytes',\n",
       " 'imag',\n",
       " 'numerator',\n",
       " 'real',\n",
       " 'to_bytes']"
      ]
     },
     "execution_count": 120,
     "metadata": {},
     "output_type": "execute_result"
    }
   ],
   "source": [
    "dir(int)"
   ]
  },
  {
   "cell_type": "code",
   "execution_count": 128,
   "id": "3515015e",
   "metadata": {},
   "outputs": [],
   "source": [
    "a = 100"
   ]
  },
  {
   "cell_type": "code",
   "execution_count": 129,
   "id": "7ab159c5",
   "metadata": {},
   "outputs": [
    {
     "data": {
      "text/plain": [
       "150"
      ]
     },
     "execution_count": 129,
     "metadata": {},
     "output_type": "execute_result"
    }
   ],
   "source": [
    "a.__add__(50)"
   ]
  },
  {
   "cell_type": "code",
   "execution_count": 130,
   "id": "cc7274c3",
   "metadata": {},
   "outputs": [],
   "source": [
    "a = 10"
   ]
  },
  {
   "cell_type": "code",
   "execution_count": 131,
   "id": "b3b6cf08",
   "metadata": {},
   "outputs": [
    {
     "data": {
      "text/plain": [
       "60"
      ]
     },
     "execution_count": 131,
     "metadata": {},
     "output_type": "execute_result"
    }
   ],
   "source": [
    "a.__add__(50)"
   ]
  },
  {
   "cell_type": "code",
   "execution_count": null,
   "id": "cbdce6c6",
   "metadata": {},
   "outputs": [],
   "source": []
  },
  {
   "cell_type": "code",
   "execution_count": null,
   "id": "a4fda6d9",
   "metadata": {},
   "outputs": [],
   "source": []
  }
 ],
 "metadata": {
  "kernelspec": {
   "display_name": "Python 3 (ipykernel)",
   "language": "python",
   "name": "python3"
  },
  "language_info": {
   "codemirror_mode": {
    "name": "ipython",
    "version": 3
   },
   "file_extension": ".py",
   "mimetype": "text/x-python",
   "name": "python",
   "nbconvert_exporter": "python",
   "pygments_lexer": "ipython3",
   "version": "3.9.13"
  }
 },
 "nbformat": 4,
 "nbformat_minor": 5
}
