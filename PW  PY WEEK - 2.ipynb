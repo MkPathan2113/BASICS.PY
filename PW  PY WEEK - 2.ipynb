{
 "cells": [
  {
   "cell_type": "markdown",
   "id": "dfbb89a9",
   "metadata": {},
   "source": [
    "# PW SKILLS "
   ]
  },
  {
   "cell_type": "code",
   "execution_count": 1,
   "id": "24acd548",
   "metadata": {},
   "outputs": [],
   "source": [
    "s = \"pwskills\""
   ]
  },
  {
   "cell_type": "code",
   "execution_count": 2,
   "id": "96017695",
   "metadata": {},
   "outputs": [
    {
     "data": {
      "text/plain": [
       "'sllikswp'"
      ]
     },
     "execution_count": 2,
     "metadata": {},
     "output_type": "execute_result"
    }
   ],
   "source": [
    "s[::-1]"
   ]
  },
  {
   "cell_type": "code",
   "execution_count": 3,
   "id": "16390c6d",
   "metadata": {},
   "outputs": [
    {
     "data": {
      "text/plain": [
       "''"
      ]
     },
     "execution_count": 3,
     "metadata": {},
     "output_type": "execute_result"
    }
   ],
   "source": [
    "s[:-90:]"
   ]
  },
  {
   "cell_type": "code",
   "execution_count": 4,
   "id": "bb223749",
   "metadata": {},
   "outputs": [
    {
     "data": {
      "text/plain": [
       "'sllikswp'"
      ]
     },
     "execution_count": 4,
     "metadata": {},
     "output_type": "execute_result"
    }
   ],
   "source": [
    "s[:-90:-1]"
   ]
  },
  {
   "cell_type": "markdown",
   "id": "8e935e52",
   "metadata": {},
   "source": [
    "# COMPLEX"
   ]
  },
  {
   "cell_type": "code",
   "execution_count": 5,
   "id": "cb207d07",
   "metadata": {},
   "outputs": [],
   "source": [
    "p = 5+8j"
   ]
  },
  {
   "cell_type": "code",
   "execution_count": 6,
   "id": "edd53d85",
   "metadata": {},
   "outputs": [
    {
     "data": {
      "text/plain": [
       "8.0"
      ]
     },
     "execution_count": 6,
     "metadata": {},
     "output_type": "execute_result"
    }
   ],
   "source": [
    "p.imag"
   ]
  },
  {
   "cell_type": "code",
   "execution_count": 7,
   "id": "a29a5133",
   "metadata": {},
   "outputs": [
    {
     "data": {
      "text/plain": [
       "5.0"
      ]
     },
     "execution_count": 7,
     "metadata": {},
     "output_type": "execute_result"
    }
   ],
   "source": [
    "p.real"
   ]
  },
  {
   "cell_type": "markdown",
   "id": "a9fffe76",
   "metadata": {},
   "source": [
    "# STRING"
   ]
  },
  {
   "cell_type": "code",
   "execution_count": null,
   "id": "85f1efef",
   "metadata": {},
   "outputs": [],
   "source": [
    "s1 =\"This is my string class\""
   ]
  },
  {
   "cell_type": "code",
   "execution_count": 9,
   "id": "af063f98",
   "metadata": {},
   "outputs": [
    {
     "data": {
      "text/plain": [
       "23"
      ]
     },
     "execution_count": 9,
     "metadata": {},
     "output_type": "execute_result"
    }
   ],
   "source": [
    "len(s1)"
   ]
  },
  {
   "cell_type": "code",
   "execution_count": 12,
   "id": "586d4c02",
   "metadata": {},
   "outputs": [
    {
     "data": {
      "text/plain": [
       "3"
      ]
     },
     "execution_count": 12,
     "metadata": {},
     "output_type": "execute_result"
    }
   ],
   "source": [
    "s1.find(\"s\")\n",
    "# Gives index of first occurance and input should be in double quotes \n",
    "# shift and tap defines all of the methods like find"
   ]
  },
  {
   "cell_type": "code",
   "execution_count": 13,
   "id": "a212340c",
   "metadata": {},
   "outputs": [],
   "source": [
    "#In case if find is unable to find something then it will not give error\n",
    "#it will return -1"
   ]
  },
  {
   "cell_type": "code",
   "execution_count": 15,
   "id": "6e9cb3c3",
   "metadata": {},
   "outputs": [
    {
     "data": {
      "text/plain": [
       "5"
      ]
     },
     "execution_count": 15,
     "metadata": {},
     "output_type": "execute_result"
    }
   ],
   "source": [
    "s1.count(\"s\")"
   ]
  },
  {
   "cell_type": "code",
   "execution_count": 16,
   "id": "3e41d6ac",
   "metadata": {},
   "outputs": [
    {
     "data": {
      "text/plain": [
       "'THIS IS MY STRING CLASS'"
      ]
     },
     "execution_count": 16,
     "metadata": {},
     "output_type": "execute_result"
    }
   ],
   "source": [
    "# FOR UPPERCASE \n",
    "s1.upper()"
   ]
  },
  {
   "cell_type": "code",
   "execution_count": 17,
   "id": "8da79a1f",
   "metadata": {},
   "outputs": [
    {
     "data": {
      "text/plain": [
       "'this is my string class'"
      ]
     },
     "execution_count": 17,
     "metadata": {},
     "output_type": "execute_result"
    }
   ],
   "source": [
    "# FOR LOWERCASE\n",
    "s1.lower()"
   ]
  },
  {
   "cell_type": "code",
   "execution_count": 18,
   "id": "7727fb56",
   "metadata": {},
   "outputs": [
    {
     "data": {
      "text/plain": [
       "'This Is My String Class'"
      ]
     },
     "execution_count": 18,
     "metadata": {},
     "output_type": "execute_result"
    }
   ],
   "source": [
    "s1.title()"
   ]
  },
  {
   "cell_type": "code",
   "execution_count": 19,
   "id": "badb10d5",
   "metadata": {},
   "outputs": [
    {
     "data": {
      "text/plain": [
       "'This is my string class'"
      ]
     },
     "execution_count": 19,
     "metadata": {},
     "output_type": "execute_result"
    }
   ],
   "source": [
    "s1.capitalize()"
   ]
  },
  {
   "cell_type": "code",
   "execution_count": 23,
   "id": "8e60fdc6",
   "metadata": {},
   "outputs": [],
   "source": [
    "a = \" of PWSKILLS.\""
   ]
  },
  {
   "cell_type": "code",
   "execution_count": 24,
   "id": "155938bf",
   "metadata": {},
   "outputs": [
    {
     "data": {
      "text/plain": [
       "'This is my string class of PWSKILLS.'"
      ]
     },
     "execution_count": 24,
     "metadata": {},
     "output_type": "execute_result"
    }
   ],
   "source": [
    "s1+a"
   ]
  },
  {
   "cell_type": "code",
   "execution_count": 22,
   "id": "d1ad5b64",
   "metadata": {},
   "outputs": [],
   "source": [
    "# This is my first class of programming"
   ]
  },
  {
   "cell_type": "markdown",
   "id": "2e4a9afb",
   "metadata": {},
   "source": [
    "# LISTS"
   ]
  },
  {
   "cell_type": "code",
   "execution_count": 26,
   "id": "502ca498",
   "metadata": {},
   "outputs": [
    {
     "name": "stdout",
     "output_type": "stream",
     "text": [
      "[1, 45, 345, 'sudh', (4+5j), 445.55]\n"
     ]
    }
   ],
   "source": [
    "l = [1,45,345,\"sudh\",4+5j,445.55]\n",
    "print(l)"
   ]
  },
  {
   "cell_type": "code",
   "execution_count": 27,
   "id": "874059aa",
   "metadata": {},
   "outputs": [
    {
     "data": {
      "text/plain": [
       "list"
      ]
     },
     "execution_count": 27,
     "metadata": {},
     "output_type": "execute_result"
    }
   ],
   "source": [
    "type(l)"
   ]
  },
  {
   "cell_type": "code",
   "execution_count": 28,
   "id": "a307bdff",
   "metadata": {},
   "outputs": [
    {
     "data": {
      "text/plain": [
       "45"
      ]
     },
     "execution_count": 28,
     "metadata": {},
     "output_type": "execute_result"
    }
   ],
   "source": [
    "l[1]"
   ]
  },
  {
   "cell_type": "code",
   "execution_count": 29,
   "id": "53711c53",
   "metadata": {},
   "outputs": [
    {
     "data": {
      "text/plain": [
       "445.55"
      ]
     },
     "execution_count": 29,
     "metadata": {},
     "output_type": "execute_result"
    }
   ],
   "source": [
    "l[-1]"
   ]
  },
  {
   "cell_type": "code",
   "execution_count": 30,
   "id": "2ee0b4ac",
   "metadata": {},
   "outputs": [
    {
     "data": {
      "text/plain": [
       "[1, 45, 345]"
      ]
     },
     "execution_count": 30,
     "metadata": {},
     "output_type": "execute_result"
    }
   ],
   "source": [
    "l[0:3]"
   ]
  },
  {
   "cell_type": "code",
   "execution_count": 31,
   "id": "f8da439d",
   "metadata": {},
   "outputs": [
    {
     "data": {
      "text/plain": [
       "[445.55, (4+5j), 'sudh', 345, 45, 1]"
      ]
     },
     "execution_count": 31,
     "metadata": {},
     "output_type": "execute_result"
    }
   ],
   "source": [
    "l[::-1]"
   ]
  },
  {
   "cell_type": "code",
   "execution_count": 33,
   "id": "2abbdd9c",
   "metadata": {},
   "outputs": [
    {
     "data": {
      "text/plain": [
       "[1, 345, (4+5j)]"
      ]
     },
     "execution_count": 33,
     "metadata": {},
     "output_type": "execute_result"
    }
   ],
   "source": [
    "l[::2]"
   ]
  },
  {
   "cell_type": "code",
   "execution_count": 35,
   "id": "8bfc1608",
   "metadata": {},
   "outputs": [
    {
     "data": {
      "text/plain": [
       "'su'"
      ]
     },
     "execution_count": 35,
     "metadata": {},
     "output_type": "execute_result"
    }
   ],
   "source": [
    "l[3][0:2]"
   ]
  },
  {
   "cell_type": "code",
   "execution_count": 3,
   "id": "2d544a93",
   "metadata": {},
   "outputs": [
    {
     "name": "stdout",
     "output_type": "stream",
     "text": [
      "[1, 45, 345, 'sudh', True, (4+5j), 445.55]\n"
     ]
    }
   ],
   "source": [
    "a = [1,45,345,\"sudh\",True,4+5j,445.55]\n",
    "print(a)"
   ]
  },
  {
   "cell_type": "code",
   "execution_count": 4,
   "id": "091299e6",
   "metadata": {},
   "outputs": [
    {
     "data": {
      "text/plain": [
       "'Tru'"
      ]
     },
     "execution_count": 4,
     "metadata": {},
     "output_type": "execute_result"
    }
   ],
   "source": [
    "str(a[4])[0:3]"
   ]
  },
  {
   "cell_type": "code",
   "execution_count": 5,
   "id": "60ca3ee0",
   "metadata": {},
   "outputs": [],
   "source": [
    "b = [2,3,4]"
   ]
  },
  {
   "cell_type": "code",
   "execution_count": 6,
   "id": "f1da859d",
   "metadata": {},
   "outputs": [
    {
     "data": {
      "text/plain": [
       "[1, 45, 345, 'sudh', True, (4+5j), 445.55, 2, 3, 4]"
      ]
     },
     "execution_count": 6,
     "metadata": {},
     "output_type": "execute_result"
    }
   ],
   "source": [
    "a+b"
   ]
  },
  {
   "cell_type": "markdown",
   "id": "1bc3c5ef",
   "metadata": {},
   "source": [
    "EXTEND"
   ]
  },
  {
   "cell_type": "code",
   "execution_count": 7,
   "id": "191fd9fc",
   "metadata": {},
   "outputs": [
    {
     "data": {
      "text/plain": [
       "[1, 45, 345, 'sudh', True, (4+5j), 445.55, 2, 3, 4]"
      ]
     },
     "execution_count": 7,
     "metadata": {},
     "output_type": "execute_result"
    }
   ],
   "source": [
    "a.extend(b)\n",
    "a"
   ]
  },
  {
   "cell_type": "markdown",
   "id": "806edc82",
   "metadata": {},
   "source": [
    "INSERT\n",
    "\n"
   ]
  },
  {
   "cell_type": "code",
   "execution_count": 8,
   "id": "b8aab187",
   "metadata": {},
   "outputs": [],
   "source": [
    "a.insert(2,b)"
   ]
  },
  {
   "cell_type": "code",
   "execution_count": 9,
   "id": "35f910c4",
   "metadata": {},
   "outputs": [
    {
     "data": {
      "text/plain": [
       "[1, 45, [2, 3, 4], 345, 'sudh', True, (4+5j), 445.55, 2, 3, 4]"
      ]
     },
     "execution_count": 9,
     "metadata": {},
     "output_type": "execute_result"
    }
   ],
   "source": [
    "a"
   ]
  },
  {
   "cell_type": "code",
   "execution_count": 10,
   "id": "dd2caa86",
   "metadata": {},
   "outputs": [
    {
     "data": {
      "text/plain": [
       "'In case of insert the item will be added as it is list and that\\nwill be considered as a single element in the list'"
      ]
     },
     "execution_count": 10,
     "metadata": {},
     "output_type": "execute_result"
    }
   ],
   "source": [
    "# In append we can add one item to a list at the end\n",
    "# In extend we can add multiple elements in the list \n",
    "# In insert we can add any elements to the list at a perticular index\n",
    "\"\"\"In case of insert the item will be added as it is list and that\n",
    "will be considered as a single element in the list\"\"\"\n",
    "# append and extend will add the data at last of the list"
   ]
  },
  {
   "cell_type": "code",
   "execution_count": 11,
   "id": "b1ac07a3",
   "metadata": {},
   "outputs": [
    {
     "data": {
      "text/plain": [
       "3"
      ]
     },
     "execution_count": 11,
     "metadata": {},
     "output_type": "execute_result"
    }
   ],
   "source": [
    "a[2][1]"
   ]
  },
  {
   "cell_type": "markdown",
   "id": "a974b573",
   "metadata": {},
   "source": [
    "POP"
   ]
  },
  {
   "cell_type": "code",
   "execution_count": 12,
   "id": "c3ae326c",
   "metadata": {},
   "outputs": [
    {
     "data": {
      "text/plain": [
       "'sudh'"
      ]
     },
     "execution_count": 12,
     "metadata": {},
     "output_type": "execute_result"
    }
   ],
   "source": [
    "a.pop(4)"
   ]
  },
  {
   "cell_type": "code",
   "execution_count": 13,
   "id": "b41f27cc",
   "metadata": {},
   "outputs": [
    {
     "data": {
      "text/plain": [
       "[1, 45, [2, 3, 4], 345, True, (4+5j), 445.55, 2, 3, 4]"
      ]
     },
     "execution_count": 13,
     "metadata": {},
     "output_type": "execute_result"
    }
   ],
   "source": [
    "a"
   ]
  },
  {
   "cell_type": "code",
   "execution_count": 14,
   "id": "f26e8e40",
   "metadata": {},
   "outputs": [
    {
     "data": {
      "text/plain": [
       "4"
      ]
     },
     "execution_count": 14,
     "metadata": {},
     "output_type": "execute_result"
    }
   ],
   "source": [
    "a.pop()"
   ]
  },
  {
   "cell_type": "code",
   "execution_count": 15,
   "id": "d8673993",
   "metadata": {},
   "outputs": [
    {
     "data": {
      "text/plain": [
       "3"
      ]
     },
     "execution_count": 15,
     "metadata": {},
     "output_type": "execute_result"
    }
   ],
   "source": [
    "a.pop()"
   ]
  },
  {
   "cell_type": "code",
   "execution_count": 16,
   "id": "08e3a818",
   "metadata": {},
   "outputs": [
    {
     "data": {
      "text/plain": [
       "'In this if we didnt gave an index in the pop then it removes last\\nelement of the list and if we pass the index value then removes that\\nperticular element'"
      ]
     },
     "execution_count": 16,
     "metadata": {},
     "output_type": "execute_result"
    }
   ],
   "source": [
    "'''In this if we didnt gave an index in the pop then it removes last\n",
    "element of the list and if we pass the index value then removes that\n",
    "perticular element'''"
   ]
  },
  {
   "cell_type": "code",
   "execution_count": 17,
   "id": "74b34bed",
   "metadata": {},
   "outputs": [
    {
     "data": {
      "text/plain": [
       "345"
      ]
     },
     "execution_count": 17,
     "metadata": {},
     "output_type": "execute_result"
    }
   ],
   "source": [
    "a.pop(3)"
   ]
  },
  {
   "cell_type": "code",
   "execution_count": 18,
   "id": "f432bfd0",
   "metadata": {},
   "outputs": [
    {
     "data": {
      "text/plain": [
       "[2, 3, 4]"
      ]
     },
     "execution_count": 18,
     "metadata": {},
     "output_type": "execute_result"
    }
   ],
   "source": [
    "a.pop(2)"
   ]
  },
  {
   "cell_type": "code",
   "execution_count": 19,
   "id": "35592574",
   "metadata": {},
   "outputs": [
    {
     "data": {
      "text/plain": [
       "[1, 45, True, (4+5j), 445.55, 2]"
      ]
     },
     "execution_count": 19,
     "metadata": {},
     "output_type": "execute_result"
    }
   ],
   "source": [
    "a"
   ]
  },
  {
   "cell_type": "markdown",
   "id": "f7618f06",
   "metadata": {},
   "source": [
    "REMOVE"
   ]
  },
  {
   "cell_type": "code",
   "execution_count": 20,
   "id": "221dc561",
   "metadata": {},
   "outputs": [
    {
     "data": {
      "text/plain": [
       "'In case of remove we have to pass the value and it removes the \\nfirst appearance of that element'"
      ]
     },
     "execution_count": 20,
     "metadata": {},
     "output_type": "execute_result"
    }
   ],
   "source": [
    "\"\"\"In case of remove we have to pass the value and it removes the \n",
    "first appearance of that element\"\"\""
   ]
  },
  {
   "cell_type": "code",
   "execution_count": 21,
   "id": "a73a79a0",
   "metadata": {},
   "outputs": [],
   "source": [
    "a.remove(2)"
   ]
  },
  {
   "cell_type": "code",
   "execution_count": 22,
   "id": "5768f759",
   "metadata": {},
   "outputs": [
    {
     "data": {
      "text/plain": [
       "[1, 45, True, (4+5j), 445.55]"
      ]
     },
     "execution_count": 22,
     "metadata": {},
     "output_type": "execute_result"
    }
   ],
   "source": [
    "a"
   ]
  },
  {
   "cell_type": "code",
   "execution_count": 23,
   "id": "6222c55b",
   "metadata": {},
   "outputs": [
    {
     "data": {
      "text/plain": [
       "[1, 45, [2, 3, 4], True, (4+5j), 445.55]"
      ]
     },
     "execution_count": 23,
     "metadata": {},
     "output_type": "execute_result"
    }
   ],
   "source": [
    "a.insert(2,b)\n",
    "a"
   ]
  },
  {
   "cell_type": "code",
   "execution_count": 25,
   "id": "19b7a03f",
   "metadata": {},
   "outputs": [],
   "source": [
    "a[2].remove(3)"
   ]
  },
  {
   "cell_type": "code",
   "execution_count": 26,
   "id": "5bc5c75e",
   "metadata": {},
   "outputs": [
    {
     "data": {
      "text/plain": [
       "[1, 45, [2, 4], True, (4+5j), 445.55]"
      ]
     },
     "execution_count": 26,
     "metadata": {},
     "output_type": "execute_result"
    }
   ],
   "source": [
    "a"
   ]
  },
  {
   "cell_type": "markdown",
   "id": "6417ec8b",
   "metadata": {},
   "source": [
    "REVERSE"
   ]
  },
  {
   "cell_type": "code",
   "execution_count": 29,
   "id": "d5a8d5fb",
   "metadata": {},
   "outputs": [
    {
     "data": {
      "text/plain": [
       "[445.55, (4+5j), True, [2, 4], 45, 1]"
      ]
     },
     "execution_count": 29,
     "metadata": {},
     "output_type": "execute_result"
    }
   ],
   "source": [
    "a.reverse()\n",
    "a"
   ]
  },
  {
   "cell_type": "markdown",
   "id": "772765a5",
   "metadata": {},
   "source": [
    "SORT"
   ]
  },
  {
   "cell_type": "code",
   "execution_count": 32,
   "id": "ba267eb5",
   "metadata": {},
   "outputs": [],
   "source": [
    "l=[2,3,6,2,5,4,6,7,9,8]"
   ]
  },
  {
   "cell_type": "code",
   "execution_count": 34,
   "id": "9fcd0a29",
   "metadata": {},
   "outputs": [
    {
     "data": {
      "text/plain": [
       "[2, 2, 3, 4, 5, 6, 6, 7, 8, 9]"
      ]
     },
     "execution_count": 34,
     "metadata": {},
     "output_type": "execute_result"
    }
   ],
   "source": [
    "l.sort()\n",
    "l"
   ]
  },
  {
   "cell_type": "code",
   "execution_count": null,
   "id": "f1010af9",
   "metadata": {},
   "outputs": [],
   "source": [
    "# In case of strings it sorts in alphabetical order"
   ]
  },
  {
   "cell_type": "code",
   "execution_count": 36,
   "id": "8a434003",
   "metadata": {},
   "outputs": [
    {
     "data": {
      "text/plain": [
       "[9, 8, 7, 6, 6, 5, 4, 3, 2, 2]"
      ]
     },
     "execution_count": 36,
     "metadata": {},
     "output_type": "execute_result"
    }
   ],
   "source": [
    "l.sort(reverse=True)\n",
    "l"
   ]
  },
  {
   "cell_type": "code",
   "execution_count": 37,
   "id": "e4e3bd7a",
   "metadata": {},
   "outputs": [
    {
     "data": {
      "text/plain": [
       "1"
      ]
     },
     "execution_count": 37,
     "metadata": {},
     "output_type": "execute_result"
    }
   ],
   "source": [
    "l.count(4)"
   ]
  },
  {
   "cell_type": "code",
   "execution_count": 38,
   "id": "c661344c",
   "metadata": {},
   "outputs": [],
   "source": [
    "l[1]=43"
   ]
  },
  {
   "cell_type": "code",
   "execution_count": 39,
   "id": "d90e3b6a",
   "metadata": {},
   "outputs": [
    {
     "data": {
      "text/plain": [
       "[9, 43, 7, 6, 6, 5, 4, 3, 2, 2]"
      ]
     },
     "execution_count": 39,
     "metadata": {},
     "output_type": "execute_result"
    }
   ],
   "source": [
    "l"
   ]
  },
  {
   "cell_type": "markdown",
   "id": "7a6f8992",
   "metadata": {},
   "source": [
    "# TUPLE"
   ]
  },
  {
   "cell_type": "code",
   "execution_count": 43,
   "id": "2593e885",
   "metadata": {},
   "outputs": [
    {
     "data": {
      "text/plain": [
       "(1, 45, [2, 3, 4], True, (4+5j), 445.55)"
      ]
     },
     "execution_count": 43,
     "metadata": {},
     "output_type": "execute_result"
    }
   ],
   "source": [
    "t=(1, 45, [2, 3, 4], True, (4+5j), 445.55)\n",
    "t"
   ]
  },
  {
   "cell_type": "code",
   "execution_count": 42,
   "id": "1b2e40c4",
   "metadata": {},
   "outputs": [
    {
     "data": {
      "text/plain": [
       "tuple"
      ]
     },
     "execution_count": 42,
     "metadata": {},
     "output_type": "execute_result"
    }
   ],
   "source": [
    "type(t)"
   ]
  },
  {
   "cell_type": "code",
   "execution_count": 44,
   "id": "ada33c30",
   "metadata": {},
   "outputs": [
    {
     "data": {
      "text/plain": [
       "6"
      ]
     },
     "execution_count": 44,
     "metadata": {},
     "output_type": "execute_result"
    }
   ],
   "source": [
    "len(t)"
   ]
  },
  {
   "cell_type": "code",
   "execution_count": 55,
   "id": "d79a8a4f",
   "metadata": {},
   "outputs": [
    {
     "data": {
      "text/plain": [
       "1"
      ]
     },
     "execution_count": 55,
     "metadata": {},
     "output_type": "execute_result"
    }
   ],
   "source": [
    "t[0]"
   ]
  },
  {
   "cell_type": "code",
   "execution_count": 46,
   "id": "98cd3f2e",
   "metadata": {},
   "outputs": [
    {
     "data": {
      "text/plain": [
       "[2, 3, 4]"
      ]
     },
     "execution_count": 46,
     "metadata": {},
     "output_type": "execute_result"
    }
   ],
   "source": [
    "t[2]"
   ]
  },
  {
   "cell_type": "code",
   "execution_count": 47,
   "id": "4f440021",
   "metadata": {},
   "outputs": [
    {
     "data": {
      "text/plain": [
       "(445.55, (4+5j), True, [2, 3, 4], 45, 1)"
      ]
     },
     "execution_count": 47,
     "metadata": {},
     "output_type": "execute_result"
    }
   ],
   "source": [
    "t[::-1]"
   ]
  },
  {
   "cell_type": "code",
   "execution_count": 48,
   "id": "b81a9492",
   "metadata": {},
   "outputs": [],
   "source": [
    "# The only diff in list and tuple is tuple is immutable and list is not"
   ]
  },
  {
   "cell_type": "code",
   "execution_count": 49,
   "id": "c7efcc2b",
   "metadata": {},
   "outputs": [],
   "source": [
    "# Item assignment and mutability is different"
   ]
  },
  {
   "cell_type": "code",
   "execution_count": 50,
   "id": "3f123455",
   "metadata": {},
   "outputs": [],
   "source": [
    "# In terms of immutability tuple tatally same as strings"
   ]
  },
  {
   "cell_type": "code",
   "execution_count": 54,
   "id": "192cd546",
   "metadata": {},
   "outputs": [
    {
     "data": {
      "text/plain": [
       "(1, 45, [2, 3, 4], True, (4+5j), 445.55)"
      ]
     },
     "execution_count": 54,
     "metadata": {},
     "output_type": "execute_result"
    }
   ],
   "source": [
    "t"
   ]
  },
  {
   "cell_type": "code",
   "execution_count": 52,
   "id": "83bce394",
   "metadata": {},
   "outputs": [
    {
     "data": {
      "text/plain": [
       "2"
      ]
     },
     "execution_count": 52,
     "metadata": {},
     "output_type": "execute_result"
    }
   ],
   "source": [
    "t.count(1)"
   ]
  },
  {
   "cell_type": "code",
   "execution_count": 53,
   "id": "993e2305",
   "metadata": {},
   "outputs": [
    {
     "data": {
      "text/plain": [
       "1"
      ]
     },
     "execution_count": 53,
     "metadata": {},
     "output_type": "execute_result"
    }
   ],
   "source": [
    "t.index(45)"
   ]
  },
  {
   "cell_type": "markdown",
   "id": "537e9478",
   "metadata": {},
   "source": [
    "# SET"
   ]
  },
  {
   "cell_type": "code",
   "execution_count": 58,
   "id": "f9eb33e4",
   "metadata": {},
   "outputs": [],
   "source": [
    "s = set()"
   ]
  },
  {
   "cell_type": "code",
   "execution_count": 59,
   "id": "bce4d759",
   "metadata": {},
   "outputs": [
    {
     "data": {
      "text/plain": [
       "set"
      ]
     },
     "execution_count": 59,
     "metadata": {},
     "output_type": "execute_result"
    }
   ],
   "source": [
    "type(s)"
   ]
  },
  {
   "cell_type": "code",
   "execution_count": 60,
   "id": "2c6a04c0",
   "metadata": {},
   "outputs": [
    {
     "data": {
      "text/plain": [
       "{(3, 4, 5), (5+4j), 2, 3, 4, 5, 54.55, 6, 7, 9, True, 'afhah'}"
      ]
     },
     "execution_count": 60,
     "metadata": {},
     "output_type": "execute_result"
    }
   ],
   "source": [
    "s = {2,3,6,7,4,5,9,5+4j,54.55,(3,4,5),\"afhah\",True}\n",
    "s"
   ]
  },
  {
   "cell_type": "code",
   "execution_count": 61,
   "id": "ae150c28",
   "metadata": {},
   "outputs": [],
   "source": [
    "# In set we can use tuple but not list \n",
    "# we can only use immutable elements in set\n",
    "# set does not allows duplicate values"
   ]
  },
  {
   "cell_type": "code",
   "execution_count": 62,
   "id": "f3a310f4",
   "metadata": {},
   "outputs": [
    {
     "data": {
      "text/plain": [
       "[3, 4, 3, 5, 2, 5, 3, 2, 3]"
      ]
     },
     "execution_count": 62,
     "metadata": {},
     "output_type": "execute_result"
    }
   ],
   "source": [
    "s3 = [3,4,3,5,2,5,3,2,3]\n",
    "s3"
   ]
  },
  {
   "cell_type": "code",
   "execution_count": 63,
   "id": "0641e194",
   "metadata": {},
   "outputs": [
    {
     "data": {
      "text/plain": [
       "{2, 3, 4, 5}"
      ]
     },
     "execution_count": 63,
     "metadata": {},
     "output_type": "execute_result"
    }
   ],
   "source": [
    "s3 = set(s3)\n",
    "s3"
   ]
  },
  {
   "cell_type": "code",
   "execution_count": 64,
   "id": "0b368838",
   "metadata": {},
   "outputs": [
    {
     "data": {
      "text/plain": [
       "'Set never arrange data in ascending order and it is the \\nunordered collection of data '"
      ]
     },
     "execution_count": 64,
     "metadata": {},
     "output_type": "execute_result"
    }
   ],
   "source": [
    "\"\"\"Set never arrange data in ascending order and it is the \n",
    "unordered collection of data \"\"\""
   ]
  },
  {
   "cell_type": "code",
   "execution_count": 66,
   "id": "5e92a044",
   "metadata": {},
   "outputs": [],
   "source": [
    "# indexing , slicing is not going to work in case of sets"
   ]
  },
  {
   "cell_type": "code",
   "execution_count": 69,
   "id": "4458d41f",
   "metadata": {},
   "outputs": [
    {
     "data": {
      "text/plain": [
       "{(3, 4, 5), (5+4j), 2, 3, 4, 5, 54.55, 6, 7, 78, 9, True, 'afhah'}"
      ]
     },
     "execution_count": 69,
     "metadata": {},
     "output_type": "execute_result"
    }
   ],
   "source": [
    "s.add(78)\n",
    "s"
   ]
  },
  {
   "cell_type": "code",
   "execution_count": 70,
   "id": "1bcfc2f9",
   "metadata": {},
   "outputs": [
    {
     "data": {
      "text/plain": [
       "{(3, 4, 5), (5+4j), 2, 4, 5, 54.55, 6, 7, 78, 9, True, 'afhah'}"
      ]
     },
     "execution_count": 70,
     "metadata": {},
     "output_type": "execute_result"
    }
   ],
   "source": [
    "s.remove(3)\n",
    "s"
   ]
  },
  {
   "cell_type": "markdown",
   "id": "4b3d08cd",
   "metadata": {},
   "source": [
    "# DICTONARY"
   ]
  },
  {
   "cell_type": "code",
   "execution_count": 71,
   "id": "a9c9a9a4",
   "metadata": {},
   "outputs": [],
   "source": [
    "# In dict we hava key and value pair\n",
    "# In this case we can update values but not keys\n",
    "# key should always be unique\n",
    "# We can use any string and numeric and boolen value for key"
   ]
  },
  {
   "cell_type": "code",
   "execution_count": 72,
   "id": "822ce237",
   "metadata": {},
   "outputs": [
    {
     "data": {
      "text/plain": [
       "{}"
      ]
     },
     "execution_count": 72,
     "metadata": {},
     "output_type": "execute_result"
    }
   ],
   "source": [
    "d = {}\n",
    "d"
   ]
  },
  {
   "cell_type": "code",
   "execution_count": 73,
   "id": "64e3ccb5",
   "metadata": {},
   "outputs": [
    {
     "data": {
      "text/plain": [
       "dict"
      ]
     },
     "execution_count": 73,
     "metadata": {},
     "output_type": "execute_result"
    }
   ],
   "source": [
    "type(d)"
   ]
  },
  {
   "cell_type": "code",
   "execution_count": 74,
   "id": "9779f6fd",
   "metadata": {},
   "outputs": [
    {
     "data": {
      "text/plain": [
       "{'key': 'value'}"
      ]
     },
     "execution_count": 74,
     "metadata": {},
     "output_type": "execute_result"
    }
   ],
   "source": [
    "d1 = {'key':\"value\"}\n",
    "d1"
   ]
  },
  {
   "cell_type": "code",
   "execution_count": 75,
   "id": "5d39eb08",
   "metadata": {},
   "outputs": [],
   "source": [
    "d2 = {'name':\"amit\",'age':34,'number':334556666}"
   ]
  },
  {
   "cell_type": "code",
   "execution_count": 76,
   "id": "d99881c5",
   "metadata": {},
   "outputs": [
    {
     "data": {
      "text/plain": [
       "{'name': 'amit', 'age': 34, 'number': 334556666}"
      ]
     },
     "execution_count": 76,
     "metadata": {},
     "output_type": "execute_result"
    }
   ],
   "source": [
    "d2"
   ]
  },
  {
   "cell_type": "code",
   "execution_count": 80,
   "id": "40cb1fa7",
   "metadata": {},
   "outputs": [
    {
     "data": {
      "text/plain": [
       "'amit'"
      ]
     },
     "execution_count": 80,
     "metadata": {},
     "output_type": "execute_result"
    }
   ],
   "source": [
    "d2['name']"
   ]
  },
  {
   "cell_type": "code",
   "execution_count": 81,
   "id": "2a313ef5",
   "metadata": {},
   "outputs": [
    {
     "data": {
      "text/plain": [
       "34"
      ]
     },
     "execution_count": 81,
     "metadata": {},
     "output_type": "execute_result"
    }
   ],
   "source": [
    "d2['age']"
   ]
  },
  {
   "cell_type": "code",
   "execution_count": 82,
   "id": "3b83b9d7",
   "metadata": {},
   "outputs": [
    {
     "data": {
      "text/plain": [
       "{333: 'aaaa', 444: 'ppp'}"
      ]
     },
     "execution_count": 82,
     "metadata": {},
     "output_type": "execute_result"
    }
   ],
   "source": [
    "d3 = {333:\"ffhshg\",333:\"aaaa\",444:\"vvv\",444:\"ppp\"}\n",
    "d3"
   ]
  },
  {
   "cell_type": "code",
   "execution_count": 83,
   "id": "bbc6c2cb",
   "metadata": {},
   "outputs": [
    {
     "data": {
      "text/plain": [
       "'aaaa'"
      ]
     },
     "execution_count": 83,
     "metadata": {},
     "output_type": "execute_result"
    }
   ],
   "source": [
    "d3[333]"
   ]
  },
  {
   "cell_type": "code",
   "execution_count": 84,
   "id": "bf8b3c82",
   "metadata": {},
   "outputs": [
    {
     "data": {
      "text/plain": [
       "'ppp'"
      ]
     },
     "execution_count": 84,
     "metadata": {},
     "output_type": "execute_result"
    }
   ],
   "source": [
    "d3[444]"
   ]
  },
  {
   "cell_type": "code",
   "execution_count": 85,
   "id": "9ee12d76",
   "metadata": {},
   "outputs": [
    {
     "data": {
      "text/plain": [
       "\"In case of same key using the key will overwrited and that\\nwill return the end assigned value that's why key should be unique\""
      ]
     },
     "execution_count": 85,
     "metadata": {},
     "output_type": "execute_result"
    }
   ],
   "source": [
    "\"\"\"In case of same key using the key will overwrited and that\n",
    "will return the end assigned value that's why key should be unique\"\"\""
   ]
  },
  {
   "cell_type": "code",
   "execution_count": 87,
   "id": "c9662d12",
   "metadata": {},
   "outputs": [
    {
     "data": {
      "text/plain": [
       "{'company': 'pwskills', 'course': ['web', 'ds', 'AI']}"
      ]
     },
     "execution_count": 87,
     "metadata": {},
     "output_type": "execute_result"
    }
   ],
   "source": [
    "d5 = {'company':\"pwskills\",'course':[\"web\",\"ds\",\"AI\"]}\n",
    "d5"
   ]
  },
  {
   "cell_type": "code",
   "execution_count": 88,
   "id": "2d72dd96",
   "metadata": {},
   "outputs": [],
   "source": [
    "# we can add a list as well in the values"
   ]
  },
  {
   "cell_type": "code",
   "execution_count": 89,
   "id": "85fb794f",
   "metadata": {},
   "outputs": [
    {
     "data": {
      "text/plain": [
       "'AI'"
      ]
     },
     "execution_count": 89,
     "metadata": {},
     "output_type": "execute_result"
    }
   ],
   "source": [
    "d5['course'][2]"
   ]
  },
  {
   "cell_type": "code",
   "execution_count": 90,
   "id": "3ef92cd1",
   "metadata": {},
   "outputs": [
    {
     "data": {
      "text/plain": [
       "{'num': [2, 34, 5, 6],\n",
       " 'assignment': (2, 4, 7, 8, 9),\n",
       " 'set': {4, 6, 7},\n",
       " 'class': {'web': 4}}"
      ]
     },
     "execution_count": 90,
     "metadata": {},
     "output_type": "execute_result"
    }
   ],
   "source": [
    "d6 = {'num':[2,34,5,6],'assignment':(2,4,7,8,9),'set':{4,6,7},'class':{'web':4}}\n",
    "d6"
   ]
  },
  {
   "cell_type": "code",
   "execution_count": 91,
   "id": "ab041960",
   "metadata": {},
   "outputs": [],
   "source": [
    "# we can add any data type as value in the dict"
   ]
  },
  {
   "cell_type": "code",
   "execution_count": 92,
   "id": "36ec6691",
   "metadata": {},
   "outputs": [
    {
     "data": {
      "text/plain": [
       "4"
      ]
     },
     "execution_count": 92,
     "metadata": {},
     "output_type": "execute_result"
    }
   ],
   "source": [
    "d6['class']['web']"
   ]
  },
  {
   "cell_type": "code",
   "execution_count": 98,
   "id": "cbd752e1",
   "metadata": {},
   "outputs": [
    {
     "data": {
      "text/plain": [
       "'but if that key name is allready present then \\nthat will be overwrited not added'"
      ]
     },
     "execution_count": 98,
     "metadata": {},
     "output_type": "execute_result"
    }
   ],
   "source": [
    "# If we have to add any pair then we can add\n",
    "\"\"\"but if that key name is allready present then \n",
    "that will be overwrited not added\"\"\""
   ]
  },
  {
   "cell_type": "code",
   "execution_count": 97,
   "id": "ae9829e5",
   "metadata": {},
   "outputs": [
    {
     "data": {
      "text/plain": [
       "{'num': [2, 34, 5, 6],\n",
       " 'assignment': (2, 4, 7, 8, 9),\n",
       " 'set': {4, 6, 7},\n",
       " 'class': {'web': 4},\n",
       " 'key': [3, 5, 6, 7]}"
      ]
     },
     "execution_count": 97,
     "metadata": {},
     "output_type": "execute_result"
    }
   ],
   "source": [
    "d6['key']=[3,5,6,7]\n",
    "d6"
   ]
  },
  {
   "cell_type": "code",
   "execution_count": 99,
   "id": "52b07e92",
   "metadata": {},
   "outputs": [
    {
     "data": {
      "text/plain": [
       "{'num': [2, 34, 5, 6],\n",
       " 'assignment': (2, 4, 7, 8, 9),\n",
       " 'set': {4, 6, 7},\n",
       " 'class': {'web': 4}}"
      ]
     },
     "execution_count": 99,
     "metadata": {},
     "output_type": "execute_result"
    }
   ],
   "source": [
    "del d6['key']\n",
    "d6"
   ]
  },
  {
   "cell_type": "code",
   "execution_count": 100,
   "id": "16ca452c",
   "metadata": {},
   "outputs": [
    {
     "data": {
      "text/plain": [
       "dict_keys(['num', 'assignment', 'set', 'class'])"
      ]
     },
     "execution_count": 100,
     "metadata": {},
     "output_type": "execute_result"
    }
   ],
   "source": [
    "d6.keys()"
   ]
  },
  {
   "cell_type": "code",
   "execution_count": 101,
   "id": "531acd21",
   "metadata": {},
   "outputs": [
    {
     "data": {
      "text/plain": [
       "dict_values([[2, 34, 5, 6], (2, 4, 7, 8, 9), {4, 6, 7}, {'web': 4}])"
      ]
     },
     "execution_count": 101,
     "metadata": {},
     "output_type": "execute_result"
    }
   ],
   "source": [
    "d6.values()"
   ]
  },
  {
   "cell_type": "code",
   "execution_count": 105,
   "id": "9893ade9",
   "metadata": {},
   "outputs": [
    {
     "data": {
      "text/plain": [
       "dict_items([('num', [2, 34, 5, 6]), ('assignment', (2, 4, 7, 8, 9)), ('set', {4, 6, 7}), ('class', {'web': 4})])"
      ]
     },
     "execution_count": 105,
     "metadata": {},
     "output_type": "execute_result"
    }
   ],
   "source": [
    "# If we want both key and values\n",
    "d6.items()"
   ]
  },
  {
   "cell_type": "code",
   "execution_count": 106,
   "id": "fc2529a3",
   "metadata": {},
   "outputs": [
    {
     "data": {
      "text/plain": [
       "{'num': [2, 34, 5, 6], 'assignment': (2, 4, 7, 8, 9), 'set': {4, 6, 7}}"
      ]
     },
     "execution_count": 106,
     "metadata": {},
     "output_type": "execute_result"
    }
   ],
   "source": [
    "d6.pop('class')\n",
    "d6"
   ]
  },
  {
   "cell_type": "markdown",
   "id": "5c06ea89",
   "metadata": {},
   "source": [
    "TAKING DICTONARY AS A INPUT FROM USER"
   ]
  },
  {
   "cell_type": "code",
   "execution_count": 4,
   "id": "590aa596",
   "metadata": {},
   "outputs": [
    {
     "name": "stdout",
     "output_type": "stream",
     "text": [
      "ENTER THE LENGTH OF THE DICT: 3\n",
      "ENTER KEY : suresh\n",
      "ENTER VALUE :36\n",
      "ENTER KEY : ramesh\n",
      "ENTER VALUE :46\n",
      "ENTER KEY : mk\n",
      "ENTER VALUE :325\n",
      "THE DICT IS : \n",
      "==========================================\n",
      "{'suresh': '36', 'ramesh': '46', 'mk': '325'}\n"
     ]
    }
   ],
   "source": [
    "a = {}\n",
    "\n",
    "n = int(input(\"ENTER THE LENGTH OF THE DICT: \"))\n",
    "\n",
    "for i in range (n):\n",
    "    k = input(\"ENTER KEY : \")\n",
    "    v = input(\"ENTER VALUE :\")\n",
    "    a.update({k:v})\n",
    "    \n",
    "print (\"THE DICT IS : \")   \n",
    "print(\"==========================================\")\n",
    "\n",
    "print(a)"
   ]
  },
  {
   "cell_type": "markdown",
   "id": "7a9e8931",
   "metadata": {},
   "source": [
    "# CONTROL FLOW STATEMENTS"
   ]
  },
  {
   "cell_type": "markdown",
   "id": "d014e3cd",
   "metadata": {},
   "source": [
    " CONDITIONAL STATEMENTS"
   ]
  },
  {
   "cell_type": "markdown",
   "id": "45a96430",
   "metadata": {},
   "source": [
    "IF ELIF ELSE STATEMENTS"
   ]
  },
  {
   "cell_type": "code",
   "execution_count": 111,
   "id": "8ffd12a1",
   "metadata": {},
   "outputs": [
    {
     "name": "stdout",
     "output_type": "stream",
     "text": [
      "ENTER YOUR MARKS :120\n",
      "INVALID MARKS ..!\n"
     ]
    }
   ],
   "source": [
    "marks = int(input(\"ENTER YOUR MARKS :\"))\n",
    "\n",
    "if marks > 100 :\n",
    "    print(\"INVALID MARKS ..!\")\n",
    "\n",
    "elif marks <= 100 and marks >=80 :\n",
    "    print(\"PASS..!\")\n",
    "    \n",
    "elif marks >= 60 and marks < 80 :\n",
    "    print(\"THODA KAM PASS..!\")\n",
    "    \n",
    "elif marks >= 40 and marks < 60 :\n",
    "    print(\"BAHOT KAM PASS..!\")\n",
    "\n",
    "else :\n",
    "    print(\"FAIL..!\")"
   ]
  },
  {
   "cell_type": "code",
   "execution_count": 113,
   "id": "9954f675",
   "metadata": {},
   "outputs": [
    {
     "name": "stdout",
     "output_type": "stream",
     "text": [
      "ENTER THE PRICE : 1224\n",
      "AUKAT KE BAHAR !\n"
     ]
    }
   ],
   "source": [
    "price  = int(input(\"ENTER THE PRICE : \"))\n",
    "\n",
    "if price > 1000 :\n",
    "    print(\"AUKAT KE BAHAR !\")\n",
    "else :\n",
    "    print(\"WE CAN PURCHASE !\")"
   ]
  },
  {
   "cell_type": "code",
   "execution_count": 117,
   "id": "c6f8c11a",
   "metadata": {},
   "outputs": [
    {
     "name": "stdout",
     "output_type": "stream",
     "text": [
      "ENTER THE PRICE : 666\n",
      "KHARID SAKTE HAI !\n"
     ]
    }
   ],
   "source": [
    "price  = int(input(\"ENTER THE PRICE : \"))\n",
    "\n",
    "if price > 1000 :\n",
    "    print(\"AUKAT KE BAHAR !\")\n",
    "    if price > 5000 :\n",
    "        print(\"MARNA HAI KYA BHOSDIKE !\")\n",
    "    elif price <2000 :\n",
    "        print(\"IT'S OK !\")\n",
    "elif price < 1000 :\n",
    "    print(\"KHARID SAKTE HAI !\")"
   ]
  },
  {
   "cell_type": "markdown",
   "id": "8f3d9759",
   "metadata": {},
   "source": [
    "# LOOPS"
   ]
  },
  {
   "cell_type": "markdown",
   "id": "93499d15",
   "metadata": {},
   "source": [
    "FOR LOOP"
   ]
  },
  {
   "cell_type": "code",
   "execution_count": 118,
   "id": "38d6c14f",
   "metadata": {},
   "outputs": [
    {
     "data": {
      "text/plain": [
       "[1, 2, 3, 8, 6, 4]"
      ]
     },
     "execution_count": 118,
     "metadata": {},
     "output_type": "execute_result"
    }
   ],
   "source": [
    "l = [1,2,3,8,6,4]\n",
    "l"
   ]
  },
  {
   "cell_type": "code",
   "execution_count": 121,
   "id": "e6456e73",
   "metadata": {},
   "outputs": [
    {
     "data": {
      "text/plain": [
       "[88]"
      ]
     },
     "execution_count": 121,
     "metadata": {},
     "output_type": "execute_result"
    }
   ],
   "source": [
    "l1 = []\n",
    "l1.append(88)\n",
    "l1"
   ]
  },
  {
   "cell_type": "code",
   "execution_count": 124,
   "id": "241471c7",
   "metadata": {},
   "outputs": [
    {
     "name": "stdout",
     "output_type": "stream",
     "text": [
      "1\n",
      "2\n",
      "3\n",
      "8\n",
      "6\n",
      "4\n"
     ]
    },
    {
     "data": {
      "text/plain": [
       "[88, 7, 8, 9, 14, 12, 10]"
      ]
     },
     "execution_count": 124,
     "metadata": {},
     "output_type": "execute_result"
    }
   ],
   "source": [
    "for i in l :\n",
    "    print(i)\n",
    "    l1.append(i+6)\n",
    "    \n",
    "l1"
   ]
  },
  {
   "cell_type": "code",
   "execution_count": 126,
   "id": "c194f13f",
   "metadata": {},
   "outputs": [
    {
     "data": {
      "text/plain": [
       "['sudh', 'my', 'mk']"
      ]
     },
     "execution_count": 126,
     "metadata": {},
     "output_type": "execute_result"
    }
   ],
   "source": [
    "l2 = [\"sudh\",\"my\",\"mk\"]\n",
    "l2"
   ]
  },
  {
   "cell_type": "code",
   "execution_count": 134,
   "id": "7a84e4fb",
   "metadata": {},
   "outputs": [
    {
     "data": {
      "text/plain": [
       "['SUDH', 'MY', 'MK']"
      ]
     },
     "execution_count": 134,
     "metadata": {},
     "output_type": "execute_result"
    }
   ],
   "source": [
    "l3 = []\n",
    "for i in l2 :\n",
    "    l3.append(i.upper())\n",
    "    \n",
    "l3"
   ]
  },
  {
   "cell_type": "code",
   "execution_count": 136,
   "id": "c5802e6d",
   "metadata": {},
   "outputs": [
    {
     "data": {
      "text/plain": [
       "[1, 2, 3, 4, 'sudh', 'shubh', 76.9]"
      ]
     },
     "execution_count": 136,
     "metadata": {},
     "output_type": "execute_result"
    }
   ],
   "source": [
    "l4 =[1,2,3,4,\"sudh\",\"shubh\",76.9]\n",
    "l4"
   ]
  },
  {
   "cell_type": "code",
   "execution_count": 138,
   "id": "9def8612",
   "metadata": {},
   "outputs": [
    {
     "name": "stdout",
     "output_type": "stream",
     "text": [
      "[1, 2, 3, 4, 76.9]\n",
      "['sudh', 'shubh']\n"
     ]
    }
   ],
   "source": [
    "l5 = []\n",
    "l6 = []\n",
    "\n",
    "for i in l4 :\n",
    "    if type(i) == int or type(i) == float :\n",
    "        l5.append(i)\n",
    "    else :\n",
    "        l6.append(i)\n",
    "        \n",
    "print(l5)\n",
    "print(l6)"
   ]
  },
  {
   "cell_type": "markdown",
   "id": "cfcdf2b6",
   "metadata": {},
   "source": [
    "WHILE LOOP"
   ]
  },
  {
   "cell_type": "code",
   "execution_count": 1,
   "id": "7bf9aa9d",
   "metadata": {},
   "outputs": [
    {
     "name": "stdout",
     "output_type": "stream",
     "text": [
      "0\n",
      "1\n",
      "2\n",
      "3\n",
      "4\n",
      "5\n",
      "6\n",
      "7\n",
      "8\n",
      "9\n",
      "10\n",
      "11\n",
      "12\n",
      "13\n",
      "14\n",
      "15\n",
      "16\n",
      "17\n",
      "18\n",
      "19\n",
      "20\n",
      "21\n",
      "22\n",
      "23\n",
      "24\n",
      "25\n",
      "26\n",
      "27\n",
      "28\n",
      "29\n",
      "30\n",
      "31\n",
      "32\n",
      "33\n",
      "34\n",
      "35\n",
      "36\n",
      "37\n",
      "38\n",
      "39\n",
      "40\n",
      "41\n",
      "42\n",
      "43\n",
      "44\n",
      "45\n",
      "46\n",
      "47\n",
      "48\n",
      "49\n",
      "50\n"
     ]
    }
   ],
   "source": [
    "i = 0\n",
    "\n",
    "while (i<51):\n",
    "    print(i)\n",
    "    i = i+1\n",
    "    "
   ]
  },
  {
   "cell_type": "code",
   "execution_count": 5,
   "id": "dfc062ed",
   "metadata": {},
   "outputs": [
    {
     "name": "stdout",
     "output_type": "stream",
     "text": [
      "ENTER THE NUM : 5\n",
      "ENTER THE NUM : 7\n",
      "7\n",
      "ENTER THE NUM : 8\n",
      "8\n",
      "ENTER THE NUM : 4\n",
      "4\n",
      "ENTER THE NUM : 6\n",
      "6\n",
      "ENTER THE NUM : 65\n",
      "65\n",
      "Done with the loop ..!\n"
     ]
    }
   ],
   "source": [
    "i = int(input(\"ENTER THE NUM : \"))\n",
    "while (i<51):\n",
    "    i = int(input(\"ENTER THE NUM : \"))\n",
    "    print(i)\n",
    "    \n",
    "print(\"Done with the loop ..!\")\n",
    "    "
   ]
  },
  {
   "cell_type": "markdown",
   "id": "7fdb53da",
   "metadata": {},
   "source": [
    "DECREAMENTING WHILE LOOP"
   ]
  },
  {
   "cell_type": "code",
   "execution_count": 9,
   "id": "38dde3e6",
   "metadata": {},
   "outputs": [
    {
     "name": "stdout",
     "output_type": "stream",
     "text": [
      "7\n",
      "6\n",
      "5\n",
      "4\n",
      "3\n",
      "2\n",
      "1\n",
      "THE VALUE IS ZERO NOW\n"
     ]
    }
   ],
   "source": [
    "count = 7\n",
    "\n",
    "while(count>0):\n",
    "    print(count)\n",
    "    count = count-1\n",
    "    \n",
    "else:\n",
    "    print(\"THE VALUE IS ZERO NOW\")"
   ]
  },
  {
   "cell_type": "code",
   "execution_count": null,
   "id": "069c1d3f",
   "metadata": {},
   "outputs": [],
   "source": []
  },
  {
   "cell_type": "code",
   "execution_count": null,
   "id": "d6346ed1",
   "metadata": {},
   "outputs": [],
   "source": []
  }
 ],
 "metadata": {
  "kernelspec": {
   "display_name": "Python 3 (ipykernel)",
   "language": "python",
   "name": "python3"
  },
  "language_info": {
   "codemirror_mode": {
    "name": "ipython",
    "version": 3
   },
   "file_extension": ".py",
   "mimetype": "text/x-python",
   "name": "python",
   "nbconvert_exporter": "python",
   "pygments_lexer": "ipython3",
   "version": "3.9.13"
  }
 },
 "nbformat": 4,
 "nbformat_minor": 5
}
