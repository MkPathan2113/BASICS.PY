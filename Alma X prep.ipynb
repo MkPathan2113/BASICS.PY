{
 "cells": [
  {
   "cell_type": "markdown",
   "id": "1e2e368f",
   "metadata": {},
   "source": [
    "# Slicing\n"
   ]
  },
  {
   "cell_type": "markdown",
   "id": "198c1d19",
   "metadata": {},
   "source": [
    "Given a list, write a program to rotate it left by 3 positions using slicing.\n"
   ]
  },
  {
   "cell_type": "code",
   "execution_count": 7,
   "id": "25f1784f",
   "metadata": {},
   "outputs": [
    {
     "name": "stdout",
     "output_type": "stream",
     "text": [
      "1,2,3,4,5,6\n"
     ]
    },
    {
     "data": {
      "text/plain": [
       "(4, 5, 6, 1, 2, 3)"
      ]
     },
     "execution_count": 7,
     "metadata": {},
     "output_type": "execute_result"
    }
   ],
   "source": [
    "list = eval(input())\n",
    "\n",
    "def rotate(list,n):\n",
    "    \n",
    "    return list[n:] + list[:n]\n",
    "\n",
    "rotate(list,3)\n"
   ]
  },
  {
   "cell_type": "markdown",
   "id": "ee39138b",
   "metadata": {},
   "source": [
    "Write a function that takes a string and returns every third character.\n"
   ]
  },
  {
   "cell_type": "code",
   "execution_count": 9,
   "id": "05a25215",
   "metadata": {},
   "outputs": [
    {
     "data": {
      "text/plain": [
       "'adgjm'"
      ]
     },
     "execution_count": 9,
     "metadata": {},
     "output_type": "execute_result"
    }
   ],
   "source": [
    "def thirdc(str) :\n",
    "    \n",
    "    return str[::3]\n",
    "thirdc('abcdefghijklm')"
   ]
  },
  {
   "cell_type": "markdown",
   "id": "4c78d878",
   "metadata": {},
   "source": [
    "Create a program to extract the middle third of a list of integers.\n"
   ]
  },
  {
   "cell_type": "code",
   "execution_count": 15,
   "id": "355bc5c4",
   "metadata": {},
   "outputs": [
    {
     "data": {
      "text/plain": [
       "[5, 6, 7, 8]"
      ]
     },
     "execution_count": 15,
     "metadata": {},
     "output_type": "execute_result"
    }
   ],
   "source": [
    "l = [1, 2, 3, 4, 5, 6, 7, 8, 9, 10, 11, 12]\n",
    "\n",
    "def middlepart(list):\n",
    "    \n",
    "    n = len(list)//3\n",
    "    \n",
    "    return list[n:2*n]\n",
    "\n",
    "middlepart(l)"
   ]
  },
  {
   "cell_type": "markdown",
   "id": "41af865d",
   "metadata": {},
   "source": [
    "Write a function to split a list into two halves using slicing.\n"
   ]
  },
  {
   "cell_type": "code",
   "execution_count": 18,
   "id": "c5d05021",
   "metadata": {},
   "outputs": [
    {
     "data": {
      "text/plain": [
       "([1, 2, 3, 4, 5, 6], [7, 8, 9, 10, 11, 12])"
      ]
     },
     "execution_count": 18,
     "metadata": {},
     "output_type": "execute_result"
    }
   ],
   "source": [
    "def half(list):\n",
    "    \n",
    "    return list[:len(list)//2] , list[len(list)//2:]\n",
    "\n",
    "half(l)"
   ]
  },
  {
   "cell_type": "markdown",
   "id": "745cbd7e",
   "metadata": {},
   "source": [
    "Given a list of strings, write a program to reverse the order of characters in every other string.\n"
   ]
  },
  {
   "cell_type": "code",
   "execution_count": 29,
   "id": "8651eb1d",
   "metadata": {},
   "outputs": [
    {
     "data": {
      "text/plain": [
       "['apple', 'banana', 'cherry', 'date', 'elderberry']"
      ]
     },
     "execution_count": 29,
     "metadata": {},
     "output_type": "execute_result"
    }
   ],
   "source": [
    "lst = [\"apple\", \"ananab\", \"cherry\", \"etad\", \"elderberry\"]\n",
    "\n",
    "def restr(str):\n",
    "    \n",
    "    for i in range(len(str)):\n",
    "        if i % 2 != 0 :\n",
    "            \n",
    "            str[i] = str[i][::-1]\n",
    "    return str\n",
    "\n",
    "restr(lst)"
   ]
  },
  {
   "cell_type": "markdown",
   "id": "318392a5",
   "metadata": {},
   "source": [
    "# Operators\n"
   ]
  },
  {
   "cell_type": "markdown",
   "id": "d3c90906",
   "metadata": {},
   "source": [
    "Implement a Python function that calculates the bitwise XOR of all elements in a list.\n"
   ]
  },
  {
   "cell_type": "code",
   "execution_count": 30,
   "id": "adaa5110",
   "metadata": {},
   "outputs": [
    {
     "data": {
      "text/plain": [
       "12"
      ]
     },
     "execution_count": 30,
     "metadata": {},
     "output_type": "execute_result"
    }
   ],
   "source": [
    "def xor(num):\n",
    "    result = 0\n",
    "    for i in num :\n",
    "        result = result ^ i\n",
    "        \n",
    "    return result\n",
    "\n",
    "xor(l)"
   ]
  },
  {
   "cell_type": "markdown",
   "id": "0e6312a4",
   "metadata": {},
   "source": [
    "Write a program to compare two lists element-wise using logical operators and return a new list with results.\n"
   ]
  },
  {
   "cell_type": "code",
   "execution_count": 44,
   "id": "46b12cf0",
   "metadata": {},
   "outputs": [
    {
     "name": "stdout",
     "output_type": "stream",
     "text": [
      "[False, False, True]\n",
      "[True, False, True]\n"
     ]
    },
    {
     "data": {
      "text/plain": [
       "[False, True, False]"
      ]
     },
     "execution_count": 44,
     "metadata": {},
     "output_type": "execute_result"
    }
   ],
   "source": [
    "list1 = [True, False, True]\n",
    "list2 = [False, False, True]\n",
    "\n",
    "def logical(l1,l2,op):\n",
    "    \n",
    "    if len(l1) != len(l2):\n",
    "        \n",
    "        raise ValueError(\"Both lists must be of same length\")\n",
    "    result = []\n",
    "    \n",
    "    for a,b in zip(l1,l2):\n",
    "        \n",
    "        if op == 'and':\n",
    "            result.append(a and b)\n",
    "        elif op == 'or':\n",
    "            result.append(a or b)\n",
    "        elif op == 'not':\n",
    "            result.append(not a)\n",
    "        else:\n",
    "            raise ValueError(\"Unsupported operation type\")\n",
    "            \n",
    "    return result\n",
    "\n",
    "print(logical(list1,list2,'and'))\n",
    "print(logical(list1,list2,'or'))\n",
    "logical(list1,list2,'not')"
   ]
  },
  {
   "cell_type": "markdown",
   "id": "6f3ea29a",
   "metadata": {},
   "source": [
    "Create a function that takes a list of integers and returns a list with the square of each number using list comprehension and the ** operator.\n"
   ]
  },
  {
   "cell_type": "code",
   "execution_count": 49,
   "id": "43af9c58",
   "metadata": {},
   "outputs": [
    {
     "data": {
      "text/plain": [
       "[1, 4, 9]"
      ]
     },
     "execution_count": 49,
     "metadata": {},
     "output_type": "execute_result"
    }
   ],
   "source": [
    "l = [1,2,3]\n",
    "\n",
    "ls = [x**2 for x in l]\n",
    "ls"
   ]
  },
  {
   "cell_type": "markdown",
   "id": "e20db05e",
   "metadata": {},
   "source": [
    "Given two numbers, write a function to return their integer division result without using the division operator.\n"
   ]
  },
  {
   "cell_type": "code",
   "execution_count": 52,
   "id": "11a6f8d7",
   "metadata": {},
   "outputs": [
    {
     "data": {
      "text/plain": [
       "3"
      ]
     },
     "execution_count": 52,
     "metadata": {},
     "output_type": "execute_result"
    }
   ],
   "source": [
    "def dev(num , n):\n",
    "    count = 0 \n",
    "    while num >= n :\n",
    "        num = num -n\n",
    "        count += 1 \n",
    "        \n",
    "    return count\n",
    "\n",
    "dev(10,3)"
   ]
  },
  {
   "cell_type": "markdown",
   "id": "aff9a2fc",
   "metadata": {},
   "source": [
    "Implement a function that uses bitwise operators to determine if a number is even or odd.\n"
   ]
  },
  {
   "cell_type": "code",
   "execution_count": 54,
   "id": "e6d0ce74",
   "metadata": {},
   "outputs": [
    {
     "name": "stdout",
     "output_type": "stream",
     "text": [
      "Odd\n"
     ]
    }
   ],
   "source": [
    "def evenodd(x):\n",
    "    \n",
    "    if x % 2 == 0 :\n",
    "        print(\"Even\")\n",
    "    else :\n",
    "        print('Odd')\n",
    "\n",
    "evenodd(9)"
   ]
  },
  {
   "cell_type": "markdown",
   "id": "94f0ac27",
   "metadata": {},
   "source": [
    "# Built-in Functions\n"
   ]
  },
  {
   "cell_type": "markdown",
   "id": "5ed0ee0b",
   "metadata": {},
   "source": [
    "Write a program to find the maximum element in a nested list using the max() function.\n"
   ]
  },
  {
   "cell_type": "code",
   "execution_count": 1,
   "id": "3da861ec",
   "metadata": {},
   "outputs": [
    {
     "ename": "TypeError",
     "evalue": "'int' object is not iterable",
     "output_type": "error",
     "traceback": [
      "\u001b[1;31m---------------------------------------------------------------------------\u001b[0m",
      "\u001b[1;31mTypeError\u001b[0m                                 Traceback (most recent call last)",
      "\u001b[1;32m~\\AppData\\Local\\Temp\\ipykernel_15048\\967121380.py\u001b[0m in \u001b[0;36m<module>\u001b[1;34m\u001b[0m\n\u001b[0;32m     14\u001b[0m     \u001b[1;32mreturn\u001b[0m \u001b[0mmax\u001b[0m\u001b[1;33m(\u001b[0m\u001b[0mflatlist\u001b[0m\u001b[1;33m)\u001b[0m\u001b[1;33m\u001b[0m\u001b[1;33m\u001b[0m\u001b[0m\n\u001b[0;32m     15\u001b[0m \u001b[1;33m\u001b[0m\u001b[0m\n\u001b[1;32m---> 16\u001b[1;33m \u001b[0mmax_num\u001b[0m\u001b[1;33m(\u001b[0m\u001b[0mnested_listt\u001b[0m\u001b[1;33m)\u001b[0m\u001b[1;33m\u001b[0m\u001b[1;33m\u001b[0m\u001b[0m\n\u001b[0m",
      "\u001b[1;32m~\\AppData\\Local\\Temp\\ipykernel_15048\\967121380.py\u001b[0m in \u001b[0;36mmax_num\u001b[1;34m(nested_list)\u001b[0m\n\u001b[0;32m      7\u001b[0m     \u001b[1;32mfor\u001b[0m \u001b[0melement\u001b[0m \u001b[1;32min\u001b[0m \u001b[0mnested_list\u001b[0m \u001b[1;33m:\u001b[0m\u001b[1;33m\u001b[0m\u001b[1;33m\u001b[0m\u001b[0m\n\u001b[0;32m      8\u001b[0m         \u001b[1;32mif\u001b[0m \u001b[0misinstance\u001b[0m \u001b[1;33m(\u001b[0m\u001b[0melement\u001b[0m\u001b[1;33m,\u001b[0m\u001b[0mlist\u001b[0m\u001b[1;33m)\u001b[0m\u001b[1;33m:\u001b[0m\u001b[1;33m\u001b[0m\u001b[1;33m\u001b[0m\u001b[0m\n\u001b[1;32m----> 9\u001b[1;33m             \u001b[0mflatlist\u001b[0m\u001b[1;33m.\u001b[0m\u001b[0mextend\u001b[0m\u001b[1;33m(\u001b[0m\u001b[0mmax_num\u001b[0m\u001b[1;33m(\u001b[0m\u001b[0melement\u001b[0m\u001b[1;33m)\u001b[0m\u001b[1;33m)\u001b[0m\u001b[1;33m\u001b[0m\u001b[1;33m\u001b[0m\u001b[0m\n\u001b[0m\u001b[0;32m     10\u001b[0m \u001b[1;33m\u001b[0m\u001b[0m\n\u001b[0;32m     11\u001b[0m         \u001b[1;32melse\u001b[0m \u001b[1;33m:\u001b[0m\u001b[1;33m\u001b[0m\u001b[1;33m\u001b[0m\u001b[0m\n",
      "\u001b[1;31mTypeError\u001b[0m: 'int' object is not iterable"
     ]
    }
   ],
   "source": [
    "nested_listt = [[1, 2, 3],[4, 5, 6],[7, 8, 9],[10, [11, 12], 13]]\n",
    "\n",
    "def max_num(nested_list):\n",
    "    \n",
    "    flatlist = []\n",
    "    \n",
    "    for element in nested_list :\n",
    "        if isinstance (element,list):\n",
    "            flatlist.extend(max_num(element))\n",
    "            \n",
    "        else :\n",
    "            flatlist.append(element)\n",
    "    \n",
    "    return max(flatlist)\n",
    "\n",
    "max_num(nested_listt)"
   ]
  },
  {
   "cell_type": "markdown",
   "id": "05e225f2",
   "metadata": {},
   "source": [
    "Create a function that finds the sum of all elements in a list using reduce() from functools.\n"
   ]
  },
  {
   "cell_type": "code",
   "execution_count": 62,
   "id": "70604b4d",
   "metadata": {},
   "outputs": [
    {
     "data": {
      "text/plain": [
       "20"
      ]
     },
     "execution_count": 62,
     "metadata": {},
     "output_type": "execute_result"
    }
   ],
   "source": [
    "from functools import reduce \n",
    "\n",
    "l = [1,2,3,4,5]\n",
    "\n",
    "result = reduce(lambda x, y : x + y , l , len(l))\n",
    "\n",
    "result"
   ]
  },
  {
   "cell_type": "markdown",
   "id": "5357f8a1",
   "metadata": {},
   "source": [
    "Write a function that uses map() to convert a list of strings to uppercase.\n"
   ]
  },
  {
   "cell_type": "code",
   "execution_count": 2,
   "id": "06b3bcc8",
   "metadata": {},
   "outputs": [
    {
     "name": "stdout",
     "output_type": "stream",
     "text": [
      "['APPLE', 'ANANAB', 'CHERRY', 'ETAD', 'ELDERBERRY']\n"
     ]
    }
   ],
   "source": [
    "def upper(str):\n",
    "    return str.upper()\n",
    "\n",
    "lst = [\"apple\", \"ananab\", \"cherry\", \"etad\", \"elderberry\"]\n",
    "\n",
    "result = map(upper,lst)\n",
    "\n",
    "return_list = list(result)\n",
    "\n",
    "print(return_list)"
   ]
  },
  {
   "cell_type": "markdown",
   "id": "a1ce1d03",
   "metadata": {},
   "source": [
    "Implement a program to sort a dictionary by its values using the sorted() function.\n"
   ]
  },
  {
   "cell_type": "code",
   "execution_count": 6,
   "id": "956dd767",
   "metadata": {},
   "outputs": [
    {
     "name": "stdout",
     "output_type": "stream",
     "text": [
      "{'banana': 5, 'apple': 10, 'date': 15, 'cherry': 20}\n"
     ]
    }
   ],
   "source": [
    "# Sample dictionary\n",
    "my_dict = {'apple': 10, 'banana': 5, 'cherry': 20, 'date': 15}\n",
    "\n",
    "# Sorting the dictionary by its values\n",
    "sorted_dict = dict(sorted(my_dict.items(),key=lambda item : item[1]))\n",
    "\n",
    "print(sorted_dict)\n"
   ]
  },
  {
   "cell_type": "markdown",
   "id": "744e6b24",
   "metadata": {},
   "source": [
    "Use the filter() function to filter out all odd numbers from a list.\n"
   ]
  },
  {
   "cell_type": "code",
   "execution_count": 13,
   "id": "198e807c",
   "metadata": {},
   "outputs": [
    {
     "data": {
      "text/plain": [
       "[1, 3, 5]"
      ]
     },
     "execution_count": 13,
     "metadata": {},
     "output_type": "execute_result"
    }
   ],
   "source": [
    "lst = [1,2,3,4,5,6]\n",
    "\n",
    "result = list(filter(lambda x : x%2!=0 , lst))\n",
    "\n",
    "result"
   ]
  },
  {
   "cell_type": "markdown",
   "id": "85f16956",
   "metadata": {},
   "source": [
    "# Conditionals\n"
   ]
  },
  {
   "cell_type": "markdown",
   "id": "7876879f",
   "metadata": {},
   "source": [
    "Write a program that checks if a string contains both uppercase and lowercase letters using conditional statements.\n"
   ]
  },
  {
   "cell_type": "code",
   "execution_count": 14,
   "id": "e5cb25a3",
   "metadata": {},
   "outputs": [
    {
     "data": {
      "text/plain": [
       "'The string contains both upper and lower case characters'"
      ]
     },
     "execution_count": 14,
     "metadata": {},
     "output_type": "execute_result"
    }
   ],
   "source": [
    "def checkstr(s):\n",
    "    \n",
    "    has_up = False \n",
    "    has_lo = False \n",
    "    \n",
    "    for char in s :\n",
    "        if char.isupper():\n",
    "            has_up = True \n",
    "            \n",
    "        if char.islower():\n",
    "            has_lo = True \n",
    "            \n",
    "    if has_up and has_lo :\n",
    "        return \"The string contains both upper and lower case characters\"\n",
    "    \n",
    "    else : \n",
    "        return \"The string does not contains both upper and lower case characters\"\n",
    "    \n",
    "string = \"Almabetter\"\n",
    "\n",
    "checkstr(string)"
   ]
  },
  {
   "cell_type": "markdown",
   "id": "3bdddc7f",
   "metadata": {},
   "source": [
    "Create a function that returns \"Fizz\", \"Buzz\", or \"FizzBuzz\" based on a given integer input.\n"
   ]
  },
  {
   "cell_type": "code",
   "execution_count": 15,
   "id": "212f0038",
   "metadata": {},
   "outputs": [
    {
     "name": "stdout",
     "output_type": "stream",
     "text": [
      "FizzBuzz\n"
     ]
    }
   ],
   "source": [
    "def FizzBuzz(num):\n",
    "    \n",
    "    if num % 3 ==  0 and num % 5 == 0 :\n",
    "        print('FizzBuzz')\n",
    "        \n",
    "    elif num % 3 == 0 :\n",
    "        print('Fizz')\n",
    "        \n",
    "    elif num % 5 == 0 :\n",
    "        print('Buzz')\n",
    "        \n",
    "        \n",
    "FizzBuzz(15)"
   ]
  },
  {
   "cell_type": "markdown",
   "id": "f16aa5c3",
   "metadata": {},
   "source": [
    "Implement a Python function that checks if a given year is a leap year using nested if-else conditions.\n"
   ]
  },
  {
   "cell_type": "code",
   "execution_count": 17,
   "id": "eab81dd3",
   "metadata": {},
   "outputs": [
    {
     "data": {
      "text/plain": [
       "True"
      ]
     },
     "execution_count": 17,
     "metadata": {},
     "output_type": "execute_result"
    }
   ],
   "source": [
    "def leap_year(year):\n",
    "    \n",
    "    if year % 400 == 0 :\n",
    "        return True \n",
    "    elif year % 100 == 0 :\n",
    "        return False \n",
    "    elif year % 4 == 0 :\n",
    "        return True \n",
    "    else :\n",
    "        return False \n",
    "    \n",
    "    \n",
    "leap_year(2000)"
   ]
  },
  {
   "cell_type": "markdown",
   "id": "71a90d53",
   "metadata": {},
   "source": [
    "Write a program to find the largest of three numbers using conditional operators.\n"
   ]
  },
  {
   "cell_type": "code",
   "execution_count": 22,
   "id": "ef97c322",
   "metadata": {},
   "outputs": [
    {
     "data": {
      "text/plain": [
       "93"
      ]
     },
     "execution_count": 22,
     "metadata": {},
     "output_type": "execute_result"
    }
   ],
   "source": [
    "def largest(x,y,z):\n",
    "    \n",
    "    if x >= y and x >= z :\n",
    "        return x \n",
    "    elif y >= z and y >= x :\n",
    "        return y\n",
    "    else :\n",
    "        return z \n",
    "    \n",
    "largest(17,93,1)"
   ]
  },
  {
   "cell_type": "markdown",
   "id": "1fd74409",
   "metadata": {},
   "source": [
    "Create a function that returns the grade (A, B, C, etc.) based on a given score using multiple if-else conditions.\n"
   ]
  },
  {
   "cell_type": "code",
   "execution_count": 25,
   "id": "11f929d5",
   "metadata": {},
   "outputs": [
    {
     "name": "stdout",
     "output_type": "stream",
     "text": [
      "Fail\n",
      "Grade C\n",
      "Grade B\n",
      "Grade A\n",
      "Enter Valid Marks\n"
     ]
    }
   ],
   "source": [
    "def grade(marks):\n",
    "    \n",
    "    if marks > 100 :\n",
    "        return 'Enter Valid Marks'\n",
    "    \n",
    "    elif marks >= 90 :\n",
    "        return 'Grade A'\n",
    "    elif marks >= 70 :\n",
    "        return 'Grade B'\n",
    "    elif marks > 50 :\n",
    "        return 'Grade C'\n",
    "    else :\n",
    "        return \"Fail\"\n",
    "    \n",
    "print(grade(50))\n",
    "print(grade(60))\n",
    "print(grade(80))\n",
    "print(grade(93))\n",
    "print(grade(110))"
   ]
  },
  {
   "cell_type": "markdown",
   "id": "a3069cba",
   "metadata": {},
   "source": [
    "# Loops\n"
   ]
  },
  {
   "cell_type": "markdown",
   "id": "df353f8b",
   "metadata": {},
   "source": [
    "Write a program that prints the Fibonacci sequence up to the nth number using a while loop.\n"
   ]
  },
  {
   "cell_type": "code",
   "execution_count": 27,
   "id": "e1b9cac1",
   "metadata": {},
   "outputs": [
    {
     "data": {
      "text/plain": [
       "[1, 1, 2, 3, 5, 8, 13, 21, 34, 55]"
      ]
     },
     "execution_count": 27,
     "metadata": {},
     "output_type": "execute_result"
    }
   ],
   "source": [
    "def fib(n):\n",
    "    a,b = 0,1\n",
    "    count = 0\n",
    "    l = []\n",
    "    while count < n :\n",
    "        a, b = b,a+b\n",
    "        l.append(a)\n",
    "        count +=1\n",
    "        \n",
    "    return l\n",
    "\n",
    "fib(10)"
   ]
  },
  {
   "cell_type": "code",
   "execution_count": 28,
   "id": "b6380632",
   "metadata": {},
   "outputs": [
    {
     "data": {
      "text/plain": [
       "[1, 1, 2, 3, 5, 8]"
      ]
     },
     "execution_count": 28,
     "metadata": {},
     "output_type": "execute_result"
    }
   ],
   "source": [
    "def fib(n):\n",
    "    a,b = 0,1\n",
    "    l = []\n",
    "    while b < n :\n",
    "        a, b = b,a+b\n",
    "        l.append(a)\n",
    "        \n",
    "    return l\n",
    "\n",
    "fib(10)"
   ]
  },
  {
   "cell_type": "markdown",
   "id": "1f532d8f",
   "metadata": {},
   "source": [
    "Implement a program to reverse a given number using a while loop.\n"
   ]
  },
  {
   "cell_type": "code",
   "execution_count": 31,
   "id": "28053c26",
   "metadata": {},
   "outputs": [
    {
     "data": {
      "text/plain": [
       "3323"
      ]
     },
     "execution_count": 31,
     "metadata": {},
     "output_type": "execute_result"
    }
   ],
   "source": [
    "def reverse(num):\n",
    "    rev = 0\n",
    "    while num != 0 :\n",
    "        rem = num % 10\n",
    "        num = num // 10\n",
    "        \n",
    "        rev = (rev * 10) + rem\n",
    "        \n",
    "    return rev\n",
    "\n",
    "reverse(3233)"
   ]
  },
  {
   "cell_type": "markdown",
   "id": "5a1f2aff",
   "metadata": {},
   "source": [
    "Create a function that counts the number of vowels in a string using a for loop.\n"
   ]
  },
  {
   "cell_type": "code",
   "execution_count": 32,
   "id": "86cbd553",
   "metadata": {},
   "outputs": [
    {
     "data": {
      "text/plain": [
       "4"
      ]
     },
     "execution_count": 32,
     "metadata": {},
     "output_type": "execute_result"
    }
   ],
   "source": [
    "def vowels(str):\n",
    "    count = 0\n",
    "    for i in str :\n",
    "        if i in ['a','e','i','o','u','A','I','O','E','U'] :\n",
    "            count += 1\n",
    "    return count\n",
    "\n",
    "vowels('straeio')"
   ]
  },
  {
   "cell_type": "markdown",
   "id": "76e86a67",
   "metadata": {},
   "source": [
    "Write a program that generates a multiplication table for a given number using a for loop.\n"
   ]
  },
  {
   "cell_type": "code",
   "execution_count": 35,
   "id": "e1560abb",
   "metadata": {},
   "outputs": [
    {
     "name": "stdout",
     "output_type": "stream",
     "text": [
      "3\n",
      "6\n",
      "9\n",
      "12\n",
      "15\n",
      "18\n",
      "21\n",
      "24\n",
      "27\n",
      "30\n"
     ]
    }
   ],
   "source": [
    "def table(n):\n",
    "    \n",
    "    for i in range (1,11):\n",
    "        print(i * n)\n",
    "table(3)"
   ]
  },
  {
   "cell_type": "markdown",
   "id": "0e87c068",
   "metadata": {},
   "source": [
    "Implement a Python program to find the factorial of a number using a while loop.\n"
   ]
  },
  {
   "cell_type": "code",
   "execution_count": 41,
   "id": "77f7a097",
   "metadata": {},
   "outputs": [
    {
     "data": {
      "text/plain": [
       "120"
      ]
     },
     "execution_count": 41,
     "metadata": {},
     "output_type": "execute_result"
    }
   ],
   "source": [
    "def fact(n):\n",
    "    x = 1\n",
    "    while n > 0:\n",
    "        x = x * n \n",
    "        n = n-1\n",
    "    return x \n",
    "\n",
    "fact(5)"
   ]
  },
  {
   "cell_type": "markdown",
   "id": "9f11bf0a",
   "metadata": {},
   "source": [
    "# Iterations\n"
   ]
  },
  {
   "cell_type": "markdown",
   "id": "714f75fa",
   "metadata": {},
   "source": [
    "Write a program that flattens a nested list using a for loop and recursion.\n"
   ]
  },
  {
   "cell_type": "code",
   "execution_count": 42,
   "id": "fc3b0703",
   "metadata": {},
   "outputs": [
    {
     "data": {
      "text/plain": [
       "[1, 2, 3, 4, 5, 6, 7, 8, 9, 10, 11, 12, 13]"
      ]
     },
     "execution_count": 42,
     "metadata": {},
     "output_type": "execute_result"
    }
   ],
   "source": [
    "nested_listt = [[1, 2, 3],[4, 5, 6],[7, 8, 9],[10, [11, 12], 13]]\n",
    "\n",
    "def flatten_list(x):\n",
    "    \n",
    "    l = []\n",
    "    \n",
    "    for i in x :\n",
    "        if isinstance(i,list):\n",
    "            l.extend(flatten_list(i))\n",
    "        else:\n",
    "            l.append(i)\n",
    "    return l\n",
    "\n",
    "flatten_list(nested_listt)"
   ]
  },
  {
   "cell_type": "markdown",
   "id": "42df425f",
   "metadata": {},
   "source": [
    "Implement a function to find all prime numbers in a given range using a for loop.\n"
   ]
  },
  {
   "cell_type": "code",
   "execution_count": 48,
   "id": "c6711cf8",
   "metadata": {},
   "outputs": [
    {
     "data": {
      "text/plain": [
       "[5, 7, 9]"
      ]
     },
     "execution_count": 48,
     "metadata": {},
     "output_type": "execute_result"
    }
   ],
   "source": [
    "def isprime(n):\n",
    "    if n == 0 or n == 1 :\n",
    "        return False\n",
    "    l = []\n",
    "    \n",
    "    for i in range (2,n+1):\n",
    "        isprime = True \n",
    "        \n",
    "        for j in range (2,int(i**0.5)+1):\n",
    "            \n",
    "            if i % j == 0 :\n",
    "                isprime = False \n",
    "                break\n",
    "            if isprime :\n",
    "                l.append(i)\n",
    "    return l \n",
    "\n",
    "isprime(10)"
   ]
  },
  {
   "cell_type": "code",
   "execution_count": null,
   "id": "b61fbbee",
   "metadata": {},
   "outputs": [],
   "source": [
    "def isprime(n):\n",
    "    l = []\n",
    "    \n",
    "    for num in range(2, n + 1):  # Start from 2 because 0 and 1 are not prime numbers\n",
    "        is_prime = True\n",
    "        for i in range(2, int(num ** 0.5) + 1):\n",
    "            if num % i == 0:\n",
    "                is_prime = False\n",
    "                break\n",
    "        if is_prime:\n",
    "            l.append(num)\n",
    "    \n",
    "    return l\n",
    "\n",
    "# Example usage:\n",
    "print(isprime(10))  # Output: [2, 3, 5, 7]\n"
   ]
  },
  {
   "cell_type": "markdown",
   "id": "c3643433",
   "metadata": {},
   "source": [
    "Create a Python program that generates the first n powers of 2 using a list comprehension.\n"
   ]
  },
  {
   "cell_type": "code",
   "execution_count": 51,
   "id": "bd947787",
   "metadata": {},
   "outputs": [
    {
     "data": {
      "text/plain": [
       "[2, 4, 8, 16, 32, 64, 128, 256, 512]"
      ]
     },
     "execution_count": 51,
     "metadata": {},
     "output_type": "execute_result"
    }
   ],
   "source": [
    "def list_c(n):\n",
    "    result = [2**i for i in range (1,n+1)]\n",
    "    \n",
    "    return result\n",
    "\n",
    "list_c(9)"
   ]
  },
  {
   "cell_type": "markdown",
   "id": "4de4902d",
   "metadata": {},
   "source": [
    "Write a program to calculate the sum of the digits of a number using a while loop.\n"
   ]
  },
  {
   "cell_type": "code",
   "execution_count": 52,
   "id": "2ec5e357",
   "metadata": {},
   "outputs": [
    {
     "data": {
      "text/plain": [
       "9"
      ]
     },
     "execution_count": 52,
     "metadata": {},
     "output_type": "execute_result"
    }
   ],
   "source": [
    "def sumd(n):\n",
    "    \n",
    "    sum = 0\n",
    "    \n",
    "    while n > 0 :\n",
    "        rem = n%10\n",
    "        n = n // 10\n",
    "        \n",
    "        sum = sum + rem\n",
    "    return sum \n",
    "\n",
    "sumd(234)\n",
    "        "
   ]
  },
  {
   "cell_type": "markdown",
   "id": "0e6327f7",
   "metadata": {},
   "source": [
    "Implement a function that counts the frequency of each character in a string using a dictionary and a loop.\n"
   ]
  },
  {
   "cell_type": "code",
   "execution_count": 56,
   "id": "1a7fd9b7",
   "metadata": {},
   "outputs": [
    {
     "data": {
      "text/plain": [
       "{'a': 2, 'b': 3, 'c': 4, 'd': 5}"
      ]
     },
     "execution_count": 56,
     "metadata": {},
     "output_type": "execute_result"
    }
   ],
   "source": [
    "def frequency(str):\n",
    "    \n",
    "    d = {}\n",
    "    \n",
    "    for char in str :\n",
    "        if char in d :\n",
    "            d[char] += 1\n",
    "        else :\n",
    "            d[char] = 1\n",
    "            \n",
    "    return d \n",
    "\n",
    "frequency('aabbbccccddddd')"
   ]
  },
  {
   "cell_type": "markdown",
   "id": "46439276",
   "metadata": {},
   "source": [
    "Write a function that returns the second largest element in a list using a loop and conditional statements.\n"
   ]
  },
  {
   "cell_type": "code",
   "execution_count": 63,
   "id": "bdf60587",
   "metadata": {},
   "outputs": [
    {
     "data": {
      "text/plain": [
       "256"
      ]
     },
     "execution_count": 63,
     "metadata": {},
     "output_type": "execute_result"
    }
   ],
   "source": [
    "sqrs = [2, 2,4,4, 8, 16, 32, 64, 128, 256, 512]\n",
    "\n",
    "def second_largest(lst):\n",
    "    l =[]\n",
    "    for i in lst:\n",
    "        \n",
    "        if i not in l :\n",
    "            l.append(i)\n",
    "    sorted_list = sorted(l,reverse=True)\n",
    "    \n",
    "    return sorted_list[1]\n",
    "\n",
    "second_largest(sqrs)"
   ]
  },
  {
   "cell_type": "markdown",
   "id": "08b1d885",
   "metadata": {},
   "source": [
    "Create a Python program that checks if a string is a palindrome using slicing and a loop.\n"
   ]
  },
  {
   "cell_type": "code",
   "execution_count": 64,
   "id": "0586dcb9",
   "metadata": {},
   "outputs": [
    {
     "name": "stdout",
     "output_type": "stream",
     "text": [
      "True\n"
     ]
    }
   ],
   "source": [
    "def is_palindrome(s):\n",
    "    s = s.replace(\" \", \"\").lower()\n",
    "\n",
    "    if s == s[::-1]:\n",
    "        return True\n",
    "    for i in range(len(s) // 2):\n",
    "        if s[i] != s[-(i + 1)]:\n",
    "            return False\n",
    "    \n",
    "    return True\n",
    "\n",
    "string = \"A man a plan a canal Panama\"\n",
    "print(is_palindrome(string))  \n"
   ]
  },
  {
   "cell_type": "markdown",
   "id": "033c320e",
   "metadata": {},
   "source": [
    "Implement a function to calculate the sum of squares of even numbers in a list using list comprehension and the sum() function.\n"
   ]
  },
  {
   "cell_type": "code",
   "execution_count": 71,
   "id": "924b59f3",
   "metadata": {},
   "outputs": [
    {
     "data": {
      "text/plain": [
       "20"
      ]
     },
     "execution_count": 71,
     "metadata": {},
     "output_type": "execute_result"
    }
   ],
   "source": [
    "l = [1,2,3,4,5]\n",
    "\n",
    "def sum_sqrs(lst):\n",
    "    \n",
    "    result = sum(x**2 for x in lst if x % 2 == 0)\n",
    "    return result\n",
    "\n",
    "sum_sqrs(l)"
   ]
  },
  {
   "cell_type": "markdown",
   "id": "f1104171",
   "metadata": {},
   "source": [
    "Write a Python program to remove all occurrences of a specific element from a list using a loop and conditional statements.\n"
   ]
  },
  {
   "cell_type": "code",
   "execution_count": 75,
   "id": "17a765c8",
   "metadata": {},
   "outputs": [
    {
     "data": {
      "text/plain": [
       "[11, 2, 2]"
      ]
     },
     "execution_count": 75,
     "metadata": {},
     "output_type": "execute_result"
    }
   ],
   "source": [
    "l = [11,2,2,3,3,3]\n",
    "\n",
    "def remove_element(lst,n):\n",
    "    l1 = []\n",
    "    for i in lst : \n",
    "        if i != n :\n",
    "            l1.append(i)\n",
    "    \n",
    "    return l1\n",
    "\n",
    "remove_element(l,3)"
   ]
  },
  {
   "cell_type": "markdown",
   "id": "27a4bf06",
   "metadata": {},
   "source": [
    "Create a function that returns the GCD of two numbers using the Euclidean algorithm and a while loop.\n"
   ]
  },
  {
   "cell_type": "code",
   "execution_count": 80,
   "id": "5f175137",
   "metadata": {},
   "outputs": [
    {
     "data": {
      "text/plain": [
       "4"
      ]
     },
     "execution_count": 80,
     "metadata": {},
     "output_type": "execute_result"
    }
   ],
   "source": [
    "def gcd_numbers(num1,num2):\n",
    "    \n",
    "    while num2 > 0 :\n",
    "        \n",
    "        rem = num1%num2\n",
    "        num1 = num2\n",
    "        num2 = rem \n",
    "        \n",
    "    return num1 \n",
    "\n",
    "gcd_numbers(12,8)"
   ]
  },
  {
   "cell_type": "markdown",
   "id": "8823b109",
   "metadata": {},
   "source": [
    "# Advanced Challenges\n"
   ]
  },
  {
   "cell_type": "markdown",
   "id": "0befe78a",
   "metadata": {},
   "source": [
    "Write a Python function that sorts a list of tuples by the second element using sorted() and lambda expressions.\n"
   ]
  },
  {
   "cell_type": "code",
   "execution_count": 81,
   "id": "5b27a4a6",
   "metadata": {},
   "outputs": [
    {
     "data": {
      "text/plain": [
       "[(1, 'apple'), (3, 'banana'), (2, 'cherry')]"
      ]
     },
     "execution_count": 81,
     "metadata": {},
     "output_type": "execute_result"
    }
   ],
   "source": [
    "data = [(1, 'apple'), (3, 'banana'), (2, 'cherry')]\n",
    "\n",
    "def sort_tuple(lst):\n",
    "    \n",
    "    result = sorted(lst , key = lambda x : x[1])\n",
    "    \n",
    "    return result\n",
    "\n",
    "sort_tuple(data)"
   ]
  },
  {
   "cell_type": "markdown",
   "id": "48d8b6d1",
   "metadata": {},
   "source": [
    "Implement a function that calculates the sum of a list of integers but skips duplicates using a loop and conditionals.\n"
   ]
  },
  {
   "cell_type": "code",
   "execution_count": 82,
   "id": "5865ae65",
   "metadata": {},
   "outputs": [
    {
     "data": {
      "text/plain": [
       "28"
      ]
     },
     "execution_count": 82,
     "metadata": {},
     "output_type": "execute_result"
    }
   ],
   "source": [
    "l = [1,2,3,3,4,4,5,5,6,6,7,7,7]\n",
    "\n",
    "def sum_int(lst):\n",
    "    l = []\n",
    "    \n",
    "    for i in lst :\n",
    "        if i not in l:\n",
    "            l.append(i)\n",
    "    return sum(l)\n",
    "\n",
    "sum_int(l)"
   ]
  },
  {
   "cell_type": "markdown",
   "id": "8a3cd7f5",
   "metadata": {},
   "source": [
    "Write a program that generates all possible substrings of a given string using slicing and loops.\n"
   ]
  },
  {
   "cell_type": "code",
   "execution_count": 84,
   "id": "3c4fa5f8",
   "metadata": {},
   "outputs": [
    {
     "data": {
      "text/plain": [
       "['a',\n",
       " 'ab',\n",
       " 'abb',\n",
       " 'abbc',\n",
       " 'abbcc',\n",
       " 'abbccc',\n",
       " 'abbcccd',\n",
       " 'abbcccdd',\n",
       " 'abbcccddd',\n",
       " 'b',\n",
       " 'bb',\n",
       " 'bbc',\n",
       " 'bbcc',\n",
       " 'bbccc',\n",
       " 'bbcccd',\n",
       " 'bbcccdd',\n",
       " 'bbcccddd',\n",
       " 'b',\n",
       " 'bc',\n",
       " 'bcc',\n",
       " 'bccc',\n",
       " 'bcccd',\n",
       " 'bcccdd',\n",
       " 'bcccddd',\n",
       " 'c',\n",
       " 'cc',\n",
       " 'ccc',\n",
       " 'cccd',\n",
       " 'cccdd',\n",
       " 'cccddd',\n",
       " 'c',\n",
       " 'cc',\n",
       " 'ccd',\n",
       " 'ccdd',\n",
       " 'ccddd',\n",
       " 'c',\n",
       " 'cd',\n",
       " 'cdd',\n",
       " 'cddd',\n",
       " 'd',\n",
       " 'dd',\n",
       " 'ddd',\n",
       " 'd',\n",
       " 'dd',\n",
       " 'd']"
      ]
     },
     "execution_count": 84,
     "metadata": {},
     "output_type": "execute_result"
    }
   ],
   "source": [
    "s = 'abbcccddd'\n",
    "\n",
    "def substrings(s):\n",
    "    \n",
    "    sub = []\n",
    "    length = len(s)\n",
    "    \n",
    "    for start in range(length):\n",
    "        \n",
    "        for end in range(start+1,length+1):\n",
    "            \n",
    "            sub.append(s[start:end])\n",
    "            \n",
    "    return sub \n",
    "\n",
    "substrings(s)"
   ]
  },
  {
   "cell_type": "markdown",
   "id": "dfd2f3cb",
   "metadata": {},
   "source": [
    "Create a function that returns the longest common prefix among a list of strings using a loop.\n"
   ]
  },
  {
   "cell_type": "code",
   "execution_count": 8,
   "id": "148f8f87",
   "metadata": {},
   "outputs": [
    {
     "data": {
      "text/plain": [
       "'fl'"
      ]
     },
     "execution_count": 8,
     "metadata": {},
     "output_type": "execute_result"
    }
   ],
   "source": [
    "def common_prefix(s1,s2):\n",
    "    \n",
    "    prefix = ''\n",
    "    \n",
    "    for i in range(min(len(s1),len(s2))):\n",
    "        \n",
    "        if s1[i] == s2[i] :\n",
    "            prefix += s1[i]\n",
    "        else :\n",
    "            break \n",
    "    return prefix\n",
    "\n",
    "common_prefix('flower','flight')"
   ]
  },
  {
   "cell_type": "markdown",
   "id": "96f8f2b9",
   "metadata": {},
   "source": [
    "Implement a Python program that merges two sorted lists into one sorted list using a loop and conditionals.\n"
   ]
  },
  {
   "cell_type": "code",
   "execution_count": 9,
   "id": "d3b887b1",
   "metadata": {},
   "outputs": [
    {
     "data": {
      "text/plain": [
       "[1, 2, 3, 4, 5, 6]"
      ]
     },
     "execution_count": 9,
     "metadata": {},
     "output_type": "execute_result"
    }
   ],
   "source": [
    "def sorted_list(l1,l2):\n",
    "    \n",
    "    l3 = l1 + l2\n",
    "    \n",
    "    return sorted(l3)\n",
    "\n",
    "l1 = [1,3,2]\n",
    "l2 = [5,4,6]\n",
    "\n",
    "sorted_list(l1,l2)"
   ]
  },
  {
   "cell_type": "markdown",
   "id": "d5e1c1ce",
   "metadata": {},
   "source": [
    "# Mixed Difficulty\n"
   ]
  },
  {
   "cell_type": "markdown",
   "id": "64d47c58",
   "metadata": {},
   "source": [
    "Write a program to generate Pascal’s triangle up to n rows using loops.\n"
   ]
  },
  {
   "cell_type": "code",
   "execution_count": 10,
   "id": "ffa3b0f2",
   "metadata": {},
   "outputs": [
    {
     "name": "stdout",
     "output_type": "stream",
     "text": [
      "[[1], [1, 1], [1, 2, 1], [1, 3, 3, 1], [1, 4, 6, 4, 1]]\n"
     ]
    }
   ],
   "source": [
    "def generate_pascals_triangle(num_rows):\n",
    "    triangle = []\n",
    "    for i in range(num_rows):\n",
    "        row = [1] * (i + 1)\n",
    "        for j in range(1, i):\n",
    "            row[j] = triangle[i - 1][j - 1] + triangle[i - 1][j]\n",
    "        triangle.append(row)\n",
    "    return triangle\n",
    "\n",
    "# Example usage\n",
    "print(generate_pascals_triangle(5))\n"
   ]
  },
  {
   "cell_type": "markdown",
   "id": "5fcaf4b6",
   "metadata": {},
   "source": [
    "Implement a Python function that returns the transpose of a matrix using nested loops.\n"
   ]
  },
  {
   "cell_type": "code",
   "execution_count": 14,
   "id": "a1db9fe1",
   "metadata": {},
   "outputs": [
    {
     "name": "stdout",
     "output_type": "stream",
     "text": [
      "[[1, 4, 7], [2, 5, 8], [3, 6, 9]]\n"
     ]
    }
   ],
   "source": [
    "def transpose(matrix):\n",
    "    # Initialize an empty matrix for the transpose\n",
    "    transposed = []\n",
    "    \n",
    "    # Number of rows and columns in the original matrix\n",
    "    num_rows = len(matrix)\n",
    "    num_cols = len(matrix[0]) if num_rows > 0 else 0\n",
    "    \n",
    "    # Iterate over columns\n",
    "    for col in range(num_cols):\n",
    "        # Initialize a new row for the transposed matrix\n",
    "        new_row = []\n",
    "        # Iterate over rows\n",
    "        for row in range(num_rows):\n",
    "            # Append the element from the original matrix\n",
    "            new_row.append(matrix[row][col])\n",
    "        # Append the new row to the transposed matrix\n",
    "        transposed.append(new_row)\n",
    "    \n",
    "    return transposed\n",
    "\n",
    "# Example usage\n",
    "matrix = [\n",
    "    [1, 2, 3],\n",
    "    [4, 5, 6],\n",
    "    [7, 8, 9]\n",
    "]\n",
    "\n",
    "transposed_matrix = transpose(matrix)\n",
    "print(transposed_matrix)\n"
   ]
  },
  {
   "cell_type": "markdown",
   "id": "be3154ec",
   "metadata": {},
   "source": [
    "Create a program that finds all pairs of elements in a list that sum to a given value using loops.\n"
   ]
  },
  {
   "cell_type": "code",
   "execution_count": 18,
   "id": "b54789e6",
   "metadata": {},
   "outputs": [
    {
     "data": {
      "text/plain": [
       "[(1, 5), (3, 3), (4, 2), (5, 1), (2, 4)]"
      ]
     },
     "execution_count": 18,
     "metadata": {},
     "output_type": "execute_result"
    }
   ],
   "source": [
    "def pairs(lst,sum_given):\n",
    "    \n",
    "    l = []\n",
    "    \n",
    "    for i in lst :\n",
    "        for j in lst :\n",
    "            if i+j == sum_given:\n",
    "                l.append((i,j))\n",
    "        \n",
    "    return l \n",
    "\n",
    "l1 = [1,3,4,5,2]\n",
    "\n",
    "pairs(l1,6)"
   ]
  },
  {
   "cell_type": "code",
   "execution_count": 19,
   "id": "f1642ee3",
   "metadata": {},
   "outputs": [
    {
     "name": "stdout",
     "output_type": "stream",
     "text": [
      "[(1, 5), (4, 2)]\n"
     ]
    }
   ],
   "source": [
    "def pairs(lst, sum_given):\n",
    "    l = []\n",
    "    seen = set()  # To keep track of already seen numbers\n",
    "    \n",
    "    for i in lst:\n",
    "        complement = sum_given - i\n",
    "        if complement in seen:\n",
    "            l.append((complement, i))\n",
    "        seen.add(i)\n",
    "        \n",
    "    return l\n",
    "\n",
    "# Example usage\n",
    "l1 = [1, 3, 4, 5, 2]\n",
    "print(pairs(l1, 6))"
   ]
  },
  {
   "cell_type": "markdown",
   "id": "25ebf3fc",
   "metadata": {},
   "source": [
    "Write a Python program to find the smallest missing positive integer in a list using loops and conditionals.\n"
   ]
  },
  {
   "cell_type": "code",
   "execution_count": 22,
   "id": "eff0ddd0",
   "metadata": {},
   "outputs": [
    {
     "data": {
      "text/plain": [
       "3"
      ]
     },
     "execution_count": 22,
     "metadata": {},
     "output_type": "execute_result"
    }
   ],
   "source": [
    "def smallest(lst):\n",
    "    \n",
    "    positive_int = [x for x in lst if x > 0]\n",
    "    \n",
    "    smallest_int = 1\n",
    "    \n",
    "    for i in positive_int :\n",
    "        if smallest_int in positive_int:\n",
    "            smallest_int += 1\n",
    "        else: break\n",
    "    return smallest_int\n",
    "\n",
    "l = [1,2,4,5,7]\n",
    "\n",
    "smallest(l)"
   ]
  },
  {
   "cell_type": "markdown",
   "id": "593bfc71",
   "metadata": {},
   "source": [
    "Implement a function that finds the intersection of two lists using loops and conditionals.\n"
   ]
  },
  {
   "cell_type": "code",
   "execution_count": 20,
   "id": "c7905192",
   "metadata": {},
   "outputs": [
    {
     "data": {
      "text/plain": [
       "[2, 3]"
      ]
     },
     "execution_count": 20,
     "metadata": {},
     "output_type": "execute_result"
    }
   ],
   "source": [
    "def inter(l1,l2):\n",
    "    \n",
    "    l = []\n",
    "    \n",
    "    for i in l1 :\n",
    "        if i in l2 :\n",
    "            l.append(i)\n",
    "    return l\n",
    "\n",
    "l1 = [1,2,3]\n",
    "l2 = [2,3,4]\n",
    "\n",
    "inter(l1,l2)"
   ]
  },
  {
   "cell_type": "markdown",
   "id": "28ff31df",
   "metadata": {},
   "source": [
    "# Algorithmic Thinking\n"
   ]
  },
  {
   "cell_type": "markdown",
   "id": "e0f566c4",
   "metadata": {},
   "source": [
    "Write a Python program that finds the majority element in a list (an element that appears more than half the time) using loops and conditionals.\n"
   ]
  },
  {
   "cell_type": "code",
   "execution_count": 13,
   "id": "8a333ae6",
   "metadata": {},
   "outputs": [
    {
     "data": {
      "text/plain": [
       "4"
      ]
     },
     "execution_count": 13,
     "metadata": {},
     "output_type": "execute_result"
    }
   ],
   "source": [
    "def mejority(lst):\n",
    "    d = {}\n",
    "    \n",
    "    for i in lst :\n",
    "        if i in d :\n",
    "            d[i] += 1\n",
    "        else :\n",
    "            d[i] = 1\n",
    "            \n",
    "    return max(d,key = d.get)\n",
    "        \n",
    "l = [1,1,2,2,2,3,3,3,4,4,4,4,4,4,5,5,5,5,5]    \n",
    "    \n",
    "mejority(l)"
   ]
  },
  {
   "cell_type": "markdown",
   "id": "45c6ba45",
   "metadata": {},
   "source": [
    "Implement a function to rotate a matrix 90 degrees clockwise using slicing and loops.\n"
   ]
  },
  {
   "cell_type": "code",
   "execution_count": 23,
   "id": "44a36c04",
   "metadata": {},
   "outputs": [
    {
     "name": "stdout",
     "output_type": "stream",
     "text": [
      "[7, 4, 1]\n",
      "[8, 5, 2]\n",
      "[9, 6, 3]\n"
     ]
    }
   ],
   "source": [
    "def rotate_matrix_90_clockwise(matrix):\n",
    "    # Step 1: Transpose the matrix\n",
    "    transposed = [[matrix[j][i] for j in range(len(matrix))] for i in range(len(matrix[0]))]\n",
    "\n",
    "    # Step 2: Reverse each row of the transposed matrix\n",
    "    rotated = [row[::-1] for row in transposed]\n",
    "    \n",
    "    return rotated\n",
    "\n",
    "# Example usage\n",
    "matrix = [\n",
    "    [1, 2, 3],\n",
    "    [4, 5, 6],\n",
    "    [7, 8, 9]\n",
    "]\n",
    "\n",
    "rotated_matrix = rotate_matrix_90_clockwise(matrix)\n",
    "for row in rotated_matrix:\n",
    "    print(row)\n"
   ]
  },
  {
   "cell_type": "markdown",
   "id": "b3721ff0",
   "metadata": {},
   "source": [
    "Create a Python program that checks if two strings are anagrams using built-in functions and loops.\n"
   ]
  },
  {
   "cell_type": "code",
   "execution_count": 25,
   "id": "db27c405",
   "metadata": {},
   "outputs": [
    {
     "data": {
      "text/plain": [
       "False"
      ]
     },
     "execution_count": 25,
     "metadata": {},
     "output_type": "execute_result"
    }
   ],
   "source": [
    "def anagrams(s,s1):\n",
    "    \n",
    "    s = sorted(s.lower())\n",
    "    s1 = sorted(s1.lower())\n",
    "    \n",
    "    if s == s1 :\n",
    "        return True \n",
    "    else:\n",
    "        return False\n",
    "    \n",
    "anagrams('amol','oal')"
   ]
  },
  {
   "cell_type": "code",
   "execution_count": 26,
   "id": "f956bebd",
   "metadata": {},
   "outputs": [
    {
     "name": "stdout",
     "output_type": "stream",
     "text": [
      "True\n",
      "True\n",
      "False\n"
     ]
    }
   ],
   "source": [
    "def are_anagrams(str1, str2):\n",
    "    # Remove spaces and convert to lowercase for a case-insensitive comparison\n",
    "    str1 = str1.replace(\" \", \"\").lower()\n",
    "    str2 = str2.replace(\" \", \"\").lower()\n",
    "    \n",
    "    # Check if sorted characters of both strings are equal\n",
    "    return sorted(str1) == sorted(str2)\n",
    "\n",
    "# Example usage\n",
    "print(are_anagrams(\"Listen\", \"Silent\"))  # Output: True\n",
    "print(are_anagrams(\"Triangle\", \"Integral\"))  # Output: True\n",
    "print(are_anagrams(\"Hello\", \"World\"))  # Output: False\n"
   ]
  },
  {
   "cell_type": "markdown",
   "id": "1742dfae",
   "metadata": {},
   "source": [
    "Write a function that generates all possible permutations of a list using recursion and loops.\n"
   ]
  },
  {
   "cell_type": "code",
   "execution_count": 27,
   "id": "0b1b22ee",
   "metadata": {},
   "outputs": [
    {
     "name": "stdout",
     "output_type": "stream",
     "text": [
      "(1, 2, 3)\n",
      "(1, 3, 2)\n",
      "(2, 1, 3)\n",
      "(2, 3, 1)\n",
      "(3, 1, 2)\n",
      "(3, 2, 1)\n"
     ]
    }
   ],
   "source": [
    "import itertools\n",
    "\n",
    "def generate_permutations(elements):\n",
    "    return list(itertools.permutations(elements))\n",
    "\n",
    "# Example usage\n",
    "items = [1, 2, 3]\n",
    "perms = generate_permutations(items)\n",
    "for perm in perms:\n",
    "    print(perm)\n"
   ]
  },
  {
   "cell_type": "markdown",
   "id": "1940495c",
   "metadata": {},
   "source": [
    "Implement a Python program that solves the \"Tower of Hanoi\" problem using recursion and loops."
   ]
  },
  {
   "cell_type": "code",
   "execution_count": 28,
   "id": "5ca99d15",
   "metadata": {},
   "outputs": [
    {
     "name": "stdout",
     "output_type": "stream",
     "text": [
      "Move disk 1 from A to C\n",
      "Move disk 2 from A to B\n",
      "Move disk 1 from C to B\n",
      "Move disk 3 from A to C\n",
      "Move disk 1 from B to A\n",
      "Move disk 2 from B to C\n",
      "Move disk 1 from A to C\n"
     ]
    }
   ],
   "source": [
    "def tower_of_hanoi(n, source, auxiliary, destination):\n",
    "    if n == 1:\n",
    "        print(f\"Move disk 1 from {source} to {destination}\")\n",
    "        return\n",
    "    # Move n-1 disks from source to auxiliary\n",
    "    tower_of_hanoi(n-1, source, destination, auxiliary)\n",
    "    # Move the nth disk from source to destination\n",
    "    print(f\"Move disk {n} from {source} to {destination}\")\n",
    "    # Move the n-1 disks from auxiliary to destination\n",
    "    tower_of_hanoi(n-1, auxiliary, source, destination)\n",
    "\n",
    "# Example usage\n",
    "n = 3  # Number of disks\n",
    "tower_of_hanoi(n, 'A', 'B', 'C')  # A, B, C are the rods\n"
   ]
  },
  {
   "cell_type": "markdown",
   "id": "45c76553",
   "metadata": {},
   "source": [
    "# Slicing\n"
   ]
  },
  {
   "cell_type": "markdown",
   "id": "e8c55cbc",
   "metadata": {},
   "source": [
    "Write a program to extract every other element from a list using slicing.\n"
   ]
  },
  {
   "cell_type": "code",
   "execution_count": 29,
   "id": "aa9e91cd",
   "metadata": {},
   "outputs": [
    {
     "data": {
      "text/plain": [
       "[1, 3]"
      ]
     },
     "execution_count": 29,
     "metadata": {},
     "output_type": "execute_result"
    }
   ],
   "source": [
    "l = [1,2,3,4]\n",
    "\n",
    "def every_second(lst):\n",
    "    return lst[::2]\n",
    "\n",
    "every_second(l)"
   ]
  },
  {
   "cell_type": "markdown",
   "id": "bf6b7d9d",
   "metadata": {},
   "source": [
    "Create a function to reverse the last 5 characters of a string using slicing.\n"
   ]
  },
  {
   "cell_type": "code",
   "execution_count": 32,
   "id": "b034ab51",
   "metadata": {},
   "outputs": [
    {
     "name": "stdout",
     "output_type": "stream",
     "text": [
      "Almabrette\n"
     ]
    }
   ],
   "source": [
    "def rev_last(s):\n",
    "    strr = s[-5:][::-1]\n",
    "\n",
    "    first_part = s[:5]\n",
    "\n",
    "    result = first_part + strr\n",
    "    \n",
    "    return result\n",
    "\n",
    "print(rev_last('Almabetter'))\n"
   ]
  },
  {
   "cell_type": "markdown",
   "id": "4cc373db",
   "metadata": {},
   "source": [
    "Given a string, write a program to replace every vowel with its uppercase version using slicing.\n"
   ]
  },
  {
   "cell_type": "code",
   "execution_count": 35,
   "id": "64c11638",
   "metadata": {},
   "outputs": [
    {
     "data": {
      "text/plain": [
       "'AlmA'"
      ]
     },
     "execution_count": 35,
     "metadata": {},
     "output_type": "execute_result"
    }
   ],
   "source": [
    "def vowels(str):\n",
    "    result = ''\n",
    "    \n",
    "    for i in str :\n",
    "        if i in ['a','e','i','o','u']:\n",
    "            result += i.upper()\n",
    "        else:\n",
    "            result += i\n",
    "    return result\n",
    "\n",
    "vowels('alma')"
   ]
  },
  {
   "cell_type": "markdown",
   "id": "05068ff7",
   "metadata": {},
   "source": [
    "Write a function to create a new list containing the last 3 elements of a given list.\n"
   ]
  },
  {
   "cell_type": "code",
   "execution_count": 36,
   "id": "d083a3a1",
   "metadata": {},
   "outputs": [
    {
     "data": {
      "text/plain": [
       "[2, 3, 4]"
      ]
     },
     "execution_count": 36,
     "metadata": {},
     "output_type": "execute_result"
    }
   ],
   "source": [
    "def lst3(lst):\n",
    "    \n",
    "    return list(lst[-3:])\n",
    "\n",
    "lst3([1,2,3,4])"
   ]
  },
  {
   "cell_type": "markdown",
   "id": "4818cccb",
   "metadata": {},
   "source": [
    "Implement a program to rotate a list right by 2 positions using slicing.\n"
   ]
  },
  {
   "cell_type": "code",
   "execution_count": 38,
   "id": "a34b6039",
   "metadata": {},
   "outputs": [
    {
     "data": {
      "text/plain": [
       "[5, 65, 1, 2, 3, 4]"
      ]
     },
     "execution_count": 38,
     "metadata": {},
     "output_type": "execute_result"
    }
   ],
   "source": [
    "def rotate(lst):\n",
    "    \n",
    "    return lst[-2::] + lst[:-2:] \n",
    "\n",
    "l = [1,2,3,4,5,65]\n",
    "\n",
    "rotate(l)"
   ]
  },
  {
   "cell_type": "markdown",
   "id": "814302c2",
   "metadata": {},
   "source": [
    "# Operators\n"
   ]
  },
  {
   "cell_type": "markdown",
   "id": "df925ea4",
   "metadata": {},
   "source": [
    "Write a program to calculate the bitwise AND of all elements in a list.\n"
   ]
  },
  {
   "cell_type": "code",
   "execution_count": 41,
   "id": "92abb3e8",
   "metadata": {},
   "outputs": [
    {
     "data": {
      "text/plain": [
       "65"
      ]
     },
     "execution_count": 41,
     "metadata": {},
     "output_type": "execute_result"
    }
   ],
   "source": [
    "def bitand(lst):\n",
    "    \n",
    "    result = lst[0]\n",
    "    \n",
    "    for num in lst[1:]:\n",
    "        \n",
    "        result = result and num\n",
    "        \n",
    "    return result\n",
    "\n",
    "bitand(l)"
   ]
  },
  {
   "cell_type": "markdown",
   "id": "1a407f32",
   "metadata": {},
   "source": [
    "Create a function to find the number of bits set to 1 in the binary representation of an integer.\n"
   ]
  },
  {
   "cell_type": "code",
   "execution_count": 43,
   "id": "812f56d3",
   "metadata": {},
   "outputs": [
    {
     "name": "stdout",
     "output_type": "stream",
     "text": [
      "2\n",
      "4\n"
     ]
    }
   ],
   "source": [
    "def count_bits_set_to_one(n):\n",
    "    # Convert number to binary string and remove the '0b' prefix\n",
    "    binary_representation = bin(n)[2:]\n",
    "    # Count the number of '1's in the binary string\n",
    "    return binary_representation.count('1')\n",
    "print(count_bits_set_to_one(9))  # Output: 2 (binary: 1001)\n",
    "print(count_bits_set_to_one(15)) # Output: 4 (binary: 1111)\n"
   ]
  },
  {
   "cell_type": "markdown",
   "id": "6876762b",
   "metadata": {},
   "source": [
    "Write a function to perform bitwise left shift on a number by a given number of positions.\n"
   ]
  },
  {
   "cell_type": "code",
   "execution_count": 56,
   "id": "c8231fce",
   "metadata": {},
   "outputs": [
    {
     "name": "stdout",
     "output_type": "stream",
     "text": [
      "20\n"
     ]
    }
   ],
   "source": [
    "def bitwise_left_shift(num, positions):\n",
    "    return num << positions\n",
    "\n",
    "# Example usage\n",
    "number = 5  # Binary: 0101\n",
    "shift_positions = 2\n",
    "result = bitwise_left_shift(number, shift_positions)\n",
    "print(result)  # Output: 20 (Binary: 10100)\n"
   ]
  },
  {
   "cell_type": "markdown",
   "id": "a158d636",
   "metadata": {},
   "source": [
    "Implement a program to determine if a number is a power of 2 using bitwise operators.\n"
   ]
  },
  {
   "cell_type": "code",
   "execution_count": 57,
   "id": "4b2e4bf2",
   "metadata": {},
   "outputs": [
    {
     "name": "stdout",
     "output_type": "stream",
     "text": [
      "True\n",
      "False\n"
     ]
    }
   ],
   "source": [
    "def is_power_of_two(n):\n",
    "    # Check if n is greater than 0 and if n & (n - 1) == 0\n",
    "    return n > 0 and (n & (n - 1)) == 0\n",
    "\n",
    "# Example usage\n",
    "number = 16\n",
    "result = is_power_of_two(number)\n",
    "print(result)  # Output: True (16 is a power of 2)\n",
    "\n",
    "number = 18\n",
    "result = is_power_of_two(number)\n",
    "print(result)  # Output: False (18 is not a power of 2)\n"
   ]
  },
  {
   "cell_type": "markdown",
   "id": "b2bb8850",
   "metadata": {},
   "source": [
    "Create a function that computes the bitwise OR of two numbers and returns the result.\n"
   ]
  },
  {
   "cell_type": "code",
   "execution_count": 58,
   "id": "685a0c9a",
   "metadata": {},
   "outputs": [
    {
     "name": "stdout",
     "output_type": "stream",
     "text": [
      "15\n"
     ]
    }
   ],
   "source": [
    "def bitwise_or(a, b):\n",
    "    return a | b\n",
    "\n",
    "# Example usage\n",
    "num1 = 12  # Binary: 1100\n",
    "num2 = 7   # Binary: 0111\n",
    "\n",
    "result = bitwise_or(num1, num2)\n",
    "print(result)  # Output: 15 (Binary: 1111)\n"
   ]
  },
  {
   "cell_type": "markdown",
   "id": "35272023",
   "metadata": {},
   "source": [
    "# Built-in Functions\n"
   ]
  },
  {
   "cell_type": "markdown",
   "id": "3f2c3d78",
   "metadata": {},
   "source": [
    "Write a program to find the index of the maximum element in a list using index() and max().\n"
   ]
  },
  {
   "cell_type": "code",
   "execution_count": 46,
   "id": "8cb0f620",
   "metadata": {},
   "outputs": [
    {
     "data": {
      "text/plain": [
       "2"
      ]
     },
     "execution_count": 46,
     "metadata": {},
     "output_type": "execute_result"
    }
   ],
   "source": [
    "l = [1,2,333,4,5,65]\n",
    "\n",
    "def index_max(lst):\n",
    "    \n",
    "    max_value = max(lst)\n",
    "    \n",
    "    return lst.index(max_value)\n",
    "\n",
    "index_max(l)"
   ]
  },
  {
   "cell_type": "markdown",
   "id": "2110e1cf",
   "metadata": {},
   "source": [
    "Create a function that returns a list of tuples where each tuple contains an element and its index using enumerate().\n"
   ]
  },
  {
   "cell_type": "code",
   "execution_count": 47,
   "id": "63a431ee",
   "metadata": {},
   "outputs": [
    {
     "data": {
      "text/plain": [
       "[(1, 0), (2, 1), (333, 2), (4, 3), (5, 4), (65, 5)]"
      ]
     },
     "execution_count": 47,
     "metadata": {},
     "output_type": "execute_result"
    }
   ],
   "source": [
    "def en(lst):\n",
    "    l = []\n",
    "    \n",
    "    for index , num in enumerate(lst):\n",
    "        l.append((num,index))\n",
    "    return l \n",
    "\n",
    "en(l)"
   ]
  },
  {
   "cell_type": "markdown",
   "id": "57bc4d28",
   "metadata": {},
   "source": [
    "Implement a program that uses zip() to merge two lists element-wise into a list of tuples.\n"
   ]
  },
  {
   "cell_type": "code",
   "execution_count": 48,
   "id": "b32c6e3a",
   "metadata": {},
   "outputs": [
    {
     "data": {
      "text/plain": [
       "[(1, 2), (3, 4), (5, 6), (7, 8)]"
      ]
     },
     "execution_count": 48,
     "metadata": {},
     "output_type": "execute_result"
    }
   ],
   "source": [
    "def usezip(l1,l2):\n",
    "    l = []\n",
    "    for i , j in zip(l1,l2):\n",
    "        l.append((i,j))\n",
    "    return l\n",
    "\n",
    "l1 = [1,3,5,7]\n",
    "l2 = [2,4,6,8]\n",
    "\n",
    "usezip(l1,l2)"
   ]
  },
  {
   "cell_type": "markdown",
   "id": "3d8551f8",
   "metadata": {},
   "source": [
    "Write a function that uses all() to check if all elements in a list are positive.\n"
   ]
  },
  {
   "cell_type": "code",
   "execution_count": 54,
   "id": "f3f1c101",
   "metadata": {},
   "outputs": [
    {
     "name": "stdout",
     "output_type": "stream",
     "text": [
      "False\n"
     ]
    }
   ],
   "source": [
    "def useall(lst):\n",
    "    \n",
    "    result = all(num > 0 for num in lst)\n",
    "    \n",
    "    return result\n",
    "l1 = [1,-3,5,7]\n",
    "\n",
    "print(useall(l1))\n",
    "\n"
   ]
  },
  {
   "cell_type": "markdown",
   "id": "2dd343fe",
   "metadata": {},
   "source": [
    "Create a program that uses any() to determine if any element in a list is zero.\n"
   ]
  },
  {
   "cell_type": "code",
   "execution_count": 55,
   "id": "88f8a055",
   "metadata": {},
   "outputs": [
    {
     "name": "stdout",
     "output_type": "stream",
     "text": [
      "True\n"
     ]
    }
   ],
   "source": [
    "def has_zero(lst):\n",
    "    return any(num == 0 for num in lst)\n",
    "\n",
    "# Example usage\n",
    "lst = [1, 2, 3, 0, 5]\n",
    "print(has_zero(lst))  # Output: True\n"
   ]
  },
  {
   "cell_type": "markdown",
   "id": "343ebb17",
   "metadata": {},
   "source": [
    "# Conditionals\n"
   ]
  },
  {
   "cell_type": "markdown",
   "id": "ff1f5dbb",
   "metadata": {},
   "source": [
    "Write a program to check if a given number is a perfect square using conditional statements.\n"
   ]
  },
  {
   "cell_type": "code",
   "execution_count": 62,
   "id": "250b9121",
   "metadata": {},
   "outputs": [
    {
     "data": {
      "text/plain": [
       "False"
      ]
     },
     "execution_count": 62,
     "metadata": {},
     "output_type": "execute_result"
    }
   ],
   "source": [
    "import math\n",
    "\n",
    "def perfect_sq(n):\n",
    "    \n",
    "    if n < 0 :\n",
    "        return False\n",
    "    root = int(math.sqrt(n))\n",
    "    \n",
    "    return root * root == n\n",
    "    \n",
    "    \n",
    "perfect_sq(8)"
   ]
  },
  {
   "cell_type": "markdown",
   "id": "70ebb46f",
   "metadata": {},
   "source": [
    "Create a function that categorizes a given age into \"Child\", \"Teen\", \"Adult\", or \"Senior\" based on age ranges.\n"
   ]
  },
  {
   "cell_type": "code",
   "execution_count": 64,
   "id": "0b2c01c5",
   "metadata": {},
   "outputs": [
    {
     "name": "stdout",
     "output_type": "stream",
     "text": [
      "False\n",
      "Child\n",
      "Teen\n",
      "Adult\n",
      "Senior\n"
     ]
    }
   ],
   "source": [
    "def criteria(age):\n",
    "    \n",
    "    if age < 0 :\n",
    "        return False \n",
    "    elif age < 14 :\n",
    "        return 'Child'\n",
    "    elif age < 18 :\n",
    "        return 'Teen'\n",
    "    elif age < 60:\n",
    "        return 'Adult'\n",
    "    else:\n",
    "        return 'Senior'\n",
    "    \n",
    "print(criteria(-4))\n",
    "print(criteria(4))\n",
    "print(criteria(15))\n",
    "print(criteria(19))\n",
    "print(criteria(65))"
   ]
  },
  {
   "cell_type": "markdown",
   "id": "bcfe5843",
   "metadata": {},
   "source": [
    "Implement a program that returns the smallest of three numbers using nested conditional statements.\n"
   ]
  },
  {
   "cell_type": "code",
   "execution_count": 67,
   "id": "1842062d",
   "metadata": {},
   "outputs": [
    {
     "data": {
      "text/plain": [
       "56"
      ]
     },
     "execution_count": 67,
     "metadata": {},
     "output_type": "execute_result"
    }
   ],
   "source": [
    "def smallest(x,y,z):\n",
    "    \n",
    "    if x < y and x < z :\n",
    "        return x\n",
    "    elif y < x and y < z :\n",
    "        return y \n",
    "    else:\n",
    "        return z\n",
    "    \n",
    "smallest(333,84,56)"
   ]
  },
  {
   "cell_type": "markdown",
   "id": "cf303cb9",
   "metadata": {},
   "source": [
    "Write a function to check if a number is a prime number and return \"Prime\" or \"Not Prime\".\n"
   ]
  },
  {
   "cell_type": "code",
   "execution_count": 73,
   "id": "c5fe9a3f",
   "metadata": {},
   "outputs": [
    {
     "data": {
      "text/plain": [
       "'Not Prime'"
      ]
     },
     "execution_count": 73,
     "metadata": {},
     "output_type": "execute_result"
    }
   ],
   "source": [
    "def isprime(n):\n",
    "    \n",
    "    if n < 0 :\n",
    "        return False \n",
    "    elif n == 1 and n == 2 :\n",
    "        return 'Prime'\n",
    "    \n",
    "    for i in range(2,int(n**0.5)+1):\n",
    "        if n % i == 0 :\n",
    "            return \"Not Prime\"\n",
    "    return \"Prime\"\n",
    "\n",
    "isprime(21)"
   ]
  },
  {
   "cell_type": "markdown",
   "id": "ed22055b",
   "metadata": {},
   "source": [
    "Create a program that evaluates a student's grade and returns a corresponding letter grade based on specified thresholds.\n"
   ]
  },
  {
   "cell_type": "code",
   "execution_count": 74,
   "id": "559d5d17",
   "metadata": {},
   "outputs": [
    {
     "name": "stdout",
     "output_type": "stream",
     "text": [
      "Fail\n",
      "Grade C\n",
      "Grade B\n",
      "Grade A\n",
      "Enter Valid Marks\n"
     ]
    }
   ],
   "source": [
    "def grade(marks):\n",
    "    \n",
    "    if marks > 100 :\n",
    "        return 'Enter Valid Marks'\n",
    "    \n",
    "    elif marks >= 90 :\n",
    "        return 'Grade A'\n",
    "    elif marks >= 70 :\n",
    "        return 'Grade B'\n",
    "    elif marks > 50 :\n",
    "        return 'Grade C'\n",
    "    else :\n",
    "        return \"Fail\"\n",
    "    \n",
    "print(grade(50))\n",
    "print(grade(60))\n",
    "print(grade(80))\n",
    "print(grade(93))\n",
    "print(grade(110))"
   ]
  },
  {
   "cell_type": "markdown",
   "id": "ddcb2b38",
   "metadata": {},
   "source": [
    "# Loops\n"
   ]
  },
  {
   "cell_type": "markdown",
   "id": "18ac1eb7",
   "metadata": {},
   "source": [
    "Write a program to generate a list of squares of numbers from 1 to 10 using a for loop.\n"
   ]
  },
  {
   "cell_type": "code",
   "execution_count": 75,
   "id": "085b1dc4",
   "metadata": {},
   "outputs": [
    {
     "data": {
      "text/plain": [
       "[1, 4, 9, 16, 25, 36, 49, 64, 81, 100]"
      ]
     },
     "execution_count": 75,
     "metadata": {},
     "output_type": "execute_result"
    }
   ],
   "source": [
    "sqrs = [x**2 for x in range (1,11)]\n",
    "sqrs"
   ]
  },
  {
   "cell_type": "markdown",
   "id": "655984b1",
   "metadata": {},
   "source": [
    "Create a function to find all the even numbers in a given range using a while loop.\n"
   ]
  },
  {
   "cell_type": "code",
   "execution_count": 1,
   "id": "e9a87b5c",
   "metadata": {},
   "outputs": [
    {
     "data": {
      "text/plain": [
       "[2,\n",
       " 4,\n",
       " 6,\n",
       " 8,\n",
       " 10,\n",
       " 12,\n",
       " 14,\n",
       " 16,\n",
       " 18,\n",
       " 20,\n",
       " 22,\n",
       " 24,\n",
       " 26,\n",
       " 28,\n",
       " 30,\n",
       " 32,\n",
       " 34,\n",
       " 36,\n",
       " 38,\n",
       " 40,\n",
       " 42,\n",
       " 44,\n",
       " 46,\n",
       " 48,\n",
       " 50,\n",
       " 52,\n",
       " 54,\n",
       " 56,\n",
       " 58,\n",
       " 60,\n",
       " 62,\n",
       " 64,\n",
       " 66,\n",
       " 68,\n",
       " 70,\n",
       " 72,\n",
       " 74,\n",
       " 76,\n",
       " 78,\n",
       " 80,\n",
       " 82,\n",
       " 84,\n",
       " 86,\n",
       " 88,\n",
       " 90,\n",
       " 92,\n",
       " 94,\n",
       " 96,\n",
       " 98,\n",
       " 100]"
      ]
     },
     "execution_count": 1,
     "metadata": {},
     "output_type": "execute_result"
    }
   ],
   "source": [
    "def find_even(n):\n",
    "    l = []\n",
    "    \n",
    "    if n <= 0 :\n",
    "        return False\n",
    "    i = 1\n",
    "    \n",
    "    while i <= n :\n",
    "        \n",
    "        if i % 2 == 0:\n",
    "            l.append(i)\n",
    "        i +=1\n",
    "    return l\n",
    "\n",
    "find_even(100)"
   ]
  },
  {
   "cell_type": "markdown",
   "id": "26d03a15",
   "metadata": {},
   "source": [
    "Implement a program that calculates the product of all elements in a list using a loop.\n"
   ]
  },
  {
   "cell_type": "code",
   "execution_count": 5,
   "id": "1a926a04",
   "metadata": {},
   "outputs": [
    {
     "data": {
      "text/plain": [
       "6"
      ]
     },
     "execution_count": 5,
     "metadata": {},
     "output_type": "execute_result"
    }
   ],
   "source": [
    "def product(lst):\n",
    "    pro = 1\n",
    "    \n",
    "    for i in lst :\n",
    "        pro *=i\n",
    "    \n",
    "    return pro\n",
    "\n",
    "l=[1,2,3]\n",
    "\n",
    "product(l)"
   ]
  },
  {
   "cell_type": "code",
   "execution_count": 6,
   "id": "1642efa8",
   "metadata": {},
   "outputs": [
    {
     "name": "stdout",
     "output_type": "stream",
     "text": [
      "120\n"
     ]
    }
   ],
   "source": [
    "from functools import reduce\n",
    "\n",
    "# Using lambda to calculate the product\n",
    "calculate_product = lambda lst: reduce(lambda x, y: x * y, lst)\n",
    "\n",
    "# Example usage\n",
    "numbers = [2, 3, 4, 5]\n",
    "result = calculate_product(numbers)\n",
    "print(result)  # Output will be 120\n"
   ]
  },
  {
   "cell_type": "markdown",
   "id": "06d3bff2",
   "metadata": {},
   "source": [
    "Write a program that prints the sum of digits of numbers from 1 to 100 using a loop.\n"
   ]
  },
  {
   "cell_type": "code",
   "execution_count": 2,
   "id": "009dcf75",
   "metadata": {},
   "outputs": [
    {
     "name": "stdout",
     "output_type": "stream",
     "text": [
      "901\n"
     ]
    }
   ],
   "source": [
    "total_sum = 0\n",
    "for i in range(101):\n",
    "    total_sum += sum(int(digit) for digit in str(i)) \n",
    "    \n",
    "print(total_sum)"
   ]
  },
  {
   "cell_type": "markdown",
   "id": "ee61e1c9",
   "metadata": {},
   "source": [
    "Create a function to generate a pattern of stars (like a triangle) using nested loops.\n"
   ]
  },
  {
   "cell_type": "code",
   "execution_count": 5,
   "id": "1faf293c",
   "metadata": {},
   "outputs": [
    {
     "name": "stdout",
     "output_type": "stream",
     "text": [
      "*\n",
      "**\n",
      "***\n",
      "****\n",
      "*****\n",
      "******\n",
      "*******\n",
      "********\n",
      "*********\n"
     ]
    }
   ],
   "source": [
    "def pattern(n):\n",
    "    \n",
    "    for i in range(1,n+1):\n",
    "        print(\"*\"*i)\n",
    "        \n",
    "pattern(9)"
   ]
  },
  {
   "cell_type": "markdown",
   "id": "00293048",
   "metadata": {},
   "source": [
    "# Iterations\n"
   ]
  },
  {
   "cell_type": "markdown",
   "id": "8a7a742d",
   "metadata": {},
   "source": [
    "Write a program to flatten a list of lists into a single list using list comprehension.\n"
   ]
  },
  {
   "cell_type": "code",
   "execution_count": 10,
   "id": "d3d5411d",
   "metadata": {},
   "outputs": [
    {
     "name": "stdout",
     "output_type": "stream",
     "text": [
      "[1, 2, 3, 4, 5, 6, 7, 8, 9, 10, 11, 12, 13]\n"
     ]
    }
   ],
   "source": [
    "nested_list = [[1, 2, 3], [4, 5, 6], [7, 8, 9], [10, [11, 12], 13]]\n",
    "\n",
    "result = [item for sublist in nested_list for item in (sublist if isinstance(sublist, list) else [sublist])]\n",
    "\n",
    "flat_result = [x for item in result for x in (item if isinstance(item, list) else [item])]\n",
    "\n",
    "print(flat_result)\n"
   ]
  },
  {
   "cell_type": "markdown",
   "id": "f0c9b0a8",
   "metadata": {},
   "source": [
    "Create a function to generate a list of all possible substrings of a given string using nested loops.\n"
   ]
  },
  {
   "cell_type": "code",
   "execution_count": 14,
   "id": "75eba50a",
   "metadata": {},
   "outputs": [
    {
     "data": {
      "text/plain": [
       "['a',\n",
       " 'ab',\n",
       " 'abb',\n",
       " 'abbc',\n",
       " 'abbcc',\n",
       " 'b',\n",
       " 'bb',\n",
       " 'bbc',\n",
       " 'bbcc',\n",
       " 'b',\n",
       " 'bc',\n",
       " 'bcc',\n",
       " 'c',\n",
       " 'cc',\n",
       " 'c']"
      ]
     },
     "execution_count": 14,
     "metadata": {},
     "output_type": "execute_result"
    }
   ],
   "source": [
    "def possible_sub(s):\n",
    "    sub = []\n",
    "    length = len(s)\n",
    "    \n",
    "    for start in range(length):\n",
    "        for end in range (start+1 , length+1):\n",
    "            sub.append(s[start:end])\n",
    "    return sub\n",
    "\n",
    "possible_sub('abbcc')\n",
    "        "
   ]
  },
  {
   "cell_type": "markdown",
   "id": "4feee0ba",
   "metadata": {},
   "source": [
    "Implement a program that iterates over a dictionary and prints the key-value pairs.\n"
   ]
  },
  {
   "cell_type": "code",
   "execution_count": 16,
   "id": "81412139",
   "metadata": {},
   "outputs": [
    {
     "name": "stdout",
     "output_type": "stream",
     "text": [
      "name Alice\n",
      "age 25\n",
      "city New York\n",
      "occupation Engineer\n"
     ]
    }
   ],
   "source": [
    "def pairs(d):\n",
    "    \n",
    "    for key,value in d.items():\n",
    "        print(key,value)\n",
    "        \n",
    "my_dict = {\n",
    "    'name': 'Alice',\n",
    "    'age': 25,\n",
    "    'city': 'New York',\n",
    "    'occupation': 'Engineer'\n",
    "}\n",
    "\n",
    "pairs(my_dict)"
   ]
  },
  {
   "cell_type": "markdown",
   "id": "7b05dfae",
   "metadata": {},
   "source": [
    "Write a function that returns the sum of all numbers in a list of lists using nested loops.\n"
   ]
  },
  {
   "cell_type": "code",
   "execution_count": 2,
   "id": "562e686c",
   "metadata": {},
   "outputs": [
    {
     "data": {
      "text/plain": [
       "45"
      ]
     },
     "execution_count": 2,
     "metadata": {},
     "output_type": "execute_result"
    }
   ],
   "source": [
    "list_of_lists = [[1, 2, 3],[4, 5, 6],[7, 8, 9]]\n",
    "\n",
    "\n",
    "def sum_lists(lst):\n",
    "    total_sum = 0\n",
    "    for i in lst :\n",
    "        if isinstance(i,list):\n",
    "            total_sum += sum_lists(i)\n",
    "        else:\n",
    "            total_sum += i\n",
    "    return total_sum\n",
    "\n",
    "sum_lists(list_of_lists)"
   ]
  },
  {
   "cell_type": "markdown",
   "id": "f667cd23",
   "metadata": {},
   "source": [
    "Create a program to count the frequency of each letter in a string using a loop.\n"
   ]
  },
  {
   "cell_type": "code",
   "execution_count": 5,
   "id": "3fbf86c8",
   "metadata": {},
   "outputs": [
    {
     "name": "stdout",
     "output_type": "stream",
     "text": [
      "a 1\n",
      "b 2\n",
      "c 3\n",
      "d 4\n"
     ]
    }
   ],
   "source": [
    "def frequency(str):\n",
    "    d = {}\n",
    "    \n",
    "    for i in str :\n",
    "        if i in d :\n",
    "            d[i] += 1\n",
    "        else:\n",
    "            d[i] = 1\n",
    "    for key,value in d.items() :\n",
    "        print(key,value)\n",
    "    \n",
    "frequency('abbcccdddd')"
   ]
  },
  {
   "cell_type": "markdown",
   "id": "9830836b",
   "metadata": {},
   "source": [
    "# Combined Concepts\n"
   ]
  },
  {
   "cell_type": "markdown",
   "id": "70f41c2d",
   "metadata": {},
   "source": [
    "Write a function to remove duplicates from a list and return the unique elements in sorted order.\n"
   ]
  },
  {
   "cell_type": "code",
   "execution_count": 7,
   "id": "6216b49f",
   "metadata": {},
   "outputs": [
    {
     "data": {
      "text/plain": [
       "[1, 2, 3, 4, 5, 6, 7, 8, 9]"
      ]
     },
     "execution_count": 7,
     "metadata": {},
     "output_type": "execute_result"
    }
   ],
   "source": [
    "l = [2,1,4,5,2,3,9,7,6,7,8,8]\n",
    "\n",
    "def rem_dup(lst):\n",
    "    l = []\n",
    "    \n",
    "    for i in lst :\n",
    "        if i not in l :\n",
    "            l.append(i)\n",
    "    return sorted(l)\n",
    "\n",
    "rem_dup(l)"
   ]
  },
  {
   "cell_type": "markdown",
   "id": "a2199d97",
   "metadata": {},
   "source": [
    "Create a Python program to compute the intersection of two lists using loops and conditional statements.\n"
   ]
  },
  {
   "cell_type": "code",
   "execution_count": 9,
   "id": "7b42907a",
   "metadata": {},
   "outputs": [
    {
     "data": {
      "text/plain": [
       "[2, 4]"
      ]
     },
     "execution_count": 9,
     "metadata": {},
     "output_type": "execute_result"
    }
   ],
   "source": [
    "l1 = [2,3,4]\n",
    "l2 = [1,2,4,4]\n",
    "\n",
    "def intar(l1,l2):\n",
    "    l = []\n",
    "    for i in l1 :\n",
    "        if i in l2 and i not in l  :\n",
    "            l.append(i)\n",
    "    return l \n",
    "\n",
    "intar(l1,l2)"
   ]
  },
  {
   "cell_type": "markdown",
   "id": "22cef73b",
   "metadata": {},
   "source": [
    "Implement a function to find the longest substring without repeating characters using loops and conditionals.\n"
   ]
  },
  {
   "cell_type": "code",
   "execution_count": 11,
   "id": "55b6b521",
   "metadata": {},
   "outputs": [
    {
     "data": {
      "text/plain": [
       "'abc'"
      ]
     },
     "execution_count": 11,
     "metadata": {},
     "output_type": "execute_result"
    }
   ],
   "source": [
    "def longest_str(str):\n",
    "    longest = ''\n",
    "    \n",
    "    for char in str :\n",
    "        if char not in longest :\n",
    "            longest += char\n",
    "            \n",
    "    return longest\n",
    "\n",
    "longest_str(\"abcabcbb\")"
   ]
  },
  {
   "cell_type": "code",
   "execution_count": 10,
   "id": "f8914723",
   "metadata": {},
   "outputs": [
    {
     "name": "stdout",
     "output_type": "stream",
     "text": [
      "Longest substring without repeating characters: abc\n"
     ]
    }
   ],
   "source": [
    "def longest_unique_substring(s):\n",
    "    longest = \"\"\n",
    "    current = \"\"\n",
    "    \n",
    "    for char in s:\n",
    "        if char in current:\n",
    "            # Update the current substring to start after the first occurrence of the repeated character\n",
    "            current = current[current.index(char) + 1:]\n",
    "        current += char\n",
    "        # Update the longest substring if the current one is longer\n",
    "        if len(current) > len(longest):\n",
    "            longest = current\n",
    "    \n",
    "    return longest\n",
    "\n",
    "# Example usage\n",
    "input_string = \"abcabcbb\"\n",
    "result = longest_unique_substring(input_string)\n",
    "print(\"Longest substring without repeating characters:\", result)\n"
   ]
  },
  {
   "cell_type": "markdown",
   "id": "3325db2c",
   "metadata": {},
   "source": [
    "Write a program that merges two lists and removes any duplicate elements.\n"
   ]
  },
  {
   "cell_type": "code",
   "execution_count": 13,
   "id": "473e13be",
   "metadata": {},
   "outputs": [
    {
     "data": {
      "text/plain": [
       "[1, 2, 3, 4]"
      ]
     },
     "execution_count": 13,
     "metadata": {},
     "output_type": "execute_result"
    }
   ],
   "source": [
    "l1 = [2,3,4]\n",
    "l2 = [1,2,4]\n",
    "\n",
    "def merge_uni(l1,l2):\n",
    "    \n",
    "    l3 = l1 + l2\n",
    "    l = []\n",
    "    for i in l3 :\n",
    "        if i not in l :\n",
    "            l.append(i)\n",
    "    return sorted(l)\n",
    "\n",
    "merge_uni(l1,l2)"
   ]
  },
  {
   "cell_type": "markdown",
   "id": "c6e6f352",
   "metadata": {},
   "source": [
    "Create a function that returns the most frequent element in a list using loops and a dictionary.\n"
   ]
  },
  {
   "cell_type": "code",
   "execution_count": 16,
   "id": "bbbead76",
   "metadata": {},
   "outputs": [
    {
     "data": {
      "text/plain": [
       "(4, 4)"
      ]
     },
     "execution_count": 16,
     "metadata": {},
     "output_type": "execute_result"
    }
   ],
   "source": [
    "l = [1,2,3,4,5,2,3,3,4,4,4]\n",
    "\n",
    "def most_freq(lst):\n",
    "    \n",
    "    d = {}\n",
    "    \n",
    "    for i in lst :\n",
    "        if i in d :\n",
    "            d[i] += 1\n",
    "        else:\n",
    "            d[i] = 1\n",
    "    \n",
    "    max_value = float('-inf')\n",
    "    max_key = None\n",
    "    \n",
    "    for key,value in d.items():\n",
    "        \n",
    "        if value > max_value :\n",
    "            max_value = value\n",
    "            max_key = key\n",
    "    \n",
    "    return max_key , max_value\n",
    "    \n",
    "\n",
    "most_freq(l)"
   ]
  },
  {
   "cell_type": "markdown",
   "id": "49ce3986",
   "metadata": {},
   "source": [
    "# Advanced Challenges\n"
   ]
  },
  {
   "cell_type": "markdown",
   "id": "cd0c4f97",
   "metadata": {},
   "source": [
    "Write a program to solve the \"Knapsack\" problem using loops and dynamic programming.\n"
   ]
  },
  {
   "cell_type": "code",
   "execution_count": 5,
   "id": "c667bff2",
   "metadata": {},
   "outputs": [
    {
     "name": "stdout",
     "output_type": "stream",
     "text": [
      "Maximum value that can be obtained: 60\n"
     ]
    }
   ],
   "source": [
    "def knapsack(weights, values, capacity):\n",
    "    n = len(weights)\n",
    "    # Create a 2D array to store the maximum value that can be obtained\n",
    "    dp = [[0] * (capacity + 1) for _ in range(n + 1)]\n",
    "    \n",
    "    # Build the table dp[][] in bottom-up fashion\n",
    "    for i in range(1, n + 1):\n",
    "        for w in range(1, capacity + 1):\n",
    "            # If the weight of the current item is more than the current capacity, skip it\n",
    "            if weights[i - 1] <= w:\n",
    "                # Max of including the item or not including the item\n",
    "                dp[i][w] = max(dp[i - 1][w], dp[i - 1][w - weights[i - 1]] + values[i - 1])\n",
    "            else:\n",
    "                # Skip the item\n",
    "                dp[i][w] = dp[i - 1][w]\n",
    "    \n",
    "    return dp[n][capacity]\n",
    "\n",
    "# Example usage\n",
    "weights = [1, 2, 3, 8, 7, 4]\n",
    "values = [20, 5, 10, 40, 15, 25]\n",
    "capacity = 10\n",
    "\n",
    "max_value = knapsack(weights, values, capacity)\n",
    "print(\"Maximum value that can be obtained:\", max_value)\n"
   ]
  },
  {
   "cell_type": "markdown",
   "id": "6373b254",
   "metadata": {},
   "source": [
    "Implement a function to find all unique triplets in a list that sum to a target value using loops.\n"
   ]
  },
  {
   "cell_type": "code",
   "execution_count": 6,
   "id": "b6c9ad12",
   "metadata": {},
   "outputs": [
    {
     "name": "stdout",
     "output_type": "stream",
     "text": [
      "Unique triplets that sum to 0 : [[-1, -1, 2], [-1, 0, 1]]\n"
     ]
    }
   ],
   "source": [
    "def find_triplets(nums, target):\n",
    "    nums.sort()  # Sort the list to help avoid duplicates and simplify the triplet search\n",
    "    triplets = []\n",
    "    \n",
    "    for i in range(len(nums) - 2):\n",
    "        # Avoid duplicates for the first number\n",
    "        if i > 0 and nums[i] == nums[i - 1]:\n",
    "            continue\n",
    "        \n",
    "        left, right = i + 1, len(nums) - 1\n",
    "        \n",
    "        while left < right:\n",
    "            current_sum = nums[i] + nums[left] + nums[right]\n",
    "            \n",
    "            if current_sum == target:\n",
    "                triplets.append([nums[i], nums[left], nums[right]])\n",
    "                \n",
    "                # Move left and right to the next different elements\n",
    "                while left < right and nums[left] == nums[left + 1]:\n",
    "                    left += 1\n",
    "                while left < right and nums[right] == nums[right - 1]:\n",
    "                    right -= 1\n",
    "                \n",
    "                left += 1\n",
    "                right -= 1\n",
    "            \n",
    "            elif current_sum < target:\n",
    "                left += 1\n",
    "            else:\n",
    "                right -= 1\n",
    "    \n",
    "    return triplets\n",
    "\n",
    "# Example usage\n",
    "nums = [-1, 0, 1, 2, -1, -4]\n",
    "target = 0\n",
    "result = find_triplets(nums, target)\n",
    "print(\"Unique triplets that sum to\", target, \":\", result)\n"
   ]
  },
  {
   "cell_type": "markdown",
   "id": "af33eabd",
   "metadata": {},
   "source": [
    "Create a Python program to generate all possible combinations of a given length from a list of elements.\n"
   ]
  },
  {
   "cell_type": "code",
   "execution_count": 8,
   "id": "ec7cc237",
   "metadata": {},
   "outputs": [
    {
     "name": "stdout",
     "output_type": "stream",
     "text": [
      "All possible combinations of length 3 : [(1, 2, 3), (1, 2, 4), (1, 3, 4), (2, 3, 4)]\n"
     ]
    }
   ],
   "source": [
    "from itertools import combinations\n",
    "\n",
    "def generate_combinations(elements, length):\n",
    "    return list(combinations(elements, length))\n",
    "\n",
    "# Example usage\n",
    "elements = [1, 2, 3, 4]\n",
    "length = 3\n",
    "result = generate_combinations(elements, length)\n",
    "print(\"All possible combinations of length\", length, \":\", result)\n"
   ]
  },
  {
   "cell_type": "markdown",
   "id": "46b8d47e",
   "metadata": {},
   "source": [
    "Write a function that determines the longest increasing subsequence in a list of integers.\n"
   ]
  },
  {
   "cell_type": "code",
   "execution_count": 9,
   "id": "2fbbaeb1",
   "metadata": {},
   "outputs": [
    {
     "name": "stdout",
     "output_type": "stream",
     "text": [
      "Longest increasing subsequence: [10, 22, 33, 50, 60, 80]\n"
     ]
    }
   ],
   "source": [
    "def longest_increasing_subsequence(nums):\n",
    "    if not nums:\n",
    "        return []\n",
    "    \n",
    "    # Length of the input list\n",
    "    n = len(nums)\n",
    "    \n",
    "    # dp[i] will hold the length of the LIS ending at index i\n",
    "    dp = [1] * n\n",
    "    # To reconstruct the sequence\n",
    "    prev = [-1] * n\n",
    "    \n",
    "    # Compute the dp and prev arrays\n",
    "    for i in range(1, n):\n",
    "        for j in range(i):\n",
    "            if nums[i] > nums[j] and dp[i] < dp[j] + 1:\n",
    "                dp[i] = dp[j] + 1\n",
    "                prev[i] = j\n",
    "    \n",
    "    # Find the index of the maximum value in dp\n",
    "    max_length = max(dp)\n",
    "    max_index = dp.index(max_length)\n",
    "    \n",
    "    # Reconstruct the LIS from the dp and prev arrays\n",
    "    lis = []\n",
    "    while max_index != -1:\n",
    "        lis.append(nums[max_index])\n",
    "        max_index = prev[max_index]\n",
    "    \n",
    "    return lis[::-1]  # Reverse the LIS to get it in correct order\n",
    "\n",
    "# Example usage\n",
    "nums = [10, 22, 9, 33, 21, 50, 41, 60, 80]\n",
    "result = longest_increasing_subsequence(nums)\n",
    "print(\"Longest increasing subsequence:\", result)\n"
   ]
  },
  {
   "cell_type": "markdown",
   "id": "605ad868",
   "metadata": {},
   "source": [
    "Implement a program to find the shortest path in a grid using breadth-first search.\n"
   ]
  },
  {
   "cell_type": "code",
   "execution_count": 10,
   "id": "7b4975f6",
   "metadata": {},
   "outputs": [
    {
     "name": "stdout",
     "output_type": "stream",
     "text": [
      "Shortest path: [(0, 0), (0, 1), (1, 1), (2, 1), (2, 2), (2, 3), (2, 4), (3, 4), (4, 4)]\n"
     ]
    }
   ],
   "source": [
    "from collections import deque\n",
    "\n",
    "def shortest_path_in_grid(grid, start, end):\n",
    "    # Directions for moving in the grid (right, left, down, up)\n",
    "    directions = [(0, 1), (0, -1), (1, 0), (-1, 0)]\n",
    "    \n",
    "    # Get the number of rows and columns\n",
    "    rows, cols = len(grid), len(grid[0])\n",
    "    \n",
    "    # Check if start or end is out of bounds or if start or end is blocked\n",
    "    if not (0 <= start[0] < rows and 0 <= start[1] < cols) or \\\n",
    "       not (0 <= end[0] < rows and 0 <= end[1] < cols) or \\\n",
    "       grid[start[0]][start[1]] == 0 or grid[end[0]][end[1]] == 0:\n",
    "        return -1\n",
    "    \n",
    "    # Initialize BFS structures\n",
    "    queue = deque([(start, [start])])  # Each element is ((x, y), path_so_far)\n",
    "    visited = set()\n",
    "    visited.add(start)\n",
    "    \n",
    "    while queue:\n",
    "        (current_x, current_y), path_so_far = queue.popleft()\n",
    "        \n",
    "        # Check if we've reached the end\n",
    "        if (current_x, current_y) == end:\n",
    "            return path_so_far\n",
    "        \n",
    "        # Explore neighbors\n",
    "        for direction in directions:\n",
    "            next_x, next_y = current_x + direction[0], current_y + direction[1]\n",
    "            \n",
    "            if (0 <= next_x < rows and 0 <= next_y < cols and\n",
    "                (next_x, next_y) not in visited and grid[next_x][next_y] == 1):\n",
    "                visited.add((next_x, next_y))\n",
    "                queue.append(((next_x, next_y), path_so_far + [(next_x, next_y)]))\n",
    "    \n",
    "    return -1  # No path found\n",
    "\n",
    "# Example usage\n",
    "grid = [\n",
    "    [1, 1, 1, 0, 1],\n",
    "    [0, 1, 0, 0, 1],\n",
    "    [1, 1, 1, 1, 1],\n",
    "    [1, 0, 0, 0, 1],\n",
    "    [1, 1, 1, 1, 1]\n",
    "]\n",
    "\n",
    "start = (0, 0)\n",
    "end = (4, 4)\n",
    "result = shortest_path_in_grid(grid, start, end)\n",
    "\n",
    "if result == -1:\n",
    "    print(\"No path found\")\n",
    "else:\n",
    "    print(\"Shortest path:\", result)\n"
   ]
  },
  {
   "cell_type": "markdown",
   "id": "2d805a46",
   "metadata": {},
   "source": [
    "# Mixed Difficulty\n"
   ]
  },
  {
   "cell_type": "markdown",
   "id": "8af211c2",
   "metadata": {},
   "source": [
    "Write a program to generate the Fibonacci sequence up to a given number of elements using a loop.\n"
   ]
  },
  {
   "cell_type": "code",
   "execution_count": 17,
   "id": "ae10eb98",
   "metadata": {},
   "outputs": [
    {
     "data": {
      "text/plain": [
       "[1, 1, 2, 3, 5, 8]"
      ]
     },
     "execution_count": 17,
     "metadata": {},
     "output_type": "execute_result"
    }
   ],
   "source": [
    "def fib(n):\n",
    "    \n",
    "    a,b = 0,1\n",
    "    l = []\n",
    "    \n",
    "    while b <= n :\n",
    "        \n",
    "        l.append(a)\n",
    "        a,b = b,a+b\n",
    "        \n",
    "    return l\n",
    "\n",
    "fib(10)"
   ]
  },
  {
   "cell_type": "code",
   "execution_count": 19,
   "id": "9a6cfb4b",
   "metadata": {},
   "outputs": [
    {
     "data": {
      "text/plain": [
       "[0, 1, 1, 2, 3, 5, 8, 13, 21, 34]"
      ]
     },
     "execution_count": 19,
     "metadata": {},
     "output_type": "execute_result"
    }
   ],
   "source": [
    "def fib(n):\n",
    "    \n",
    "    a,b = 0,1\n",
    "    l = []\n",
    "    i = 1\n",
    "    while i <= n :\n",
    "        \n",
    "        l.append(a)\n",
    "        a,b = b,a+b\n",
    "        i += 1\n",
    "    return l\n",
    "\n",
    "fib(10)"
   ]
  },
  {
   "cell_type": "markdown",
   "id": "62447229",
   "metadata": {},
   "source": [
    "Create a function to find the median of a list of numbers using sorting and conditional statements.\n"
   ]
  },
  {
   "cell_type": "code",
   "execution_count": 22,
   "id": "ec02985c",
   "metadata": {},
   "outputs": [
    {
     "name": "stdout",
     "output_type": "stream",
     "text": [
      "2.5\n"
     ]
    }
   ],
   "source": [
    "def median(lst):\n",
    "    sorted_lst = sorted(lst)\n",
    "    length = len(sorted_lst)\n",
    "    \n",
    "    if length % 2 == 1:\n",
    "        return sorted_lst[length // 2]\n",
    "    else:\n",
    "        mid1 = sorted_lst[length // 2 - 1]\n",
    "        mid2 = sorted_lst[length // 2]\n",
    "        return (mid1 + mid2) / 2\n",
    "\n",
    "# Example usage\n",
    "unsorted_list = [1, 5, 2, 8, 3, 1]\n",
    "print(median(unsorted_list))\n"
   ]
  },
  {
   "cell_type": "markdown",
   "id": "d4bc8303",
   "metadata": {},
   "source": [
    "Implement a Python program to perform a binary search on a sorted list.\n"
   ]
  },
  {
   "cell_type": "code",
   "execution_count": 23,
   "id": "ff63736a",
   "metadata": {},
   "outputs": [
    {
     "name": "stdout",
     "output_type": "stream",
     "text": [
      "Index of 7: 3\n"
     ]
    }
   ],
   "source": [
    "def binary_search(sorted_list, target):\n",
    "    left, right = 0, len(sorted_list) - 1\n",
    "    \n",
    "    while left <= right:\n",
    "        mid = (left + right) // 2\n",
    "        mid_value = sorted_list[mid]\n",
    "        \n",
    "        if mid_value == target:\n",
    "            return mid  # Target found, return the index\n",
    "        elif mid_value < target:\n",
    "            left = mid + 1  # Search in the right half\n",
    "        else:\n",
    "            right = mid - 1  # Search in the left half\n",
    "    \n",
    "    return -1  # Target not found\n",
    "\n",
    "# Example usage\n",
    "sorted_list = [1, 3, 5, 7, 9, 11, 13]\n",
    "target = 7\n",
    "result = binary_search(sorted_list, target)\n",
    "print(f\"Index of {target}:\", result)\n"
   ]
  },
  {
   "cell_type": "markdown",
   "id": "87e29bfb",
   "metadata": {},
   "source": [
    "Write a function to calculate the sum of squares of numbers in a range using a list comprehension.\n"
   ]
  },
  {
   "cell_type": "code",
   "execution_count": 2,
   "id": "93926d05",
   "metadata": {},
   "outputs": [
    {
     "data": {
      "text/plain": [
       "14"
      ]
     },
     "execution_count": 2,
     "metadata": {},
     "output_type": "execute_result"
    }
   ],
   "source": [
    "result = sum([ x**2 for x in range (4) ])\n",
    "\n",
    "result"
   ]
  },
  {
   "cell_type": "markdown",
   "id": "f2a14ef7",
   "metadata": {},
   "source": [
    "Create a program that checks if two lists have any common elements and returns a boolean result.\n"
   ]
  },
  {
   "cell_type": "code",
   "execution_count": 4,
   "id": "eb96bd81",
   "metadata": {},
   "outputs": [
    {
     "data": {
      "text/plain": [
       "False"
      ]
     },
     "execution_count": 4,
     "metadata": {},
     "output_type": "execute_result"
    }
   ],
   "source": [
    "def common(l1,l2):\n",
    "    \n",
    "    for i in l1 :\n",
    "        if i in l2 :\n",
    "            return True \n",
    "    return False\n",
    "\n",
    "l1=[1,2,3]\n",
    "l2=[5,6]\n",
    "common(l1,l2)"
   ]
  },
  {
   "cell_type": "markdown",
   "id": "4632e710",
   "metadata": {},
   "source": [
    "# Algorithmic Thinking\n"
   ]
  },
  {
   "cell_type": "markdown",
   "id": "7a4bb77a",
   "metadata": {},
   "source": [
    "Write a function to find the longest common subsequence between two strings.\n"
   ]
  },
  {
   "cell_type": "code",
   "execution_count": 11,
   "id": "8b004545",
   "metadata": {},
   "outputs": [
    {
     "name": "stdout",
     "output_type": "stream",
     "text": [
      "Longest Common Subsequence: BDAB\n"
     ]
    }
   ],
   "source": [
    "def longest_common_subsequence(str1, str2):\n",
    "    m, n = len(str1), len(str2)\n",
    "    \n",
    "    # Create a 2D array to store lengths of longest common subsequence.\n",
    "    dp = [[0] * (n + 1) for _ in range(m + 1)]\n",
    "    \n",
    "    # Fill dp array\n",
    "    for i in range(1, m + 1):\n",
    "        for j in range(1, n + 1):\n",
    "            if str1[i - 1] == str2[j - 1]:\n",
    "                dp[i][j] = dp[i - 1][j - 1] + 1\n",
    "            else:\n",
    "                dp[i][j] = max(dp[i - 1][j], dp[i][j - 1])\n",
    "    \n",
    "    # Reconstruct the LCS from the dp array\n",
    "    lcs = []\n",
    "    i, j = m, n\n",
    "    while i > 0 and j > 0:\n",
    "        if str1[i - 1] == str2[j - 1]:\n",
    "            lcs.append(str1[i - 1])\n",
    "            i -= 1\n",
    "            j -= 1\n",
    "        elif dp[i - 1][j] > dp[i][j - 1]:\n",
    "            i -= 1\n",
    "        else:\n",
    "            j -= 1\n",
    "    \n",
    "    # The LCS is built in reverse order\n",
    "    return ''.join(reversed(lcs))\n",
    "\n",
    "# Example usage\n",
    "str1 = \"ABCBDAB\"\n",
    "str2 = \"BDCAB\"\n",
    "result = longest_common_subsequence(str1, str2)\n",
    "print(\"Longest Common Subsequence:\", result)\n"
   ]
  },
  {
   "cell_type": "markdown",
   "id": "3fb4aff7",
   "metadata": {},
   "source": [
    "Implement a Python program to solve the \"N-Queens\" problem using recursion and backtracking.\n"
   ]
  },
  {
   "cell_type": "code",
   "execution_count": 12,
   "id": "1b554cd9",
   "metadata": {},
   "outputs": [
    {
     "name": "stdout",
     "output_type": "stream",
     "text": [
      "Number of solutions for 4-Queens: 2\n",
      "..Q.\n",
      "Q...\n",
      "...Q\n",
      ".Q..\n",
      "\n",
      ".Q..\n",
      "...Q\n",
      "Q...\n",
      "..Q.\n",
      "\n"
     ]
    }
   ],
   "source": [
    "def solve_n_queens(n):\n",
    "    def is_safe(board, row, col):\n",
    "        # Check this row on the left side\n",
    "        for i in range(col):\n",
    "            if board[row][i] == 1:\n",
    "                return False\n",
    "        \n",
    "        # Check upper diagonal on the left side\n",
    "        for i, j in zip(range(row, -1, -1), range(col, -1, -1)):\n",
    "            if board[i][j] == 1:\n",
    "                return False\n",
    "        \n",
    "        # Check lower diagonal on the left side\n",
    "        for i, j in zip(range(row, n, 1), range(col, -1, -1)):\n",
    "            if board[i][j] == 1:\n",
    "                return False\n",
    "        \n",
    "        return True\n",
    "    \n",
    "    def solve(board, col):\n",
    "        # If all queens are placed\n",
    "        if col >= n:\n",
    "            solution = []\n",
    "            for row in board:\n",
    "                solution.append(\"\".join(\"Q\" if x else \".\" for x in row))\n",
    "            solutions.append(solution)\n",
    "            return\n",
    "        \n",
    "        # Try placing queen in all rows in this column\n",
    "        for i in range(n):\n",
    "            if is_safe(board, i, col):\n",
    "                board[i][col] = 1  # Place the queen\n",
    "                solve(board, col + 1)  # Recur to place the rest of the queens\n",
    "                board[i][col] = 0  # Backtrack\n",
    "    \n",
    "    # Initialize the board\n",
    "    board = [[0] * n for _ in range(n)]\n",
    "    solutions = []\n",
    "    solve(board, 0)\n",
    "    return solutions\n",
    "\n",
    "# Example usage\n",
    "n = 4\n",
    "result = solve_n_queens(n)\n",
    "print(f\"Number of solutions for {n}-Queens: {len(result)}\")\n",
    "for solution in result:\n",
    "    for row in solution:\n",
    "        print(row)\n",
    "    print()\n"
   ]
  },
  {
   "cell_type": "markdown",
   "id": "fcded0e8",
   "metadata": {},
   "source": [
    "Create a function that generates all valid permutations of a given string.\n"
   ]
  },
  {
   "cell_type": "code",
   "execution_count": 13,
   "id": "6b252110",
   "metadata": {},
   "outputs": [
    {
     "name": "stdout",
     "output_type": "stream",
     "text": [
      "All permutations: ['abc', 'acb', 'bac', 'bca', 'cab', 'cba']\n"
     ]
    }
   ],
   "source": [
    "from itertools import permutations\n",
    "\n",
    "def generate_permutations(s):\n",
    "    # Generate all permutations of the string\n",
    "    perm = permutations(s)\n",
    "    \n",
    "    # Convert each permutation tuple to a string and return a list of these strings\n",
    "    return [''.join(p) for p in perm]\n",
    "\n",
    "# Example usage\n",
    "string = \"abc\"\n",
    "result = generate_permutations(string)\n",
    "print(\"All permutations:\", result)\n"
   ]
  },
  {
   "cell_type": "markdown",
   "id": "61511c56",
   "metadata": {},
   "source": [
    "Write a program that finds the shortest path between two nodes in a graph using Dijkstra's algorithm.\n"
   ]
  },
  {
   "cell_type": "code",
   "execution_count": 14,
   "id": "7d135d7f",
   "metadata": {},
   "outputs": [
    {
     "name": "stdout",
     "output_type": "stream",
     "text": [
      "Shortest path from A to D: ['A', 'B', 'C', 'D']\n",
      "Distance: 4\n"
     ]
    }
   ],
   "source": [
    "import heapq\n",
    "\n",
    "def dijkstra(graph, start, end):\n",
    "    # Priority queue to store (distance, node) tuples\n",
    "    pq = []\n",
    "    \n",
    "    # Distances to all nodes initialized to infinity\n",
    "    distances = {node: float('inf') for node in graph}\n",
    "    distances[start] = 0\n",
    "    \n",
    "    # Previous nodes to reconstruct the shortest path\n",
    "    previous_nodes = {node: None for node in graph}\n",
    "    \n",
    "    # Push the start node into the priority queue\n",
    "    heapq.heappush(pq, (0, start))\n",
    "    \n",
    "    while pq:\n",
    "        # Get the node with the smallest distance\n",
    "        current_distance, current_node = heapq.heappop(pq)\n",
    "        \n",
    "        # If we reached the destination node, break out of the loop\n",
    "        if current_node == end:\n",
    "            break\n",
    "        \n",
    "        # If the distance is greater than the recorded distance, skip processing\n",
    "        if current_distance > distances[current_node]:\n",
    "            continue\n",
    "        \n",
    "        # Explore neighbors\n",
    "        for neighbor, weight in graph[current_node].items():\n",
    "            distance = current_distance + weight\n",
    "            \n",
    "            # If a shorter path is found\n",
    "            if distance < distances[neighbor]:\n",
    "                distances[neighbor] = distance\n",
    "                previous_nodes[neighbor] = current_node\n",
    "                heapq.heappush(pq, (distance, neighbor))\n",
    "    \n",
    "    # Reconstruct the shortest path\n",
    "    path = []\n",
    "    node = end\n",
    "    while node is not None:\n",
    "        path.append(node)\n",
    "        node = previous_nodes[node]\n",
    "    \n",
    "    return path[::-1], distances[end]\n",
    "\n",
    "# Example usage\n",
    "graph = {\n",
    "    'A': {'B': 1, 'C': 4},\n",
    "    'B': {'C': 2, 'D': 5},\n",
    "    'C': {'D': 1},\n",
    "    'D': {}\n",
    "}\n",
    "\n",
    "start_node = 'A'\n",
    "end_node = 'D'\n",
    "path, distance = dijkstra(graph, start_node, end_node)\n",
    "\n",
    "print(f\"Shortest path from {start_node} to {end_node}: {path}\")\n",
    "print(f\"Distance: {distance}\")\n"
   ]
  },
  {
   "cell_type": "markdown",
   "id": "1db2d5e8",
   "metadata": {},
   "source": [
    "Implement a function to solve the \"Subset Sum\" problem using recursion and dynamic programming."
   ]
  },
  {
   "cell_type": "code",
   "execution_count": 15,
   "id": "d92773e6",
   "metadata": {},
   "outputs": [
    {
     "name": "stdout",
     "output_type": "stream",
     "text": [
      "Subset with sum 9 exists: True\n"
     ]
    }
   ],
   "source": [
    "def subset_sum_recursive(arr, target):\n",
    "    def helper(index, current_sum):\n",
    "        # Base cases\n",
    "        if current_sum == target:\n",
    "            return True\n",
    "        if index >= len(arr) or current_sum > target:\n",
    "            return False\n",
    "        \n",
    "        # Include the current element in the subset\n",
    "        include = helper(index + 1, current_sum + arr[index])\n",
    "        \n",
    "        # Exclude the current element from the subset\n",
    "        exclude = helper(index + 1, current_sum)\n",
    "        \n",
    "        return include or exclude\n",
    "    \n",
    "    return helper(0, 0)\n",
    "\n",
    "# Example usage\n",
    "arr = [3, 34, 4, 12, 5, 2]\n",
    "target = 9\n",
    "print(\"Subset with sum\", target, \"exists:\", subset_sum_recursive(arr, target))\n"
   ]
  },
  {
   "cell_type": "markdown",
   "id": "64936704",
   "metadata": {},
   "source": [
    "# Slicing\n"
   ]
  },
  {
   "cell_type": "markdown",
   "id": "b9f5fd2f",
   "metadata": {},
   "source": [
    "Write a function to extract the first 4 characters from a string using slicing.\n"
   ]
  },
  {
   "cell_type": "code",
   "execution_count": 4,
   "id": "120d2b31",
   "metadata": {},
   "outputs": [
    {
     "data": {
      "text/plain": [
       "'abcd'"
      ]
     },
     "execution_count": 4,
     "metadata": {},
     "output_type": "execute_result"
    }
   ],
   "source": [
    "def firstfour(str):\n",
    "    return str[:4]\n",
    "\n",
    "firstfour('abcde')"
   ]
  },
  {
   "cell_type": "markdown",
   "id": "66157efb",
   "metadata": {},
   "source": [
    "Create a program to reverse the first half of a list and concatenate it with the second half.\n"
   ]
  },
  {
   "cell_type": "code",
   "execution_count": 9,
   "id": "c3fe3be6",
   "metadata": {},
   "outputs": [
    {
     "data": {
      "text/plain": [
       "[4, 3, 2, 1, 5, 6, 7, 8]"
      ]
     },
     "execution_count": 9,
     "metadata": {},
     "output_type": "execute_result"
    }
   ],
   "source": [
    "def rev_list(lst):\n",
    "    \n",
    "    length = len(lst)\n",
    "    \n",
    "    first = lst[:int(length/2)]\n",
    "    first_rev = sorted(first,reverse = True)\n",
    "    \n",
    "    return first_rev + lst[int(length/2):]\n",
    "\n",
    "l = [1,2,3,4,5,6,7,8]\n",
    "\n",
    "rev_list(l)"
   ]
  },
  {
   "cell_type": "code",
   "execution_count": null,
   "id": "d3e00d34",
   "metadata": {},
   "outputs": [],
   "source": [
    "def reverse_first_half(lst):\n",
    "\n",
    "    mid = len(lst) // 2\n",
    "    result = lst[:mid][::-1] + lst[mid:]\n",
    "    \n",
    "    return result\n",
    "\n",
    "lst = [1, 2, 3, 4, 5, 6, 7, 8]\n",
    "reversed_lst = reverse_first_half(lst)\n",
    "print(reversed_lst)\n"
   ]
  },
  {
   "cell_type": "markdown",
   "id": "01faa2c4",
   "metadata": {},
   "source": [
    "Implement a function to get every second element from a list in reverse order using slicing.\n"
   ]
  },
  {
   "cell_type": "code",
   "execution_count": 10,
   "id": "47d40f52",
   "metadata": {},
   "outputs": [
    {
     "data": {
      "text/plain": [
       "[8, 6, 4, 2]"
      ]
     },
     "execution_count": 10,
     "metadata": {},
     "output_type": "execute_result"
    }
   ],
   "source": [
    "def every_sec(lst):\n",
    "    \n",
    "    for i in lst :\n",
    "        return lst[::-2]\n",
    "    \n",
    "every_sec(l)"
   ]
  },
  {
   "cell_type": "markdown",
   "id": "57ecb3e8",
   "metadata": {},
   "source": [
    "Write a function to split a string into chunks of a given size using slicing.\n"
   ]
  },
  {
   "cell_type": "code",
   "execution_count": 21,
   "id": "881e0d1a",
   "metadata": {},
   "outputs": [
    {
     "name": "stdout",
     "output_type": "stream",
     "text": [
      "['ab', 'cd', 'ef', 'g']\n"
     ]
    }
   ],
   "source": [
    "def chunks(s, c):\n",
    "    l = []\n",
    "    for i in range(0, len(s), c):\n",
    "        l.append(s[i:i+c])\n",
    "    return l\n",
    "\n",
    "print(chunks('abcdefg', 2))\n"
   ]
  },
  {
   "cell_type": "code",
   "execution_count": 22,
   "id": "8c50aaad",
   "metadata": {},
   "outputs": [
    {
     "name": "stdout",
     "output_type": "stream",
     "text": [
      "['abc', 'def', 'ghi', 'j']\n"
     ]
    }
   ],
   "source": [
    "def split_string(s, chunk_size):\n",
    "\n",
    "    chunks = [s[i:i+chunk_size] for i in range(0, len(s), chunk_size)]\n",
    "    return chunks\n",
    "\n",
    "s = \"abcdefghij\"\n",
    "chunk_size = 3\n",
    "result = split_string(s, chunk_size)\n",
    "print(result)\n"
   ]
  },
  {
   "cell_type": "markdown",
   "id": "2e69a379",
   "metadata": {},
   "source": [
    "Create a program to extract the last two characters of each string in a list.\n"
   ]
  },
  {
   "cell_type": "code",
   "execution_count": 24,
   "id": "14ea3382",
   "metadata": {},
   "outputs": [
    {
     "name": "stdout",
     "output_type": "stream",
     "text": [
      "cd\n",
      "sd\n",
      "uh\n"
     ]
    }
   ],
   "source": [
    "def lasttwo(lst):\n",
    "    \n",
    "    for i in lst:\n",
    "        print(i[-2:])\n",
    "    \n",
    "str = ['abcd','dgsd','kyuh']\n",
    "\n",
    "lasttwo(str)"
   ]
  },
  {
   "cell_type": "markdown",
   "id": "35233275",
   "metadata": {},
   "source": [
    "# Operators\n"
   ]
  },
  {
   "cell_type": "markdown",
   "id": "e575a2c3",
   "metadata": {},
   "source": [
    "Write a function to calculate the bitwise NOT of a number.\n"
   ]
  },
  {
   "cell_type": "code",
   "execution_count": 25,
   "id": "4aca6bd8",
   "metadata": {},
   "outputs": [
    {
     "data": {
      "text/plain": [
       "-10"
      ]
     },
     "execution_count": 25,
     "metadata": {},
     "output_type": "execute_result"
    }
   ],
   "source": [
    "def bitwise_not(n):\n",
    "    return ~n\n",
    "\n",
    "bitwise_not(9)"
   ]
  },
  {
   "cell_type": "markdown",
   "id": "538c09bd",
   "metadata": {},
   "source": [
    "Create a program to perform bitwise AND between corresponding elements of two lists.\n"
   ]
  },
  {
   "cell_type": "code",
   "execution_count": 27,
   "id": "9faab0a0",
   "metadata": {},
   "outputs": [
    {
     "data": {
      "text/plain": [
       "[0, 0, 2]"
      ]
     },
     "execution_count": 27,
     "metadata": {},
     "output_type": "execute_result"
    }
   ],
   "source": [
    "def bit_and(l1,l2):\n",
    "    \n",
    "    result = []\n",
    "    for i , j in zip(l1,l2):\n",
    "        result.append(i&j)\n",
    "    return result\n",
    "\n",
    "l1 = [1,2,3]\n",
    "l2=[4,5,6]\n",
    "\n",
    "bit_and(l1,l2)"
   ]
  },
  {
   "cell_type": "markdown",
   "id": "a1880727",
   "metadata": {},
   "source": [
    "Implement a function that uses bitwise XOR to toggle specific bits in a number.\n"
   ]
  },
  {
   "cell_type": "code",
   "execution_count": 28,
   "id": "e14956d3",
   "metadata": {},
   "outputs": [
    {
     "data": {
      "text/plain": [
       "10"
      ]
     },
     "execution_count": 28,
     "metadata": {},
     "output_type": "execute_result"
    }
   ],
   "source": [
    "def bit_xor(n,mask):\n",
    "    return n ^ mask\n",
    "\n",
    "bit_xor(9,3)"
   ]
  },
  {
   "cell_type": "markdown",
   "id": "b76e08ac",
   "metadata": {},
   "source": [
    "Write a function to calculate the result of shifting a number right by a specified number of positions.\n"
   ]
  },
  {
   "cell_type": "code",
   "execution_count": 2,
   "id": "a062a21c",
   "metadata": {},
   "outputs": [
    {
     "data": {
      "text/plain": [
       "45123"
      ]
     },
     "execution_count": 2,
     "metadata": {},
     "output_type": "execute_result"
    }
   ],
   "source": [
    "def shifting(n , p):\n",
    "    \n",
    "    s = str(n)\n",
    "    \n",
    "    final_str = s[-p:] + s[0:p+1]\n",
    "    \n",
    "    return int(final_str)\n",
    "\n",
    "shifting(12345,2)"
   ]
  },
  {
   "cell_type": "code",
   "execution_count": 3,
   "id": "ddd63c6c",
   "metadata": {},
   "outputs": [
    {
     "name": "stdout",
     "output_type": "stream",
     "text": [
      "8\n"
     ]
    }
   ],
   "source": [
    "def shifting(n, p):\n",
    "    return n >> p\n",
    "\n",
    "print(shifting(32, 2))  "
   ]
  },
  {
   "cell_type": "markdown",
   "id": "ababeb95",
   "metadata": {},
   "source": [
    "Create a program that determines if a number is a power of 2 using bitwise operations.\n"
   ]
  },
  {
   "cell_type": "code",
   "execution_count": 5,
   "id": "70d35622",
   "metadata": {},
   "outputs": [
    {
     "name": "stdout",
     "output_type": "stream",
     "text": [
      "True\n",
      "False\n",
      "True\n",
      "False\n"
     ]
    }
   ],
   "source": [
    "def is_power_of_two(n):\n",
    "    if n <= 0:\n",
    "        return False\n",
    "    return (n & (n - 1)) == 0\n",
    "\n",
    "# Example usage:\n",
    "print(is_power_of_two(4))   # Output: True\n",
    "print(is_power_of_two(6))   # Output: False\n",
    "print(is_power_of_two(16))  # Output: True\n",
    "print(is_power_of_two(0))   # Output: False\n"
   ]
  },
  {
   "cell_type": "markdown",
   "id": "5168cb1f",
   "metadata": {},
   "source": [
    "# Built-in Functions\n"
   ]
  },
  {
   "cell_type": "markdown",
   "id": "0130eb0a",
   "metadata": {},
   "source": [
    "Write a program that finds the index of the first occurrence of a value in a list.\n"
   ]
  },
  {
   "cell_type": "code",
   "execution_count": 6,
   "id": "c40d0cd7",
   "metadata": {},
   "outputs": [
    {
     "data": {
      "text/plain": [
       "2"
      ]
     },
     "execution_count": 6,
     "metadata": {},
     "output_type": "execute_result"
    }
   ],
   "source": [
    "def index_x(lst,n):\n",
    "    \n",
    "    for i in lst :\n",
    "        if i == n :\n",
    "            return lst.index(i)\n",
    "l = [1,2,3,4]\n",
    "\n",
    "index_x(l,3)"
   ]
  },
  {
   "cell_type": "markdown",
   "id": "45d59af2",
   "metadata": {},
   "source": [
    "Create a function to convert a list of integers to their corresponding hexadecimal strings.\n"
   ]
  },
  {
   "cell_type": "code",
   "execution_count": 7,
   "id": "43446ebf",
   "metadata": {},
   "outputs": [
    {
     "name": "stdout",
     "output_type": "stream",
     "text": [
      "['0xa', '0xff', '0x10', '0x0']\n"
     ]
    }
   ],
   "source": [
    "def to_hex_list(lst):\n",
    "    return [hex(num) for num in lst]\n",
    "\n",
    "# Example usage\n",
    "nums = [10, 255, 16, 0]\n",
    "hex_list = to_hex_list(nums)\n",
    "print(hex_list)  # Output: ['0xa', '0xff', '0x10', '0x0']\n"
   ]
  },
  {
   "cell_type": "markdown",
   "id": "51c26392",
   "metadata": {},
   "source": [
    "Implement a program that uses reduce() to concatenate all strings in a list.\n"
   ]
  },
  {
   "cell_type": "code",
   "execution_count": 3,
   "id": "78f51914",
   "metadata": {},
   "outputs": [
    {
     "name": "stdout",
     "output_type": "stream",
     "text": [
      "applebananacherrydateelderberryfiggrapehoneydewkiwilemon\n"
     ]
    }
   ],
   "source": [
    "from functools import reduce\n",
    "\n",
    "def con_str(acc, s):\n",
    "    return acc + s\n",
    "\n",
    "strings_list = [\n",
    "    \"apple\",\n",
    "    \"banana\",\n",
    "    \"cherry\",\n",
    "    \"date\",\n",
    "    \"elderberry\",\n",
    "    \"fig\",\n",
    "    \"grape\",\n",
    "    \"honeydew\",\n",
    "    \"kiwi\",\n",
    "    \"lemon\"\n",
    "]\n",
    "    \n",
    "final_result = reduce(con_str, strings_list)\n",
    "print(final_result)\n"
   ]
  },
  {
   "cell_type": "markdown",
   "id": "e607ad5a",
   "metadata": {},
   "source": [
    "Write a function that calculates the length of the longest string in a list.\n"
   ]
  },
  {
   "cell_type": "code",
   "execution_count": 4,
   "id": "98cc22a6",
   "metadata": {},
   "outputs": [
    {
     "data": {
      "text/plain": [
       "10"
      ]
     },
     "execution_count": 4,
     "metadata": {},
     "output_type": "execute_result"
    }
   ],
   "source": [
    "def longest(lst):\n",
    "    longest_len = 0\n",
    "    \n",
    "    for i in lst :\n",
    "        if len(i) > longest_len :\n",
    "            longest_len = len(i)\n",
    "    return longest_len\n",
    "\n",
    "longest(strings_list)"
   ]
  },
  {
   "cell_type": "markdown",
   "id": "f1b31d4f",
   "metadata": {},
   "source": [
    "Create a program to find the minimum and maximum values in a list of tuples based on the second element.\n"
   ]
  },
  {
   "cell_type": "code",
   "execution_count": 8,
   "id": "808a3bcc",
   "metadata": {},
   "outputs": [
    {
     "data": {
      "text/plain": [
       "(2, 29)"
      ]
     },
     "execution_count": 8,
     "metadata": {},
     "output_type": "execute_result"
    }
   ],
   "source": [
    "numbers_list = [\n",
    "    (1, 2, 3),\n",
    "    (4, 5, 6),\n",
    "    (7, 8, 9),\n",
    "    (10, 11, 12),\n",
    "    (13, 14, 15),\n",
    "    (16, 17, 18),\n",
    "    (19, 20, 21),\n",
    "    (22, 23, 24),\n",
    "    (25, 26, 27),\n",
    "    (28, 29, 30)\n",
    "]\n",
    "\n",
    "def min_max(lst):\n",
    "    min_value = lst[0][1]\n",
    "    max_value = lst[0][1]\n",
    "    \n",
    "    for i in lst :\n",
    "        if i[1] > max_value :\n",
    "            max_value = i[1]\n",
    "        \n",
    "        if i[1] < min_value :\n",
    "            min_value = i[1]\n",
    "    return min_value , max_value\n",
    "\n",
    "min_max(numbers_list)"
   ]
  },
  {
   "cell_type": "code",
   "execution_count": 7,
   "id": "0b778031",
   "metadata": {},
   "outputs": [
    {
     "data": {
      "text/plain": [
       "(29, 2)"
      ]
     },
     "execution_count": 7,
     "metadata": {},
     "output_type": "execute_result"
    }
   ],
   "source": [
    "def min_max(lst):\n",
    "    l = []\n",
    "    \n",
    "    for i in lst :\n",
    "        l.append(i[1])\n",
    "    \n",
    "    return max(l) , min(l)\n",
    "\n",
    "min_max(numbers_list)"
   ]
  },
  {
   "cell_type": "markdown",
   "id": "c13bcd09",
   "metadata": {},
   "source": [
    "# Conditionals\n"
   ]
  },
  {
   "cell_type": "markdown",
   "id": "ce95b1a6",
   "metadata": {},
   "source": [
    "Write a program to check if a given number is within a specified range (inclusive).\n"
   ]
  },
  {
   "cell_type": "code",
   "execution_count": 10,
   "id": "5cc32df3",
   "metadata": {},
   "outputs": [
    {
     "data": {
      "text/plain": [
       "False"
      ]
     },
     "execution_count": 10,
     "metadata": {},
     "output_type": "execute_result"
    }
   ],
   "source": [
    "def within_range(r,n):\n",
    "    \n",
    "    for i in range(r):\n",
    "        if i == n :\n",
    "            return True \n",
    "    return False\n",
    "\n",
    "within_range(15,16)"
   ]
  },
  {
   "cell_type": "code",
   "execution_count": 11,
   "id": "29736b44",
   "metadata": {},
   "outputs": [
    {
     "data": {
      "text/plain": [
       "False"
      ]
     },
     "execution_count": 11,
     "metadata": {},
     "output_type": "execute_result"
    }
   ],
   "source": [
    "def within_range(n, lower, upper):\n",
    "    return lower <= n <= upper\n",
    "\n",
    "# Example usage\n",
    "within_range(15, 10, 20)  # Returns True\n",
    "within_range(25, 10, 20)  # Returns False\n"
   ]
  },
  {
   "cell_type": "markdown",
   "id": "5713017b",
   "metadata": {},
   "source": [
    "Create a function that categorizes a given number as \"Positive\", \"Negative\", or \"Zero\".\n"
   ]
  },
  {
   "cell_type": "code",
   "execution_count": 12,
   "id": "e0c4656b",
   "metadata": {},
   "outputs": [
    {
     "data": {
      "text/plain": [
       "'Negative'"
      ]
     },
     "execution_count": 12,
     "metadata": {},
     "output_type": "execute_result"
    }
   ],
   "source": [
    "def cat(n):\n",
    "    \n",
    "    if n == 0 :\n",
    "        return 'Zero'\n",
    "    elif n > 0 :\n",
    "        return 'Positive'\n",
    "    else :\n",
    "        return 'Negative'\n",
    "    \n",
    "cat(-9)"
   ]
  },
  {
   "cell_type": "markdown",
   "id": "ca2d772e",
   "metadata": {},
   "source": [
    "Implement a program that returns the type of a given value (\"Integer\", \"Float\", \"String\", etc.).\n"
   ]
  },
  {
   "cell_type": "code",
   "execution_count": 14,
   "id": "6b3130e3",
   "metadata": {},
   "outputs": [
    {
     "data": {
      "text/plain": [
       "float"
      ]
     },
     "execution_count": 14,
     "metadata": {},
     "output_type": "execute_result"
    }
   ],
   "source": [
    "def type_n(n):\n",
    "    return type(n)\n",
    "\n",
    "type_n(9.)"
   ]
  },
  {
   "cell_type": "markdown",
   "id": "c33f3466",
   "metadata": {},
   "source": [
    "Write a function to determine if a number is a perfect cube.\n"
   ]
  },
  {
   "cell_type": "code",
   "execution_count": 19,
   "id": "9905b31d",
   "metadata": {},
   "outputs": [
    {
     "data": {
      "text/plain": [
       "True"
      ]
     },
     "execution_count": 19,
     "metadata": {},
     "output_type": "execute_result"
    }
   ],
   "source": [
    "def perfect_cube(n):\n",
    "    \n",
    "    for i in range(n) :\n",
    "        if i**3 == n :\n",
    "            return True \n",
    "    return False\n",
    "\n",
    "perfect_cube(125000)"
   ]
  },
  {
   "cell_type": "code",
   "execution_count": 20,
   "id": "99a5e831",
   "metadata": {},
   "outputs": [
    {
     "name": "stdout",
     "output_type": "stream",
     "text": [
      "True\n",
      "False\n"
     ]
    }
   ],
   "source": [
    "def is_perfect_cube(n):\n",
    "    if n < 0:\n",
    "        return False\n",
    "    root = round(n ** (1/3))\n",
    "    return root ** 3 == n\n",
    "\n",
    "# Example usage:\n",
    "print(is_perfect_cube(27))  # True\n",
    "print(is_perfect_cube(16))  # False\n"
   ]
  },
  {
   "cell_type": "markdown",
   "id": "cd3dd8ad",
   "metadata": {},
   "source": [
    "Create a program that returns \"Even\", \"Odd\", or \"Zero\" based on the given number.\n"
   ]
  },
  {
   "cell_type": "code",
   "execution_count": 23,
   "id": "ee478b75",
   "metadata": {},
   "outputs": [
    {
     "data": {
      "text/plain": [
       "'Even'"
      ]
     },
     "execution_count": 23,
     "metadata": {},
     "output_type": "execute_result"
    }
   ],
   "source": [
    "def even_odd(n):\n",
    "    \n",
    "    if n == 0 :\n",
    "        return 'Zero'\n",
    "    elif n % 2 == 0 :\n",
    "        return 'Even'\n",
    "    else:\n",
    "        return 'Odd'\n",
    "\n",
    "even_odd(8)\n",
    "    "
   ]
  },
  {
   "cell_type": "markdown",
   "id": "6397c3e0",
   "metadata": {},
   "source": [
    "# Loops\n"
   ]
  },
  {
   "cell_type": "markdown",
   "id": "f031c206",
   "metadata": {},
   "source": [
    "Write a program that prints the first 10 terms of the arithmetic sequence with a given start and step.\n"
   ]
  },
  {
   "cell_type": "code",
   "execution_count": 24,
   "id": "9e36f77b",
   "metadata": {},
   "outputs": [
    {
     "data": {
      "text/plain": [
       "[100, 107, 114, 121, 128, 135, 142, 149, 156, 163]"
      ]
     },
     "execution_count": 24,
     "metadata": {},
     "output_type": "execute_result"
    }
   ],
   "source": [
    "def arth(s,st):\n",
    "    terms = []\n",
    "    \n",
    "    for i in range(10):\n",
    "        term = s + i * st\n",
    "        terms.append(term)\n",
    "    return terms\n",
    "\n",
    "arth(100,7)\n",
    "       "
   ]
  },
  {
   "cell_type": "markdown",
   "id": "f9f36a58",
   "metadata": {},
   "source": [
    "Create a function to find the sum of the first n natural numbers using a for loop.\n"
   ]
  },
  {
   "cell_type": "code",
   "execution_count": 27,
   "id": "ac130d3f",
   "metadata": {},
   "outputs": [
    {
     "data": {
      "text/plain": [
       "55"
      ]
     },
     "execution_count": 27,
     "metadata": {},
     "output_type": "execute_result"
    }
   ],
   "source": [
    "def sumn(n):\n",
    "    sum = 0\n",
    "    for i in range(n+1):\n",
    "        sum += i\n",
    "    return sum\n",
    "\n",
    "sumn(10)"
   ]
  },
  {
   "cell_type": "markdown",
   "id": "bd643ea7",
   "metadata": {},
   "source": [
    "Implement a program to generate the reverse of a list using a while loop.\n"
   ]
  },
  {
   "cell_type": "code",
   "execution_count": 34,
   "id": "e4a8f14f",
   "metadata": {},
   "outputs": [
    {
     "data": {
      "text/plain": [
       "[4, 3, 2, 1]"
      ]
     },
     "execution_count": 34,
     "metadata": {},
     "output_type": "execute_result"
    }
   ],
   "source": [
    "def rev_list(lst):\n",
    "    \n",
    "    l = []\n",
    "    i = len(lst)-1\n",
    "    \n",
    "    while i >= 0 :\n",
    "        l.append(lst[i])\n",
    "        i -= 1\n",
    "        \n",
    "    return l\n",
    "\n",
    "lst = [1,2,3,4]\n",
    "rev_list(lst)"
   ]
  },
  {
   "cell_type": "markdown",
   "id": "d3d14926",
   "metadata": {},
   "source": [
    "Write a program that calculates the sum of the squares of numbers in a given range using a for loop.\n"
   ]
  },
  {
   "cell_type": "code",
   "execution_count": 35,
   "id": "37fd0fe3",
   "metadata": {},
   "outputs": [
    {
     "data": {
      "text/plain": [
       "30"
      ]
     },
     "execution_count": 35,
     "metadata": {},
     "output_type": "execute_result"
    }
   ],
   "source": [
    "def sum_pow(n):\n",
    "    sum = 0\n",
    "    for i in range(n):\n",
    "         sum += i**2\n",
    "    return sum\n",
    "\n",
    "sum_pow(5)"
   ]
  },
  {
   "cell_type": "markdown",
   "id": "b65ce846",
   "metadata": {},
   "source": [
    "Create a function to count how many times a specific element appears in a list using a loop.\n"
   ]
  },
  {
   "cell_type": "code",
   "execution_count": 36,
   "id": "199eef00",
   "metadata": {},
   "outputs": [
    {
     "data": {
      "text/plain": [
       "{1: 2, 2: 3, 3: 4, 4: 1}"
      ]
     },
     "execution_count": 36,
     "metadata": {},
     "output_type": "execute_result"
    }
   ],
   "source": [
    "def frequency(lst):\n",
    "    \n",
    "    d = {} \n",
    "    \n",
    "    for i in lst :\n",
    "        if i in d :\n",
    "            d[i] += 1\n",
    "        else:\n",
    "            d[i] = 1\n",
    "    return d\n",
    "\n",
    "lst = [1,1,2,2,2,3,3,3,3,4]\n",
    "\n",
    "frequency(lst)"
   ]
  },
  {
   "cell_type": "markdown",
   "id": "5e93d9f0",
   "metadata": {},
   "source": [
    "# Iterations\n"
   ]
  },
  {
   "cell_type": "markdown",
   "id": "e4496c7f",
   "metadata": {},
   "source": [
    "Write a program to flatten a list of tuples into a single list using list comprehension.\n"
   ]
  },
  {
   "cell_type": "code",
   "execution_count": 37,
   "id": "44f21642",
   "metadata": {},
   "outputs": [
    {
     "name": "stdout",
     "output_type": "stream",
     "text": [
      "[1, 2, 3, 4, 5, 6, 7, 8]\n"
     ]
    }
   ],
   "source": [
    "def flatten_tuples(tuples_list):\n",
    "    return [item for tup in tuples_list for item in tup]\n",
    "\n",
    "list_of_tuples = [(1, 2, 3), (4, 5), (6, 7, 8)]\n",
    "flattened_list = flatten_tuples(list_of_tuples)\n",
    "print(flattened_list)\n"
   ]
  },
  {
   "cell_type": "markdown",
   "id": "5298c1a5",
   "metadata": {},
   "source": [
    "Create a function to generate all substrings of a given length from a string using nested loops.\n"
   ]
  },
  {
   "cell_type": "code",
   "execution_count": 2,
   "id": "c33b9a91",
   "metadata": {},
   "outputs": [
    {
     "name": "stdout",
     "output_type": "stream",
     "text": [
      "['abc', 'bcd', 'cde', 'def']\n"
     ]
    }
   ],
   "source": [
    "def generate_substrings(s, length):\n",
    "    substrings = []\n",
    "    n = len(s)\n",
    "    \n",
    "    # Outer loop to go through the string\n",
    "    for i in range(n - length + 1):\n",
    "        substring = ''\n",
    "        \n",
    "        # Inner loop to generate substring of the specified length\n",
    "        for j in range(i, i + length):\n",
    "            substring += s[j]\n",
    "        \n",
    "        substrings.append(substring)\n",
    "    \n",
    "    return substrings\n",
    "\n",
    "# Example usage:\n",
    "string = \"abcdef\"\n",
    "length = 3\n",
    "result = generate_substrings(string, length)\n",
    "print(result)\n"
   ]
  },
  {
   "cell_type": "markdown",
   "id": "5791d2ee",
   "metadata": {},
   "source": [
    "Implement a program that counts the number of unique words in a list of sentences.\n"
   ]
  },
  {
   "cell_type": "code",
   "execution_count": 7,
   "id": "3e15be89",
   "metadata": {},
   "outputs": [
    {
     "data": {
      "text/plain": [
       "(79,\n",
       " ['Define',\n",
       "  'a',\n",
       "  'function',\n",
       "  'that',\n",
       "  'takes',\n",
       "  'two',\n",
       "  'inputs',\n",
       "  'and',\n",
       "  'returns',\n",
       "  'their',\n",
       "  'sum.',\n",
       "  'Use',\n",
       "  'for',\n",
       "  'loop',\n",
       "  'to',\n",
       "  'iterate',\n",
       "  'through',\n",
       "  'the',\n",
       "  'list',\n",
       "  'print',\n",
       "  'each',\n",
       "  'item.',\n",
       "  'Write',\n",
       "  'an',\n",
       "  'if',\n",
       "  'statement',\n",
       "  'check',\n",
       "  'number',\n",
       "  'is',\n",
       "  'even',\n",
       "  'or',\n",
       "  'odd.',\n",
       "  'try-except',\n",
       "  'block',\n",
       "  'handle',\n",
       "  'potential',\n",
       "  'errors',\n",
       "  'in',\n",
       "  'code.',\n",
       "  'Implement',\n",
       "  'recursive',\n",
       "  'calculate',\n",
       "  'factorial',\n",
       "  'of',\n",
       "  'number.',\n",
       "  'Declare',\n",
       "  'variable',\n",
       "  'store',\n",
       "  'user’s',\n",
       "  'input',\n",
       "  'from',\n",
       "  'console.',\n",
       "  'Append',\n",
       "  'new',\n",
       "  'element',\n",
       "  'end',\n",
       "  'array.',\n",
       "  'Extract',\n",
       "  'substring',\n",
       "  'given',\n",
       "  'string',\n",
       "  'using',\n",
       "  'slicing.',\n",
       "  'Create',\n",
       "  'class',\n",
       "  'with',\n",
       "  '__init__',\n",
       "  'method',\n",
       "  'define',\n",
       "  'some',\n",
       "  'attributes.',\n",
       "  'Open',\n",
       "  'file',\n",
       "  'write',\n",
       "  'mode,',\n",
       "  'data',\n",
       "  'it,',\n",
       "  'close',\n",
       "  'afterward.'])"
      ]
     },
     "execution_count": 7,
     "metadata": {},
     "output_type": "execute_result"
    }
   ],
   "source": [
    "def count_words(lst):\n",
    "    \n",
    "    l = []\n",
    "    \n",
    "    for sent in lst :\n",
    "        for word in sent.split(' ') :\n",
    "            if word not in l :\n",
    "                l.append(word)\n",
    "                \n",
    "    return len(l),l\n",
    "\n",
    "sentences = [\n",
    "    \"Define a function that takes two inputs and returns their sum.\",\n",
    "    \"Use a for loop to iterate through the list and print each item.\",\n",
    "    \"Write an if statement to check if the number is even or odd.\",\n",
    "    \"Use a try-except block to handle potential errors in the code.\",\n",
    "    \"Implement a recursive function to calculate the factorial of a number.\",\n",
    "    \"Declare a variable to store the user’s input from the console.\",\n",
    "    \"Append the new element to the end of the array.\",\n",
    "    \"Extract a substring from the given string using slicing.\",\n",
    "    \"Create a class with an __init__ method and define some attributes.\",\n",
    "    \"Open a file in write mode, write data to it, and close the file afterward.\"\n",
    "]\n",
    "\n",
    "count_words(sentences)\n"
   ]
  },
  {
   "cell_type": "markdown",
   "id": "ce013b22",
   "metadata": {},
   "source": [
    "Write a function to sum all elements in a matrix (list of lists) using nested loops.\n"
   ]
  },
  {
   "cell_type": "code",
   "execution_count": 8,
   "id": "5169d6f2",
   "metadata": {},
   "outputs": [
    {
     "data": {
      "text/plain": [
       "120"
      ]
     },
     "execution_count": 8,
     "metadata": {},
     "output_type": "execute_result"
    }
   ],
   "source": [
    "list_of_integers = [\n",
    "    [1, 2, 3],\n",
    "    [4, 5, 6],\n",
    "    [7, 8, 9],\n",
    "    [10, 11, 12],\n",
    "    [13, 14, 15]\n",
    "]\n",
    "\n",
    "def sum_mat(lst):\n",
    "    total_sum = 0\n",
    "    \n",
    "    for i in lst :\n",
    "        total_sum += sum(i)\n",
    "    return total_sum\n",
    "\n",
    "sum_mat(list_of_integers)"
   ]
  },
  {
   "cell_type": "markdown",
   "id": "e0cc4b1d",
   "metadata": {},
   "source": [
    "Create a program that generates all possible pairs of elements from two lists.\n"
   ]
  },
  {
   "cell_type": "code",
   "execution_count": 11,
   "id": "82af8578",
   "metadata": {},
   "outputs": [
    {
     "data": {
      "text/plain": [
       "[(1, 2), (1, 5), (1, 6), (2, 2), (2, 5), (2, 6), (3, 2), (3, 5), (3, 6)]"
      ]
     },
     "execution_count": 11,
     "metadata": {},
     "output_type": "execute_result"
    }
   ],
   "source": [
    "def pairs(l1,l2):\n",
    "    l = []\n",
    "    \n",
    "    for i in l1 :\n",
    "        for j in l2 :\n",
    "            if (i,j) not in l and (j,i) not in l :\n",
    "                l.append((i,j))\n",
    "    return l \n",
    "\n",
    "l1 = [1,2,3]\n",
    "l2 = [2,5,6]\n",
    "\n",
    "pairs(l1,l2)"
   ]
  },
  {
   "cell_type": "markdown",
   "id": "a4a923d5",
   "metadata": {},
   "source": [
    "# Combined Concepts\n"
   ]
  },
  {
   "cell_type": "markdown",
   "id": "1182b6d3",
   "metadata": {},
   "source": [
    "Write a function to remove all occurrences of a specific substring from a list of strings.\n"
   ]
  },
  {
   "cell_type": "code",
   "execution_count": 2,
   "id": "3713b9ca",
   "metadata": {},
   "outputs": [
    {
     "data": {
      "text/plain": [
       "['hello ', ' of Python', 'welcome to the new ']"
      ]
     },
     "execution_count": 2,
     "metadata": {},
     "output_type": "execute_result"
    }
   ],
   "source": [
    "def rem_str(lst,sub):\n",
    "    \n",
    "    l = []\n",
    "    \n",
    "    for i in lst :\n",
    "        new_str = i.replace(sub,'')\n",
    "        l.append(new_str)\n",
    "    return l\n",
    "\n",
    "lst = [\"hello world\", \"world of Python\", \"welcome to the new world\"]\n",
    "\n",
    "rem_str(lst,'world')"
   ]
  },
  {
   "cell_type": "markdown",
   "id": "acd37f24",
   "metadata": {},
   "source": [
    "Create a Python program that returns the largest palindrome in a list of strings.\n"
   ]
  },
  {
   "cell_type": "code",
   "execution_count": 7,
   "id": "24720c67",
   "metadata": {},
   "outputs": [
    {
     "data": {
      "text/plain": [
       "('racecar', 7)"
      ]
     },
     "execution_count": 7,
     "metadata": {},
     "output_type": "execute_result"
    }
   ],
   "source": [
    "lst = [\"radar\", \"level\", \"hello\", \"world\", \"civic\", \"noon\", \"racecar\"]\n",
    "\n",
    "def largest_pal(lst):\n",
    "    max_length = 0\n",
    "    longest = ''\n",
    "    for i in lst :\n",
    "        if i == i[::-1] and len(i) > max_length :\n",
    "            max_length = len(i)\n",
    "            longest = i\n",
    "    return longest , max_length\n",
    "\n",
    "largest_pal(lst)\n",
    "            "
   ]
  },
  {
   "cell_type": "markdown",
   "id": "6f1e4245",
   "metadata": {},
   "source": [
    "Implement a function to find the intersection of multiple lists.\n"
   ]
  },
  {
   "cell_type": "code",
   "execution_count": 10,
   "id": "bc589d73",
   "metadata": {},
   "outputs": [
    {
     "data": {
      "text/plain": [
       "[2]"
      ]
     },
     "execution_count": 10,
     "metadata": {},
     "output_type": "execute_result"
    }
   ],
   "source": [
    "def inter(l1,l2,l3):\n",
    "    l = []\n",
    "    \n",
    "    for i in l1:\n",
    "        if i in l2 and  i in l3 :\n",
    "            l.append(i)\n",
    "    return l\n",
    "\n",
    "l1 = [1,2]\n",
    "l2 = [2,3,4]\n",
    "l3 = [2,3,5]\n",
    "\n",
    "inter(l1,l2,l3)"
   ]
  },
  {
   "cell_type": "markdown",
   "id": "a30d66da",
   "metadata": {},
   "source": [
    "Write a Python program that checks if a given list is a rotation of another list.\n"
   ]
  },
  {
   "cell_type": "code",
   "execution_count": 14,
   "id": "3f6c7d9c",
   "metadata": {},
   "outputs": [
    {
     "data": {
      "text/plain": [
       "True"
      ]
     },
     "execution_count": 14,
     "metadata": {},
     "output_type": "execute_result"
    }
   ],
   "source": [
    "l1 = [1,2,3]\n",
    "l2 = [3,1,2]\n",
    "l3 = [2,3,5]\n",
    "\n",
    "def rotation(l1,l2):\n",
    "    \n",
    "    if len(l1) != len(l2) :\n",
    "        return False\n",
    "    \n",
    "    concatenate = l1 + l1 \n",
    "    \n",
    "    for i in l1 :\n",
    "        if concatenate[i:i+len(l2)] == l2 :\n",
    "            return True\n",
    "    return False\n",
    "\n",
    "rotation(l1,l2)"
   ]
  },
  {
   "cell_type": "markdown",
   "id": "03052b98",
   "metadata": {},
   "source": [
    "Create a function to find the longest sequence of consecutive numbers in a list.\n"
   ]
  },
  {
   "cell_type": "code",
   "execution_count": 15,
   "id": "6e254746",
   "metadata": {},
   "outputs": [
    {
     "name": "stdout",
     "output_type": "stream",
     "text": [
      "5\n"
     ]
    }
   ],
   "source": [
    "def longest_consecutive_sequence(nums):\n",
    "    if not nums:\n",
    "        return 0\n",
    "    \n",
    "    nums = set(nums)  # Use a set to remove duplicates and allow O(1) lookups\n",
    "    longest_sequence = 0\n",
    "\n",
    "    for num in nums:\n",
    "        # Check if it's the start of a sequence\n",
    "        if num - 1 not in nums:\n",
    "            current_num = num\n",
    "            current_sequence = 1\n",
    "\n",
    "            # Check the next numbers in the sequence\n",
    "            while current_num + 1 in nums:\n",
    "                current_num += 1\n",
    "                current_sequence += 1\n",
    "\n",
    "            # Update the longest sequence found\n",
    "            longest_sequence = max(longest_sequence, current_sequence)\n",
    "\n",
    "    return longest_sequence\n",
    "\n",
    "# Example usage\n",
    "nums = [100, 4, 200, 1, 3, 2, 5, 101, 102, 103]\n",
    "print(longest_consecutive_sequence(nums))  # Output: 5\n"
   ]
  },
  {
   "cell_type": "markdown",
   "id": "418f9648",
   "metadata": {},
   "source": [
    "Write a program to generate a list of Fibonacci numbers up to n using a loop.\n"
   ]
  },
  {
   "cell_type": "code",
   "execution_count": 17,
   "id": "a34b280a",
   "metadata": {},
   "outputs": [
    {
     "data": {
      "text/plain": [
       "[1, 1, 2, 3, 5, 8]"
      ]
     },
     "execution_count": 17,
     "metadata": {},
     "output_type": "execute_result"
    }
   ],
   "source": [
    "def fib(n):\n",
    "    \n",
    "    a,b = 0,1\n",
    "    l = []\n",
    "    \n",
    "    while b <= n :\n",
    "        \n",
    "        a,b = b,a+b\n",
    "        l.append(a)\n",
    "        \n",
    "    return l\n",
    "\n",
    "fib(10)"
   ]
  },
  {
   "cell_type": "markdown",
   "id": "d4ce7ad8",
   "metadata": {},
   "source": [
    "Create a function to find the median of a list of numbers using sorting.\n"
   ]
  },
  {
   "cell_type": "code",
   "execution_count": 18,
   "id": "17af1615",
   "metadata": {},
   "outputs": [
    {
     "name": "stdout",
     "output_type": "stream",
     "text": [
      "2\n",
      "2.5\n"
     ]
    }
   ],
   "source": [
    "def med(lst):\n",
    "    \n",
    "    length = len(lst)\n",
    "    \n",
    "    if length % 2 != 0 :\n",
    "        return lst[length//2]\n",
    "    \n",
    "    else :\n",
    "        \n",
    "        mid1 = length//2 + 1\n",
    "        mid2 = length//2\n",
    "        \n",
    "        return (mid1 + mid2)/2\n",
    "\n",
    "l1 = [1,2,3]\n",
    "l2 = [1,2,3,4]\n",
    "\n",
    "print(med(l1))\n",
    "print(med(l2))"
   ]
  },
  {
   "cell_type": "markdown",
   "id": "d9cd4c2f",
   "metadata": {},
   "source": [
    "Implement a program to perform a linear search on an unsorted list.\n"
   ]
  },
  {
   "cell_type": "code",
   "execution_count": 19,
   "id": "05ded082",
   "metadata": {},
   "outputs": [
    {
     "data": {
      "text/plain": [
       "2"
      ]
     },
     "execution_count": 19,
     "metadata": {},
     "output_type": "execute_result"
    }
   ],
   "source": [
    "def lin_search(lst,ele):\n",
    "    \n",
    "    for i in lst :\n",
    "        if i == ele :\n",
    "            return lst.index(i)\n",
    "        \n",
    "l = [1,2,3,4]\n",
    "\n",
    "lin_search(l,3)"
   ]
  },
  {
   "cell_type": "markdown",
   "id": "5b2e6f86",
   "metadata": {},
   "source": [
    "Write a function to calculate the product of all elements in a matrix.\n"
   ]
  },
  {
   "cell_type": "code",
   "execution_count": 23,
   "id": "827bb75e",
   "metadata": {},
   "outputs": [
    {
     "data": {
      "text/plain": [
       "362880"
      ]
     },
     "execution_count": 23,
     "metadata": {},
     "output_type": "execute_result"
    }
   ],
   "source": [
    "matrix = [\n",
    "    [1, 2, 3],\n",
    "    [4, 5, 6],\n",
    "    [7, 8, 9]\n",
    "]\n",
    "\n",
    "\n",
    "def product(mat):\n",
    "    \n",
    "    pro = mat[0][0]\n",
    "    \n",
    "    for i in mat :\n",
    "        for j in i :\n",
    "            pro *= j\n",
    "    return pro\n",
    "\n",
    "product(matrix)\n",
    "    \n",
    "    "
   ]
  },
  {
   "cell_type": "markdown",
   "id": "1c622ff9",
   "metadata": {},
   "source": [
    "Create a program to check if two lists have the same elements, regardless of order.\n"
   ]
  },
  {
   "cell_type": "code",
   "execution_count": 29,
   "id": "cd28a91f",
   "metadata": {},
   "outputs": [
    {
     "data": {
      "text/plain": [
       "True"
      ]
     },
     "execution_count": 29,
     "metadata": {},
     "output_type": "execute_result"
    }
   ],
   "source": [
    "l1 = [1,2,3]\n",
    "l2 = [3,2,1]\n",
    "l3 = [2,3,1]\n",
    "l4 = [2,3,4]\n",
    "def same_ele(l1,l2):\n",
    "    l = []\n",
    "    for i in l1 :\n",
    "        if i in l2 :\n",
    "            l.append(i)\n",
    "    if sorted(l) == sorted(l1) and sorted(l) == sorted(l2):\n",
    "        return True\n",
    "    return False\n",
    "\n",
    "same_ele(l2,l3)"
   ]
  },
  {
   "cell_type": "markdown",
   "id": "edcfb484",
   "metadata": {},
   "source": [
    "Write a function to find the longest increasing subsequence in a list of integers.\n"
   ]
  },
  {
   "cell_type": "code",
   "execution_count": 1,
   "id": "65d2875f",
   "metadata": {},
   "outputs": [
    {
     "name": "stdout",
     "output_type": "stream",
     "text": [
      "[2, 5, 7, 101]\n"
     ]
    }
   ],
   "source": [
    "def longest_increasing_subsequence(nums):\n",
    "    if not nums:\n",
    "        return []\n",
    "    \n",
    "    # Initialize a list to store the length of the LIS ending at each index\n",
    "    dp = [1] * len(nums)\n",
    "    # Initialize a list to store the previous index of elements in the LIS\n",
    "    prev = [-1] * len(nums)\n",
    "    \n",
    "    # Loop through the list and fill dp and prev arrays\n",
    "    for i in range(1, len(nums)):\n",
    "        for j in range(i):\n",
    "            if nums[i] > nums[j] and dp[i] < dp[j] + 1:\n",
    "                dp[i] = dp[j] + 1\n",
    "                prev[i] = j\n",
    "\n",
    "    # Find the index of the maximum value in dp (the end of the longest subsequence)\n",
    "    max_index = dp.index(max(dp))\n",
    "    \n",
    "    # Reconstruct the LIS by backtracking through the prev list\n",
    "    lis = []\n",
    "    while max_index != -1:\n",
    "        lis.append(nums[max_index])\n",
    "        max_index = prev[max_index]\n",
    "    \n",
    "    return lis[::-1]  # Reverse the list to get the LIS in correct order\n",
    "\n",
    "# Example usage\n",
    "nums = [10, 9, 2, 5, 3, 7, 101, 18]\n",
    "print(longest_increasing_subsequence(nums))\n"
   ]
  },
  {
   "cell_type": "markdown",
   "id": "99c8d6ef",
   "metadata": {},
   "source": [
    "Create a function that generates all possible combinations of k elements from a list.\n"
   ]
  },
  {
   "cell_type": "code",
   "execution_count": 3,
   "id": "4cbb3455",
   "metadata": {},
   "outputs": [
    {
     "name": "stdout",
     "output_type": "stream",
     "text": [
      "[(1, 2, 3, 4, 5), (1, 2, 3, 4, 6), (1, 2, 3, 4, 7), (1, 2, 3, 4, 8), (1, 2, 3, 4, 9), (1, 2, 3, 4, 10), (1, 2, 3, 5, 6), (1, 2, 3, 5, 7), (1, 2, 3, 5, 8), (1, 2, 3, 5, 9), (1, 2, 3, 5, 10), (1, 2, 3, 6, 7), (1, 2, 3, 6, 8), (1, 2, 3, 6, 9), (1, 2, 3, 6, 10), (1, 2, 3, 7, 8), (1, 2, 3, 7, 9), (1, 2, 3, 7, 10), (1, 2, 3, 8, 9), (1, 2, 3, 8, 10), (1, 2, 3, 9, 10), (1, 2, 4, 5, 6), (1, 2, 4, 5, 7), (1, 2, 4, 5, 8), (1, 2, 4, 5, 9), (1, 2, 4, 5, 10), (1, 2, 4, 6, 7), (1, 2, 4, 6, 8), (1, 2, 4, 6, 9), (1, 2, 4, 6, 10), (1, 2, 4, 7, 8), (1, 2, 4, 7, 9), (1, 2, 4, 7, 10), (1, 2, 4, 8, 9), (1, 2, 4, 8, 10), (1, 2, 4, 9, 10), (1, 2, 5, 6, 7), (1, 2, 5, 6, 8), (1, 2, 5, 6, 9), (1, 2, 5, 6, 10), (1, 2, 5, 7, 8), (1, 2, 5, 7, 9), (1, 2, 5, 7, 10), (1, 2, 5, 8, 9), (1, 2, 5, 8, 10), (1, 2, 5, 9, 10), (1, 2, 6, 7, 8), (1, 2, 6, 7, 9), (1, 2, 6, 7, 10), (1, 2, 6, 8, 9), (1, 2, 6, 8, 10), (1, 2, 6, 9, 10), (1, 2, 7, 8, 9), (1, 2, 7, 8, 10), (1, 2, 7, 9, 10), (1, 2, 8, 9, 10), (1, 3, 4, 5, 6), (1, 3, 4, 5, 7), (1, 3, 4, 5, 8), (1, 3, 4, 5, 9), (1, 3, 4, 5, 10), (1, 3, 4, 6, 7), (1, 3, 4, 6, 8), (1, 3, 4, 6, 9), (1, 3, 4, 6, 10), (1, 3, 4, 7, 8), (1, 3, 4, 7, 9), (1, 3, 4, 7, 10), (1, 3, 4, 8, 9), (1, 3, 4, 8, 10), (1, 3, 4, 9, 10), (1, 3, 5, 6, 7), (1, 3, 5, 6, 8), (1, 3, 5, 6, 9), (1, 3, 5, 6, 10), (1, 3, 5, 7, 8), (1, 3, 5, 7, 9), (1, 3, 5, 7, 10), (1, 3, 5, 8, 9), (1, 3, 5, 8, 10), (1, 3, 5, 9, 10), (1, 3, 6, 7, 8), (1, 3, 6, 7, 9), (1, 3, 6, 7, 10), (1, 3, 6, 8, 9), (1, 3, 6, 8, 10), (1, 3, 6, 9, 10), (1, 3, 7, 8, 9), (1, 3, 7, 8, 10), (1, 3, 7, 9, 10), (1, 3, 8, 9, 10), (1, 4, 5, 6, 7), (1, 4, 5, 6, 8), (1, 4, 5, 6, 9), (1, 4, 5, 6, 10), (1, 4, 5, 7, 8), (1, 4, 5, 7, 9), (1, 4, 5, 7, 10), (1, 4, 5, 8, 9), (1, 4, 5, 8, 10), (1, 4, 5, 9, 10), (1, 4, 6, 7, 8), (1, 4, 6, 7, 9), (1, 4, 6, 7, 10), (1, 4, 6, 8, 9), (1, 4, 6, 8, 10), (1, 4, 6, 9, 10), (1, 4, 7, 8, 9), (1, 4, 7, 8, 10), (1, 4, 7, 9, 10), (1, 4, 8, 9, 10), (1, 5, 6, 7, 8), (1, 5, 6, 7, 9), (1, 5, 6, 7, 10), (1, 5, 6, 8, 9), (1, 5, 6, 8, 10), (1, 5, 6, 9, 10), (1, 5, 7, 8, 9), (1, 5, 7, 8, 10), (1, 5, 7, 9, 10), (1, 5, 8, 9, 10), (1, 6, 7, 8, 9), (1, 6, 7, 8, 10), (1, 6, 7, 9, 10), (1, 6, 8, 9, 10), (1, 7, 8, 9, 10), (2, 3, 4, 5, 6), (2, 3, 4, 5, 7), (2, 3, 4, 5, 8), (2, 3, 4, 5, 9), (2, 3, 4, 5, 10), (2, 3, 4, 6, 7), (2, 3, 4, 6, 8), (2, 3, 4, 6, 9), (2, 3, 4, 6, 10), (2, 3, 4, 7, 8), (2, 3, 4, 7, 9), (2, 3, 4, 7, 10), (2, 3, 4, 8, 9), (2, 3, 4, 8, 10), (2, 3, 4, 9, 10), (2, 3, 5, 6, 7), (2, 3, 5, 6, 8), (2, 3, 5, 6, 9), (2, 3, 5, 6, 10), (2, 3, 5, 7, 8), (2, 3, 5, 7, 9), (2, 3, 5, 7, 10), (2, 3, 5, 8, 9), (2, 3, 5, 8, 10), (2, 3, 5, 9, 10), (2, 3, 6, 7, 8), (2, 3, 6, 7, 9), (2, 3, 6, 7, 10), (2, 3, 6, 8, 9), (2, 3, 6, 8, 10), (2, 3, 6, 9, 10), (2, 3, 7, 8, 9), (2, 3, 7, 8, 10), (2, 3, 7, 9, 10), (2, 3, 8, 9, 10), (2, 4, 5, 6, 7), (2, 4, 5, 6, 8), (2, 4, 5, 6, 9), (2, 4, 5, 6, 10), (2, 4, 5, 7, 8), (2, 4, 5, 7, 9), (2, 4, 5, 7, 10), (2, 4, 5, 8, 9), (2, 4, 5, 8, 10), (2, 4, 5, 9, 10), (2, 4, 6, 7, 8), (2, 4, 6, 7, 9), (2, 4, 6, 7, 10), (2, 4, 6, 8, 9), (2, 4, 6, 8, 10), (2, 4, 6, 9, 10), (2, 4, 7, 8, 9), (2, 4, 7, 8, 10), (2, 4, 7, 9, 10), (2, 4, 8, 9, 10), (2, 5, 6, 7, 8), (2, 5, 6, 7, 9), (2, 5, 6, 7, 10), (2, 5, 6, 8, 9), (2, 5, 6, 8, 10), (2, 5, 6, 9, 10), (2, 5, 7, 8, 9), (2, 5, 7, 8, 10), (2, 5, 7, 9, 10), (2, 5, 8, 9, 10), (2, 6, 7, 8, 9), (2, 6, 7, 8, 10), (2, 6, 7, 9, 10), (2, 6, 8, 9, 10), (2, 7, 8, 9, 10), (3, 4, 5, 6, 7), (3, 4, 5, 6, 8), (3, 4, 5, 6, 9), (3, 4, 5, 6, 10), (3, 4, 5, 7, 8), (3, 4, 5, 7, 9), (3, 4, 5, 7, 10), (3, 4, 5, 8, 9), (3, 4, 5, 8, 10), (3, 4, 5, 9, 10), (3, 4, 6, 7, 8), (3, 4, 6, 7, 9), (3, 4, 6, 7, 10), (3, 4, 6, 8, 9), (3, 4, 6, 8, 10), (3, 4, 6, 9, 10), (3, 4, 7, 8, 9), (3, 4, 7, 8, 10), (3, 4, 7, 9, 10), (3, 4, 8, 9, 10), (3, 5, 6, 7, 8), (3, 5, 6, 7, 9), (3, 5, 6, 7, 10), (3, 5, 6, 8, 9), (3, 5, 6, 8, 10), (3, 5, 6, 9, 10), (3, 5, 7, 8, 9), (3, 5, 7, 8, 10), (3, 5, 7, 9, 10), (3, 5, 8, 9, 10), (3, 6, 7, 8, 9), (3, 6, 7, 8, 10), (3, 6, 7, 9, 10), (3, 6, 8, 9, 10), (3, 7, 8, 9, 10), (4, 5, 6, 7, 8), (4, 5, 6, 7, 9), (4, 5, 6, 7, 10), (4, 5, 6, 8, 9), (4, 5, 6, 8, 10), (4, 5, 6, 9, 10), (4, 5, 7, 8, 9), (4, 5, 7, 8, 10), (4, 5, 7, 9, 10), (4, 5, 8, 9, 10), (4, 6, 7, 8, 9), (4, 6, 7, 8, 10), (4, 6, 7, 9, 10), (4, 6, 8, 9, 10), (4, 7, 8, 9, 10), (5, 6, 7, 8, 9), (5, 6, 7, 8, 10), (5, 6, 7, 9, 10), (5, 6, 8, 9, 10), (5, 7, 8, 9, 10), (6, 7, 8, 9, 10)]\n"
     ]
    }
   ],
   "source": [
    "import itertools\n",
    "\n",
    "def list_k(lst, k):\n",
    "    # Use itertools.combinations to generate all combinations of k elements\n",
    "    return list(itertools.combinations(lst, k))\n",
    "\n",
    "l = [1, 2, 3, 4, 5, 6, 7, 8, 9, 10]\n",
    "print(list_k(l, 5))\n"
   ]
  },
  {
   "cell_type": "markdown",
   "id": "d9216569",
   "metadata": {},
   "source": [
    "# List Comprehension\n"
   ]
  },
  {
   "cell_type": "markdown",
   "id": "cf0de0a5",
   "metadata": {},
   "source": [
    "Create a list of squares for numbers between 1 and 20.\n"
   ]
  },
  {
   "cell_type": "code",
   "execution_count": 4,
   "id": "6479f225",
   "metadata": {},
   "outputs": [
    {
     "data": {
      "text/plain": [
       "[0,\n",
       " 1,\n",
       " 4,\n",
       " 9,\n",
       " 16,\n",
       " 25,\n",
       " 36,\n",
       " 49,\n",
       " 64,\n",
       " 81,\n",
       " 100,\n",
       " 121,\n",
       " 144,\n",
       " 169,\n",
       " 196,\n",
       " 225,\n",
       " 256,\n",
       " 289,\n",
       " 324,\n",
       " 361,\n",
       " 400]"
      ]
     },
     "execution_count": 4,
     "metadata": {},
     "output_type": "execute_result"
    }
   ],
   "source": [
    "[x ** 2 for x in range (21)]"
   ]
  },
  {
   "cell_type": "markdown",
   "id": "8b55c153",
   "metadata": {},
   "source": [
    "Generate a list of even numbers from 1 to 100.\n"
   ]
  },
  {
   "cell_type": "code",
   "execution_count": 5,
   "id": "925e8097",
   "metadata": {},
   "outputs": [
    {
     "data": {
      "text/plain": [
       "[0,\n",
       " 2,\n",
       " 4,\n",
       " 6,\n",
       " 8,\n",
       " 10,\n",
       " 12,\n",
       " 14,\n",
       " 16,\n",
       " 18,\n",
       " 20,\n",
       " 22,\n",
       " 24,\n",
       " 26,\n",
       " 28,\n",
       " 30,\n",
       " 32,\n",
       " 34,\n",
       " 36,\n",
       " 38,\n",
       " 40,\n",
       " 42,\n",
       " 44,\n",
       " 46,\n",
       " 48,\n",
       " 50,\n",
       " 52,\n",
       " 54,\n",
       " 56,\n",
       " 58,\n",
       " 60,\n",
       " 62,\n",
       " 64,\n",
       " 66,\n",
       " 68,\n",
       " 70,\n",
       " 72,\n",
       " 74,\n",
       " 76,\n",
       " 78,\n",
       " 80,\n",
       " 82,\n",
       " 84,\n",
       " 86,\n",
       " 88,\n",
       " 90,\n",
       " 92,\n",
       " 94,\n",
       " 96,\n",
       " 98]"
      ]
     },
     "execution_count": 5,
     "metadata": {},
     "output_type": "execute_result"
    }
   ],
   "source": [
    "[x for x in range (100) if x % 2 == 0]"
   ]
  },
  {
   "cell_type": "markdown",
   "id": "31233c05",
   "metadata": {},
   "source": [
    "Construct a list of tuples (x, x^2) for numbers between 1 and 10.\n"
   ]
  },
  {
   "cell_type": "code",
   "execution_count": 7,
   "id": "fbc8dc00",
   "metadata": {},
   "outputs": [
    {
     "data": {
      "text/plain": [
       "[(0, 0),\n",
       " (1, 1),\n",
       " (2, 4),\n",
       " (3, 9),\n",
       " (4, 16),\n",
       " (5, 25),\n",
       " (6, 36),\n",
       " (7, 49),\n",
       " (8, 64),\n",
       " (9, 81),\n",
       " (10, 100),\n",
       " (11, 121),\n",
       " (12, 144),\n",
       " (13, 169),\n",
       " (14, 196),\n",
       " (15, 225),\n",
       " (16, 256),\n",
       " (17, 289),\n",
       " (18, 324),\n",
       " (19, 361),\n",
       " (20, 400)]"
      ]
     },
     "execution_count": 7,
     "metadata": {},
     "output_type": "execute_result"
    }
   ],
   "source": [
    "[(x,x**2) for x in range(21)]"
   ]
  },
  {
   "cell_type": "markdown",
   "id": "a4cf0cd5",
   "metadata": {},
   "source": [
    "Filter out the numbers divisible by both 3 and 5 from a range of 1 to 100.\n"
   ]
  },
  {
   "cell_type": "code",
   "execution_count": 1,
   "id": "78a8cd1b",
   "metadata": {},
   "outputs": [
    {
     "data": {
      "text/plain": [
       "[1,\n",
       " 2,\n",
       " 3,\n",
       " 4,\n",
       " 5,\n",
       " 6,\n",
       " 7,\n",
       " 8,\n",
       " 9,\n",
       " 10,\n",
       " 11,\n",
       " 12,\n",
       " 13,\n",
       " 14,\n",
       " 16,\n",
       " 17,\n",
       " 18,\n",
       " 19,\n",
       " 20,\n",
       " 21,\n",
       " 22,\n",
       " 23,\n",
       " 24,\n",
       " 25,\n",
       " 26,\n",
       " 27,\n",
       " 28,\n",
       " 29,\n",
       " 31,\n",
       " 32,\n",
       " 33,\n",
       " 34,\n",
       " 35,\n",
       " 36,\n",
       " 37,\n",
       " 38,\n",
       " 39,\n",
       " 40,\n",
       " 41,\n",
       " 42,\n",
       " 43,\n",
       " 44,\n",
       " 46,\n",
       " 47,\n",
       " 48,\n",
       " 49,\n",
       " 50,\n",
       " 51,\n",
       " 52,\n",
       " 53,\n",
       " 54,\n",
       " 55,\n",
       " 56,\n",
       " 57,\n",
       " 58,\n",
       " 59,\n",
       " 61,\n",
       " 62,\n",
       " 63,\n",
       " 64,\n",
       " 65,\n",
       " 66,\n",
       " 67,\n",
       " 68,\n",
       " 69,\n",
       " 70,\n",
       " 71,\n",
       " 72,\n",
       " 73,\n",
       " 74,\n",
       " 76,\n",
       " 77,\n",
       " 78,\n",
       " 79,\n",
       " 80,\n",
       " 81,\n",
       " 82,\n",
       " 83,\n",
       " 84,\n",
       " 85,\n",
       " 86,\n",
       " 87,\n",
       " 88,\n",
       " 89,\n",
       " 91,\n",
       " 92,\n",
       " 93,\n",
       " 94,\n",
       " 95,\n",
       " 96,\n",
       " 97,\n",
       " 98,\n",
       " 99,\n",
       " 100]"
      ]
     },
     "execution_count": 1,
     "metadata": {},
     "output_type": "execute_result"
    }
   ],
   "source": [
    "[x for x in range(101) if not ( x % 3 == 0 and x % 5 ==0 )]"
   ]
  },
  {
   "cell_type": "markdown",
   "id": "e1f87b7a",
   "metadata": {},
   "source": [
    "Create a matrix (2D list) of size 3x3 with numbers from 1 to 9.\n"
   ]
  },
  {
   "cell_type": "code",
   "execution_count": 3,
   "id": "9bfb75bb",
   "metadata": {},
   "outputs": [
    {
     "data": {
      "text/plain": [
       "[[1, 2, 3], [4, 5, 6], [7, 8, 9]]"
      ]
     },
     "execution_count": 3,
     "metadata": {},
     "output_type": "execute_result"
    }
   ],
   "source": [
    "matrix = [[i + j * 3 + 1 for i in range(3)] for j in range(3)]\n",
    "matrix"
   ]
  },
  {
   "cell_type": "markdown",
   "id": "9a0ba85e",
   "metadata": {},
   "source": [
    "Generate a list of the first 10 Fibonacci numbers using list comprehension.\n"
   ]
  },
  {
   "cell_type": "code",
   "execution_count": null,
   "id": "80cdfd89",
   "metadata": {},
   "outputs": [],
   "source": [
    "def fibonacci(n):\n",
    "    return [0, 1] + [sum(x) for x in zip(fibonacci(n-1)[-2:], fibonacci(n-1)[-2:])]\n",
    "\n",
    "# Generate the first 10 Fibonacci numbers\n",
    "fib_list = fibonacci(10)[:10]\n",
    "fib_list"
   ]
  },
  {
   "cell_type": "markdown",
   "id": "077be7d9",
   "metadata": {},
   "source": [
    "Convert a list of lowercase strings to uppercase.\n"
   ]
  },
  {
   "cell_type": "code",
   "execution_count": 1,
   "id": "05d98452",
   "metadata": {},
   "outputs": [
    {
     "data": {
      "text/plain": [
       "['ABC', 'DEF', 'GHI']"
      ]
     },
     "execution_count": 1,
     "metadata": {},
     "output_type": "execute_result"
    }
   ],
   "source": [
    "lst = ['abc','def','ghi']\n",
    "\n",
    "result = [x.upper() for x in lst]\n",
    "result"
   ]
  },
  {
   "cell_type": "markdown",
   "id": "577f6fc0",
   "metadata": {},
   "source": [
    "Generate a list of prime numbers between 1 and 100 using list comprehension.\n"
   ]
  },
  {
   "cell_type": "code",
   "execution_count": 3,
   "id": "515f71f4",
   "metadata": {},
   "outputs": [
    {
     "data": {
      "text/plain": [
       "[0,\n",
       " 1,\n",
       " 2,\n",
       " 3,\n",
       " 5,\n",
       " 7,\n",
       " 11,\n",
       " 13,\n",
       " 17,\n",
       " 19,\n",
       " 23,\n",
       " 29,\n",
       " 31,\n",
       " 37,\n",
       " 41,\n",
       " 43,\n",
       " 47,\n",
       " 53,\n",
       " 59,\n",
       " 61,\n",
       " 67,\n",
       " 71,\n",
       " 73,\n",
       " 79,\n",
       " 83,\n",
       " 89,\n",
       " 97]"
      ]
     },
     "execution_count": 3,
     "metadata": {},
     "output_type": "execute_result"
    }
   ],
   "source": [
    "[x for x in range (101) if all(x%i != 0 for i in range (2,int(x**0.5)+1))]"
   ]
  },
  {
   "cell_type": "markdown",
   "id": "527a4efd",
   "metadata": {},
   "source": [
    "Build a list of numbers divisible by 7 or 11 from 1 to 100.\n"
   ]
  },
  {
   "cell_type": "code",
   "execution_count": 5,
   "id": "50164db3",
   "metadata": {},
   "outputs": [
    {
     "data": {
      "text/plain": [
       "[0,\n",
       " 7,\n",
       " 11,\n",
       " 14,\n",
       " 21,\n",
       " 22,\n",
       " 28,\n",
       " 33,\n",
       " 35,\n",
       " 42,\n",
       " 44,\n",
       " 49,\n",
       " 55,\n",
       " 56,\n",
       " 63,\n",
       " 66,\n",
       " 70,\n",
       " 77,\n",
       " 84,\n",
       " 88,\n",
       " 91,\n",
       " 98,\n",
       " 99]"
      ]
     },
     "execution_count": 5,
     "metadata": {},
     "output_type": "execute_result"
    }
   ],
   "source": [
    "[x for x in range (101) if x%7 ==0 or x%11 ==0]"
   ]
  },
  {
   "cell_type": "markdown",
   "id": "5ddf6ea8",
   "metadata": {},
   "source": [
    "Flatten a 2D list into a 1D list using list comprehension.\n"
   ]
  },
  {
   "cell_type": "code",
   "execution_count": 9,
   "id": "3d128670",
   "metadata": {},
   "outputs": [
    {
     "data": {
      "text/plain": [
       "[1, 2, 3, 4]"
      ]
     },
     "execution_count": 9,
     "metadata": {},
     "output_type": "execute_result"
    }
   ],
   "source": [
    "l = [[1,2],[3,4]]\n",
    "\n",
    "[x for row in l for x in row ]"
   ]
  },
  {
   "cell_type": "markdown",
   "id": "7a02efbe",
   "metadata": {},
   "source": [
    "Create a list of all odd numbers from a range but in reverse order.\n"
   ]
  },
  {
   "cell_type": "code",
   "execution_count": 13,
   "id": "40af899e",
   "metadata": {},
   "outputs": [
    {
     "name": "stdout",
     "output_type": "stream",
     "text": [
      "50\n"
     ]
    },
    {
     "data": {
      "text/plain": [
       "[49,\n",
       " 47,\n",
       " 45,\n",
       " 43,\n",
       " 41,\n",
       " 39,\n",
       " 37,\n",
       " 35,\n",
       " 33,\n",
       " 31,\n",
       " 29,\n",
       " 27,\n",
       " 25,\n",
       " 23,\n",
       " 21,\n",
       " 19,\n",
       " 17,\n",
       " 15,\n",
       " 13,\n",
       " 11,\n",
       " 9,\n",
       " 7,\n",
       " 5,\n",
       " 3,\n",
       " 1]"
      ]
     },
     "execution_count": 13,
     "metadata": {},
     "output_type": "execute_result"
    }
   ],
   "source": [
    "n = int(input())\n",
    "\n",
    "[x for x in range(n) if x % 2 != 0][::-1]"
   ]
  },
  {
   "cell_type": "markdown",
   "id": "ea992bd8",
   "metadata": {},
   "source": [
    "Generate a list of numbers which are cubes of numbers between 1 and 10.\n"
   ]
  },
  {
   "cell_type": "code",
   "execution_count": 14,
   "id": "790224ea",
   "metadata": {},
   "outputs": [
    {
     "data": {
      "text/plain": [
       "[1, 8, 27, 64, 125, 216, 343, 512, 729, 1000]"
      ]
     },
     "execution_count": 14,
     "metadata": {},
     "output_type": "execute_result"
    }
   ],
   "source": [
    "[x ** 3 for x in range (1,11)]"
   ]
  },
  {
   "cell_type": "markdown",
   "id": "1d2f2e7e",
   "metadata": {},
   "source": [
    "Create a list of palindromes between 1 and 1000.\n"
   ]
  },
  {
   "cell_type": "code",
   "execution_count": 18,
   "id": "8991f1ce",
   "metadata": {},
   "outputs": [
    {
     "data": {
      "text/plain": [
       "[11, 22, 33, 44, 55, 66, 77, 88, 99]"
      ]
     },
     "execution_count": 18,
     "metadata": {},
     "output_type": "execute_result"
    }
   ],
   "source": [
    "[x for x in range(100) if str(x) == str(x)[::-1] and len(str(x)) > 1]"
   ]
  },
  {
   "cell_type": "markdown",
   "id": "c975316b",
   "metadata": {},
   "source": [
    "Remove all vowels from a given string using list comprehension.\n"
   ]
  },
  {
   "cell_type": "code",
   "execution_count": 29,
   "id": "12709c2e",
   "metadata": {},
   "outputs": [
    {
     "data": {
      "text/plain": [
       "'dfdv'"
      ]
     },
     "execution_count": 29,
     "metadata": {},
     "output_type": "execute_result"
    }
   ],
   "source": [
    "string = 'aeioudfdv'\n",
    "\n",
    "''.join([x for x in string if x not in ['a','e','i','o','u','A','E','I','O','U']])"
   ]
  },
  {
   "cell_type": "markdown",
   "id": "9eb578d8",
   "metadata": {},
   "source": [
    "Create a list of numbers where the number is the square of its index in the list.\n"
   ]
  },
  {
   "cell_type": "code",
   "execution_count": 30,
   "id": "850bb6dc",
   "metadata": {},
   "outputs": [
    {
     "data": {
      "text/plain": [
       "[0, 1, 4, 9, 16, 25, 36, 49, 64, 81]"
      ]
     },
     "execution_count": 30,
     "metadata": {},
     "output_type": "execute_result"
    }
   ],
   "source": [
    "[x **2 for x in range(0,10)]"
   ]
  },
  {
   "cell_type": "markdown",
   "id": "1b66f31d",
   "metadata": {},
   "source": [
    "Build a list of tuples showing the character and its ASCII value for all lowercase letters.\n"
   ]
  },
  {
   "cell_type": "code",
   "execution_count": 32,
   "id": "0b105f3f",
   "metadata": {},
   "outputs": [
    {
     "data": {
      "text/plain": [
       "[('a', 97), ('b', 98), ('c', 99), ('d', 100)]"
      ]
     },
     "execution_count": 32,
     "metadata": {},
     "output_type": "execute_result"
    }
   ],
   "source": [
    "s = 'ABabcdCD'\n",
    "\n",
    "[(x,ord(x)) for x in s if x.islower()]"
   ]
  },
  {
   "cell_type": "markdown",
   "id": "697242ee",
   "metadata": {},
   "source": [
    "Generate a list of words from a string that start with a vowel.\n"
   ]
  },
  {
   "cell_type": "code",
   "execution_count": 35,
   "id": "35c9d3e2",
   "metadata": {},
   "outputs": [
    {
     "data": {
      "text/plain": [
       "['An',\n",
       " 'elephant',\n",
       " 'is',\n",
       " 'an',\n",
       " 'interesting',\n",
       " 'animal',\n",
       " 'enjoys',\n",
       " 'eating',\n",
       " 'apples',\n",
       " 'and',\n",
       " 'oranges.']"
      ]
     },
     "execution_count": 35,
     "metadata": {},
     "output_type": "execute_result"
    }
   ],
   "source": [
    "sample_string = \"An elephant is an interesting animal that enjoys eating apples and oranges.\"\n",
    "\n",
    "vowels = 'aeiouAEIOU'\n",
    "\n",
    "[x for x in sample_string.split() if x[0] in vowels]"
   ]
  },
  {
   "cell_type": "markdown",
   "id": "f34a26fa",
   "metadata": {},
   "source": [
    "Create a 5x5 matrix using list comprehension where each element is the sum of its row and column indices.\n"
   ]
  },
  {
   "cell_type": "code",
   "execution_count": 36,
   "id": "b710a938",
   "metadata": {},
   "outputs": [
    {
     "data": {
      "text/plain": [
       "[[0, 1, 2, 3, 4],\n",
       " [1, 2, 3, 4, 5],\n",
       " [2, 3, 4, 5, 6],\n",
       " [3, 4, 5, 6, 7],\n",
       " [4, 5, 6, 7, 8]]"
      ]
     },
     "execution_count": 36,
     "metadata": {},
     "output_type": "execute_result"
    }
   ],
   "source": [
    "[[i+j for j in range(5)] for i in range(5)]"
   ]
  },
  {
   "cell_type": "markdown",
   "id": "25dcf183",
   "metadata": {},
   "source": [
    "Generate a list of perfect squares that are less than 500.\n"
   ]
  },
  {
   "cell_type": "code",
   "execution_count": 41,
   "id": "3786ec38",
   "metadata": {},
   "outputs": [
    {
     "data": {
      "text/plain": [
       "[0,\n",
       " 1,\n",
       " 4,\n",
       " 9,\n",
       " 16,\n",
       " 25,\n",
       " 36,\n",
       " 49,\n",
       " 64,\n",
       " 81,\n",
       " 100,\n",
       " 121,\n",
       " 144,\n",
       " 169,\n",
       " 196,\n",
       " 225,\n",
       " 256,\n",
       " 289,\n",
       " 324,\n",
       " 361,\n",
       " 400,\n",
       " 441,\n",
       " 484]"
      ]
     },
     "execution_count": 41,
     "metadata": {},
     "output_type": "execute_result"
    }
   ],
   "source": [
    "[x for x in range(501) if int(x ** 0.5) ** 2 == x]"
   ]
  },
  {
   "cell_type": "markdown",
   "id": "8d30b722",
   "metadata": {},
   "source": [
    "Create a list of common divisors of two numbers."
   ]
  },
  {
   "cell_type": "code",
   "execution_count": 45,
   "id": "f5f8de1c",
   "metadata": {},
   "outputs": [
    {
     "data": {
      "text/plain": [
       "[1, 3]"
      ]
     },
     "execution_count": 45,
     "metadata": {},
     "output_type": "execute_result"
    }
   ],
   "source": [
    "a = 15\n",
    "b =21\n",
    "\n",
    "[x for x in range(1,min(a,b)+1) if a % x == 0 and b % x == 0]"
   ]
  },
  {
   "cell_type": "markdown",
   "id": "7b7ab436",
   "metadata": {},
   "source": [
    "Remove duplicates from a list while preserving the order.\n"
   ]
  },
  {
   "cell_type": "code",
   "execution_count": 1,
   "id": "09d3051a",
   "metadata": {},
   "outputs": [
    {
     "name": "stdout",
     "output_type": "stream",
     "text": [
      "[1, 2, 6, 4, 3, 5]\n"
     ]
    }
   ],
   "source": [
    "l =[1,2,2,6,6,4,3,5,5]\n",
    "l1 = []\n",
    "[l1.append(x) for x in l if x not in l1]\n",
    "print(l1)"
   ]
  },
  {
   "cell_type": "markdown",
   "id": "8c59b39f",
   "metadata": {},
   "source": [
    "Create a list of the first 10 factorial numbers.\n"
   ]
  },
  {
   "cell_type": "code",
   "execution_count": 4,
   "id": "72a866e4",
   "metadata": {},
   "outputs": [
    {
     "name": "stdout",
     "output_type": "stream",
     "text": [
      "[1, 1, 2, 6, 24, 120, 720, 5040, 40320, 362880]\n"
     ]
    }
   ],
   "source": [
    "import math\n",
    "\n",
    "factorials = [math.factorial(i) for i in range(10)]\n",
    "\n",
    "print(factorials)\n"
   ]
  },
  {
   "cell_type": "markdown",
   "id": "52c72613",
   "metadata": {},
   "source": [
    "Generate a list of binary numbers (as strings) for numbers from 1 to 16.\n"
   ]
  },
  {
   "cell_type": "code",
   "execution_count": 5,
   "id": "2045266a",
   "metadata": {},
   "outputs": [
    {
     "data": {
      "text/plain": [
       "['0b1',\n",
       " '0b10',\n",
       " '0b11',\n",
       " '0b100',\n",
       " '0b101',\n",
       " '0b110',\n",
       " '0b111',\n",
       " '0b1000',\n",
       " '0b1001',\n",
       " '0b1010']"
      ]
     },
     "execution_count": 5,
     "metadata": {},
     "output_type": "execute_result"
    }
   ],
   "source": [
    "[bin(x) for x in range(1,11)]"
   ]
  },
  {
   "cell_type": "markdown",
   "id": "ae0b901e",
   "metadata": {},
   "source": [
    "Filter a list of numbers to only keep the numbers that are prime.\n"
   ]
  },
  {
   "cell_type": "code",
   "execution_count": 8,
   "id": "82c2d225",
   "metadata": {},
   "outputs": [
    {
     "name": "stdout",
     "output_type": "stream",
     "text": [
      "[2, 3, 5, 7, 11]\n"
     ]
    }
   ],
   "source": [
    "def is_prime(n):\n",
    "    if n <= 1:\n",
    "        return False\n",
    "    for i in range(2, int(n ** 0.5) + 1):\n",
    "        if n % i == 0:\n",
    "            return False\n",
    "    return True\n",
    "\n",
    "numbers = [2, 3, 4, 5, 6, 7, 8, 9, 10, 11]\n",
    "\n",
    "prime_numbers = [num for num in numbers if is_prime(num)]\n",
    "\n",
    "print(prime_numbers)\n"
   ]
  },
  {
   "cell_type": "markdown",
   "id": "c1bf8180",
   "metadata": {},
   "source": [
    "Create a list of numbers that are the sum of their digits raised to a power (e.g., 153 = 1^3 + 5^3 + 3^3).\n"
   ]
  },
  {
   "cell_type": "code",
   "execution_count": 10,
   "id": "68064238",
   "metadata": {},
   "outputs": [
    {
     "name": "stdout",
     "output_type": "stream",
     "text": [
      "[0, 1, 2, 3, 4, 5, 6, 7, 8, 9, 153, 370, 371, 407, 1634, 8208, 9474]\n"
     ]
    }
   ],
   "source": [
    "def is_armstrong(number):\n",
    "    # Convert the number to a string to iterate over digits\n",
    "    digits = [int(d) for d in str(number)]\n",
    "    # Calculate the number of digits\n",
    "    num_digits = len(digits)\n",
    "    # Calculate the sum of each digit raised to the power of num_digits\n",
    "    sum_of_powers = sum(d ** num_digits for d in digits)\n",
    "    # Check if the sum is equal to the original number\n",
    "    return sum_of_powers == number\n",
    "# Define a range to check for Armstrong numbers\n",
    "max_limit = 10000\n",
    "armstrong_numbers = [num for num in range(max_limit) if is_armstrong(num)]\n",
    "\n",
    "print(armstrong_numbers)\n"
   ]
  },
  {
   "cell_type": "markdown",
   "id": "997fc594",
   "metadata": {},
   "source": [
    "Find the intersection of two lists using list comprehension.\n"
   ]
  },
  {
   "cell_type": "code",
   "execution_count": 13,
   "id": "84219a2f",
   "metadata": {},
   "outputs": [
    {
     "data": {
      "text/plain": [
       "[2, 3]"
      ]
     },
     "execution_count": 13,
     "metadata": {},
     "output_type": "execute_result"
    }
   ],
   "source": [
    "l =[1,2,3]\n",
    "l1 = [2,3,5]\n",
    "\n",
    "[x for x in l if x in l1]"
   ]
  },
  {
   "cell_type": "markdown",
   "id": "aa92a230",
   "metadata": {},
   "source": [
    "Generate a list of multiples of 5 from a given range.\n"
   ]
  },
  {
   "cell_type": "code",
   "execution_count": 14,
   "id": "da2b013e",
   "metadata": {},
   "outputs": [
    {
     "data": {
      "text/plain": [
       "[10, 15, 20, 25, 30, 35, 40, 45, 50, 55, 60, 65, 70, 75, 80, 85, 90, 95]"
      ]
     },
     "execution_count": 14,
     "metadata": {},
     "output_type": "execute_result"
    }
   ],
   "source": [
    "s = 10\n",
    "e = 100\n",
    "\n",
    "[x for x in range(s,e) if x % 5 == 0]\n"
   ]
  },
  {
   "cell_type": "markdown",
   "id": "29982358",
   "metadata": {},
   "source": [
    "Reverse the words in a sentence using list comprehension.\n"
   ]
  },
  {
   "cell_type": "code",
   "execution_count": 15,
   "id": "edce891a",
   "metadata": {},
   "outputs": [
    {
     "data": {
      "text/plain": [
       "['uoy', 'era', 'a', 'reil']"
      ]
     },
     "execution_count": 15,
     "metadata": {},
     "output_type": "execute_result"
    }
   ],
   "source": [
    "s = 'you are a lier'\n",
    "\n",
    "[x[::-1] for x in s.split()]"
   ]
  },
  {
   "cell_type": "markdown",
   "id": "737488c1",
   "metadata": {},
   "source": [
    "Build a list of words longer than 5 characters from a given sentence.\n"
   ]
  },
  {
   "cell_type": "code",
   "execution_count": 16,
   "id": "0f9bcda2",
   "metadata": {},
   "outputs": [
    {
     "data": {
      "text/plain": [
       "['enjoys', 'beautiful', 'scenery.']"
      ]
     },
     "execution_count": 16,
     "metadata": {},
     "output_type": "execute_result"
    }
   ],
   "source": [
    "s = \"The quick brown fox jumps over the lazy dog and enjoys the beautiful scenery.\"\n",
    "\n",
    "[x for x in s.split() if len(x) >5]"
   ]
  },
  {
   "cell_type": "markdown",
   "id": "92fbdd00",
   "metadata": {},
   "source": [
    "Create a list of numbers where each number is squared if it's even and cubed if it's odd.\n"
   ]
  },
  {
   "cell_type": "code",
   "execution_count": 22,
   "id": "a724c6e7",
   "metadata": {},
   "outputs": [
    {
     "data": {
      "text/plain": [
       "[0, 1, 4, 27, 16, 125, 36, 343, 64, 729]"
      ]
     },
     "execution_count": 22,
     "metadata": {},
     "output_type": "execute_result"
    }
   ],
   "source": [
    "[x**2 if x%2 == 0 else x**3 for x in range(10)]"
   ]
  },
  {
   "cell_type": "markdown",
   "id": "ef82db8b",
   "metadata": {},
   "source": [
    "Generate a list of prime factors for a given number.\n"
   ]
  },
  {
   "cell_type": "code",
   "execution_count": 23,
   "id": "d8f3c24f",
   "metadata": {},
   "outputs": [
    {
     "name": "stdout",
     "output_type": "stream",
     "text": [
      "[2, 2, 3, 5]\n"
     ]
    }
   ],
   "source": [
    "def prime_factors(n):\n",
    "    factors = []\n",
    "    # Check for the number of 2s that divide n\n",
    "    while n % 2 == 0:\n",
    "        factors.append(2)\n",
    "        n //= 2\n",
    "    # n must be odd at this point, so skip even numbers\n",
    "    for i in range(3, int(n**0.5) + 1, 2):\n",
    "        # While i divides n, append i and divide n\n",
    "        while n % i == 0:\n",
    "            factors.append(i)\n",
    "            n //= i\n",
    "    # This condition is to check if n is a prime number greater than 2\n",
    "    if n > 2:\n",
    "        factors.append(n)\n",
    "    return factors\n",
    "\n",
    "# Example usage\n",
    "number = 60\n",
    "result = prime_factors(number)\n",
    "print(result)\n"
   ]
  },
  {
   "cell_type": "markdown",
   "id": "807f9994",
   "metadata": {},
   "source": [
    "Create a list of elements from two lists that are at the same index and both even.\n"
   ]
  },
  {
   "cell_type": "code",
   "execution_count": 24,
   "id": "0d2faa29",
   "metadata": {},
   "outputs": [
    {
     "data": {
      "text/plain": [
       "[(2, 6), (4, 8)]"
      ]
     },
     "execution_count": 24,
     "metadata": {},
     "output_type": "execute_result"
    }
   ],
   "source": [
    "l = [1,2,3,4]\n",
    "l1 = [5,6,7,8]\n",
    "\n",
    "[(i,j) for i,j in zip(l,l1) if i%2 ==0 and j%2 == 0]"
   ]
  },
  {
   "cell_type": "markdown",
   "id": "9b8b9530",
   "metadata": {},
   "source": [
    "Create a list of numbers from 1 to 100, replacing multiples of 3 with \"Fizz\" and multiples of 5 with \"Buzz\".\n"
   ]
  },
  {
   "cell_type": "code",
   "execution_count": 26,
   "id": "06ab534f",
   "metadata": {},
   "outputs": [
    {
     "data": {
      "text/plain": [
       "[1,\n",
       " 2,\n",
       " 'Fizz',\n",
       " 4,\n",
       " 'Buzz',\n",
       " 'Fizz',\n",
       " 7,\n",
       " 8,\n",
       " 'Fizz',\n",
       " 'Buzz',\n",
       " 11,\n",
       " 'Fizz',\n",
       " 13,\n",
       " 14,\n",
       " 'FizzBuzz',\n",
       " 16,\n",
       " 17,\n",
       " 'Fizz',\n",
       " 19,\n",
       " 'Buzz',\n",
       " 'Fizz',\n",
       " 22,\n",
       " 23,\n",
       " 'Fizz',\n",
       " 'Buzz',\n",
       " 26,\n",
       " 'Fizz',\n",
       " 28,\n",
       " 29,\n",
       " 'FizzBuzz',\n",
       " 31,\n",
       " 32,\n",
       " 'Fizz',\n",
       " 34,\n",
       " 'Buzz',\n",
       " 'Fizz',\n",
       " 37,\n",
       " 38,\n",
       " 'Fizz',\n",
       " 'Buzz',\n",
       " 41,\n",
       " 'Fizz',\n",
       " 43,\n",
       " 44,\n",
       " 'FizzBuzz',\n",
       " 46,\n",
       " 47,\n",
       " 'Fizz',\n",
       " 49,\n",
       " 'Buzz',\n",
       " 'Fizz',\n",
       " 52,\n",
       " 53,\n",
       " 'Fizz',\n",
       " 'Buzz',\n",
       " 56,\n",
       " 'Fizz',\n",
       " 58,\n",
       " 59,\n",
       " 'FizzBuzz',\n",
       " 61,\n",
       " 62,\n",
       " 'Fizz',\n",
       " 64,\n",
       " 'Buzz',\n",
       " 'Fizz',\n",
       " 67,\n",
       " 68,\n",
       " 'Fizz',\n",
       " 'Buzz',\n",
       " 71,\n",
       " 'Fizz',\n",
       " 73,\n",
       " 74,\n",
       " 'FizzBuzz',\n",
       " 76,\n",
       " 77,\n",
       " 'Fizz',\n",
       " 79,\n",
       " 'Buzz',\n",
       " 'Fizz',\n",
       " 82,\n",
       " 83,\n",
       " 'Fizz',\n",
       " 'Buzz',\n",
       " 86,\n",
       " 'Fizz',\n",
       " 88,\n",
       " 89,\n",
       " 'FizzBuzz',\n",
       " 91,\n",
       " 92,\n",
       " 'Fizz',\n",
       " 94,\n",
       " 'Buzz',\n",
       " 'Fizz',\n",
       " 97,\n",
       " 98,\n",
       " 'Fizz',\n",
       " 'Buzz']"
      ]
     },
     "execution_count": 26,
     "metadata": {},
     "output_type": "execute_result"
    }
   ],
   "source": [
    "['FizzBuzz' if x % 3 == 0 and x % 5 == 0 else 'Fizz' if x % 3 == 0 else 'Buzz' if x % 5 == 0 else x for x in range(1, 101)]\n"
   ]
  },
  {
   "cell_type": "markdown",
   "id": "d80fe0e7",
   "metadata": {},
   "source": [
    "Generate a list of characters from a string that occur more than once.\n"
   ]
  },
  {
   "cell_type": "code",
   "execution_count": 27,
   "id": "deb76666",
   "metadata": {},
   "outputs": [
    {
     "data": {
      "text/plain": [
       "['r', 'm', 'g']"
      ]
     },
     "execution_count": 27,
     "metadata": {},
     "output_type": "execute_result"
    }
   ],
   "source": [
    "s = 'Programming'\n",
    "\n",
    "[x for x in set(s) if s.count(x) > 1]"
   ]
  },
  {
   "cell_type": "markdown",
   "id": "a4696bb4",
   "metadata": {},
   "source": [
    "Create a list of words that contain more than one vowel.\n"
   ]
  },
  {
   "cell_type": "code",
   "execution_count": 36,
   "id": "0e9f7ff1",
   "metadata": {},
   "outputs": [
    {
     "data": {
      "text/plain": [
       "['Education', 'essential', 'everyone', 'succeed']"
      ]
     },
     "execution_count": 36,
     "metadata": {},
     "output_type": "execute_result"
    }
   ],
   "source": [
    "string = \"Education is essential for everyone to grow and succeed\"\n",
    "vowels = 'aeiouAEIOU'\n",
    "[x for x in string.split() if sum(1 for i in x if i in vowels) >1 ]"
   ]
  },
  {
   "cell_type": "markdown",
   "id": "8137c2ff",
   "metadata": {},
   "source": [
    "Generate a list of common characters in two strings.\n"
   ]
  },
  {
   "cell_type": "code",
   "execution_count": 38,
   "id": "e9e455b1",
   "metadata": {},
   "outputs": [
    {
     "name": "stdout",
     "output_type": "stream",
     "text": [
      "['f', 'j', 's', 'l', 'g', 'o']\n"
     ]
    }
   ],
   "source": [
    "s1 = 'fjsljgaoljgolj'\n",
    "s2 = 'olfgsjogjoj'\n",
    "l=[]\n",
    "[l.append(x) for x in s1 if x in s2 and x not in l]\n",
    "print(l)"
   ]
  },
  {
   "cell_type": "markdown",
   "id": "67973378",
   "metadata": {},
   "source": [
    "Create a list of numbers that are both perfect squares and perfect cubes.\n"
   ]
  },
  {
   "cell_type": "code",
   "execution_count": 43,
   "id": "214e3538",
   "metadata": {},
   "outputs": [
    {
     "data": {
      "text/plain": [
       "[1, 64]"
      ]
     },
     "execution_count": 43,
     "metadata": {},
     "output_type": "execute_result"
    }
   ],
   "source": [
    "[x**6 for x in range(1, int(100**(1/6)) + 1)]"
   ]
  },
  {
   "cell_type": "markdown",
   "id": "d4fd12ae",
   "metadata": {},
   "source": [
    "Filter a list of dictionaries to keep only the ones with a specific key-value pair.\n"
   ]
  },
  {
   "cell_type": "code",
   "execution_count": 44,
   "id": "7277d4a7",
   "metadata": {},
   "outputs": [
    {
     "name": "stdout",
     "output_type": "stream",
     "text": [
      "[{'name': 'Alice', 'age': 25}, {'name': 'Charlie', 'age': 25}]\n"
     ]
    }
   ],
   "source": [
    "def filter_dicts(lst, key, value):\n",
    "    return [d for d in lst if d.get(key) == value]\n",
    "\n",
    "# Example usage\n",
    "data = [\n",
    "    {\"name\": \"Alice\", \"age\": 25},\n",
    "    {\"name\": \"Bob\", \"age\": 30},\n",
    "    {\"name\": \"Charlie\", \"age\": 25},\n",
    "    {\"name\": \"David\", \"age\": 35}\n",
    "]\n",
    "\n",
    "result = filter_dicts(data, \"age\", 25)\n",
    "print(result)\n"
   ]
  },
  {
   "cell_type": "markdown",
   "id": "ba0c3950",
   "metadata": {},
   "source": [
    "Create a list of even-indexed elements from a given list.\n"
   ]
  },
  {
   "cell_type": "code",
   "execution_count": 48,
   "id": "e8d1300b",
   "metadata": {},
   "outputs": [
    {
     "data": {
      "text/plain": [
       "[1, 3, 5]"
      ]
     },
     "execution_count": 48,
     "metadata": {},
     "output_type": "execute_result"
    }
   ],
   "source": [
    "l = [1,2,3,4,5,6]\n",
    "\n",
    "[value for index , value in enumerate(l) if index % 2 == 0]"
   ]
  },
  {
   "cell_type": "markdown",
   "id": "b839e6d1",
   "metadata": {},
   "source": [
    "Generate a list of words in reverse alphabetical order from a sentence."
   ]
  },
  {
   "cell_type": "code",
   "execution_count": 49,
   "id": "fa6da88f",
   "metadata": {},
   "outputs": [
    {
     "data": {
      "text/plain": [
       "['ehT', 'kciuq', 'nworb', 'xof', 'spmuj', 'revo', 'eht', 'yzal', 'god']"
      ]
     },
     "execution_count": 49,
     "metadata": {},
     "output_type": "execute_result"
    }
   ],
   "source": [
    "s = 'The quick brown fox jumps over the lazy dog'\n",
    "\n",
    "[x[::-1] for x in s.split()]"
   ]
  },
  {
   "cell_type": "markdown",
   "id": "566ebec1",
   "metadata": {},
   "source": [
    "# Map\n"
   ]
  },
  {
   "cell_type": "markdown",
   "id": "72e79a5a",
   "metadata": {},
   "source": [
    "Use map to convert a list of strings to integers.\n"
   ]
  },
  {
   "cell_type": "code",
   "execution_count": 50,
   "id": "0af93ab5",
   "metadata": {},
   "outputs": [
    {
     "data": {
      "text/plain": [
       "[1, 2, 3, 4, 5]"
      ]
     },
     "execution_count": 50,
     "metadata": {},
     "output_type": "execute_result"
    }
   ],
   "source": [
    "string_list = ['1', '2', '3', '4', '5']\n",
    "\n",
    "list(map(int,string_list))"
   ]
  },
  {
   "cell_type": "markdown",
   "id": "8a4b73e4",
   "metadata": {},
   "source": [
    "Apply map to a list of words and return their lengths.\n"
   ]
  },
  {
   "cell_type": "code",
   "execution_count": 52,
   "id": "ee2caae4",
   "metadata": {},
   "outputs": [
    {
     "data": {
      "text/plain": [
       "[3, 4, 6]"
      ]
     },
     "execution_count": 52,
     "metadata": {},
     "output_type": "execute_result"
    }
   ],
   "source": [
    "lst = ['the','word','cannot']\n",
    "\n",
    "list(map(len,lst))"
   ]
  },
  {
   "cell_type": "markdown",
   "id": "c78aaf40",
   "metadata": {},
   "source": [
    "Use map to square all elements in a list.\n"
   ]
  },
  {
   "cell_type": "code",
   "execution_count": 54,
   "id": "45054923",
   "metadata": {},
   "outputs": [
    {
     "data": {
      "text/plain": [
       "[4, 9, 16, 25]"
      ]
     },
     "execution_count": 54,
     "metadata": {},
     "output_type": "execute_result"
    }
   ],
   "source": [
    "l = [2,3,4,5]\n",
    "\n",
    "list(map(lambda x : x**2  , l))"
   ]
  },
  {
   "cell_type": "markdown",
   "id": "19bdb276",
   "metadata": {},
   "source": [
    "Apply map to capitalize each word in a list of strings.\n"
   ]
  },
  {
   "cell_type": "code",
   "execution_count": 3,
   "id": "6301daac",
   "metadata": {},
   "outputs": [
    {
     "data": {
      "text/plain": [
       "['The', 'Givemn', 'Shgih']"
      ]
     },
     "execution_count": 3,
     "metadata": {},
     "output_type": "execute_result"
    }
   ],
   "source": [
    "s = ['the','givemn','shgih']\n",
    "\n",
    "list(map(str.capitalize,s))"
   ]
  },
  {
   "cell_type": "markdown",
   "id": "430cd8b5",
   "metadata": {},
   "source": [
    "Use map to convert a list of Fahrenheit temperatures to Celsius.\n"
   ]
  },
  {
   "cell_type": "code",
   "execution_count": 4,
   "id": "68ca1110",
   "metadata": {},
   "outputs": [
    {
     "data": {
      "text/plain": [
       "[37.77777777777778, 38.333333333333336, 38.88888888888889, 39.44444444444444]"
      ]
     },
     "execution_count": 4,
     "metadata": {},
     "output_type": "execute_result"
    }
   ],
   "source": [
    "l = [100,101,102,103]\n",
    "\n",
    "list(map(lambda x : (5/9)*(x-32),l))"
   ]
  },
  {
   "cell_type": "markdown",
   "id": "7aaceb35",
   "metadata": {},
   "source": [
    "Apply map to add two lists element-wise.\n"
   ]
  },
  {
   "cell_type": "code",
   "execution_count": 5,
   "id": "aa75d144",
   "metadata": {},
   "outputs": [
    {
     "data": {
      "text/plain": [
       "[2, 4, 6]"
      ]
     },
     "execution_count": 5,
     "metadata": {},
     "output_type": "execute_result"
    }
   ],
   "source": [
    "l = [1,2,3]\n",
    "ll = [1,2,3]\n",
    "\n",
    "list(map(lambda x,y : x+y , l,ll))"
   ]
  },
  {
   "cell_type": "markdown",
   "id": "96e4ffac",
   "metadata": {},
   "source": [
    "Use map to calculate the factorial of each number in a list.\n"
   ]
  },
  {
   "cell_type": "code",
   "execution_count": 7,
   "id": "5eb3ef9e",
   "metadata": {},
   "outputs": [
    {
     "data": {
      "text/plain": [
       "[1, 2, 6, 24, 120]"
      ]
     },
     "execution_count": 7,
     "metadata": {},
     "output_type": "execute_result"
    }
   ],
   "source": [
    "import math\n",
    "\n",
    "l = [1,2,3,4,5]\n",
    "\n",
    "list(map(math.factorial,l))"
   ]
  },
  {
   "cell_type": "markdown",
   "id": "836d427a",
   "metadata": {},
   "source": [
    "Apply map to find the maximum of corresponding elements from two lists.\n"
   ]
  },
  {
   "cell_type": "code",
   "execution_count": 9,
   "id": "716f3864",
   "metadata": {},
   "outputs": [
    {
     "data": {
      "text/plain": [
       "[4, 2, 6]"
      ]
     },
     "execution_count": 9,
     "metadata": {},
     "output_type": "execute_result"
    }
   ],
   "source": [
    "l = [1,2,3]\n",
    "ll = [4,1,6]\n",
    "\n",
    "list(map(lambda x,y : x if x> y else y , l,ll))"
   ]
  },
  {
   "cell_type": "markdown",
   "id": "06c4aac4",
   "metadata": {},
   "source": [
    "Use map to convert a list of numbers into their binary representation.\n"
   ]
  },
  {
   "cell_type": "code",
   "execution_count": 10,
   "id": "c5135f19",
   "metadata": {},
   "outputs": [
    {
     "data": {
      "text/plain": [
       "['0b1', '0b10', '0b11']"
      ]
     },
     "execution_count": 10,
     "metadata": {},
     "output_type": "execute_result"
    }
   ],
   "source": [
    "l = [1,2,3]\n",
    "\n",
    "list(map(bin,l))"
   ]
  },
  {
   "cell_type": "markdown",
   "id": "cdc38ef2",
   "metadata": {},
   "source": [
    "Apply map to cube every element in a list.\n"
   ]
  },
  {
   "cell_type": "code",
   "execution_count": 11,
   "id": "912ad4e0",
   "metadata": {},
   "outputs": [
    {
     "data": {
      "text/plain": [
       "[1, 8, 27, 64, 125, 216, 343, 512, 729]"
      ]
     },
     "execution_count": 11,
     "metadata": {},
     "output_type": "execute_result"
    }
   ],
   "source": [
    "l = [1,2,3,4,5,6,7,8,9]\n",
    "\n",
    "list(map(lambda x : x**3 , l))"
   ]
  },
  {
   "cell_type": "markdown",
   "id": "65a56991",
   "metadata": {},
   "source": [
    "Use map to filter out the even numbers (combined with filter).\n"
   ]
  },
  {
   "cell_type": "code",
   "execution_count": 17,
   "id": "a8979bdb",
   "metadata": {},
   "outputs": [
    {
     "name": "stdout",
     "output_type": "stream",
     "text": [
      "[4, 8, 12, 16, 20]\n"
     ]
    }
   ],
   "source": [
    "numbers = [1, 2, 3, 4, 5, 6, 7, 8, 9, 10]\n",
    "\n",
    "even_doubled = list(map(lambda x: x * 2, filter(lambda x: x % 2 == 0, numbers)))\n",
    "\n",
    "print(even_doubled)"
   ]
  },
  {
   "cell_type": "markdown",
   "id": "7081f3fd",
   "metadata": {},
   "source": [
    "Apply map to double each number in a list.\n"
   ]
  },
  {
   "cell_type": "code",
   "execution_count": 18,
   "id": "917f9441",
   "metadata": {},
   "outputs": [
    {
     "data": {
      "text/plain": [
       "[2, 4, 6, 8, 10, 12, 14, 16, 18]"
      ]
     },
     "execution_count": 18,
     "metadata": {},
     "output_type": "execute_result"
    }
   ],
   "source": [
    "l = [1,2,3,4,5,6,7,8,9]\n",
    "\n",
    "list(map(lambda x : x*2 , l))"
   ]
  },
  {
   "cell_type": "markdown",
   "id": "a953953f",
   "metadata": {},
   "source": [
    "Use map to extract the first letter of each word in a list.\n"
   ]
  },
  {
   "cell_type": "code",
   "execution_count": 19,
   "id": "7b7d4e66",
   "metadata": {},
   "outputs": [
    {
     "data": {
      "text/plain": [
       "['t', 'y', 'l']"
      ]
     },
     "execution_count": 19,
     "metadata": {},
     "output_type": "execute_result"
    }
   ],
   "source": [
    "l = ['the','you','love']\n",
    "\n",
    "list(map(lambda x : x[0],l))"
   ]
  },
  {
   "cell_type": "markdown",
   "id": "54d27f97",
   "metadata": {},
   "source": [
    "Apply map to find the absolute value of each element in a list.\n"
   ]
  },
  {
   "cell_type": "code",
   "execution_count": 20,
   "id": "8f724a6b",
   "metadata": {},
   "outputs": [
    {
     "data": {
      "text/plain": [
       "[1, 2, 3, 4, 5, 6, 7, 8, 9]"
      ]
     },
     "execution_count": 20,
     "metadata": {},
     "output_type": "execute_result"
    }
   ],
   "source": [
    "l = [1,2,-3,4,-5,6,-7,8,9]\n",
    "\n",
    "list(map(abs,l))"
   ]
  },
  {
   "cell_type": "markdown",
   "id": "f8ea767d",
   "metadata": {},
   "source": [
    "Use map to calculate the square root of each number in a list.\n"
   ]
  },
  {
   "cell_type": "code",
   "execution_count": 22,
   "id": "dc3ea3bd",
   "metadata": {},
   "outputs": [
    {
     "data": {
      "text/plain": [
       "[1.0,\n",
       " 1.4142135623730951,\n",
       " 1.7320508075688772,\n",
       " 2.0,\n",
       " 2.23606797749979,\n",
       " 2.449489742783178,\n",
       " 2.6457513110645907,\n",
       " 2.8284271247461903,\n",
       " 3.0]"
      ]
     },
     "execution_count": 22,
     "metadata": {},
     "output_type": "execute_result"
    }
   ],
   "source": [
    "l = [1,2,3,4,5,6,7,8,9]\n",
    "\n",
    "list(map(lambda x : x**0.5,l))"
   ]
  },
  {
   "cell_type": "markdown",
   "id": "079308a9",
   "metadata": {},
   "source": [
    "Apply map to return the sum of digits for each number in a list.\n"
   ]
  },
  {
   "cell_type": "code",
   "execution_count": 25,
   "id": "1137088a",
   "metadata": {},
   "outputs": [
    {
     "name": "stdout",
     "output_type": "stream",
     "text": [
      "[6, 15, 24]\n"
     ]
    }
   ],
   "source": [
    "numbers = [123, 456, 789]\n",
    "\n",
    "def sum_of_digits(n):\n",
    "    return sum(int(digit) for digit in str(n))\n",
    "\n",
    "sum_digits_list = list(map(sum_of_digits, numbers))\n",
    "\n",
    "print(sum_digits_list)\n"
   ]
  },
  {
   "cell_type": "markdown",
   "id": "a3176fd9",
   "metadata": {},
   "source": [
    "Use map to multiply all elements by a constant factor.\n"
   ]
  },
  {
   "cell_type": "code",
   "execution_count": 26,
   "id": "a813b6ce",
   "metadata": {},
   "outputs": [
    {
     "data": {
      "text/plain": [
       "[7, 14, 21, 28, 35, 42, 49, 56, 63]"
      ]
     },
     "execution_count": 26,
     "metadata": {},
     "output_type": "execute_result"
    }
   ],
   "source": [
    "l = [1, 2, 3, 4, 5, 6, 7, 8, 9]\n",
    "\n",
    "list(map(lambda x : x*7,l))"
   ]
  },
  {
   "cell_type": "markdown",
   "id": "06430c97",
   "metadata": {},
   "source": [
    "Apply map to extract the domain names from a list of email addresses.\n"
   ]
  },
  {
   "cell_type": "code",
   "execution_count": 27,
   "id": "b3648e74",
   "metadata": {},
   "outputs": [
    {
     "name": "stdout",
     "output_type": "stream",
     "text": [
      "['example.com', 'test.com', 'domain.org']\n"
     ]
    }
   ],
   "source": [
    "emails = ['user1@example.com', 'user2@test.com', 'user3@domain.org']\n",
    "\n",
    "domains = list(map(lambda email: email.split('@')[1], emails))\n",
    "\n",
    "print(domains)\n"
   ]
  },
  {
   "cell_type": "markdown",
   "id": "2dc05fdd",
   "metadata": {},
   "source": [
    "Use map to reverse each string in a list.\n"
   ]
  },
  {
   "cell_type": "code",
   "execution_count": 28,
   "id": "2197929e",
   "metadata": {},
   "outputs": [
    {
     "data": {
      "text/plain": [
       "['moc.elpmaxe@1resu', 'moc.tset@2resu', 'gro.niamod@3resu']"
      ]
     },
     "execution_count": 28,
     "metadata": {},
     "output_type": "execute_result"
    }
   ],
   "source": [
    "emails = ['user1@example.com', 'user2@test.com', 'user3@domain.org']\n",
    "\n",
    "list(map(lambda x : x[::-1],emails))"
   ]
  },
  {
   "cell_type": "markdown",
   "id": "b34a7cac",
   "metadata": {},
   "source": [
    "Apply map to increment each value in a dictionary by 1."
   ]
  },
  {
   "cell_type": "code",
   "execution_count": 32,
   "id": "5aa08a61",
   "metadata": {},
   "outputs": [
    {
     "name": "stdout",
     "output_type": "stream",
     "text": [
      "{'a': 2, 'b': 3, 'c': 4}\n"
     ]
    }
   ],
   "source": [
    "original_dict = {'a': 1, 'b': 2, 'c': 3}\n",
    "\n",
    "incremented_dict = {key: value + 1 for key, value in original_dict.items()}\n",
    "\n",
    "print(incremented_dict)\n"
   ]
  },
  {
   "cell_type": "markdown",
   "id": "9cfc2efe",
   "metadata": {},
   "source": [
    "# Filter:\n"
   ]
  },
  {
   "cell_type": "markdown",
   "id": "764c465d",
   "metadata": {},
   "source": [
    "Use filter to keep only even numbers from a list.\n"
   ]
  },
  {
   "cell_type": "code",
   "execution_count": 33,
   "id": "b45d73fc",
   "metadata": {},
   "outputs": [
    {
     "data": {
      "text/plain": [
       "[2, 4, 6, 8]"
      ]
     },
     "execution_count": 33,
     "metadata": {},
     "output_type": "execute_result"
    }
   ],
   "source": [
    "l = [1, 2, 3, 4, 5, 6, 7, 8, 9]\n",
    "\n",
    "list(filter(lambda x : x%2 ==0 , l))"
   ]
  },
  {
   "cell_type": "markdown",
   "id": "38bef577",
   "metadata": {},
   "source": [
    "Apply filter to keep only words longer than 4 characters.\n"
   ]
  },
  {
   "cell_type": "code",
   "execution_count": 34,
   "id": "2d71a1db",
   "metadata": {},
   "outputs": [
    {
     "data": {
      "text/plain": [
       "['jkfghaskjgh', 'hfgisga']"
      ]
     },
     "execution_count": 34,
     "metadata": {},
     "output_type": "execute_result"
    }
   ],
   "source": [
    "l = ['the','your','jkfghaskjgh','hfgisga']\n",
    "\n",
    "list(filter(lambda x : len(x) > 4 , l))"
   ]
  },
  {
   "cell_type": "markdown",
   "id": "43bb3783",
   "metadata": {},
   "source": [
    "Use filter to extract only prime numbers from a list.\n"
   ]
  },
  {
   "cell_type": "code",
   "execution_count": 40,
   "id": "0eef8b41",
   "metadata": {},
   "outputs": [
    {
     "data": {
      "text/plain": [
       "[1, 2, 3, 5, 7]"
      ]
     },
     "execution_count": 40,
     "metadata": {},
     "output_type": "execute_result"
    }
   ],
   "source": [
    "def isprime(x):\n",
    "    if x == 0 and x == 1:\n",
    "        return True \n",
    "    \n",
    "    for i in range(2,int(x**0.5)+1):\n",
    "        if x % i ==0 :\n",
    "            return False\n",
    "    return True\n",
    "\n",
    "l = [1, 2, 3, 4, 5, 6, 7, 8, 9]\n",
    "\n",
    "list(filter(isprime,l))"
   ]
  },
  {
   "cell_type": "markdown",
   "id": "0d08317e",
   "metadata": {},
   "source": [
    "Apply filter to keep only strings that start with a vowel.\n"
   ]
  },
  {
   "cell_type": "code",
   "execution_count": 41,
   "id": "60a06fe4",
   "metadata": {},
   "outputs": [
    {
     "data": {
      "text/plain": [
       "['ahe']"
      ]
     },
     "execution_count": 41,
     "metadata": {},
     "output_type": "execute_result"
    }
   ],
   "source": [
    "l = ['ahe','your','jkfghaskjgh','hfgisga']\n",
    "\n",
    "vowels = 'aeiouAEIOU'\n",
    "\n",
    "list(filter(lambda x : x[0] in vowels , l))"
   ]
  },
  {
   "cell_type": "markdown",
   "id": "e0699868",
   "metadata": {},
   "source": [
    "Use filter to keep numbers that are divisible by 3 but not 5.\n"
   ]
  },
  {
   "cell_type": "code",
   "execution_count": 43,
   "id": "52168c17",
   "metadata": {},
   "outputs": [
    {
     "data": {
      "text/plain": [
       "[3, 6, 9, 78, 33, 654, 324]"
      ]
     },
     "execution_count": 43,
     "metadata": {},
     "output_type": "execute_result"
    }
   ],
   "source": [
    "l = [1,2,15,3,4,5,6,7,8,9,78,64,33,356,654,74,4,74,7,365,324]\n",
    "\n",
    "list(filter(lambda x : x % 3 == 0 and x % 5 != 0 , l))"
   ]
  },
  {
   "cell_type": "markdown",
   "id": "51ae5075",
   "metadata": {},
   "source": [
    "Apply filter to remove negative numbers from a list.\n"
   ]
  },
  {
   "cell_type": "code",
   "execution_count": 44,
   "id": "37e9aa62",
   "metadata": {},
   "outputs": [
    {
     "data": {
      "text/plain": [
       "[1, 3, 4]"
      ]
     },
     "execution_count": 44,
     "metadata": {},
     "output_type": "execute_result"
    }
   ],
   "source": [
    "l = [1,-2,3,4,-5]\n",
    "\n",
    "list(filter(lambda x : x > 0 ,l))"
   ]
  },
  {
   "cell_type": "markdown",
   "id": "d04d4899",
   "metadata": {},
   "source": [
    "Use filter to retain numbers that are perfect squares.\n"
   ]
  },
  {
   "cell_type": "code",
   "execution_count": 46,
   "id": "b72a910a",
   "metadata": {},
   "outputs": [
    {
     "data": {
      "text/plain": [
       "[1, 4, 9, 16]"
      ]
     },
     "execution_count": 46,
     "metadata": {},
     "output_type": "execute_result"
    }
   ],
   "source": [
    "import math\n",
    "\n",
    "l = [1,2,3,4,9,16]\n",
    "\n",
    "list(filter(lambda x : math.isqrt(x)** 2 == x , l ))"
   ]
  },
  {
   "cell_type": "markdown",
   "id": "a92d377b",
   "metadata": {},
   "source": [
    "Apply filter to keep only palindromic strings.\n"
   ]
  },
  {
   "cell_type": "code",
   "execution_count": 2,
   "id": "66c21fdd",
   "metadata": {},
   "outputs": [
    {
     "data": {
      "text/plain": [
       "['radar', 'level', 'madam', 'civic']"
      ]
     },
     "execution_count": 2,
     "metadata": {},
     "output_type": "execute_result"
    }
   ],
   "source": [
    "strings = [\"radar\", \"hello\", \"level\", \"world\", \"madam\", \"python\", \"civic\", \"java\"]\n",
    "\n",
    "list(filter(lambda x : x == x[::-1],strings))"
   ]
  },
  {
   "cell_type": "markdown",
   "id": "9b7b4e65",
   "metadata": {},
   "source": [
    "Use filter to select all keys in a dictionary that have a value greater than 10.\n"
   ]
  },
  {
   "cell_type": "code",
   "execution_count": 11,
   "id": "27b0a70d",
   "metadata": {},
   "outputs": [
    {
     "name": "stdout",
     "output_type": "stream",
     "text": [
      "['b', 'c', 'e']\n"
     ]
    }
   ],
   "source": [
    "data = {\n",
    "    'a': 5,\n",
    "    'b': 15,\n",
    "    'c': 20,\n",
    "    'd': 8,\n",
    "    'e': 12,\n",
    "    'f': 7\n",
    "}\n",
    "\n",
    "def has_value_greater_than_10(item):\n",
    "    key, value = item\n",
    "    return value > 10\n",
    "\n",
    "keys_with_values_greater_than_10 = list(filter(lambda item: has_value_greater_than_10(item), data.items()))\n",
    "\n",
    "keys = [key for key, value in keys_with_values_greater_than_10]\n",
    "\n",
    "print(keys)\n"
   ]
  },
  {
   "cell_type": "markdown",
   "id": "c9bc2a6f",
   "metadata": {},
   "source": [
    "Apply filter to keep only even-indexed elements from a list.\n"
   ]
  },
  {
   "cell_type": "code",
   "execution_count": 12,
   "id": "63dbc2b6",
   "metadata": {},
   "outputs": [
    {
     "data": {
      "text/plain": [
       "[1, 3, 54]"
      ]
     },
     "execution_count": 12,
     "metadata": {},
     "output_type": "execute_result"
    }
   ],
   "source": [
    "l = [1,2,3,4,54]\n",
    "\n",
    "list(filter(lambda x : l.index(x) % 2 == 0 ,l))"
   ]
  },
  {
   "cell_type": "markdown",
   "id": "775a06e9",
   "metadata": {},
   "source": [
    "Use filter to keep only strings that are longer than the average string length.\n"
   ]
  },
  {
   "cell_type": "code",
   "execution_count": 14,
   "id": "35b0a051",
   "metadata": {},
   "outputs": [
    {
     "data": {
      "text/plain": [
       "['helloo', 'leveol', 'madamo', 'python', 'coivic', 'jaoova']"
      ]
     },
     "execution_count": 14,
     "metadata": {},
     "output_type": "execute_result"
    }
   ],
   "source": [
    "strings = [\"radar\", \"helloo\", \"leveol\", \"world\", \"madamo\", \"python\", \"coivic\", \"jaoova\"]\n",
    "\n",
    "avg_len = len(''.join(strings))/len(strings)\n",
    "\n",
    "list(filter(lambda x : len(x) > avg_len,strings))"
   ]
  },
  {
   "cell_type": "markdown",
   "id": "575b23c0",
   "metadata": {},
   "source": [
    "Apply filter to select only prime factors of a number.\n"
   ]
  },
  {
   "cell_type": "code",
   "execution_count": 15,
   "id": "bfa4a36b",
   "metadata": {},
   "outputs": [
    {
     "name": "stdout",
     "output_type": "stream",
     "text": [
      "Prime factors of 56: [2, 7]\n"
     ]
    }
   ],
   "source": [
    "def is_prime(n):\n",
    "    if n < 2:\n",
    "        return False\n",
    "    for i in range(2, int(n ** 0.5) + 1):\n",
    "        if n % i == 0:\n",
    "            return False\n",
    "    return True\n",
    "\n",
    "def prime_factors(number):\n",
    "    # Find all factors of the number\n",
    "    factors = [i for i in range(2, number + 1) if number % i == 0]\n",
    "\n",
    "    prime_factors = list(filter(is_prime, factors))\n",
    "    \n",
    "    return prime_factors\n",
    "\n",
    "number = 56\n",
    "result = prime_factors(number)\n",
    "print(f\"Prime factors of {number}: {result}\")\n"
   ]
  },
  {
   "cell_type": "markdown",
   "id": "f24a3018",
   "metadata": {},
   "source": [
    "Use filter to retain numbers with more than two divisors.\n"
   ]
  },
  {
   "cell_type": "code",
   "execution_count": 18,
   "id": "d40f9914",
   "metadata": {},
   "outputs": [
    {
     "name": "stdout",
     "output_type": "stream",
     "text": [
      "Numbers with more than two divisors: [4, 6, 8, 9, 10]\n"
     ]
    }
   ],
   "source": [
    "# Helper function to count divisors of a number\n",
    "def count_divisors(n):\n",
    "    divisors = [i for i in range(1, n + 1) if n % i == 0]\n",
    "    return len(divisors)\n",
    "\n",
    "# Function to check if a number has more than two divisors\n",
    "def has_more_than_two_divisors(n):\n",
    "    return count_divisors(n) > 2\n",
    "\n",
    "# Example list of numbers\n",
    "numbers = [2, 3, 4, 5, 6, 7, 8, 9, 10]\n",
    "\n",
    "# Use filter to retain numbers with more than two divisors\n",
    "composite_numbers = list(filter(has_more_than_two_divisors, numbers))\n",
    "\n",
    "print(f\"Numbers with more than two divisors: {composite_numbers}\")\n"
   ]
  },
  {
   "cell_type": "markdown",
   "id": "0be9e2cf",
   "metadata": {},
   "source": [
    "Apply filter to keep only numbers with distinct digits.\n"
   ]
  },
  {
   "cell_type": "code",
   "execution_count": 21,
   "id": "272fc7e1",
   "metadata": {},
   "outputs": [
    {
     "data": {
      "text/plain": [
       "[123, 456, 890, 987]"
      ]
     },
     "execution_count": 21,
     "metadata": {},
     "output_type": "execute_result"
    }
   ],
   "source": [
    "def distinct_dig(n):\n",
    "    return len(set(str(n))) == len(str(n))\n",
    "\n",
    "numbers = [123, 112, 456, 787, 890, 121, 987]\n",
    "\n",
    "list(filter(distinct_dig,numbers))"
   ]
  },
  {
   "cell_type": "markdown",
   "id": "8f18eec9",
   "metadata": {},
   "source": [
    "Use filter to retain only words that contain at least two vowels.\n"
   ]
  },
  {
   "cell_type": "code",
   "execution_count": 23,
   "id": "14b56cdb",
   "metadata": {},
   "outputs": [
    {
     "data": {
      "text/plain": [
       "['apple', 'tree', 'elephant', 'book']"
      ]
     },
     "execution_count": 23,
     "metadata": {},
     "output_type": "execute_result"
    }
   ],
   "source": [
    "def two_vowels(word):\n",
    "    vowels = 'aeiouAEIOU'\n",
    "    \n",
    "    v_count = sum(1 for char in word if char in vowels)\n",
    "    return v_count >= 2\n",
    "\n",
    "words = [\"apple\", \"tree\", \"sky\", \"elephant\", \"sun\", \"book\"]\n",
    "\n",
    "list(filter(two_vowels,words))"
   ]
  },
  {
   "cell_type": "markdown",
   "id": "a4525dd2",
   "metadata": {},
   "source": [
    "Apply filter to keep all multiples of 7 in a range.\n"
   ]
  },
  {
   "cell_type": "code",
   "execution_count": 26,
   "id": "f715891a",
   "metadata": {},
   "outputs": [
    {
     "name": "stdout",
     "output_type": "stream",
     "text": [
      "Multiples of 7 in the range: [7, 14, 21, 28, 35, 42, 49, 56, 63, 70, 77, 84, 91, 98]\n"
     ]
    }
   ],
   "source": [
    "# Function to check if a number is a multiple of 7\n",
    "def is_multiple_of_7(n):\n",
    "    return n % 7 == 0\n",
    "\n",
    "# Define the range\n",
    "num_range = range(1, 101)\n",
    "\n",
    "# Use filter to retain numbers that are multiples of 7\n",
    "multiples_of_7 = list(filter(is_multiple_of_7, num_range))\n",
    "\n",
    "print(f\"Multiples of 7 in the range: {multiples_of_7}\")\n"
   ]
  },
  {
   "cell_type": "markdown",
   "id": "6585b75b",
   "metadata": {},
   "source": [
    "Use filter to select numbers that are the sum of their digits squared.\n"
   ]
  },
  {
   "cell_type": "code",
   "execution_count": 30,
   "id": "3008e046",
   "metadata": {},
   "outputs": [
    {
     "data": {
      "text/plain": [
       "[1]"
      ]
     },
     "execution_count": 30,
     "metadata": {},
     "output_type": "execute_result"
    }
   ],
   "source": [
    "def dig_sq(n):\n",
    "    \n",
    "    num = str(n)\n",
    "    sum_n = 0\n",
    "    for i in num :\n",
    "        \n",
    "        sum_n += int(i) **2\n",
    "    \n",
    "    return sum_n == n\n",
    "\n",
    "l = [1, 10, 13, 25, 58, 85, 91, 145, 130, 89]\n",
    "\n",
    "\n",
    "list(filter(dig_sq,l))"
   ]
  },
  {
   "cell_type": "markdown",
   "id": "986fd396",
   "metadata": {},
   "source": [
    "Apply filter to keep strings with at least one capital letter.\n"
   ]
  },
  {
   "cell_type": "code",
   "execution_count": 33,
   "id": "c9c23178",
   "metadata": {},
   "outputs": [
    {
     "data": {
      "text/plain": [
       "['abcD', 'fgDdfg']"
      ]
     },
     "execution_count": 33,
     "metadata": {},
     "output_type": "execute_result"
    }
   ],
   "source": [
    "def capital(s):\n",
    "    \n",
    "    for i in s :\n",
    "        if i.isupper():\n",
    "            return True\n",
    "        \n",
    "l = ['abcD','khfgask','fgDdfg']\n",
    "\n",
    "list(filter(capital,l))"
   ]
  },
  {
   "cell_type": "markdown",
   "id": "65eace76",
   "metadata": {},
   "source": [
    "Use filter to retain numbers that are both positive and even.\n"
   ]
  },
  {
   "cell_type": "code",
   "execution_count": 34,
   "id": "2420a829",
   "metadata": {},
   "outputs": [
    {
     "data": {
      "text/plain": [
       "[4, 6]"
      ]
     },
     "execution_count": 34,
     "metadata": {},
     "output_type": "execute_result"
    }
   ],
   "source": [
    "l = [1,-2,3,4,5,6,7,-8]\n",
    "\n",
    "list(filter(lambda x : x%2==0 and x>0,l))"
   ]
  },
  {
   "cell_type": "markdown",
   "id": "fb7aae63",
   "metadata": {},
   "source": [
    "Apply filter to keep only dictionary entries where the values are strings."
   ]
  },
  {
   "cell_type": "code",
   "execution_count": 37,
   "id": "2e3a751e",
   "metadata": {},
   "outputs": [
    {
     "name": "stdout",
     "output_type": "stream",
     "text": [
      "['name', 'city', 'occupation']\n"
     ]
    }
   ],
   "source": [
    "data = {\n",
    "    'name': 'Alice',\n",
    "    'age': 30,\n",
    "    'city': 'New York',\n",
    "    'is_student': False,\n",
    "    'occupation': 'Engineer',\n",
    "    'height': 5.6\n",
    "}\n",
    "\n",
    "def value_str(key):\n",
    "    return isinstance(data[key], str)\n",
    "\n",
    "result = list(filter(value_str, data))\n",
    "print(result)  \n"
   ]
  },
  {
   "cell_type": "markdown",
   "id": "acca0cc6",
   "metadata": {},
   "source": [
    "# Lambda Function\n"
   ]
  },
  {
   "cell_type": "markdown",
   "id": "d292705a",
   "metadata": {},
   "source": [
    "Write a lambda function to add two numbers.\n"
   ]
  },
  {
   "cell_type": "code",
   "execution_count": 38,
   "id": "4e135c37",
   "metadata": {},
   "outputs": [
    {
     "data": {
      "text/plain": [
       "[<function __main__.<lambda>(x, y)>]"
      ]
     },
     "execution_count": 38,
     "metadata": {},
     "output_type": "execute_result"
    }
   ],
   "source": [
    "[lambda x,y:x+y]"
   ]
  },
  {
   "cell_type": "markdown",
   "id": "d15b986a",
   "metadata": {},
   "source": [
    "Use a lambda function to check if a number is odd.\n"
   ]
  },
  {
   "cell_type": "code",
   "execution_count": 41,
   "id": "d2953825",
   "metadata": {},
   "outputs": [
    {
     "data": {
      "text/plain": [
       "[1, 3]"
      ]
     },
     "execution_count": 41,
     "metadata": {},
     "output_type": "execute_result"
    }
   ],
   "source": [
    "l = [1,2,3,4]\n",
    "\n",
    "list(filter(lambda x : x%2!=0 ,l))"
   ]
  },
  {
   "cell_type": "markdown",
   "id": "8c619785",
   "metadata": {},
   "source": [
    "Write a lambda function to find the greater of two numbers.\n"
   ]
  },
  {
   "cell_type": "code",
   "execution_count": 47,
   "id": "1af148de",
   "metadata": {},
   "outputs": [
    {
     "data": {
      "text/plain": [
       "11"
      ]
     },
     "execution_count": 47,
     "metadata": {},
     "output_type": "execute_result"
    }
   ],
   "source": [
    "greater = lambda x,y : x if x>y else y\n",
    "\n",
    "greater(11,9)"
   ]
  },
  {
   "cell_type": "markdown",
   "id": "71b55025",
   "metadata": {},
   "source": [
    "Use a lambda function to check if a string is a palindrome.\n"
   ]
  },
  {
   "cell_type": "code",
   "execution_count": 49,
   "id": "3fc6f3b5",
   "metadata": {},
   "outputs": [],
   "source": [
    "is_palindrome = lambda s: s == s[::-1]"
   ]
  },
  {
   "cell_type": "markdown",
   "id": "fb284e7a",
   "metadata": {},
   "source": [
    "Write a lambda function to cube a number.\n"
   ]
  },
  {
   "cell_type": "code",
   "execution_count": 50,
   "id": "7e768ea8",
   "metadata": {},
   "outputs": [],
   "source": [
    "cube = lambda x : x**3"
   ]
  },
  {
   "cell_type": "markdown",
   "id": "373219f4",
   "metadata": {},
   "source": [
    "Use a lambda function to filter out non-alphabetic characters from a string.\n"
   ]
  },
  {
   "cell_type": "code",
   "execution_count": 2,
   "id": "a9c15df5",
   "metadata": {},
   "outputs": [
    {
     "data": {
      "text/plain": [
       "'gsdfg'"
      ]
     },
     "execution_count": 2,
     "metadata": {},
     "output_type": "execute_result"
    }
   ],
   "source": [
    "not_alpha = lambda x : ''.join(filter(lambda x : x.isalpha(),s))\n",
    "\n",
    "s = '12gsdfg'\n",
    "\n",
    "not_alpha(s)"
   ]
  },
  {
   "cell_type": "markdown",
   "id": "e18aa556",
   "metadata": {},
   "source": [
    "Write a lambda function to calculate the length of a string.\n"
   ]
  },
  {
   "cell_type": "code",
   "execution_count": 3,
   "id": "09771104",
   "metadata": {},
   "outputs": [
    {
     "data": {
      "text/plain": [
       "3"
      ]
     },
     "execution_count": 3,
     "metadata": {},
     "output_type": "execute_result"
    }
   ],
   "source": [
    "length_str = lambda x : len(x)\n",
    "\n",
    "length_str('abc')"
   ]
  },
  {
   "cell_type": "markdown",
   "id": "9f3b6a69",
   "metadata": {},
   "source": [
    "Use a lambda function to reverse the order of words in a sentence.\n"
   ]
  },
  {
   "cell_type": "code",
   "execution_count": 6,
   "id": "5964ff12",
   "metadata": {},
   "outputs": [
    {
     "data": {
      "text/plain": [
       "'fox brown quick The'"
      ]
     },
     "execution_count": 6,
     "metadata": {},
     "output_type": "execute_result"
    }
   ],
   "source": [
    "rev_words = lambda x : ' '.join(x.split()[::-1])\n",
    "\n",
    "sentence = \"The quick brown fox\"\n",
    "\n",
    "rev_words(sentence)"
   ]
  },
  {
   "cell_type": "markdown",
   "id": "c7a7e5ca",
   "metadata": {},
   "source": [
    "Write a lambda function to find the product of two numbers.\n"
   ]
  },
  {
   "cell_type": "code",
   "execution_count": 7,
   "id": "acafe878",
   "metadata": {},
   "outputs": [
    {
     "data": {
      "text/plain": [
       "6"
      ]
     },
     "execution_count": 7,
     "metadata": {},
     "output_type": "execute_result"
    }
   ],
   "source": [
    "pro = lambda x,y : x*y\n",
    "\n",
    "pro(2,3)"
   ]
  },
  {
   "cell_type": "markdown",
   "id": "4c72ba95",
   "metadata": {},
   "source": [
    "Use a lambda function to check if a number is divisible by 4.\n"
   ]
  },
  {
   "cell_type": "code",
   "execution_count": 10,
   "id": "90c95825",
   "metadata": {},
   "outputs": [
    {
     "data": {
      "text/plain": [
       "True"
      ]
     },
     "execution_count": 10,
     "metadata": {},
     "output_type": "execute_result"
    }
   ],
   "source": [
    "dev_4 = lambda x : x%4 == 0\n",
    "\n",
    "dev_4(16)"
   ]
  },
  {
   "cell_type": "markdown",
   "id": "d3f5a69b",
   "metadata": {},
   "source": [
    "Write a lambda function to find the square of a number.\n"
   ]
  },
  {
   "cell_type": "code",
   "execution_count": 11,
   "id": "e5aef936",
   "metadata": {},
   "outputs": [
    {
     "data": {
      "text/plain": [
       "81"
      ]
     },
     "execution_count": 11,
     "metadata": {},
     "output_type": "execute_result"
    }
   ],
   "source": [
    "sq = lambda x : x**2\n",
    "\n",
    "sq(9)"
   ]
  },
  {
   "cell_type": "markdown",
   "id": "b03c8b34",
   "metadata": {},
   "source": [
    "Use a lambda function to filter out words that contain 'a' from a list.\n"
   ]
  },
  {
   "cell_type": "code",
   "execution_count": 12,
   "id": "2c41a4c5",
   "metadata": {},
   "outputs": [
    {
     "name": "stdout",
     "output_type": "stream",
     "text": [
      "['cherry', 'fig']\n"
     ]
    }
   ],
   "source": [
    "filter_words = lambda words: list(filter(lambda word: 'a' not in word, words))\n",
    "\n",
    "words = [\"apple\", \"banana\", \"cherry\", \"date\", \"fig\", \"grape\"]\n",
    "filtered_words = filter_words(words)\n",
    "print(filtered_words)"
   ]
  },
  {
   "cell_type": "markdown",
   "id": "76178c3d",
   "metadata": {},
   "source": [
    "Write a lambda function to extract the last character of a string.\n"
   ]
  },
  {
   "cell_type": "code",
   "execution_count": 13,
   "id": "e5e1b9fd",
   "metadata": {},
   "outputs": [
    {
     "data": {
      "text/plain": [
       "'c'"
      ]
     },
     "execution_count": 13,
     "metadata": {},
     "output_type": "execute_result"
    }
   ],
   "source": [
    "last = lambda x : x[-1]\n",
    "\n",
    "last('abc')"
   ]
  },
  {
   "cell_type": "markdown",
   "id": "9ebee704",
   "metadata": {},
   "source": [
    "Use a lambda function to sum up the digits of a number.\n"
   ]
  },
  {
   "cell_type": "code",
   "execution_count": 14,
   "id": "9adef0e6",
   "metadata": {},
   "outputs": [],
   "source": [
    "sum_digits = lambda n: sum(int(digit) for digit in str(n))"
   ]
  },
  {
   "cell_type": "markdown",
   "id": "645a712a",
   "metadata": {},
   "source": [
    "Write a lambda function to find the maximum of three numbers.\n"
   ]
  },
  {
   "cell_type": "code",
   "execution_count": 15,
   "id": "ec2bad76",
   "metadata": {},
   "outputs": [
    {
     "data": {
      "text/plain": [
       "3"
      ]
     },
     "execution_count": 15,
     "metadata": {},
     "output_type": "execute_result"
    }
   ],
   "source": [
    "max_3 = lambda x,y,z : max(x,y,z)\n",
    "\n",
    "max_3(1,2,3)"
   ]
  },
  {
   "cell_type": "markdown",
   "id": "a84c54ca",
   "metadata": {},
   "source": [
    "Use a lambda function to multiply all elements in a list by 2.\n"
   ]
  },
  {
   "cell_type": "code",
   "execution_count": 19,
   "id": "f77482b6",
   "metadata": {},
   "outputs": [
    {
     "data": {
      "text/plain": [
       "[2, 4, 6]"
      ]
     },
     "execution_count": 19,
     "metadata": {},
     "output_type": "execute_result"
    }
   ],
   "source": [
    "double = lambda x : list(map(lambda n : n*2 ,x))\n",
    "\n",
    "l = [1,2,3]\n",
    "\n",
    "double(l)"
   ]
  },
  {
   "cell_type": "markdown",
   "id": "40b4b9e4",
   "metadata": {},
   "source": [
    "Write a lambda function to check if a string has all unique characters.\n"
   ]
  },
  {
   "cell_type": "code",
   "execution_count": 21,
   "id": "faae4bc5",
   "metadata": {},
   "outputs": [
    {
     "data": {
      "text/plain": [
       "False"
      ]
     },
     "execution_count": 21,
     "metadata": {},
     "output_type": "execute_result"
    }
   ],
   "source": [
    "uni = lambda s : len(s) == len(set(s))\n",
    "\n",
    "uni('abcc')"
   ]
  },
  {
   "cell_type": "markdown",
   "id": "11111d5e",
   "metadata": {},
   "source": [
    "Use a lambda function to convert a list of strings to uppercase.\n"
   ]
  },
  {
   "cell_type": "code",
   "execution_count": 24,
   "id": "c11ad4fe",
   "metadata": {},
   "outputs": [
    {
     "data": {
      "text/plain": [
       "['AFA', 'FAS', 'ASDFA']"
      ]
     },
     "execution_count": 24,
     "metadata": {},
     "output_type": "execute_result"
    }
   ],
   "source": [
    "uppercase = lambda x : list(map(lambda n : n.upper(),x))\n",
    "\n",
    "l = ['afa','fas','asdfa']\n",
    "\n",
    "uppercase(l)"
   ]
  },
  {
   "cell_type": "markdown",
   "id": "4a394d89",
   "metadata": {},
   "source": [
    "Write a lambda function to check if a number is a perfect square.\n"
   ]
  },
  {
   "cell_type": "code",
   "execution_count": 26,
   "id": "80d0d3fa",
   "metadata": {},
   "outputs": [
    {
     "data": {
      "text/plain": [
       "False"
      ]
     },
     "execution_count": 26,
     "metadata": {},
     "output_type": "execute_result"
    }
   ],
   "source": [
    "perfect_sq = lambda x : int(x ** 0.5) ** 2 == x\n",
    "\n",
    "perfect_sq(8)"
   ]
  },
  {
   "cell_type": "markdown",
   "id": "8401f7cb",
   "metadata": {},
   "source": [
    "Use a lambda function to sort a list of tuples by the second element."
   ]
  },
  {
   "cell_type": "code",
   "execution_count": 29,
   "id": "7dbffbf4",
   "metadata": {},
   "outputs": [
    {
     "data": {
      "text/plain": [
       "[(9, 1, 4), (1, 2, 3), (2, 3, 4)]"
      ]
     },
     "execution_count": 29,
     "metadata": {},
     "output_type": "execute_result"
    }
   ],
   "source": [
    "sort_t = lambda x : sorted(x,key = lambda x : x[1])\n",
    "sort_t([(1,2,3),(2,3,4),(9,1,4)])"
   ]
  },
  {
   "cell_type": "markdown",
   "id": "97f7b188",
   "metadata": {},
   "source": [
    "# Reduce\n"
   ]
  },
  {
   "cell_type": "markdown",
   "id": "b1b859cc",
   "metadata": {},
   "source": [
    "Use reduce to find the product of all elements in a list.\n"
   ]
  },
  {
   "cell_type": "code",
   "execution_count": 30,
   "id": "0ecb0038",
   "metadata": {},
   "outputs": [
    {
     "name": "stdout",
     "output_type": "stream",
     "text": [
      "120\n"
     ]
    }
   ],
   "source": [
    "from functools import reduce\n",
    "\n",
    "numbers = [1, 2, 3, 4, 5]\n",
    "\n",
    "product = reduce(lambda x, y: x * y, numbers)\n",
    "\n",
    "print(product)  \n"
   ]
  },
  {
   "cell_type": "markdown",
   "id": "c451ed1f",
   "metadata": {},
   "source": [
    "Apply reduce to find the greatest common divisor (GCD) of a list of numbers.\n"
   ]
  },
  {
   "cell_type": "code",
   "execution_count": 2,
   "id": "267a37f8",
   "metadata": {},
   "outputs": [
    {
     "name": "stdout",
     "output_type": "stream",
     "text": [
      "24\n"
     ]
    }
   ],
   "source": [
    "from functools import reduce\n",
    "from math import gcd\n",
    "\n",
    "numbers = [48, 72, 120]\n",
    "\n",
    "gcd_result = reduce(gcd, numbers)\n",
    "\n",
    "print(gcd_result)  \n"
   ]
  },
  {
   "cell_type": "markdown",
   "id": "e8d6927b",
   "metadata": {},
   "source": [
    "Use reduce to find the sum of all elements in a list.\n"
   ]
  },
  {
   "cell_type": "code",
   "execution_count": 4,
   "id": "ea7b7d58",
   "metadata": {},
   "outputs": [
    {
     "data": {
      "text/plain": [
       "6"
      ]
     },
     "execution_count": 4,
     "metadata": {},
     "output_type": "execute_result"
    }
   ],
   "source": [
    "l=[1,2,3]\n",
    "\n",
    "sum_all = reduce(lambda x,y : x+y,l)\n",
    "sum_all"
   ]
  },
  {
   "cell_type": "markdown",
   "id": "38ccdf30",
   "metadata": {},
   "source": [
    "Apply reduce to concatenate a list of strings into a single string.\n"
   ]
  },
  {
   "cell_type": "code",
   "execution_count": 5,
   "id": "73d289d6",
   "metadata": {},
   "outputs": [
    {
     "data": {
      "text/plain": [
       "'applebananacherrydateelderberryfiggrapehoneydew'"
      ]
     },
     "execution_count": 5,
     "metadata": {},
     "output_type": "execute_result"
    }
   ],
   "source": [
    "words = \"apple banana cherry date elderberry fig grape honeydew\".split()\n",
    "\n",
    "reduce(lambda x ,y : x+y , words)"
   ]
  },
  {
   "cell_type": "markdown",
   "id": "39e49cdf",
   "metadata": {},
   "source": [
    "Use reduce to find the longest string in a list.\n"
   ]
  },
  {
   "cell_type": "code",
   "execution_count": 6,
   "id": "16db9376",
   "metadata": {},
   "outputs": [
    {
     "data": {
      "text/plain": [
       "'elderberry'"
      ]
     },
     "execution_count": 6,
     "metadata": {},
     "output_type": "execute_result"
    }
   ],
   "source": [
    "reduce(lambda x , y : x if len(x)>len(y) else y , words)"
   ]
  },
  {
   "cell_type": "markdown",
   "id": "dc95da38",
   "metadata": {},
   "source": [
    "Apply reduce to find the maximum value in a list.\n"
   ]
  },
  {
   "cell_type": "code",
   "execution_count": 7,
   "id": "6ceba888",
   "metadata": {},
   "outputs": [
    {
     "data": {
      "text/plain": [
       "667776"
      ]
     },
     "execution_count": 7,
     "metadata": {},
     "output_type": "execute_result"
    }
   ],
   "source": [
    "l = [1,2,3,555,667776]\n",
    "\n",
    "reduce(lambda x , y : x if x>y else y , l)"
   ]
  },
  {
   "cell_type": "markdown",
   "id": "eaa66807",
   "metadata": {},
   "source": [
    "Use reduce to compute the sum of squares of all elements in a list.\n"
   ]
  },
  {
   "cell_type": "code",
   "execution_count": 9,
   "id": "15e05132",
   "metadata": {},
   "outputs": [
    {
     "data": {
      "text/plain": [
       "30"
      ]
     },
     "execution_count": 9,
     "metadata": {},
     "output_type": "execute_result"
    }
   ],
   "source": [
    "l = [1,2,3,4]\n",
    "\n",
    "reduce(lambda x, y: x + y**2, l, 0)\n"
   ]
  },
  {
   "cell_type": "markdown",
   "id": "d384c3cc",
   "metadata": {},
   "source": [
    "Apply reduce to find the minimum value in a list.\n"
   ]
  },
  {
   "cell_type": "code",
   "execution_count": 10,
   "id": "f1d1b91c",
   "metadata": {},
   "outputs": [
    {
     "data": {
      "text/plain": [
       "1"
      ]
     },
     "execution_count": 10,
     "metadata": {},
     "output_type": "execute_result"
    }
   ],
   "source": [
    "reduce(lambda x,y : min(x,y),l)"
   ]
  },
  {
   "cell_type": "markdown",
   "id": "84211b64",
   "metadata": {},
   "source": [
    "Use reduce to calculate the factorial of a number (given as a list of numbers from 1 to n).\n"
   ]
  },
  {
   "cell_type": "code",
   "execution_count": 11,
   "id": "bd750a57",
   "metadata": {},
   "outputs": [
    {
     "name": "stdout",
     "output_type": "stream",
     "text": [
      "120\n"
     ]
    }
   ],
   "source": [
    "n = 5\n",
    "\n",
    "numbers = list(range(1, n + 1))\n",
    "factorial = reduce(lambda x, y: x * y, numbers)\n",
    "\n",
    "print(factorial)  \n"
   ]
  },
  {
   "cell_type": "markdown",
   "id": "88e1dea7",
   "metadata": {},
   "source": [
    "Apply reduce to find the cumulative sum of a list.\n"
   ]
  },
  {
   "cell_type": "code",
   "execution_count": 12,
   "id": "0a481786",
   "metadata": {},
   "outputs": [
    {
     "data": {
      "text/plain": [
       "10"
      ]
     },
     "execution_count": 12,
     "metadata": {},
     "output_type": "execute_result"
    }
   ],
   "source": [
    "l = [1,2,3,4]\n",
    "\n",
    "reduce(lambda x,y : x+y , l)"
   ]
  },
  {
   "cell_type": "markdown",
   "id": "003cd044",
   "metadata": {},
   "source": [
    "Use reduce to count the total number of characters in a list of strings.\n"
   ]
  },
  {
   "cell_type": "code",
   "execution_count": 5,
   "id": "4faa8383",
   "metadata": {},
   "outputs": [
    {
     "name": "stdout",
     "output_type": "stream",
     "text": [
      "22\n"
     ]
    }
   ],
   "source": [
    "from functools import reduce\n",
    "\n",
    "strings = ['hello', 'world', 'python', 'reduce']\n",
    "\n",
    "total_characters = reduce(lambda acc, s: acc + len(s), strings, 0)\n",
    "\n",
    "print(total_characters) \n"
   ]
  },
  {
   "cell_type": "markdown",
   "id": "4eda8292",
   "metadata": {},
   "source": [
    "Apply reduce to multiply all the elements in a list of lists, flattening them first.\n"
   ]
  },
  {
   "cell_type": "code",
   "execution_count": 6,
   "id": "9b569472",
   "metadata": {},
   "outputs": [
    {
     "name": "stdout",
     "output_type": "stream",
     "text": [
      "720\n"
     ]
    }
   ],
   "source": [
    "from functools import reduce\n",
    "\n",
    "# Define the list of lists\n",
    "list_of_lists = [[1, 2], [3, 4], [5, 6]]\n",
    "\n",
    "# Flatten the list of lists\n",
    "flattened_list = [item for sublist in list_of_lists for item in sublist]\n",
    "\n",
    "# Use reduce to multiply all elements in the flattened list\n",
    "product = reduce(lambda x, y: x * y, flattened_list)\n",
    "\n",
    "print(product)  # Output: 720\n"
   ]
  },
  {
   "cell_type": "markdown",
   "id": "48349840",
   "metadata": {},
   "source": [
    "Use reduce to find the sum of the digits in a number represented as a list.\n"
   ]
  },
  {
   "cell_type": "code",
   "execution_count": 7,
   "id": "4e1419b5",
   "metadata": {},
   "outputs": [
    {
     "data": {
      "text/plain": [
       "14"
      ]
     },
     "execution_count": 7,
     "metadata": {},
     "output_type": "execute_result"
    }
   ],
   "source": [
    "l = [2,3,4,5]\n",
    "\n",
    "reduce(lambda x , y : x+y , l)"
   ]
  },
  {
   "cell_type": "markdown",
   "id": "9701817d",
   "metadata": {},
   "source": [
    "Apply reduce to return the greatest common divisor (GCD) of a list of numbers.\n"
   ]
  },
  {
   "cell_type": "code",
   "execution_count": 8,
   "id": "7a352b28",
   "metadata": {},
   "outputs": [
    {
     "name": "stdout",
     "output_type": "stream",
     "text": [
      "12\n"
     ]
    }
   ],
   "source": [
    "from functools import reduce\n",
    "from math import gcd\n",
    "\n",
    "numbers = [48, 180, 36]\n",
    "\n",
    "gcd_result = reduce(gcd, numbers)\n",
    "\n",
    "print(gcd_result) "
   ]
  },
  {
   "cell_type": "markdown",
   "id": "dd99b763",
   "metadata": {},
   "source": [
    "Use reduce to find the difference between consecutive elements in a list.\n"
   ]
  },
  {
   "cell_type": "code",
   "execution_count": 9,
   "id": "74e54733",
   "metadata": {},
   "outputs": [
    {
     "name": "stdout",
     "output_type": "stream",
     "text": [
      "[10, 10, 20, 20, 30]\n"
     ]
    }
   ],
   "source": [
    "from functools import reduce\n",
    "\n",
    "numbers = [10, 20, 30, 40, 50]\n",
    "\n",
    "differences = reduce(lambda acc, x: acc + [x - acc[-1]], numbers[1:], [numbers[0]])\n",
    "\n",
    "print(differences) \n"
   ]
  },
  {
   "cell_type": "markdown",
   "id": "f59438d0",
   "metadata": {},
   "source": [
    "Apply reduce to find the product of non-zero elements in a list.\n"
   ]
  },
  {
   "cell_type": "code",
   "execution_count": 10,
   "id": "a5797fda",
   "metadata": {},
   "outputs": [
    {
     "data": {
      "text/plain": [
       "120"
      ]
     },
     "execution_count": 10,
     "metadata": {},
     "output_type": "execute_result"
    }
   ],
   "source": [
    "numbers = [1, 2, 0, 4, 5, 0, 3]\n",
    "\n",
    "reduce(lambda x, y: x * y, filter(lambda n: n != 0, numbers), 1)"
   ]
  },
  {
   "cell_type": "markdown",
   "id": "277f6a1a",
   "metadata": {},
   "source": [
    "Use reduce to calculate the sum of squares minus the sum of cubes for numbers in a list.\n"
   ]
  },
  {
   "cell_type": "code",
   "execution_count": 12,
   "id": "edcfbd4f",
   "metadata": {},
   "outputs": [
    {
     "data": {
      "text/plain": [
       "-170"
      ]
     },
     "execution_count": 12,
     "metadata": {},
     "output_type": "execute_result"
    }
   ],
   "source": [
    "numbers = [1, 2, 3, 4, 5]\n",
    "result = reduce(lambda acc, x: (acc[0] + x**2, acc[1] + x**3), numbers, (0, 0))\n",
    "sum_squares_minus_sum_cubes = result[0] - result[1]\n",
    "sum_squares_minus_sum_cubes"
   ]
  },
  {
   "cell_type": "markdown",
   "id": "8bf8824c",
   "metadata": {},
   "source": [
    "Apply reduce to find the longest increasing subsequence in a list of numbers.\n"
   ]
  },
  {
   "cell_type": "code",
   "execution_count": 13,
   "id": "494f41c3",
   "metadata": {},
   "outputs": [
    {
     "name": "stdout",
     "output_type": "stream",
     "text": [
      "[10, 101]\n"
     ]
    }
   ],
   "source": [
    "from functools import reduce\n",
    "\n",
    "def longest_increasing_subsequence(lst):\n",
    "\n",
    "    lis = reduce(lambda acc, x: acc + [x] if not acc or acc[-1] < x else acc, lst, [])\n",
    "    return lis\n",
    "\n",
    "numbers = [10, 9, 2, 5, 3, 7, 101, 18]\n",
    "result = longest_increasing_subsequence(numbers)\n",
    "print(result) "
   ]
  },
  {
   "cell_type": "markdown",
   "id": "64ab5fdd",
   "metadata": {},
   "source": [
    "Use reduce to calculate the average of a list of numbers.\n"
   ]
  },
  {
   "cell_type": "code",
   "execution_count": 14,
   "id": "ad220338",
   "metadata": {},
   "outputs": [
    {
     "name": "stdout",
     "output_type": "stream",
     "text": [
      "30.0\n"
     ]
    }
   ],
   "source": [
    "from functools import reduce\n",
    "\n",
    "def average(lst):\n",
    "\n",
    "    total_sum = reduce(lambda x, y: x + y, lst)\n",
    "\n",
    "    avg = total_sum / len(lst) if lst else 0\n",
    "    return avg\n",
    "\n",
    "\n",
    "numbers = [10, 20, 30, 40, 50]\n",
    "result = average(numbers)\n",
    "print(result)  \n"
   ]
  },
  {
   "cell_type": "markdown",
   "id": "4f19d645",
   "metadata": {},
   "source": [
    "Apply reduce to implement a custom power function for a list (e.g., [2, 3, 4] -> 2^3^4)."
   ]
  },
  {
   "cell_type": "code",
   "execution_count": 15,
   "id": "ee78ea84",
   "metadata": {},
   "outputs": [
    {
     "name": "stdout",
     "output_type": "stream",
     "text": [
      "2417851639229258349412352\n"
     ]
    }
   ],
   "source": [
    "from functools import reduce\n",
    "\n",
    "def custom_power(lst):\n",
    "\n",
    "    def power(x, y):\n",
    "        return x ** y\n",
    "\n",
    "    return reduce(lambda x, y: power(y, x), reversed(lst))\n",
    "\n",
    "numbers = [2, 3, 4]\n",
    "result = custom_power(numbers)\n",
    "print(result) \n"
   ]
  },
  {
   "cell_type": "code",
   "execution_count": null,
   "id": "13324cdc",
   "metadata": {},
   "outputs": [],
   "source": []
  }
 ],
 "metadata": {
  "kernelspec": {
   "display_name": "Python 3 (ipykernel)",
   "language": "python",
   "name": "python3"
  },
  "language_info": {
   "codemirror_mode": {
    "name": "ipython",
    "version": 3
   },
   "file_extension": ".py",
   "mimetype": "text/x-python",
   "name": "python",
   "nbconvert_exporter": "python",
   "pygments_lexer": "ipython3",
   "version": "3.9.13"
  }
 },
 "nbformat": 4,
 "nbformat_minor": 5
}
