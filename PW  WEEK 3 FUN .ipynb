{
 "cells": [
  {
   "cell_type": "markdown",
   "id": "f25c4805",
   "metadata": {},
   "source": [
    "# FUNCTIONS"
   ]
  },
  {
   "cell_type": "markdown",
   "id": "28c460b6",
   "metadata": {},
   "source": [
    "USER DEFINED FUNCTIONS"
   ]
  },
  {
   "cell_type": "code",
   "execution_count": 1,
   "id": "888059a6",
   "metadata": {},
   "outputs": [],
   "source": [
    "def test():\n",
    "    print(\"This is my first function\")"
   ]
  },
  {
   "cell_type": "code",
   "execution_count": 2,
   "id": "2c479d1b",
   "metadata": {},
   "outputs": [
    {
     "name": "stdout",
     "output_type": "stream",
     "text": [
      "This is my first function\n"
     ]
    }
   ],
   "source": [
    "test()"
   ]
  },
  {
   "cell_type": "code",
   "execution_count": 3,
   "id": "cd681367",
   "metadata": {},
   "outputs": [],
   "source": [
    "def test2():\n",
    "    return \"This is my first return\""
   ]
  },
  {
   "cell_type": "code",
   "execution_count": 4,
   "id": "285d08c0",
   "metadata": {},
   "outputs": [
    {
     "data": {
      "text/plain": [
       "'This is my first return'"
      ]
     },
     "execution_count": 4,
     "metadata": {},
     "output_type": "execute_result"
    }
   ],
   "source": [
    "test2()"
   ]
  },
  {
   "cell_type": "code",
   "execution_count": 5,
   "id": "d42720e2",
   "metadata": {},
   "outputs": [
    {
     "data": {
      "text/plain": [
       "'This is my first return ITS OK'"
      ]
     },
     "execution_count": 5,
     "metadata": {},
     "output_type": "execute_result"
    }
   ],
   "source": [
    "test2() + \" ITS OK\""
   ]
  },
  {
   "cell_type": "code",
   "execution_count": 7,
   "id": "e3abac5b",
   "metadata": {},
   "outputs": [],
   "source": [
    "def test3():\n",
    "    return (2,3,\"mk\",67.77,True)"
   ]
  },
  {
   "cell_type": "code",
   "execution_count": 8,
   "id": "229b955f",
   "metadata": {},
   "outputs": [
    {
     "data": {
      "text/plain": [
       "(2, 3, 'mk', 67.77, True)"
      ]
     },
     "execution_count": 8,
     "metadata": {},
     "output_type": "execute_result"
    }
   ],
   "source": [
    "test3()"
   ]
  },
  {
   "cell_type": "code",
   "execution_count": 10,
   "id": "a4e8e54a",
   "metadata": {},
   "outputs": [],
   "source": [
    "a,b,c,d,e = test3()"
   ]
  },
  {
   "cell_type": "code",
   "execution_count": 12,
   "id": "8cdbb34c",
   "metadata": {},
   "outputs": [
    {
     "data": {
      "text/plain": [
       "2"
      ]
     },
     "execution_count": 12,
     "metadata": {},
     "output_type": "execute_result"
    }
   ],
   "source": [
    "a"
   ]
  },
  {
   "cell_type": "code",
   "execution_count": 13,
   "id": "1fc4fee4",
   "metadata": {},
   "outputs": [
    {
     "data": {
      "text/plain": [
       "'mk'"
      ]
     },
     "execution_count": 13,
     "metadata": {},
     "output_type": "execute_result"
    }
   ],
   "source": [
    "c"
   ]
  },
  {
   "cell_type": "code",
   "execution_count": 14,
   "id": "e0307564",
   "metadata": {},
   "outputs": [
    {
     "data": {
      "text/plain": [
       "True"
      ]
     },
     "execution_count": 14,
     "metadata": {},
     "output_type": "execute_result"
    }
   ],
   "source": [
    "e"
   ]
  },
  {
   "cell_type": "code",
   "execution_count": 16,
   "id": "4891a989",
   "metadata": {},
   "outputs": [],
   "source": [
    "a = 3\n",
    "b = 4\n",
    "\n",
    "a,b = 3,4\n",
    "\n",
    "# this both operations are same"
   ]
  },
  {
   "cell_type": "code",
   "execution_count": 17,
   "id": "a7c52f61",
   "metadata": {},
   "outputs": [],
   "source": [
    "def myfun():\n",
    "    a = 3+6*4\n",
    "    return a"
   ]
  },
  {
   "cell_type": "code",
   "execution_count": 18,
   "id": "3e2d3887",
   "metadata": {},
   "outputs": [
    {
     "data": {
      "text/plain": [
       "27"
      ]
     },
     "execution_count": 18,
     "metadata": {},
     "output_type": "execute_result"
    }
   ],
   "source": [
    "myfun()"
   ]
  },
  {
   "cell_type": "code",
   "execution_count": 19,
   "id": "be2006c4",
   "metadata": {},
   "outputs": [],
   "source": [
    "# Argument passing\n",
    "\n",
    "def myarg(a,b,c):\n",
    "    d = a+b/c\n",
    "    return d"
   ]
  },
  {
   "cell_type": "code",
   "execution_count": 21,
   "id": "601dafdd",
   "metadata": {},
   "outputs": [
    {
     "data": {
      "text/plain": [
       "5.0"
      ]
     },
     "execution_count": 21,
     "metadata": {},
     "output_type": "execute_result"
    }
   ],
   "source": [
    "myarg(3,14,7)"
   ]
  },
  {
   "cell_type": "code",
   "execution_count": 24,
   "id": "747d10eb",
   "metadata": {},
   "outputs": [],
   "source": [
    "def fun(a,b):\n",
    "    return a+b"
   ]
  },
  {
   "cell_type": "code",
   "execution_count": 25,
   "id": "4a99266c",
   "metadata": {},
   "outputs": [
    {
     "data": {
      "text/plain": [
       "8"
      ]
     },
     "execution_count": 25,
     "metadata": {},
     "output_type": "execute_result"
    }
   ],
   "source": [
    "fun(3,5)"
   ]
  },
  {
   "cell_type": "code",
   "execution_count": 28,
   "id": "c859321c",
   "metadata": {},
   "outputs": [
    {
     "data": {
      "text/plain": [
       "'shubh mangal'"
      ]
     },
     "execution_count": 28,
     "metadata": {},
     "output_type": "execute_result"
    }
   ],
   "source": [
    "fun(\"shubh\",\" mangal\")"
   ]
  },
  {
   "cell_type": "code",
   "execution_count": 27,
   "id": "07a2e080",
   "metadata": {},
   "outputs": [
    {
     "data": {
      "text/plain": [
       "[3, 5, 6, 4, 7, 8]"
      ]
     },
     "execution_count": 27,
     "metadata": {},
     "output_type": "execute_result"
    }
   ],
   "source": [
    "fun([3,5,6],[4,7,8])"
   ]
  },
  {
   "cell_type": "code",
   "execution_count": 41,
   "id": "45e40116",
   "metadata": {},
   "outputs": [],
   "source": [
    "l = [1,2,3,45,\"sudh\",\"my\",[56,56,7,78]]"
   ]
  },
  {
   "cell_type": "code",
   "execution_count": 42,
   "id": "8f7e5d4a",
   "metadata": {},
   "outputs": [],
   "source": [
    "def inte(l):\n",
    "    l1 = []\n",
    "    for i in l :\n",
    "        if type(i)== int or type(i)==float :\n",
    "            l1.append(i)\n",
    "    return l1"
   ]
  },
  {
   "cell_type": "code",
   "execution_count": 43,
   "id": "f5eaecda",
   "metadata": {},
   "outputs": [
    {
     "data": {
      "text/plain": [
       "[1, 2, 3, 45]"
      ]
     },
     "execution_count": 43,
     "metadata": {},
     "output_type": "execute_result"
    }
   ],
   "source": [
    "inte(l)"
   ]
  },
  {
   "cell_type": "code",
   "execution_count": 44,
   "id": "18effc9a",
   "metadata": {},
   "outputs": [],
   "source": [
    "# Taking int out from the list with function \n",
    "\n",
    "def inte(a):\n",
    "    l2 = []\n",
    "    for i in a :\n",
    "        if type(i)== int or type(i)==float :\n",
    "            l2.append(i)\n",
    "        elif type(i)==list :\n",
    "            for j in i :\n",
    "                l2.append(j)\n",
    "    return l2"
   ]
  },
  {
   "cell_type": "code",
   "execution_count": 45,
   "id": "a4f5f526",
   "metadata": {},
   "outputs": [
    {
     "data": {
      "text/plain": [
       "[1, 2, 3, 45, 56, 56, 7, 78]"
      ]
     },
     "execution_count": 45,
     "metadata": {},
     "output_type": "execute_result"
    }
   ],
   "source": [
    "inte(l)"
   ]
  },
  {
   "cell_type": "markdown",
   "id": "defbd1c8",
   "metadata": {},
   "source": [
    "MAKING DOCSTRING"
   ]
  },
  {
   "cell_type": "code",
   "execution_count": 46,
   "id": "c167a857",
   "metadata": {},
   "outputs": [],
   "source": [
    "# Making docstring in the function \n",
    "\n",
    "def extr(a):\n",
    "    \"\"\"This is function to extract integers from the list\"\"\"\n",
    "    l2 = []\n",
    "    for i in a :\n",
    "        if type(i)== int or type(i)==float :\n",
    "            l2.append(i)\n",
    "        elif type(i)==list :\n",
    "            for j in i :\n",
    "                l2.append(j)\n",
    "    return l2"
   ]
  },
  {
   "cell_type": "code",
   "execution_count": null,
   "id": "8db723de",
   "metadata": {},
   "outputs": [],
   "source": [
    "extr()"
   ]
  },
  {
   "cell_type": "markdown",
   "id": "4e61c0f9",
   "metadata": {},
   "source": [
    "WHEN WE HAVE TO TAKE MULTIPLE ARGUMENTS THEN WE CAN USE * SYMBOL IN \n",
    "ARGUMENTS "
   ]
  },
  {
   "cell_type": "code",
   "execution_count": 47,
   "id": "088380cd",
   "metadata": {},
   "outputs": [],
   "source": [
    "def mult(*a):\n",
    "    return a"
   ]
  },
  {
   "cell_type": "code",
   "execution_count": 49,
   "id": "ba118d9a",
   "metadata": {},
   "outputs": [
    {
     "data": {
      "text/plain": [
       "(2, 46, 'oudgguso')"
      ]
     },
     "execution_count": 49,
     "metadata": {},
     "output_type": "execute_result"
    }
   ],
   "source": [
    "mult(2,46,\"oudgguso\")\n",
    "\n",
    "# It stores the arguments passed in the form of tuple"
   ]
  },
  {
   "cell_type": "code",
   "execution_count": 50,
   "id": "350d9486",
   "metadata": {},
   "outputs": [],
   "source": [
    "def mult(*a,b):\n",
    "    return a , b"
   ]
  },
  {
   "cell_type": "code",
   "execution_count": 51,
   "id": "eb817a35",
   "metadata": {},
   "outputs": [
    {
     "data": {
      "text/plain": [
       "((2, 3, 4, 5), 56)"
      ]
     },
     "execution_count": 51,
     "metadata": {},
     "output_type": "execute_result"
    }
   ],
   "source": [
    "mult(2,3,4,5, b = 56)"
   ]
  },
  {
   "cell_type": "markdown",
   "id": "2d4cce88",
   "metadata": {},
   "source": [
    "IMP"
   ]
  },
  {
   "cell_type": "code",
   "execution_count": 52,
   "id": "35d7ad5c",
   "metadata": {},
   "outputs": [],
   "source": [
    "\n",
    "def lafda(a,b,c = 56,d = 67):\n",
    "    return a,b,c,d"
   ]
  },
  {
   "cell_type": "code",
   "execution_count": 53,
   "id": "5f4bfc98",
   "metadata": {},
   "outputs": [
    {
     "data": {
      "text/plain": [
       "(90, 40, 56, 67)"
      ]
     },
     "execution_count": 53,
     "metadata": {},
     "output_type": "execute_result"
    }
   ],
   "source": [
    "lafda(90,40)"
   ]
  },
  {
   "cell_type": "code",
   "execution_count": 55,
   "id": "3dee0ae8",
   "metadata": {},
   "outputs": [],
   "source": [
    "# In this case if we want to the value of default argument \n",
    "# we can overwrite that value "
   ]
  },
  {
   "cell_type": "code",
   "execution_count": 56,
   "id": "bfc8f473",
   "metadata": {},
   "outputs": [
    {
     "data": {
      "text/plain": [
       "(90, 80, 34, 67)"
      ]
     },
     "execution_count": 56,
     "metadata": {},
     "output_type": "execute_result"
    }
   ],
   "source": [
    "lafda(90,80,c = 34)"
   ]
  },
  {
   "cell_type": "markdown",
   "id": "e143276f",
   "metadata": {},
   "source": [
    "KEYWORD ARGS (**)"
   ]
  },
  {
   "cell_type": "code",
   "execution_count": 65,
   "id": "078d754f",
   "metadata": {},
   "outputs": [],
   "source": [
    "# This is basically used for dictonaryy\n",
    "# This is defind wih the help of ** \n",
    "# This is used to take key value pair as an arguments\n",
    "# Unlimited args"
   ]
  },
  {
   "cell_type": "code",
   "execution_count": 58,
   "id": "b16e6df6",
   "metadata": {},
   "outputs": [],
   "source": [
    "def kwarg(**a):\n",
    "    return a"
   ]
  },
  {
   "cell_type": "code",
   "execution_count": 59,
   "id": "de42e75a",
   "metadata": {},
   "outputs": [
    {
     "data": {
      "text/plain": [
       "{}"
      ]
     },
     "execution_count": 59,
     "metadata": {},
     "output_type": "execute_result"
    }
   ],
   "source": [
    "kwarg()"
   ]
  },
  {
   "cell_type": "code",
   "execution_count": 61,
   "id": "b91319bc",
   "metadata": {},
   "outputs": [
    {
     "data": {
      "text/plain": [
       "dict"
      ]
     },
     "execution_count": 61,
     "metadata": {},
     "output_type": "execute_result"
    }
   ],
   "source": [
    "type(kwarg())"
   ]
  },
  {
   "cell_type": "code",
   "execution_count": 64,
   "id": "685f9fb2",
   "metadata": {},
   "outputs": [
    {
     "data": {
      "text/plain": [
       "{'a': [3, 4], 'b': 'sudh', 'c': 67.78}"
      ]
     },
     "execution_count": 64,
     "metadata": {},
     "output_type": "execute_result"
    }
   ],
   "source": [
    "kwarg(a = [3,4], b = \"sudh\",c = 67.78)"
   ]
  },
  {
   "cell_type": "code",
   "execution_count": 36,
   "id": "0e376bd5",
   "metadata": {},
   "outputs": [],
   "source": [
    "l = [4,5,6,7,8]"
   ]
  },
  {
   "cell_type": "code",
   "execution_count": 39,
   "id": "ac150e73",
   "metadata": {},
   "outputs": [],
   "source": [
    "def sqr(l):\n",
    "    l1=[]\n",
    "    for i in l :\n",
    "        l1.append(i**2)\n",
    "    return l1"
   ]
  },
  {
   "cell_type": "code",
   "execution_count": 41,
   "id": "dbffae6d",
   "metadata": {},
   "outputs": [
    {
     "data": {
      "text/plain": [
       "[16, 25, 36, 49, 64]"
      ]
     },
     "execution_count": 41,
     "metadata": {},
     "output_type": "execute_result"
    }
   ],
   "source": [
    "sqr(l)"
   ]
  },
  {
   "cell_type": "markdown",
   "id": "28448104",
   "metadata": {},
   "source": [
    "# GENERATOR FUNCTION"
   ]
  },
  {
   "cell_type": "code",
   "execution_count": 7,
   "id": "c8ce04dc",
   "metadata": {},
   "outputs": [],
   "source": [
    "# In this we used a function named yield\n",
    "# yield passes the data to the function with the updated values \n",
    "# such as in this function the fib series \n",
    "# here first a contain 0 then 1 then 1 then 2 then 3 like that"
   ]
  },
  {
   "cell_type": "markdown",
   "id": "e790834d",
   "metadata": {},
   "source": [
    "WHEREVER WE USE YIELD THAT WILL BE IDENTIFIED AS GENERATED FUNCTION\n",
    "AND RANGE FUNCTION IS BY DEFAULT A GENERATED FUNCTION"
   ]
  },
  {
   "cell_type": "code",
   "execution_count": 5,
   "id": "d53e6f97",
   "metadata": {},
   "outputs": [],
   "source": [
    "# PRINTING FIB SERIES USING GENERATOR FUNCTION\n",
    "\n",
    "def testfib(n):\n",
    "    a,b = 0,1\n",
    "    for i in range (n):\n",
    "        yield a\n",
    "        a,b = b, a+b"
   ]
  },
  {
   "cell_type": "code",
   "execution_count": 6,
   "id": "b6381860",
   "metadata": {},
   "outputs": [
    {
     "name": "stdout",
     "output_type": "stream",
     "text": [
      "0\n",
      "1\n",
      "1\n",
      "2\n",
      "3\n",
      "5\n",
      "8\n",
      "13\n",
      "21\n",
      "34\n"
     ]
    }
   ],
   "source": [
    "for i in testfib(10):\n",
    "    print(i)"
   ]
  },
  {
   "cell_type": "markdown",
   "id": "0880de0c",
   "metadata": {},
   "source": [
    "USING WHILE LOOP"
   ]
  },
  {
   "cell_type": "code",
   "execution_count": 12,
   "id": "b6d3be98",
   "metadata": {},
   "outputs": [],
   "source": [
    "def testfib():\n",
    "    a,b = 0,1\n",
    "    while True:\n",
    "        yield a\n",
    "        a,b = b, a+b"
   ]
  },
  {
   "cell_type": "code",
   "execution_count": 13,
   "id": "f3c2cdb9",
   "metadata": {},
   "outputs": [],
   "source": [
    "fib = testfib()"
   ]
  },
  {
   "cell_type": "code",
   "execution_count": 14,
   "id": "5fbc6dc0",
   "metadata": {},
   "outputs": [
    {
     "name": "stdout",
     "output_type": "stream",
     "text": [
      "0\n",
      "1\n",
      "1\n",
      "2\n",
      "3\n",
      "5\n",
      "8\n",
      "13\n",
      "21\n",
      "34\n"
     ]
    }
   ],
   "source": [
    "for i in range (10):\n",
    "    print(next(fib))"
   ]
  },
  {
   "cell_type": "markdown",
   "id": "18af4a3e",
   "metadata": {},
   "source": [
    "ONLY ITERABLES CAN BE CONVERTED INTO ITERATORS\n",
    "\n",
    "FOR LOOP FIRST CONVERTS THE DATA INTO ITERATOR THEN IT WILL DO NEXT NEXT\n",
    "\n",
    "iter(a)  THIS IS THE METHOD TO CONVERSION "
   ]
  },
  {
   "cell_type": "markdown",
   "id": "9394e3ca",
   "metadata": {},
   "source": [
    "ITERABLE - THE DATA WE CAN CONVERT INTO ITERATOR\n",
    "\n",
    "ITERATOR - WE CAN TRAVEL THE DATA THROUGH NEXT NEXT"
   ]
  },
  {
   "cell_type": "markdown",
   "id": "beaa7976",
   "metadata": {},
   "source": [
    "# LAMBDA FUNCTION"
   ]
  },
  {
   "cell_type": "code",
   "execution_count": 15,
   "id": "5a406a50",
   "metadata": {},
   "outputs": [],
   "source": [
    "def test(a,b):\n",
    "    return a**b"
   ]
  },
  {
   "cell_type": "code",
   "execution_count": 16,
   "id": "480e33b4",
   "metadata": {},
   "outputs": [
    {
     "data": {
      "text/plain": [
       "25"
      ]
     },
     "execution_count": 16,
     "metadata": {},
     "output_type": "execute_result"
    }
   ],
   "source": [
    "test(5,2)"
   ]
  },
  {
   "cell_type": "markdown",
   "id": "d214fddf",
   "metadata": {},
   "source": [
    "INSTEAD OF WRITING THIS TYPE OF FUNCTION WE CAN EASILY DO THIS WITH \n",
    "THE HELP OF LAMBDA FUNCTION \n",
    "\n",
    "THIS IS ALSO CALLED AS ONE LINE FUNCTION OR ANONYMOUS FUNCTION \n",
    "\n",
    "LET US SEE :-"
   ]
  },
  {
   "cell_type": "code",
   "execution_count": 18,
   "id": "977ab537",
   "metadata": {},
   "outputs": [],
   "source": [
    "a = lambda n,p : n**p"
   ]
  },
  {
   "cell_type": "markdown",
   "id": "1c4dc048",
   "metadata": {},
   "source": [
    "WE HAVE TO SAVE THIS IN VARIABLE LIKE WE DID \n",
    "WHEN WE WANT CALL THEN WE CAN CALL IT WITH THE HELP OF THAT VARIABLE NAME"
   ]
  },
  {
   "cell_type": "code",
   "execution_count": 20,
   "id": "b094301b",
   "metadata": {},
   "outputs": [
    {
     "data": {
      "text/plain": [
       "9"
      ]
     },
     "execution_count": 20,
     "metadata": {},
     "output_type": "execute_result"
    }
   ],
   "source": [
    "a(3,2) #CALLING"
   ]
  },
  {
   "cell_type": "code",
   "execution_count": 23,
   "id": "1d8a511d",
   "metadata": {},
   "outputs": [],
   "source": [
    "# ANOTHER EXAMPLE\n",
    "\n",
    "add = lambda x,y : x+y"
   ]
  },
  {
   "cell_type": "code",
   "execution_count": 24,
   "id": "ac1bea9e",
   "metadata": {},
   "outputs": [
    {
     "data": {
      "text/plain": [
       "7"
      ]
     },
     "execution_count": 24,
     "metadata": {},
     "output_type": "execute_result"
    }
   ],
   "source": [
    "add(3,4)"
   ]
  },
  {
   "cell_type": "code",
   "execution_count": 25,
   "id": "bc93228e",
   "metadata": {},
   "outputs": [],
   "source": [
    "#  CELCIUS TO FAR\n",
    "\n",
    "t = lambda c : (9/5)*c+32"
   ]
  },
  {
   "cell_type": "code",
   "execution_count": 26,
   "id": "ac8698c6",
   "metadata": {},
   "outputs": [
    {
     "data": {
      "text/plain": [
       "132.8"
      ]
     },
     "execution_count": 26,
     "metadata": {},
     "output_type": "execute_result"
    }
   ],
   "source": [
    "t(56)"
   ]
  },
  {
   "cell_type": "code",
   "execution_count": 27,
   "id": "823bd08d",
   "metadata": {},
   "outputs": [],
   "source": [
    "# FINDING MAX\n",
    "\n",
    "m = lambda x,y : x if x>y else y"
   ]
  },
  {
   "cell_type": "code",
   "execution_count": 28,
   "id": "300ef186",
   "metadata": {},
   "outputs": [
    {
     "data": {
      "text/plain": [
       "4"
      ]
     },
     "execution_count": 28,
     "metadata": {},
     "output_type": "execute_result"
    }
   ],
   "source": [
    "m(3,4)"
   ]
  },
  {
   "cell_type": "code",
   "execution_count": 33,
   "id": "caa86b1d",
   "metadata": {},
   "outputs": [],
   "source": [
    "# FINDING LEN OF THE STRING\n",
    "leng = lambda s : len(s)"
   ]
  },
  {
   "cell_type": "code",
   "execution_count": 34,
   "id": "562a7723",
   "metadata": {},
   "outputs": [],
   "source": [
    "p = \"lambda fun\""
   ]
  },
  {
   "cell_type": "code",
   "execution_count": 35,
   "id": "e5051692",
   "metadata": {},
   "outputs": [
    {
     "data": {
      "text/plain": [
       "10"
      ]
     },
     "execution_count": 35,
     "metadata": {},
     "output_type": "execute_result"
    }
   ],
   "source": [
    "leng(p)"
   ]
  },
  {
   "cell_type": "markdown",
   "id": "5c40db72",
   "metadata": {},
   "source": [
    "#  MAP REDUCE AND FILTER FUNCTION"
   ]
  },
  {
   "cell_type": "markdown",
   "id": "e41608a1",
   "metadata": {},
   "source": [
    "# MAP"
   ]
  },
  {
   "cell_type": "code",
   "execution_count": 42,
   "id": "8c8739c6",
   "metadata": {},
   "outputs": [],
   "source": [
    "l = [4,5,6,7,8]"
   ]
  },
  {
   "cell_type": "code",
   "execution_count": 48,
   "id": "0d6b9cd9",
   "metadata": {},
   "outputs": [],
   "source": [
    "def sq(x):\n",
    "    return x**2"
   ]
  },
  {
   "cell_type": "code",
   "execution_count": 49,
   "id": "3963f5ce",
   "metadata": {},
   "outputs": [
    {
     "data": {
      "text/plain": [
       "[16, 25, 36, 49, 64]"
      ]
     },
     "execution_count": 49,
     "metadata": {},
     "output_type": "execute_result"
    }
   ],
   "source": [
    "list(map(sq,l))"
   ]
  },
  {
   "cell_type": "markdown",
   "id": "1768b172",
   "metadata": {},
   "source": [
    "WE CAN ALSO WRITE THIS WITH THE HELP OF LAMBDA FUNCTION"
   ]
  },
  {
   "cell_type": "code",
   "execution_count": 50,
   "id": "d293a4bb",
   "metadata": {},
   "outputs": [
    {
     "data": {
      "text/plain": [
       "[16, 25, 36, 49, 64]"
      ]
     },
     "execution_count": 50,
     "metadata": {},
     "output_type": "execute_result"
    }
   ],
   "source": [
    "list(map(lambda x : x**2,l))"
   ]
  },
  {
   "cell_type": "code",
   "execution_count": 51,
   "id": "df6e0cee",
   "metadata": {},
   "outputs": [
    {
     "data": {
      "text/plain": [
       "[74, 60, 90, 51, 42]"
      ]
     },
     "execution_count": 51,
     "metadata": {},
     "output_type": "execute_result"
    }
   ],
   "source": [
    "l1 = [41,5,26,17,8]\n",
    "l2 = [33,55,64,34,34]\n",
    "\n",
    "list(map(lambda x,y : x+y, l1 , l2))"
   ]
  },
  {
   "cell_type": "code",
   "execution_count": 53,
   "id": "652944ef",
   "metadata": {},
   "outputs": [
    {
     "data": {
      "text/plain": [
       "['A', 'V', 'I', 'N', ' ', 'S', 'H', 'A', 'I', 'K', 'H']"
      ]
     },
     "execution_count": 53,
     "metadata": {},
     "output_type": "execute_result"
    }
   ],
   "source": [
    "a = \"avin shaikh\"\n",
    "\n",
    "list(map(lambda x : x.upper(), a))"
   ]
  },
  {
   "cell_type": "markdown",
   "id": "beaa2f83",
   "metadata": {},
   "source": [
    "# REDUCE"
   ]
  },
  {
   "cell_type": "markdown",
   "id": "913c361b",
   "metadata": {},
   "source": [
    "THIS IS ALSO A MAPPER TYPE FUNCTION WHICH WORKS TOTAL ITERABLES \n",
    "BUT IT IS NOT AVAILABLE BY DEFAULT WE HAVE TO CALL THAT FUNCTION\n",
    "FROM THE LIBRARY"
   ]
  },
  {
   "cell_type": "code",
   "execution_count": 54,
   "id": "07fe88b1",
   "metadata": {},
   "outputs": [],
   "source": [
    "from functools import reduce"
   ]
  },
  {
   "cell_type": "code",
   "execution_count": 56,
   "id": "bd84ef81",
   "metadata": {},
   "outputs": [],
   "source": [
    "l = [ 2,1,4,5,6,7]"
   ]
  },
  {
   "cell_type": "code",
   "execution_count": 58,
   "id": "8beff98b",
   "metadata": {},
   "outputs": [
    {
     "data": {
      "text/plain": [
       "25"
      ]
     },
     "execution_count": 58,
     "metadata": {},
     "output_type": "execute_result"
    }
   ],
   "source": [
    "reduce(lambda x,y : x+y , l) #SUM"
   ]
  },
  {
   "cell_type": "markdown",
   "id": "d63ed81c",
   "metadata": {},
   "source": [
    "ONLY WE CAN ASSIGN TWO PARAMETERS IN THIS NOT MORE THAN TWO \n",
    "\n",
    "THIS IS MAINLY USED FOR ARITHMETIC OPERATIONS"
   ]
  },
  {
   "cell_type": "code",
   "execution_count": 62,
   "id": "cbfb3af4",
   "metadata": {},
   "outputs": [
    {
     "data": {
      "text/plain": [
       "1680"
      ]
     },
     "execution_count": 62,
     "metadata": {},
     "output_type": "execute_result"
    }
   ],
   "source": [
    "reduce(lambda x,y : x*y , l) # SUM OF MULTIPLICATION"
   ]
  },
  {
   "cell_type": "code",
   "execution_count": 63,
   "id": "2a5f9070",
   "metadata": {},
   "outputs": [
    {
     "data": {
      "text/plain": [
       "7"
      ]
     },
     "execution_count": 63,
     "metadata": {},
     "output_type": "execute_result"
    }
   ],
   "source": [
    "reduce(lambda x,y : x if x>y else y , l) # GREATER"
   ]
  },
  {
   "cell_type": "markdown",
   "id": "ac039255",
   "metadata": {},
   "source": [
    "# FILTER"
   ]
  },
  {
   "cell_type": "code",
   "execution_count": 64,
   "id": "17653734",
   "metadata": {},
   "outputs": [],
   "source": [
    "l = [ 2,1,4,5,6,7]"
   ]
  },
  {
   "cell_type": "code",
   "execution_count": 65,
   "id": "bc58ad23",
   "metadata": {},
   "outputs": [
    {
     "data": {
      "text/plain": [
       "[2, 4, 6]"
      ]
     },
     "execution_count": 65,
     "metadata": {},
     "output_type": "execute_result"
    }
   ],
   "source": [
    "list(filter(lambda x : x%2 == 0 , l))"
   ]
  },
  {
   "cell_type": "code",
   "execution_count": 66,
   "id": "29c165b7",
   "metadata": {},
   "outputs": [
    {
     "data": {
      "text/plain": [
       "[1, 5, 7]"
      ]
     },
     "execution_count": 66,
     "metadata": {},
     "output_type": "execute_result"
    }
   ],
   "source": [
    "list(filter(lambda x : x%2 != 0 , l))"
   ]
  },
  {
   "cell_type": "code",
   "execution_count": 68,
   "id": "0f8ad434",
   "metadata": {},
   "outputs": [],
   "source": [
    "l = [\"abc\",\"ad\",\"gfg\"]"
   ]
  },
  {
   "cell_type": "code",
   "execution_count": 69,
   "id": "2985cb65",
   "metadata": {},
   "outputs": [
    {
     "data": {
      "text/plain": [
       "['abc', 'gfg']"
      ]
     },
     "execution_count": 69,
     "metadata": {},
     "output_type": "execute_result"
    }
   ],
   "source": [
    "list(filter(lambda x : len(x)>2 , l))"
   ]
  },
  {
   "cell_type": "code",
   "execution_count": null,
   "id": "9d568ec9",
   "metadata": {},
   "outputs": [],
   "source": []
  }
 ],
 "metadata": {
  "kernelspec": {
   "display_name": "Python 3 (ipykernel)",
   "language": "python",
   "name": "python3"
  },
  "language_info": {
   "codemirror_mode": {
    "name": "ipython",
    "version": 3
   },
   "file_extension": ".py",
   "mimetype": "text/x-python",
   "name": "python",
   "nbconvert_exporter": "python",
   "pygments_lexer": "ipython3",
   "version": "3.9.13"
  }
 },
 "nbformat": 4,
 "nbformat_minor": 5
}
