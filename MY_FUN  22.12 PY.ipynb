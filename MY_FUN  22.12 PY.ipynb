{
 "cells": [
  {
   "cell_type": "code",
   "execution_count": null,
   "id": "9eda4f59",
   "metadata": {},
   "outputs": [
    {
     "name": "stdout",
     "output_type": "stream",
     "text": [
      "1.Addition : \n",
      "\n",
      "2.Substraction : \n",
      "\n",
      "3.Multiply : \n",
      "\n",
      "4.Division : \n",
      "\n",
      "Enter your choice :1\n",
      "Enter first number5\n",
      "Enter second number7\n",
      "12\n",
      "1.Addition : \n",
      "\n",
      "2.Substraction : \n",
      "\n",
      "3.Multiply : \n",
      "\n",
      "4.Division : \n",
      "\n"
     ]
    }
   ],
   "source": [
    "def my_fun():\n",
    "    print(\"1.Addition : \\n\")\n",
    "    print(\"2.Substraction : \\n\")\n",
    "    print(\"3.Multiply : \\n\")\n",
    "    print(\"4.Division : \\n\")\n",
    "    choice = input (\"Enter your choice :\")\n",
    "    if choice ==\"1\":\n",
    "\n",
    "        a=int(input(\"Enter first number\"))\n",
    "        b=int(input(\"Enter second number\"))\n",
    "        print(a+b)\n",
    "    elif choice == \"2\":\n",
    "        a=int(input(\"Enter first number\"))\n",
    "        b=int(input(\"Enter second number\"))\n",
    "        print(a-b)\n",
    "    elif choice ==\"3\":\n",
    "        a=int(input(\"Enter first number\"))\n",
    "        b=int(input(\"Enter second number\"))\n",
    "        print(a*b)\n",
    "    elif choice ==\"4\":\n",
    "        a=int(input(\"Enter first number\"))\n",
    "        b=int(input(\"Enter second number\"))    \n",
    "        print(a/b)\n",
    "    else:\n",
    "        print(\"Wrong choice\")\n",
    "for i in range(1,5,1):\n",
    "    my_fun()\n",
    "    \n",
    "    "
   ]
  },
  {
   "cell_type": "markdown",
   "id": "2d2f9fe3",
   "metadata": {},
   "source": [
    " "
   ]
  }
 ],
 "metadata": {
  "kernelspec": {
   "display_name": "Python 3 (ipykernel)",
   "language": "python",
   "name": "python3"
  },
  "language_info": {
   "codemirror_mode": {
    "name": "ipython",
    "version": 3
   },
   "file_extension": ".py",
   "mimetype": "text/x-python",
   "name": "python",
   "nbconvert_exporter": "python",
   "pygments_lexer": "ipython3",
   "version": "3.9.13"
  }
 },
 "nbformat": 4,
 "nbformat_minor": 5
}
