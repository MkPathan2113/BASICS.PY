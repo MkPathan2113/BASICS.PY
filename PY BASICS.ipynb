{
 "cells": [
  {
   "cell_type": "markdown",
   "id": "dfbb89a9",
   "metadata": {},
   "source": [
    "# PW SKILLS "
   ]
  },
  {
   "cell_type": "code",
   "execution_count": 1,
   "id": "24acd548",
   "metadata": {},
   "outputs": [],
   "source": [
    "s = \"pwskills\""
   ]
  },
  {
   "cell_type": "code",
   "execution_count": 2,
   "id": "d40d8548",
   "metadata": {},
   "outputs": [
    {
     "data": {
      "text/plain": [
       "'sllikswp'"
      ]
     },
     "execution_count": 2,
     "metadata": {},
     "output_type": "execute_result"
    }
   ],
   "source": [
    "s[::-1]"
   ]
  },
  {
   "cell_type": "code",
   "execution_count": 3,
   "id": "180c62f4",
   "metadata": {},
   "outputs": [
    {
     "data": {
      "text/plain": [
       "''"
      ]
     },
     "execution_count": 3,
     "metadata": {},
     "output_type": "execute_result"
    }
   ],
   "source": [
    "s[:-90:]"
   ]
  },
  {
   "cell_type": "code",
   "execution_count": 4,
   "id": "86ec65bd",
   "metadata": {},
   "outputs": [
    {
     "data": {
      "text/plain": [
       "'sllikswp'"
      ]
     },
     "execution_count": 4,
     "metadata": {},
     "output_type": "execute_result"
    }
   ],
   "source": [
    "s[:-90:-1]"
   ]
  },
  {
   "cell_type": "markdown",
   "id": "d2cd2122",
   "metadata": {},
   "source": [
    "# COMPLEX"
   ]
  },
  {
   "cell_type": "code",
   "execution_count": 5,
   "id": "2c547de5",
   "metadata": {},
   "outputs": [],
   "source": [
    "p = 5+8j"
   ]
  },
  {
   "cell_type": "code",
   "execution_count": 6,
   "id": "47c05409",
   "metadata": {},
   "outputs": [
    {
     "data": {
      "text/plain": [
       "8.0"
      ]
     },
     "execution_count": 6,
     "metadata": {},
     "output_type": "execute_result"
    }
   ],
   "source": [
    "p.imag"
   ]
  },
  {
   "cell_type": "code",
   "execution_count": 7,
   "id": "aa7473bc",
   "metadata": {},
   "outputs": [
    {
     "data": {
      "text/plain": [
       "5.0"
      ]
     },
     "execution_count": 7,
     "metadata": {},
     "output_type": "execute_result"
    }
   ],
   "source": [
    "p.real"
   ]
  },
  {
   "cell_type": "markdown",
   "id": "f50eebe3",
   "metadata": {},
   "source": [
    "# STRING"
   ]
  },
  {
   "cell_type": "code",
   "execution_count": null,
   "id": "e59cdca6",
   "metadata": {},
   "outputs": [],
   "source": [
    "s1 =\"This is my string class\""
   ]
  },
  {
   "cell_type": "code",
   "execution_count": 9,
   "id": "b571e673",
   "metadata": {},
   "outputs": [
    {
     "data": {
      "text/plain": [
       "23"
      ]
     },
     "execution_count": 9,
     "metadata": {},
     "output_type": "execute_result"
    }
   ],
   "source": [
    "len(s1)"
   ]
  },
  {
   "cell_type": "code",
   "execution_count": 12,
   "id": "8d427638",
   "metadata": {},
   "outputs": [
    {
     "data": {
      "text/plain": [
       "3"
      ]
     },
     "execution_count": 12,
     "metadata": {},
     "output_type": "execute_result"
    }
   ],
   "source": [
    "s1.find(\"s\")\n",
    "# Gives index of first occurance and input should be in double quotes \n",
    "# shift and tap defines all of the methods like find"
   ]
  },
  {
   "cell_type": "code",
   "execution_count": 13,
   "id": "e9f82640",
   "metadata": {},
   "outputs": [],
   "source": [
    "#In case if find is unable to find something then it will not give error\n",
    "#it will return -1"
   ]
  },
  {
   "cell_type": "code",
   "execution_count": 15,
   "id": "9d00ffd7",
   "metadata": {},
   "outputs": [
    {
     "data": {
      "text/plain": [
       "5"
      ]
     },
     "execution_count": 15,
     "metadata": {},
     "output_type": "execute_result"
    }
   ],
   "source": [
    "s1.count(\"s\")"
   ]
  },
  {
   "cell_type": "code",
   "execution_count": 16,
   "id": "6095b34d",
   "metadata": {},
   "outputs": [
    {
     "data": {
      "text/plain": [
       "'THIS IS MY STRING CLASS'"
      ]
     },
     "execution_count": 16,
     "metadata": {},
     "output_type": "execute_result"
    }
   ],
   "source": [
    "# FOR UPPERCASE \n",
    "s1.upper()"
   ]
  },
  {
   "cell_type": "code",
   "execution_count": 17,
   "id": "e33c6ec6",
   "metadata": {},
   "outputs": [
    {
     "data": {
      "text/plain": [
       "'this is my string class'"
      ]
     },
     "execution_count": 17,
     "metadata": {},
     "output_type": "execute_result"
    }
   ],
   "source": [
    "# FOR LOWERCASE\n",
    "s1.lower()"
   ]
  },
  {
   "cell_type": "code",
   "execution_count": 18,
   "id": "4cacec7c",
   "metadata": {},
   "outputs": [
    {
     "data": {
      "text/plain": [
       "'This Is My String Class'"
      ]
     },
     "execution_count": 18,
     "metadata": {},
     "output_type": "execute_result"
    }
   ],
   "source": [
    "s1.title()"
   ]
  },
  {
   "cell_type": "code",
   "execution_count": 19,
   "id": "310c34d5",
   "metadata": {},
   "outputs": [
    {
     "data": {
      "text/plain": [
       "'This is my string class'"
      ]
     },
     "execution_count": 19,
     "metadata": {},
     "output_type": "execute_result"
    }
   ],
   "source": [
    "s1.capitalize()"
   ]
  },
  {
   "cell_type": "code",
   "execution_count": 23,
   "id": "203e2d5f",
   "metadata": {},
   "outputs": [],
   "source": [
    "a = \" of PWSKILLS.\""
   ]
  },
  {
   "cell_type": "code",
   "execution_count": 24,
   "id": "fb7362f2",
   "metadata": {},
   "outputs": [
    {
     "data": {
      "text/plain": [
       "'This is my string class of PWSKILLS.'"
      ]
     },
     "execution_count": 24,
     "metadata": {},
     "output_type": "execute_result"
    }
   ],
   "source": [
    "s1+a"
   ]
  },
  {
   "cell_type": "code",
   "execution_count": 22,
   "id": "e0628a3b",
   "metadata": {},
   "outputs": [],
   "source": [
    "# This is my first class of programming"
   ]
  },
  {
   "cell_type": "markdown",
   "id": "cd7640f1",
   "metadata": {},
   "source": [
    "# LISTS"
   ]
  },
  {
   "cell_type": "code",
   "execution_count": 26,
   "id": "4d6754a5",
   "metadata": {},
   "outputs": [
    {
     "name": "stdout",
     "output_type": "stream",
     "text": [
      "[1, 45, 345, 'sudh', (4+5j), 445.55]\n"
     ]
    }
   ],
   "source": [
    "l = [1,45,345,\"sudh\",4+5j,445.55]\n",
    "print(l)"
   ]
  },
  {
   "cell_type": "code",
   "execution_count": 27,
   "id": "34a3185e",
   "metadata": {},
   "outputs": [
    {
     "data": {
      "text/plain": [
       "list"
      ]
     },
     "execution_count": 27,
     "metadata": {},
     "output_type": "execute_result"
    }
   ],
   "source": [
    "type(l)"
   ]
  },
  {
   "cell_type": "code",
   "execution_count": 28,
   "id": "ee9c5e73",
   "metadata": {},
   "outputs": [
    {
     "data": {
      "text/plain": [
       "45"
      ]
     },
     "execution_count": 28,
     "metadata": {},
     "output_type": "execute_result"
    }
   ],
   "source": [
    "l[1]"
   ]
  },
  {
   "cell_type": "code",
   "execution_count": 29,
   "id": "97d3f8c6",
   "metadata": {},
   "outputs": [
    {
     "data": {
      "text/plain": [
       "445.55"
      ]
     },
     "execution_count": 29,
     "metadata": {},
     "output_type": "execute_result"
    }
   ],
   "source": [
    "l[-1]"
   ]
  },
  {
   "cell_type": "code",
   "execution_count": 30,
   "id": "992de762",
   "metadata": {},
   "outputs": [
    {
     "data": {
      "text/plain": [
       "[1, 45, 345]"
      ]
     },
     "execution_count": 30,
     "metadata": {},
     "output_type": "execute_result"
    }
   ],
   "source": [
    "l[0:3]"
   ]
  },
  {
   "cell_type": "code",
   "execution_count": 31,
   "id": "227fb22a",
   "metadata": {},
   "outputs": [
    {
     "data": {
      "text/plain": [
       "[445.55, (4+5j), 'sudh', 345, 45, 1]"
      ]
     },
     "execution_count": 31,
     "metadata": {},
     "output_type": "execute_result"
    }
   ],
   "source": [
    "l[::-1]"
   ]
  },
  {
   "cell_type": "code",
   "execution_count": 33,
   "id": "74dd3af2",
   "metadata": {},
   "outputs": [
    {
     "data": {
      "text/plain": [
       "[1, 345, (4+5j)]"
      ]
     },
     "execution_count": 33,
     "metadata": {},
     "output_type": "execute_result"
    }
   ],
   "source": [
    "l[::2]"
   ]
  },
  {
   "cell_type": "code",
   "execution_count": 35,
   "id": "9c056757",
   "metadata": {},
   "outputs": [
    {
     "data": {
      "text/plain": [
       "'su'"
      ]
     },
     "execution_count": 35,
     "metadata": {},
     "output_type": "execute_result"
    }
   ],
   "source": [
    "l[3][0:2]"
   ]
  },
  {
   "cell_type": "code",
   "execution_count": 3,
   "id": "d4a53d5d",
   "metadata": {},
   "outputs": [
    {
     "name": "stdout",
     "output_type": "stream",
     "text": [
      "[1, 45, 345, 'sudh', True, (4+5j), 445.55]\n"
     ]
    }
   ],
   "source": [
    "a = [1,45,345,\"sudh\",True,4+5j,445.55]\n",
    "print(a)"
   ]
  },
  {
   "cell_type": "code",
   "execution_count": 4,
   "id": "3898dba5",
   "metadata": {},
   "outputs": [
    {
     "data": {
      "text/plain": [
       "'Tru'"
      ]
     },
     "execution_count": 4,
     "metadata": {},
     "output_type": "execute_result"
    }
   ],
   "source": [
    "str(a[4])[0:3]"
   ]
  },
  {
   "cell_type": "code",
   "execution_count": 5,
   "id": "0f8a5118",
   "metadata": {},
   "outputs": [],
   "source": [
    "b = [2,3,4]"
   ]
  },
  {
   "cell_type": "code",
   "execution_count": 6,
   "id": "88f7f544",
   "metadata": {},
   "outputs": [
    {
     "data": {
      "text/plain": [
       "[1, 45, 345, 'sudh', True, (4+5j), 445.55, 2, 3, 4]"
      ]
     },
     "execution_count": 6,
     "metadata": {},
     "output_type": "execute_result"
    }
   ],
   "source": [
    "a+b"
   ]
  },
  {
   "cell_type": "markdown",
   "id": "6dda8c0e",
   "metadata": {},
   "source": [
    "EXTEND"
   ]
  },
  {
   "cell_type": "code",
   "execution_count": 7,
   "id": "06d13349",
   "metadata": {},
   "outputs": [
    {
     "data": {
      "text/plain": [
       "[1, 45, 345, 'sudh', True, (4+5j), 445.55, 2, 3, 4]"
      ]
     },
     "execution_count": 7,
     "metadata": {},
     "output_type": "execute_result"
    }
   ],
   "source": [
    "a.extend(b)\n",
    "a"
   ]
  },
  {
   "cell_type": "markdown",
   "id": "f3e78e8e",
   "metadata": {},
   "source": [
    "INSERT\n",
    "\n"
   ]
  },
  {
   "cell_type": "code",
   "execution_count": 8,
   "id": "f90203c8",
   "metadata": {},
   "outputs": [],
   "source": [
    "a.insert(2,b)"
   ]
  },
  {
   "cell_type": "code",
   "execution_count": 9,
   "id": "cf2059fc",
   "metadata": {},
   "outputs": [
    {
     "data": {
      "text/plain": [
       "[1, 45, [2, 3, 4], 345, 'sudh', True, (4+5j), 445.55, 2, 3, 4]"
      ]
     },
     "execution_count": 9,
     "metadata": {},
     "output_type": "execute_result"
    }
   ],
   "source": [
    "a"
   ]
  },
  {
   "cell_type": "code",
   "execution_count": 10,
   "id": "b8c9a0d7",
   "metadata": {},
   "outputs": [
    {
     "data": {
      "text/plain": [
       "'In case of insert the item will be added as it is list and that\\nwill be considered as a single element in the list'"
      ]
     },
     "execution_count": 10,
     "metadata": {},
     "output_type": "execute_result"
    }
   ],
   "source": [
    "# In append we can add one item to a list at the end\n",
    "# In extend we can add multiple elements in the list \n",
    "# In insert we can add any elements to the list at a perticular index\n",
    "\"\"\"In case of insert the item will be added as it is list and that\n",
    "will be considered as a single element in the list\"\"\"\n",
    "# append and extend will add the data at last of the list"
   ]
  },
  {
   "cell_type": "code",
   "execution_count": 11,
   "id": "243c7323",
   "metadata": {},
   "outputs": [
    {
     "data": {
      "text/plain": [
       "3"
      ]
     },
     "execution_count": 11,
     "metadata": {},
     "output_type": "execute_result"
    }
   ],
   "source": [
    "a[2][1]"
   ]
  },
  {
   "cell_type": "markdown",
   "id": "80c63c31",
   "metadata": {},
   "source": [
    "POP"
   ]
  },
  {
   "cell_type": "code",
   "execution_count": 12,
   "id": "33d047d6",
   "metadata": {},
   "outputs": [
    {
     "data": {
      "text/plain": [
       "'sudh'"
      ]
     },
     "execution_count": 12,
     "metadata": {},
     "output_type": "execute_result"
    }
   ],
   "source": [
    "a.pop(4)"
   ]
  },
  {
   "cell_type": "code",
   "execution_count": 13,
   "id": "e9a2e59a",
   "metadata": {},
   "outputs": [
    {
     "data": {
      "text/plain": [
       "[1, 45, [2, 3, 4], 345, True, (4+5j), 445.55, 2, 3, 4]"
      ]
     },
     "execution_count": 13,
     "metadata": {},
     "output_type": "execute_result"
    }
   ],
   "source": [
    "a"
   ]
  },
  {
   "cell_type": "code",
   "execution_count": 14,
   "id": "6601b903",
   "metadata": {},
   "outputs": [
    {
     "data": {
      "text/plain": [
       "4"
      ]
     },
     "execution_count": 14,
     "metadata": {},
     "output_type": "execute_result"
    }
   ],
   "source": [
    "a.pop()"
   ]
  },
  {
   "cell_type": "code",
   "execution_count": 15,
   "id": "13153633",
   "metadata": {},
   "outputs": [
    {
     "data": {
      "text/plain": [
       "3"
      ]
     },
     "execution_count": 15,
     "metadata": {},
     "output_type": "execute_result"
    }
   ],
   "source": [
    "a.pop()"
   ]
  },
  {
   "cell_type": "code",
   "execution_count": 16,
   "id": "e1dd6aa7",
   "metadata": {},
   "outputs": [
    {
     "data": {
      "text/plain": [
       "'In this if we didnt gave an index in the pop then it removes last\\nelement of the list and if we pass the index value then removes that\\nperticular element'"
      ]
     },
     "execution_count": 16,
     "metadata": {},
     "output_type": "execute_result"
    }
   ],
   "source": [
    "'''In this if we didnt gave an index in the pop then it removes last\n",
    "element of the list and if we pass the index value then removes that\n",
    "perticular element'''"
   ]
  },
  {
   "cell_type": "code",
   "execution_count": 17,
   "id": "3fdff586",
   "metadata": {},
   "outputs": [
    {
     "data": {
      "text/plain": [
       "345"
      ]
     },
     "execution_count": 17,
     "metadata": {},
     "output_type": "execute_result"
    }
   ],
   "source": [
    "a.pop(3)"
   ]
  },
  {
   "cell_type": "code",
   "execution_count": 18,
   "id": "64133fac",
   "metadata": {},
   "outputs": [
    {
     "data": {
      "text/plain": [
       "[2, 3, 4]"
      ]
     },
     "execution_count": 18,
     "metadata": {},
     "output_type": "execute_result"
    }
   ],
   "source": [
    "a.pop(2)"
   ]
  },
  {
   "cell_type": "code",
   "execution_count": 19,
   "id": "1dba2f41",
   "metadata": {},
   "outputs": [
    {
     "data": {
      "text/plain": [
       "[1, 45, True, (4+5j), 445.55, 2]"
      ]
     },
     "execution_count": 19,
     "metadata": {},
     "output_type": "execute_result"
    }
   ],
   "source": [
    "a"
   ]
  },
  {
   "cell_type": "markdown",
   "id": "46b09939",
   "metadata": {},
   "source": [
    "REMOVE"
   ]
  },
  {
   "cell_type": "code",
   "execution_count": 20,
   "id": "abe2c10c",
   "metadata": {},
   "outputs": [
    {
     "data": {
      "text/plain": [
       "'In case of remove we have to pass the value and it removes the \\nfirst appearance of that element'"
      ]
     },
     "execution_count": 20,
     "metadata": {},
     "output_type": "execute_result"
    }
   ],
   "source": [
    "\"\"\"In case of remove we have to pass the value and it removes the \n",
    "first appearance of that element\"\"\""
   ]
  },
  {
   "cell_type": "code",
   "execution_count": 21,
   "id": "016ffb85",
   "metadata": {},
   "outputs": [],
   "source": [
    "a.remove(2)"
   ]
  },
  {
   "cell_type": "code",
   "execution_count": 22,
   "id": "1ed6fbaf",
   "metadata": {},
   "outputs": [
    {
     "data": {
      "text/plain": [
       "[1, 45, True, (4+5j), 445.55]"
      ]
     },
     "execution_count": 22,
     "metadata": {},
     "output_type": "execute_result"
    }
   ],
   "source": [
    "a"
   ]
  },
  {
   "cell_type": "code",
   "execution_count": 23,
   "id": "e5c73c8c",
   "metadata": {},
   "outputs": [
    {
     "data": {
      "text/plain": [
       "[1, 45, [2, 3, 4], True, (4+5j), 445.55]"
      ]
     },
     "execution_count": 23,
     "metadata": {},
     "output_type": "execute_result"
    }
   ],
   "source": [
    "a.insert(2,b)\n",
    "a"
   ]
  },
  {
   "cell_type": "code",
   "execution_count": 25,
   "id": "8ab94f97",
   "metadata": {},
   "outputs": [],
   "source": [
    "a[2].remove(3)"
   ]
  },
  {
   "cell_type": "code",
   "execution_count": 26,
   "id": "1c452caf",
   "metadata": {},
   "outputs": [
    {
     "data": {
      "text/plain": [
       "[1, 45, [2, 4], True, (4+5j), 445.55]"
      ]
     },
     "execution_count": 26,
     "metadata": {},
     "output_type": "execute_result"
    }
   ],
   "source": [
    "a"
   ]
  },
  {
   "cell_type": "markdown",
   "id": "d6dea347",
   "metadata": {},
   "source": [
    "REVERSE"
   ]
  },
  {
   "cell_type": "code",
   "execution_count": 29,
   "id": "d9f3fb0f",
   "metadata": {},
   "outputs": [
    {
     "data": {
      "text/plain": [
       "[445.55, (4+5j), True, [2, 4], 45, 1]"
      ]
     },
     "execution_count": 29,
     "metadata": {},
     "output_type": "execute_result"
    }
   ],
   "source": [
    "a.reverse()\n",
    "a"
   ]
  },
  {
   "cell_type": "markdown",
   "id": "c873fd3f",
   "metadata": {},
   "source": [
    "SORT"
   ]
  },
  {
   "cell_type": "code",
   "execution_count": 32,
   "id": "c5c028fb",
   "metadata": {},
   "outputs": [],
   "source": [
    "l=[2,3,6,2,5,4,6,7,9,8]"
   ]
  },
  {
   "cell_type": "code",
   "execution_count": 34,
   "id": "9ba89709",
   "metadata": {},
   "outputs": [
    {
     "data": {
      "text/plain": [
       "[2, 2, 3, 4, 5, 6, 6, 7, 8, 9]"
      ]
     },
     "execution_count": 34,
     "metadata": {},
     "output_type": "execute_result"
    }
   ],
   "source": [
    "l.sort()\n",
    "l"
   ]
  },
  {
   "cell_type": "code",
   "execution_count": null,
   "id": "08f51bdc",
   "metadata": {},
   "outputs": [],
   "source": [
    "# In case of strings it sorts in alphabetical order"
   ]
  },
  {
   "cell_type": "code",
   "execution_count": 36,
   "id": "12abd3f7",
   "metadata": {},
   "outputs": [
    {
     "data": {
      "text/plain": [
       "[9, 8, 7, 6, 6, 5, 4, 3, 2, 2]"
      ]
     },
     "execution_count": 36,
     "metadata": {},
     "output_type": "execute_result"
    }
   ],
   "source": [
    "l.sort(reverse=True)\n",
    "l"
   ]
  },
  {
   "cell_type": "code",
   "execution_count": 37,
   "id": "a6df586b",
   "metadata": {},
   "outputs": [
    {
     "data": {
      "text/plain": [
       "1"
      ]
     },
     "execution_count": 37,
     "metadata": {},
     "output_type": "execute_result"
    }
   ],
   "source": [
    "l.count(4)"
   ]
  },
  {
   "cell_type": "code",
   "execution_count": 38,
   "id": "43348cae",
   "metadata": {},
   "outputs": [],
   "source": [
    "l[1]=43"
   ]
  },
  {
   "cell_type": "code",
   "execution_count": 39,
   "id": "d17b29f1",
   "metadata": {},
   "outputs": [
    {
     "data": {
      "text/plain": [
       "[9, 43, 7, 6, 6, 5, 4, 3, 2, 2]"
      ]
     },
     "execution_count": 39,
     "metadata": {},
     "output_type": "execute_result"
    }
   ],
   "source": [
    "l"
   ]
  },
  {
   "cell_type": "markdown",
   "id": "c7aaf8a0",
   "metadata": {},
   "source": [
    "# TUPLE"
   ]
  },
  {
   "cell_type": "code",
   "execution_count": 43,
   "id": "96bfe966",
   "metadata": {},
   "outputs": [
    {
     "data": {
      "text/plain": [
       "(1, 45, [2, 3, 4], True, (4+5j), 445.55)"
      ]
     },
     "execution_count": 43,
     "metadata": {},
     "output_type": "execute_result"
    }
   ],
   "source": [
    "t=(1, 45, [2, 3, 4], True, (4+5j), 445.55)\n",
    "t"
   ]
  },
  {
   "cell_type": "code",
   "execution_count": 42,
   "id": "82dc8fe9",
   "metadata": {},
   "outputs": [
    {
     "data": {
      "text/plain": [
       "tuple"
      ]
     },
     "execution_count": 42,
     "metadata": {},
     "output_type": "execute_result"
    }
   ],
   "source": [
    "type(t)"
   ]
  },
  {
   "cell_type": "code",
   "execution_count": 44,
   "id": "bbd029c5",
   "metadata": {},
   "outputs": [
    {
     "data": {
      "text/plain": [
       "6"
      ]
     },
     "execution_count": 44,
     "metadata": {},
     "output_type": "execute_result"
    }
   ],
   "source": [
    "len(t)"
   ]
  },
  {
   "cell_type": "code",
   "execution_count": 55,
   "id": "19d67bba",
   "metadata": {},
   "outputs": [
    {
     "data": {
      "text/plain": [
       "1"
      ]
     },
     "execution_count": 55,
     "metadata": {},
     "output_type": "execute_result"
    }
   ],
   "source": [
    "t[0]"
   ]
  },
  {
   "cell_type": "code",
   "execution_count": 46,
   "id": "ea5894f2",
   "metadata": {},
   "outputs": [
    {
     "data": {
      "text/plain": [
       "[2, 3, 4]"
      ]
     },
     "execution_count": 46,
     "metadata": {},
     "output_type": "execute_result"
    }
   ],
   "source": [
    "t[2]"
   ]
  },
  {
   "cell_type": "code",
   "execution_count": 47,
   "id": "37de7d49",
   "metadata": {},
   "outputs": [
    {
     "data": {
      "text/plain": [
       "(445.55, (4+5j), True, [2, 3, 4], 45, 1)"
      ]
     },
     "execution_count": 47,
     "metadata": {},
     "output_type": "execute_result"
    }
   ],
   "source": [
    "t[::-1]"
   ]
  },
  {
   "cell_type": "code",
   "execution_count": 48,
   "id": "c5217dae",
   "metadata": {},
   "outputs": [],
   "source": [
    "# The only diff in list and tuple is tuple is immutable and list is not"
   ]
  },
  {
   "cell_type": "code",
   "execution_count": 49,
   "id": "d0843deb",
   "metadata": {},
   "outputs": [],
   "source": [
    "# Item assignment and mutability is different"
   ]
  },
  {
   "cell_type": "code",
   "execution_count": 50,
   "id": "3276c015",
   "metadata": {},
   "outputs": [],
   "source": [
    "# In terms of immutability tuple tatally same as strings"
   ]
  },
  {
   "cell_type": "code",
   "execution_count": 54,
   "id": "30b581bc",
   "metadata": {},
   "outputs": [
    {
     "data": {
      "text/plain": [
       "(1, 45, [2, 3, 4], True, (4+5j), 445.55)"
      ]
     },
     "execution_count": 54,
     "metadata": {},
     "output_type": "execute_result"
    }
   ],
   "source": [
    "t"
   ]
  },
  {
   "cell_type": "code",
   "execution_count": 52,
   "id": "3b104d61",
   "metadata": {},
   "outputs": [
    {
     "data": {
      "text/plain": [
       "2"
      ]
     },
     "execution_count": 52,
     "metadata": {},
     "output_type": "execute_result"
    }
   ],
   "source": [
    "t.count(1)"
   ]
  },
  {
   "cell_type": "code",
   "execution_count": 53,
   "id": "6db40ed5",
   "metadata": {},
   "outputs": [
    {
     "data": {
      "text/plain": [
       "1"
      ]
     },
     "execution_count": 53,
     "metadata": {},
     "output_type": "execute_result"
    }
   ],
   "source": [
    "t.index(45)"
   ]
  },
  {
   "cell_type": "markdown",
   "id": "079a060f",
   "metadata": {},
   "source": [
    "# SET"
   ]
  },
  {
   "cell_type": "code",
   "execution_count": 58,
   "id": "61bb61e1",
   "metadata": {},
   "outputs": [],
   "source": [
    "s = set()"
   ]
  },
  {
   "cell_type": "code",
   "execution_count": 59,
   "id": "afdd6249",
   "metadata": {},
   "outputs": [
    {
     "data": {
      "text/plain": [
       "set"
      ]
     },
     "execution_count": 59,
     "metadata": {},
     "output_type": "execute_result"
    }
   ],
   "source": [
    "type(s)"
   ]
  },
  {
   "cell_type": "code",
   "execution_count": 60,
   "id": "c6391823",
   "metadata": {},
   "outputs": [
    {
     "data": {
      "text/plain": [
       "{(3, 4, 5), (5+4j), 2, 3, 4, 5, 54.55, 6, 7, 9, True, 'afhah'}"
      ]
     },
     "execution_count": 60,
     "metadata": {},
     "output_type": "execute_result"
    }
   ],
   "source": [
    "s = {2,3,6,7,4,5,9,5+4j,54.55,(3,4,5),\"afhah\",True}\n",
    "s"
   ]
  },
  {
   "cell_type": "code",
   "execution_count": 61,
   "id": "5474921a",
   "metadata": {},
   "outputs": [],
   "source": [
    "# In set we can use tuple but not list \n",
    "# we can only use immutable elements in set\n",
    "# set does not allows duplicate values"
   ]
  },
  {
   "cell_type": "code",
   "execution_count": 62,
   "id": "773b6e5a",
   "metadata": {},
   "outputs": [
    {
     "data": {
      "text/plain": [
       "[3, 4, 3, 5, 2, 5, 3, 2, 3]"
      ]
     },
     "execution_count": 62,
     "metadata": {},
     "output_type": "execute_result"
    }
   ],
   "source": [
    "s3 = [3,4,3,5,2,5,3,2,3]\n",
    "s3"
   ]
  },
  {
   "cell_type": "code",
   "execution_count": 63,
   "id": "52ed41d6",
   "metadata": {},
   "outputs": [
    {
     "data": {
      "text/plain": [
       "{2, 3, 4, 5}"
      ]
     },
     "execution_count": 63,
     "metadata": {},
     "output_type": "execute_result"
    }
   ],
   "source": [
    "s3 = set(s3)\n",
    "s3"
   ]
  },
  {
   "cell_type": "code",
   "execution_count": 64,
   "id": "ce80c399",
   "metadata": {},
   "outputs": [
    {
     "data": {
      "text/plain": [
       "'Set never arrange data in ascending order and it is the \\nunordered collection of data '"
      ]
     },
     "execution_count": 64,
     "metadata": {},
     "output_type": "execute_result"
    }
   ],
   "source": [
    "\"\"\"Set never arrange data in ascending order and it is the \n",
    "unordered collection of data \"\"\""
   ]
  },
  {
   "cell_type": "code",
   "execution_count": 66,
   "id": "5dce61fd",
   "metadata": {},
   "outputs": [],
   "source": [
    "# indexing , slicing is not going to work in case of sets"
   ]
  },
  {
   "cell_type": "code",
   "execution_count": 69,
   "id": "7c9db9db",
   "metadata": {},
   "outputs": [
    {
     "data": {
      "text/plain": [
       "{(3, 4, 5), (5+4j), 2, 3, 4, 5, 54.55, 6, 7, 78, 9, True, 'afhah'}"
      ]
     },
     "execution_count": 69,
     "metadata": {},
     "output_type": "execute_result"
    }
   ],
   "source": [
    "s.add(78)\n",
    "s"
   ]
  },
  {
   "cell_type": "code",
   "execution_count": 70,
   "id": "727caa53",
   "metadata": {},
   "outputs": [
    {
     "data": {
      "text/plain": [
       "{(3, 4, 5), (5+4j), 2, 4, 5, 54.55, 6, 7, 78, 9, True, 'afhah'}"
      ]
     },
     "execution_count": 70,
     "metadata": {},
     "output_type": "execute_result"
    }
   ],
   "source": [
    "s.remove(3)\n",
    "s"
   ]
  },
  {
   "cell_type": "markdown",
   "id": "a4eff2d2",
   "metadata": {},
   "source": [
    "# DICTONARY"
   ]
  },
  {
   "cell_type": "code",
   "execution_count": 71,
   "id": "f421cb8a",
   "metadata": {},
   "outputs": [],
   "source": [
    "# In dict we hava key and value pair\n",
    "# In this case we can update values but not keys\n",
    "# key should always be unique\n",
    "# We can use any string and numeric and boolen value for key"
   ]
  },
  {
   "cell_type": "code",
   "execution_count": 72,
   "id": "aead2f4d",
   "metadata": {},
   "outputs": [
    {
     "data": {
      "text/plain": [
       "{}"
      ]
     },
     "execution_count": 72,
     "metadata": {},
     "output_type": "execute_result"
    }
   ],
   "source": [
    "d = {}\n",
    "d"
   ]
  },
  {
   "cell_type": "code",
   "execution_count": 73,
   "id": "818ba583",
   "metadata": {},
   "outputs": [
    {
     "data": {
      "text/plain": [
       "dict"
      ]
     },
     "execution_count": 73,
     "metadata": {},
     "output_type": "execute_result"
    }
   ],
   "source": [
    "type(d)"
   ]
  },
  {
   "cell_type": "code",
   "execution_count": 74,
   "id": "8e579643",
   "metadata": {},
   "outputs": [
    {
     "data": {
      "text/plain": [
       "{'key': 'value'}"
      ]
     },
     "execution_count": 74,
     "metadata": {},
     "output_type": "execute_result"
    }
   ],
   "source": [
    "d1 = {'key':\"value\"}\n",
    "d1"
   ]
  },
  {
   "cell_type": "code",
   "execution_count": 75,
   "id": "4f7012a8",
   "metadata": {},
   "outputs": [],
   "source": [
    "d2 = {'name':\"amit\",'age':34,'number':334556666}"
   ]
  },
  {
   "cell_type": "code",
   "execution_count": 76,
   "id": "3f2fc91b",
   "metadata": {},
   "outputs": [
    {
     "data": {
      "text/plain": [
       "{'name': 'amit', 'age': 34, 'number': 334556666}"
      ]
     },
     "execution_count": 76,
     "metadata": {},
     "output_type": "execute_result"
    }
   ],
   "source": [
    "d2"
   ]
  },
  {
   "cell_type": "code",
   "execution_count": 80,
   "id": "576f9fc2",
   "metadata": {},
   "outputs": [
    {
     "data": {
      "text/plain": [
       "'amit'"
      ]
     },
     "execution_count": 80,
     "metadata": {},
     "output_type": "execute_result"
    }
   ],
   "source": [
    "d2['name']"
   ]
  },
  {
   "cell_type": "code",
   "execution_count": 81,
   "id": "cccb956b",
   "metadata": {},
   "outputs": [
    {
     "data": {
      "text/plain": [
       "34"
      ]
     },
     "execution_count": 81,
     "metadata": {},
     "output_type": "execute_result"
    }
   ],
   "source": [
    "d2['age']"
   ]
  },
  {
   "cell_type": "code",
   "execution_count": 82,
   "id": "f0425509",
   "metadata": {},
   "outputs": [
    {
     "data": {
      "text/plain": [
       "{333: 'aaaa', 444: 'ppp'}"
      ]
     },
     "execution_count": 82,
     "metadata": {},
     "output_type": "execute_result"
    }
   ],
   "source": [
    "d3 = {333:\"ffhshg\",333:\"aaaa\",444:\"vvv\",444:\"ppp\"}\n",
    "d3"
   ]
  },
  {
   "cell_type": "code",
   "execution_count": 83,
   "id": "6e6aa9e3",
   "metadata": {},
   "outputs": [
    {
     "data": {
      "text/plain": [
       "'aaaa'"
      ]
     },
     "execution_count": 83,
     "metadata": {},
     "output_type": "execute_result"
    }
   ],
   "source": [
    "d3[333]"
   ]
  },
  {
   "cell_type": "code",
   "execution_count": 84,
   "id": "34bf6909",
   "metadata": {},
   "outputs": [
    {
     "data": {
      "text/plain": [
       "'ppp'"
      ]
     },
     "execution_count": 84,
     "metadata": {},
     "output_type": "execute_result"
    }
   ],
   "source": [
    "d3[444]"
   ]
  },
  {
   "cell_type": "code",
   "execution_count": 85,
   "id": "1880e5b4",
   "metadata": {},
   "outputs": [
    {
     "data": {
      "text/plain": [
       "\"In case of same key using the key will overwrited and that\\nwill return the end assigned value that's why key should be unique\""
      ]
     },
     "execution_count": 85,
     "metadata": {},
     "output_type": "execute_result"
    }
   ],
   "source": [
    "\"\"\"In case of same key using the key will overwrited and that\n",
    "will return the end assigned value that's why key should be unique\"\"\""
   ]
  },
  {
   "cell_type": "code",
   "execution_count": 87,
   "id": "d96093ba",
   "metadata": {},
   "outputs": [
    {
     "data": {
      "text/plain": [
       "{'company': 'pwskills', 'course': ['web', 'ds', 'AI']}"
      ]
     },
     "execution_count": 87,
     "metadata": {},
     "output_type": "execute_result"
    }
   ],
   "source": [
    "d5 = {'company':\"pwskills\",'course':[\"web\",\"ds\",\"AI\"]}\n",
    "d5"
   ]
  },
  {
   "cell_type": "code",
   "execution_count": 88,
   "id": "55249aca",
   "metadata": {},
   "outputs": [],
   "source": [
    "# we can add a list as well in the values"
   ]
  },
  {
   "cell_type": "code",
   "execution_count": 89,
   "id": "a51e0657",
   "metadata": {},
   "outputs": [
    {
     "data": {
      "text/plain": [
       "'AI'"
      ]
     },
     "execution_count": 89,
     "metadata": {},
     "output_type": "execute_result"
    }
   ],
   "source": [
    "d5['course'][2]"
   ]
  },
  {
   "cell_type": "code",
   "execution_count": 90,
   "id": "440cab79",
   "metadata": {},
   "outputs": [
    {
     "data": {
      "text/plain": [
       "{'num': [2, 34, 5, 6],\n",
       " 'assignment': (2, 4, 7, 8, 9),\n",
       " 'set': {4, 6, 7},\n",
       " 'class': {'web': 4}}"
      ]
     },
     "execution_count": 90,
     "metadata": {},
     "output_type": "execute_result"
    }
   ],
   "source": [
    "d6 = {'num':[2,34,5,6],'assignment':(2,4,7,8,9),'set':{4,6,7},'class':{'web':4}}\n",
    "d6"
   ]
  },
  {
   "cell_type": "code",
   "execution_count": 91,
   "id": "50dca56b",
   "metadata": {},
   "outputs": [],
   "source": [
    "# we can add any data type as value in the dict"
   ]
  },
  {
   "cell_type": "code",
   "execution_count": 92,
   "id": "2bee8f9c",
   "metadata": {},
   "outputs": [
    {
     "data": {
      "text/plain": [
       "4"
      ]
     },
     "execution_count": 92,
     "metadata": {},
     "output_type": "execute_result"
    }
   ],
   "source": [
    "d6['class']['web']"
   ]
  },
  {
   "cell_type": "code",
   "execution_count": 98,
   "id": "269091b1",
   "metadata": {},
   "outputs": [
    {
     "data": {
      "text/plain": [
       "'but if that key name is allready present then \\nthat will be overwrited not added'"
      ]
     },
     "execution_count": 98,
     "metadata": {},
     "output_type": "execute_result"
    }
   ],
   "source": [
    "# If we have to add any pair then we can add\n",
    "\"\"\"but if that key name is allready present then \n",
    "that will be overwrited not added\"\"\""
   ]
  },
  {
   "cell_type": "code",
   "execution_count": 97,
   "id": "524f75d8",
   "metadata": {},
   "outputs": [
    {
     "data": {
      "text/plain": [
       "{'num': [2, 34, 5, 6],\n",
       " 'assignment': (2, 4, 7, 8, 9),\n",
       " 'set': {4, 6, 7},\n",
       " 'class': {'web': 4},\n",
       " 'key': [3, 5, 6, 7]}"
      ]
     },
     "execution_count": 97,
     "metadata": {},
     "output_type": "execute_result"
    }
   ],
   "source": [
    "d6['key']=[3,5,6,7]\n",
    "d6"
   ]
  },
  {
   "cell_type": "code",
   "execution_count": 99,
   "id": "76051982",
   "metadata": {},
   "outputs": [
    {
     "data": {
      "text/plain": [
       "{'num': [2, 34, 5, 6],\n",
       " 'assignment': (2, 4, 7, 8, 9),\n",
       " 'set': {4, 6, 7},\n",
       " 'class': {'web': 4}}"
      ]
     },
     "execution_count": 99,
     "metadata": {},
     "output_type": "execute_result"
    }
   ],
   "source": [
    "del d6['key']\n",
    "d6"
   ]
  },
  {
   "cell_type": "code",
   "execution_count": 100,
   "id": "47115e22",
   "metadata": {},
   "outputs": [
    {
     "data": {
      "text/plain": [
       "dict_keys(['num', 'assignment', 'set', 'class'])"
      ]
     },
     "execution_count": 100,
     "metadata": {},
     "output_type": "execute_result"
    }
   ],
   "source": [
    "d6.keys()"
   ]
  },
  {
   "cell_type": "code",
   "execution_count": 101,
   "id": "d7a81ebc",
   "metadata": {},
   "outputs": [
    {
     "data": {
      "text/plain": [
       "dict_values([[2, 34, 5, 6], (2, 4, 7, 8, 9), {4, 6, 7}, {'web': 4}])"
      ]
     },
     "execution_count": 101,
     "metadata": {},
     "output_type": "execute_result"
    }
   ],
   "source": [
    "d6.values()"
   ]
  },
  {
   "cell_type": "code",
   "execution_count": 105,
   "id": "37645d13",
   "metadata": {},
   "outputs": [
    {
     "data": {
      "text/plain": [
       "dict_items([('num', [2, 34, 5, 6]), ('assignment', (2, 4, 7, 8, 9)), ('set', {4, 6, 7}), ('class', {'web': 4})])"
      ]
     },
     "execution_count": 105,
     "metadata": {},
     "output_type": "execute_result"
    }
   ],
   "source": [
    "# If we want both key and values\n",
    "d6.items()"
   ]
  },
  {
   "cell_type": "code",
   "execution_count": 106,
   "id": "cec0cd55",
   "metadata": {},
   "outputs": [
    {
     "data": {
      "text/plain": [
       "{'num': [2, 34, 5, 6], 'assignment': (2, 4, 7, 8, 9), 'set': {4, 6, 7}}"
      ]
     },
     "execution_count": 106,
     "metadata": {},
     "output_type": "execute_result"
    }
   ],
   "source": [
    "d6.pop('class')\n",
    "d6"
   ]
  },
  {
   "cell_type": "markdown",
   "id": "8f119abc",
   "metadata": {},
   "source": [
    "# CONTROL FLOW STATEMENTS"
   ]
  },
  {
   "cell_type": "markdown",
   "id": "075af539",
   "metadata": {},
   "source": [
    " CONDITIONAL STATEMENTS"
   ]
  },
  {
   "cell_type": "markdown",
   "id": "50f0b47b",
   "metadata": {},
   "source": [
    "IF ELIF ELSE STATEMENTS"
   ]
  },
  {
   "cell_type": "code",
   "execution_count": 111,
   "id": "f8782719",
   "metadata": {},
   "outputs": [
    {
     "name": "stdout",
     "output_type": "stream",
     "text": [
      "ENTER YOUR MARKS :120\n",
      "INVALID MARKS ..!\n"
     ]
    }
   ],
   "source": [
    "marks = int(input(\"ENTER YOUR MARKS :\"))\n",
    "\n",
    "if marks > 100 :\n",
    "    print(\"INVALID MARKS ..!\")\n",
    "\n",
    "elif marks <= 100 and marks >=80 :\n",
    "    print(\"PASS..!\")\n",
    "    \n",
    "elif marks >= 60 and marks < 80 :\n",
    "    print(\"THODA KAM PASS..!\")\n",
    "    \n",
    "elif marks >= 40 and marks < 60 :\n",
    "    print(\"BAHOT KAM PASS..!\")\n",
    "\n",
    "else :\n",
    "    print(\"FAIL..!\")"
   ]
  },
  {
   "cell_type": "code",
   "execution_count": 113,
   "id": "9c0e98a0",
   "metadata": {},
   "outputs": [
    {
     "name": "stdout",
     "output_type": "stream",
     "text": [
      "ENTER THE PRICE : 1224\n",
      "AUKAT KE BAHAR !\n"
     ]
    }
   ],
   "source": [
    "price  = int(input(\"ENTER THE PRICE : \"))\n",
    "\n",
    "if price > 1000 :\n",
    "    print(\"AUKAT KE BAHAR !\")\n",
    "else :\n",
    "    print(\"WE CAN PURCHASE !\")"
   ]
  },
  {
   "cell_type": "code",
   "execution_count": 117,
   "id": "e66207d6",
   "metadata": {},
   "outputs": [
    {
     "name": "stdout",
     "output_type": "stream",
     "text": [
      "ENTER THE PRICE : 666\n",
      "KHARID SAKTE HAI !\n"
     ]
    }
   ],
   "source": [
    "price  = int(input(\"ENTER THE PRICE : \"))\n",
    "\n",
    "if price > 1000 :\n",
    "    print(\"AUKAT KE BAHAR !\")\n",
    "    if price > 5000 :\n",
    "        print(\"MARNA HAI KYA BHOSDIKE !\")\n",
    "    elif price <2000 :\n",
    "        print(\"IT'S OK !\")\n",
    "elif price < 1000 :\n",
    "    print(\"KHARID SAKTE HAI !\")"
   ]
  },
  {
   "cell_type": "markdown",
   "id": "cc4b37da",
   "metadata": {},
   "source": [
    "# LOOPS"
   ]
  },
  {
   "cell_type": "markdown",
   "id": "14da3f39",
   "metadata": {},
   "source": [
    "FOR LOOP"
   ]
  },
  {
   "cell_type": "code",
   "execution_count": 118,
   "id": "b4e0ec3b",
   "metadata": {},
   "outputs": [
    {
     "data": {
      "text/plain": [
       "[1, 2, 3, 8, 6, 4]"
      ]
     },
     "execution_count": 118,
     "metadata": {},
     "output_type": "execute_result"
    }
   ],
   "source": [
    "l = [1,2,3,8,6,4]\n",
    "l"
   ]
  },
  {
   "cell_type": "code",
   "execution_count": 121,
   "id": "2097a7bd",
   "metadata": {},
   "outputs": [
    {
     "data": {
      "text/plain": [
       "[88]"
      ]
     },
     "execution_count": 121,
     "metadata": {},
     "output_type": "execute_result"
    }
   ],
   "source": [
    "l1 = []\n",
    "l1.append(88)\n",
    "l1"
   ]
  },
  {
   "cell_type": "code",
   "execution_count": 124,
   "id": "f5fd960f",
   "metadata": {},
   "outputs": [
    {
     "name": "stdout",
     "output_type": "stream",
     "text": [
      "1\n",
      "2\n",
      "3\n",
      "8\n",
      "6\n",
      "4\n"
     ]
    },
    {
     "data": {
      "text/plain": [
       "[88, 7, 8, 9, 14, 12, 10]"
      ]
     },
     "execution_count": 124,
     "metadata": {},
     "output_type": "execute_result"
    }
   ],
   "source": [
    "for i in l :\n",
    "    print(i)\n",
    "    l1.append(i+6)\n",
    "    \n",
    "l1"
   ]
  },
  {
   "cell_type": "code",
   "execution_count": 126,
   "id": "e469cdc0",
   "metadata": {},
   "outputs": [
    {
     "data": {
      "text/plain": [
       "['sudh', 'my', 'mk']"
      ]
     },
     "execution_count": 126,
     "metadata": {},
     "output_type": "execute_result"
    }
   ],
   "source": [
    "l2 = [\"sudh\",\"my\",\"mk\"]\n",
    "l2"
   ]
  },
  {
   "cell_type": "code",
   "execution_count": 134,
   "id": "e9d389ff",
   "metadata": {},
   "outputs": [
    {
     "data": {
      "text/plain": [
       "['SUDH', 'MY', 'MK']"
      ]
     },
     "execution_count": 134,
     "metadata": {},
     "output_type": "execute_result"
    }
   ],
   "source": [
    "l3 = []\n",
    "for i in l2 :\n",
    "    l3.append(i.upper())\n",
    "    \n",
    "l3"
   ]
  },
  {
   "cell_type": "code",
   "execution_count": 136,
   "id": "8162fd31",
   "metadata": {},
   "outputs": [
    {
     "data": {
      "text/plain": [
       "[1, 2, 3, 4, 'sudh', 'shubh', 76.9]"
      ]
     },
     "execution_count": 136,
     "metadata": {},
     "output_type": "execute_result"
    }
   ],
   "source": [
    "l4 =[1,2,3,4,\"sudh\",\"shubh\",76.9]\n",
    "l4"
   ]
  },
  {
   "cell_type": "code",
   "execution_count": 138,
   "id": "cea3d774",
   "metadata": {},
   "outputs": [
    {
     "name": "stdout",
     "output_type": "stream",
     "text": [
      "[1, 2, 3, 4, 76.9]\n",
      "['sudh', 'shubh']\n"
     ]
    }
   ],
   "source": [
    "l5 = []\n",
    "l6 = []\n",
    "\n",
    "for i in l4 :\n",
    "    if type(i) == int or type(i) == float :\n",
    "        l5.append(i)\n",
    "    else :\n",
    "        l6.append(i)\n",
    "        \n",
    "print(l5)\n",
    "print(l6)"
   ]
  },
  {
   "cell_type": "code",
   "execution_count": null,
   "id": "976c2026",
   "metadata": {},
   "outputs": [],
   "source": []
  }
 ],
 "metadata": {
  "kernelspec": {
   "display_name": "Python 3 (ipykernel)",
   "language": "python",
   "name": "python3"
  },
  "language_info": {
   "codemirror_mode": {
    "name": "ipython",
    "version": 3
   },
   "file_extension": ".py",
   "mimetype": "text/x-python",
   "name": "python",
   "nbconvert_exporter": "python",
   "pygments_lexer": "ipython3",
   "version": "3.9.13"
  }
 },
 "nbformat": 4,
 "nbformat_minor": 5
}
