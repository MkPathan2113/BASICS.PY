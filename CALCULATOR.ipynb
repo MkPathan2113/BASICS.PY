{
 "cells": [
  {
   "cell_type": "code",
   "execution_count": 1,
   "id": "b7516111",
   "metadata": {},
   "outputs": [
    {
     "name": "stdout",
     "output_type": "stream",
     "text": [
      "*************************\n",
      "* WELCOME TO CALCULATOR *\n",
      "*************************\n",
      "\n",
      "\n",
      " ENTER FIRST NUMBER : 6\n",
      "\n",
      " THE FIRST NUMBER IS  =  6\n",
      "\n",
      "\n",
      " ENTER SECOND NUMBER : 8\n",
      "\n",
      " THE SECOND NUMBER IS  =  8\n",
      "\n",
      "=================================\n",
      "\n",
      " --PRESS 1 FOR ADDITION-- \n",
      "\n",
      " --PRESS 2 FOR SUBTRACTION-- \n",
      "\n",
      " --PRESS 3 FOR MULTIPLICATION-- \n",
      "\n",
      " --PRESS 4 FOR DIVISION-- \n",
      "\n",
      "=================================\n",
      "\n",
      " ENTER YOUR CHOICE : 4\n",
      "\n",
      " THE DIVISION OF 6 AND  8 IS :-  0.75\n"
     ]
    }
   ],
   "source": [
    "print(\"*************************\")\n",
    "print(\"* WELCOME TO CALCULATOR *\")\n",
    "print(\"*************************\")\n",
    "print(\"\\n\")\n",
    "a = int(input(\" ENTER FIRST NUMBER : \"))\n",
    "print(\"\\n THE FIRST NUMBER IS  = \",a)\n",
    "print(\"\\n\")\n",
    "b = int(input(\" ENTER SECOND NUMBER : \"))\n",
    "print(\"\\n THE SECOND NUMBER IS  = \",b)\n",
    "\n",
    "\n",
    "print(\"\\n=================================\")\n",
    "\n",
    "print(\"\\n --PRESS 1 FOR ADDITION-- \\n\")\n",
    "\n",
    "print(\" --PRESS 2 FOR SUBTRACTION-- \\n\")\n",
    "\n",
    "print(\" --PRESS 3 FOR MULTIPLICATION-- \\n\")\n",
    "\n",
    "print(\" --PRESS 4 FOR DIVISION-- \\n\")\n",
    "\n",
    "print(\"=================================\")\n",
    "\n",
    "choice = int(input(\"\\n ENTER YOUR CHOICE : \"))\n",
    "\n",
    "if choice == 1 :\n",
    "    print(\"\\n THE ADDITION OF\", a ,\"AND \",b ,\"IS :- \" , a+b)\n",
    "\n",
    "elif choice == 2 :\n",
    "    print(\"\\n THE SUBTRACTION OF\", a ,\"AND \",b ,\"IS :- \" , a-b)\n",
    "\n",
    "elif choice == 3 :\n",
    "    print(\"\\n THE PRODUCT OF\", a ,\"AND \",b ,\"IS :- \" , a*b)\n",
    "\n",
    "elif choice == 4 :\n",
    "    print(\"\\n THE DIVISION OF\", a ,\"AND \",b ,\"IS :- \" , a/b)\n",
    "    \n",
    "else :\n",
    "    print(\"\\n PLEASE ENTER CORRECT CHOICE....\")\n",
    "\n"
   ]
  },
  {
   "cell_type": "code",
   "execution_count": null,
   "id": "72730546",
   "metadata": {},
   "outputs": [],
   "source": []
  }
 ],
 "metadata": {
  "kernelspec": {
   "display_name": "Python 3 (ipykernel)",
   "language": "python",
   "name": "python3"
  },
  "language_info": {
   "codemirror_mode": {
    "name": "ipython",
    "version": 3
   },
   "file_extension": ".py",
   "mimetype": "text/x-python",
   "name": "python",
   "nbconvert_exporter": "python",
   "pygments_lexer": "ipython3",
   "version": "3.9.13"
  }
 },
 "nbformat": 4,
 "nbformat_minor": 5
}
